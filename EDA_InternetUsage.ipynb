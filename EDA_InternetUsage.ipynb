{
 "cells": [
  {
   "cell_type": "code",
   "execution_count": 17,
   "id": "f66bd9e3-0493-404b-833f-79cadd60d660",
   "metadata": {},
   "outputs": [],
   "source": [
    "import pandas as pd\n",
    "import numpy as np\n",
    "\n",
    "import plotly.graph_objects as go\n",
    "import plotly.express as px\n",
    "import plotly.io as pio\n",
    "import geojson\n",
    "import streamlit as st\n"
   ]
  },
  {
   "cell_type": "code",
   "execution_count": 7,
   "id": "f97cca31-c347-4e4a-9ca8-35c4276f78b2",
   "metadata": {},
   "outputs": [
    {
     "data": {
      "text/html": [
       "<div>\n",
       "<style scoped>\n",
       "    .dataframe tbody tr th:only-of-type {\n",
       "        vertical-align: middle;\n",
       "    }\n",
       "\n",
       "    .dataframe tbody tr th {\n",
       "        vertical-align: top;\n",
       "    }\n",
       "\n",
       "    .dataframe thead th {\n",
       "        text-align: right;\n",
       "    }\n",
       "</style>\n",
       "<table border=\"1\" class=\"dataframe\">\n",
       "  <thead>\n",
       "    <tr style=\"text-align: right;\">\n",
       "      <th></th>\n",
       "      <th>Entity</th>\n",
       "      <th>Code</th>\n",
       "      <th>Year</th>\n",
       "      <th>internet_usage</th>\n",
       "    </tr>\n",
       "  </thead>\n",
       "  <tbody>\n",
       "    <tr>\n",
       "      <th>0</th>\n",
       "      <td>Afghanistan</td>\n",
       "      <td>AFG</td>\n",
       "      <td>1990</td>\n",
       "      <td>0.0</td>\n",
       "    </tr>\n",
       "    <tr>\n",
       "      <th>1</th>\n",
       "      <td>Afghanistan</td>\n",
       "      <td>AFG</td>\n",
       "      <td>1991</td>\n",
       "      <td>0.0</td>\n",
       "    </tr>\n",
       "    <tr>\n",
       "      <th>2</th>\n",
       "      <td>Afghanistan</td>\n",
       "      <td>AFG</td>\n",
       "      <td>1992</td>\n",
       "      <td>0.0</td>\n",
       "    </tr>\n",
       "    <tr>\n",
       "      <th>3</th>\n",
       "      <td>Afghanistan</td>\n",
       "      <td>AFG</td>\n",
       "      <td>1993</td>\n",
       "      <td>0.0</td>\n",
       "    </tr>\n",
       "    <tr>\n",
       "      <th>4</th>\n",
       "      <td>Afghanistan</td>\n",
       "      <td>AFG</td>\n",
       "      <td>1994</td>\n",
       "      <td>0.0</td>\n",
       "    </tr>\n",
       "  </tbody>\n",
       "</table>\n",
       "</div>"
      ],
      "text/plain": [
       "        Entity Code  Year  internet_usage\n",
       "0  Afghanistan  AFG  1990             0.0\n",
       "1  Afghanistan  AFG  1991             0.0\n",
       "2  Afghanistan  AFG  1992             0.0\n",
       "3  Afghanistan  AFG  1993             0.0\n",
       "4  Afghanistan  AFG  1994             0.0"
      ]
     },
     "execution_count": 7,
     "metadata": {},
     "output_type": "execute_result"
    }
   ],
   "source": [
    "df = pd.read_csv('data/share-of-individuals-using-the-internet.csv')\n",
    "df.rename(columns={'Individuals using the Internet (% of population)':'internet_usage'}, inplace=True)\n",
    "df.head()"
   ]
  },
  {
   "cell_type": "code",
   "execution_count": 12,
   "id": "4470583b-a447-4688-85b5-44c3e10a949d",
   "metadata": {},
   "outputs": [
    {
     "data": {
      "application/vnd.plotly.v1+json": {
       "config": {
        "plotlyServerURL": "https://plot.ly"
       },
       "data": [
        {
         "hovertemplate": "Year=%{x}<br>internet_usage=%{y}<extra></extra>",
         "legendgroup": "",
         "line": {
          "color": "#636efa",
          "dash": "solid"
         },
         "marker": {
          "symbol": "circle"
         },
         "mode": "lines",
         "name": "",
         "orientation": "v",
         "showlegend": false,
         "type": "scatter",
         "x": [
          1990,
          1991,
          1992,
          1993,
          1994,
          1995,
          2001,
          2002,
          2003,
          2004,
          2005,
          2006,
          2007,
          2008,
          2009,
          2010,
          2011,
          2012,
          2013,
          2014,
          2015,
          2017
         ],
         "xaxis": "x",
         "y": [
          0,
          0,
          0,
          0,
          0,
          0,
          0.004722568,
          0.004561395,
          0.087891253,
          0.10580903,
          1.224148084,
          2.107123645,
          1.9,
          1.84,
          3.55,
          4,
          5,
          5.454545455,
          5.9,
          7,
          8.26,
          11.44768809
         ],
         "yaxis": "y"
        }
       ],
       "layout": {
        "autosize": true,
        "legend": {
         "tracegroupgap": 0
        },
        "margin": {
         "t": 60
        },
        "template": {
         "data": {
          "bar": [
           {
            "error_x": {
             "color": "#2a3f5f"
            },
            "error_y": {
             "color": "#2a3f5f"
            },
            "marker": {
             "line": {
              "color": "#E5ECF6",
              "width": 0.5
             },
             "pattern": {
              "fillmode": "overlay",
              "size": 10,
              "solidity": 0.2
             }
            },
            "type": "bar"
           }
          ],
          "barpolar": [
           {
            "marker": {
             "line": {
              "color": "#E5ECF6",
              "width": 0.5
             },
             "pattern": {
              "fillmode": "overlay",
              "size": 10,
              "solidity": 0.2
             }
            },
            "type": "barpolar"
           }
          ],
          "carpet": [
           {
            "aaxis": {
             "endlinecolor": "#2a3f5f",
             "gridcolor": "white",
             "linecolor": "white",
             "minorgridcolor": "white",
             "startlinecolor": "#2a3f5f"
            },
            "baxis": {
             "endlinecolor": "#2a3f5f",
             "gridcolor": "white",
             "linecolor": "white",
             "minorgridcolor": "white",
             "startlinecolor": "#2a3f5f"
            },
            "type": "carpet"
           }
          ],
          "choropleth": [
           {
            "colorbar": {
             "outlinewidth": 0,
             "ticks": ""
            },
            "type": "choropleth"
           }
          ],
          "contour": [
           {
            "colorbar": {
             "outlinewidth": 0,
             "ticks": ""
            },
            "colorscale": [
             [
              0,
              "#0d0887"
             ],
             [
              0.1111111111111111,
              "#46039f"
             ],
             [
              0.2222222222222222,
              "#7201a8"
             ],
             [
              0.3333333333333333,
              "#9c179e"
             ],
             [
              0.4444444444444444,
              "#bd3786"
             ],
             [
              0.5555555555555556,
              "#d8576b"
             ],
             [
              0.6666666666666666,
              "#ed7953"
             ],
             [
              0.7777777777777778,
              "#fb9f3a"
             ],
             [
              0.8888888888888888,
              "#fdca26"
             ],
             [
              1,
              "#f0f921"
             ]
            ],
            "type": "contour"
           }
          ],
          "contourcarpet": [
           {
            "colorbar": {
             "outlinewidth": 0,
             "ticks": ""
            },
            "type": "contourcarpet"
           }
          ],
          "heatmap": [
           {
            "colorbar": {
             "outlinewidth": 0,
             "ticks": ""
            },
            "colorscale": [
             [
              0,
              "#0d0887"
             ],
             [
              0.1111111111111111,
              "#46039f"
             ],
             [
              0.2222222222222222,
              "#7201a8"
             ],
             [
              0.3333333333333333,
              "#9c179e"
             ],
             [
              0.4444444444444444,
              "#bd3786"
             ],
             [
              0.5555555555555556,
              "#d8576b"
             ],
             [
              0.6666666666666666,
              "#ed7953"
             ],
             [
              0.7777777777777778,
              "#fb9f3a"
             ],
             [
              0.8888888888888888,
              "#fdca26"
             ],
             [
              1,
              "#f0f921"
             ]
            ],
            "type": "heatmap"
           }
          ],
          "heatmapgl": [
           {
            "colorbar": {
             "outlinewidth": 0,
             "ticks": ""
            },
            "colorscale": [
             [
              0,
              "#0d0887"
             ],
             [
              0.1111111111111111,
              "#46039f"
             ],
             [
              0.2222222222222222,
              "#7201a8"
             ],
             [
              0.3333333333333333,
              "#9c179e"
             ],
             [
              0.4444444444444444,
              "#bd3786"
             ],
             [
              0.5555555555555556,
              "#d8576b"
             ],
             [
              0.6666666666666666,
              "#ed7953"
             ],
             [
              0.7777777777777778,
              "#fb9f3a"
             ],
             [
              0.8888888888888888,
              "#fdca26"
             ],
             [
              1,
              "#f0f921"
             ]
            ],
            "type": "heatmapgl"
           }
          ],
          "histogram": [
           {
            "marker": {
             "pattern": {
              "fillmode": "overlay",
              "size": 10,
              "solidity": 0.2
             }
            },
            "type": "histogram"
           }
          ],
          "histogram2d": [
           {
            "colorbar": {
             "outlinewidth": 0,
             "ticks": ""
            },
            "colorscale": [
             [
              0,
              "#0d0887"
             ],
             [
              0.1111111111111111,
              "#46039f"
             ],
             [
              0.2222222222222222,
              "#7201a8"
             ],
             [
              0.3333333333333333,
              "#9c179e"
             ],
             [
              0.4444444444444444,
              "#bd3786"
             ],
             [
              0.5555555555555556,
              "#d8576b"
             ],
             [
              0.6666666666666666,
              "#ed7953"
             ],
             [
              0.7777777777777778,
              "#fb9f3a"
             ],
             [
              0.8888888888888888,
              "#fdca26"
             ],
             [
              1,
              "#f0f921"
             ]
            ],
            "type": "histogram2d"
           }
          ],
          "histogram2dcontour": [
           {
            "colorbar": {
             "outlinewidth": 0,
             "ticks": ""
            },
            "colorscale": [
             [
              0,
              "#0d0887"
             ],
             [
              0.1111111111111111,
              "#46039f"
             ],
             [
              0.2222222222222222,
              "#7201a8"
             ],
             [
              0.3333333333333333,
              "#9c179e"
             ],
             [
              0.4444444444444444,
              "#bd3786"
             ],
             [
              0.5555555555555556,
              "#d8576b"
             ],
             [
              0.6666666666666666,
              "#ed7953"
             ],
             [
              0.7777777777777778,
              "#fb9f3a"
             ],
             [
              0.8888888888888888,
              "#fdca26"
             ],
             [
              1,
              "#f0f921"
             ]
            ],
            "type": "histogram2dcontour"
           }
          ],
          "mesh3d": [
           {
            "colorbar": {
             "outlinewidth": 0,
             "ticks": ""
            },
            "type": "mesh3d"
           }
          ],
          "parcoords": [
           {
            "line": {
             "colorbar": {
              "outlinewidth": 0,
              "ticks": ""
             }
            },
            "type": "parcoords"
           }
          ],
          "pie": [
           {
            "automargin": true,
            "type": "pie"
           }
          ],
          "scatter": [
           {
            "fillpattern": {
             "fillmode": "overlay",
             "size": 10,
             "solidity": 0.2
            },
            "type": "scatter"
           }
          ],
          "scatter3d": [
           {
            "line": {
             "colorbar": {
              "outlinewidth": 0,
              "ticks": ""
             }
            },
            "marker": {
             "colorbar": {
              "outlinewidth": 0,
              "ticks": ""
             }
            },
            "type": "scatter3d"
           }
          ],
          "scattercarpet": [
           {
            "marker": {
             "colorbar": {
              "outlinewidth": 0,
              "ticks": ""
             }
            },
            "type": "scattercarpet"
           }
          ],
          "scattergeo": [
           {
            "marker": {
             "colorbar": {
              "outlinewidth": 0,
              "ticks": ""
             }
            },
            "type": "scattergeo"
           }
          ],
          "scattergl": [
           {
            "marker": {
             "colorbar": {
              "outlinewidth": 0,
              "ticks": ""
             }
            },
            "type": "scattergl"
           }
          ],
          "scattermapbox": [
           {
            "marker": {
             "colorbar": {
              "outlinewidth": 0,
              "ticks": ""
             }
            },
            "type": "scattermapbox"
           }
          ],
          "scatterpolar": [
           {
            "marker": {
             "colorbar": {
              "outlinewidth": 0,
              "ticks": ""
             }
            },
            "type": "scatterpolar"
           }
          ],
          "scatterpolargl": [
           {
            "marker": {
             "colorbar": {
              "outlinewidth": 0,
              "ticks": ""
             }
            },
            "type": "scatterpolargl"
           }
          ],
          "scatterternary": [
           {
            "marker": {
             "colorbar": {
              "outlinewidth": 0,
              "ticks": ""
             }
            },
            "type": "scatterternary"
           }
          ],
          "surface": [
           {
            "colorbar": {
             "outlinewidth": 0,
             "ticks": ""
            },
            "colorscale": [
             [
              0,
              "#0d0887"
             ],
             [
              0.1111111111111111,
              "#46039f"
             ],
             [
              0.2222222222222222,
              "#7201a8"
             ],
             [
              0.3333333333333333,
              "#9c179e"
             ],
             [
              0.4444444444444444,
              "#bd3786"
             ],
             [
              0.5555555555555556,
              "#d8576b"
             ],
             [
              0.6666666666666666,
              "#ed7953"
             ],
             [
              0.7777777777777778,
              "#fb9f3a"
             ],
             [
              0.8888888888888888,
              "#fdca26"
             ],
             [
              1,
              "#f0f921"
             ]
            ],
            "type": "surface"
           }
          ],
          "table": [
           {
            "cells": {
             "fill": {
              "color": "#EBF0F8"
             },
             "line": {
              "color": "white"
             }
            },
            "header": {
             "fill": {
              "color": "#C8D4E3"
             },
             "line": {
              "color": "white"
             }
            },
            "type": "table"
           }
          ]
         },
         "layout": {
          "annotationdefaults": {
           "arrowcolor": "#2a3f5f",
           "arrowhead": 0,
           "arrowwidth": 1
          },
          "autotypenumbers": "strict",
          "coloraxis": {
           "colorbar": {
            "outlinewidth": 0,
            "ticks": ""
           }
          },
          "colorscale": {
           "diverging": [
            [
             0,
             "#8e0152"
            ],
            [
             0.1,
             "#c51b7d"
            ],
            [
             0.2,
             "#de77ae"
            ],
            [
             0.3,
             "#f1b6da"
            ],
            [
             0.4,
             "#fde0ef"
            ],
            [
             0.5,
             "#f7f7f7"
            ],
            [
             0.6,
             "#e6f5d0"
            ],
            [
             0.7,
             "#b8e186"
            ],
            [
             0.8,
             "#7fbc41"
            ],
            [
             0.9,
             "#4d9221"
            ],
            [
             1,
             "#276419"
            ]
           ],
           "sequential": [
            [
             0,
             "#0d0887"
            ],
            [
             0.1111111111111111,
             "#46039f"
            ],
            [
             0.2222222222222222,
             "#7201a8"
            ],
            [
             0.3333333333333333,
             "#9c179e"
            ],
            [
             0.4444444444444444,
             "#bd3786"
            ],
            [
             0.5555555555555556,
             "#d8576b"
            ],
            [
             0.6666666666666666,
             "#ed7953"
            ],
            [
             0.7777777777777778,
             "#fb9f3a"
            ],
            [
             0.8888888888888888,
             "#fdca26"
            ],
            [
             1,
             "#f0f921"
            ]
           ],
           "sequentialminus": [
            [
             0,
             "#0d0887"
            ],
            [
             0.1111111111111111,
             "#46039f"
            ],
            [
             0.2222222222222222,
             "#7201a8"
            ],
            [
             0.3333333333333333,
             "#9c179e"
            ],
            [
             0.4444444444444444,
             "#bd3786"
            ],
            [
             0.5555555555555556,
             "#d8576b"
            ],
            [
             0.6666666666666666,
             "#ed7953"
            ],
            [
             0.7777777777777778,
             "#fb9f3a"
            ],
            [
             0.8888888888888888,
             "#fdca26"
            ],
            [
             1,
             "#f0f921"
            ]
           ]
          },
          "colorway": [
           "#636efa",
           "#EF553B",
           "#00cc96",
           "#ab63fa",
           "#FFA15A",
           "#19d3f3",
           "#FF6692",
           "#B6E880",
           "#FF97FF",
           "#FECB52"
          ],
          "font": {
           "color": "#2a3f5f"
          },
          "geo": {
           "bgcolor": "white",
           "lakecolor": "white",
           "landcolor": "#E5ECF6",
           "showlakes": true,
           "showland": true,
           "subunitcolor": "white"
          },
          "hoverlabel": {
           "align": "left"
          },
          "hovermode": "closest",
          "mapbox": {
           "style": "light"
          },
          "paper_bgcolor": "white",
          "plot_bgcolor": "#E5ECF6",
          "polar": {
           "angularaxis": {
            "gridcolor": "white",
            "linecolor": "white",
            "ticks": ""
           },
           "bgcolor": "#E5ECF6",
           "radialaxis": {
            "gridcolor": "white",
            "linecolor": "white",
            "ticks": ""
           }
          },
          "scene": {
           "xaxis": {
            "backgroundcolor": "#E5ECF6",
            "gridcolor": "white",
            "gridwidth": 2,
            "linecolor": "white",
            "showbackground": true,
            "ticks": "",
            "zerolinecolor": "white"
           },
           "yaxis": {
            "backgroundcolor": "#E5ECF6",
            "gridcolor": "white",
            "gridwidth": 2,
            "linecolor": "white",
            "showbackground": true,
            "ticks": "",
            "zerolinecolor": "white"
           },
           "zaxis": {
            "backgroundcolor": "#E5ECF6",
            "gridcolor": "white",
            "gridwidth": 2,
            "linecolor": "white",
            "showbackground": true,
            "ticks": "",
            "zerolinecolor": "white"
           }
          },
          "shapedefaults": {
           "line": {
            "color": "#2a3f5f"
           }
          },
          "ternary": {
           "aaxis": {
            "gridcolor": "white",
            "linecolor": "white",
            "ticks": ""
           },
           "baxis": {
            "gridcolor": "white",
            "linecolor": "white",
            "ticks": ""
           },
           "bgcolor": "#E5ECF6",
           "caxis": {
            "gridcolor": "white",
            "linecolor": "white",
            "ticks": ""
           }
          },
          "title": {
           "x": 0.05
          },
          "xaxis": {
           "automargin": true,
           "gridcolor": "white",
           "linecolor": "white",
           "ticks": "",
           "title": {
            "standoff": 15
           },
           "zerolinecolor": "white",
           "zerolinewidth": 2
          },
          "yaxis": {
           "automargin": true,
           "gridcolor": "white",
           "linecolor": "white",
           "ticks": "",
           "title": {
            "standoff": 15
           },
           "zerolinecolor": "white",
           "zerolinewidth": 2
          }
         }
        },
        "xaxis": {
         "anchor": "y",
         "autorange": true,
         "domain": [
          0,
          1
         ],
         "range": [
          1990,
          2017
         ],
         "title": {
          "text": "Year"
         },
         "type": "linear"
        },
        "yaxis": {
         "anchor": "x",
         "autorange": true,
         "domain": [
          0,
          1
         ],
         "range": [
          -0.6359826716666667,
          12.083670761666667
         ],
         "title": {
          "text": "internet_usage"
         },
         "type": "linear"
        }
       }
      },
      "image/png": "[encoded data removed]",
      "text/html": [
       "<div>                            <div id=\"d06fef8b-75c3-4799-ae37-64780d02596f\" class=\"plotly-graph-div\" style=\"height:525px; width:100%;\"></div>            <script type=\"text/javascript\">                require([\"plotly\"], function(Plotly) {                    window.PLOTLYENV=window.PLOTLYENV || {};                                    if (document.getElementById(\"d06fef8b-75c3-4799-ae37-64780d02596f\")) {                    Plotly.newPlot(                        \"d06fef8b-75c3-4799-ae37-64780d02596f\",                        [{\"hovertemplate\":\"Year=%{x}<br>internet_usage=%{y}<extra></extra>\",\"legendgroup\":\"\",\"line\":{\"color\":\"#636efa\",\"dash\":\"solid\"},\"marker\":{\"symbol\":\"circle\"},\"mode\":\"lines\",\"name\":\"\",\"orientation\":\"v\",\"showlegend\":false,\"x\":[1990,1991,1992,1993,1994,1995,2001,2002,2003,2004,2005,2006,2007,2008,2009,2010,2011,2012,2013,2014,2015,2017],\"xaxis\":\"x\",\"y\":[0.0,0.0,0.0,0.0,0.0,0.0,0.004722568,0.004561395,0.087891253,0.10580903,1.224148084,2.107123645,1.9,1.84,3.55,4.0,5.0,5.454545455,5.9,7.0,8.26,11.44768809],\"yaxis\":\"y\",\"type\":\"scatter\"}],                        {\"template\":{\"data\":{\"histogram2dcontour\":[{\"type\":\"histogram2dcontour\",\"colorbar\":{\"outlinewidth\":0,\"ticks\":\"\"},\"colorscale\":[[0.0,\"#0d0887\"],[0.1111111111111111,\"#46039f\"],[0.2222222222222222,\"#7201a8\"],[0.3333333333333333,\"#9c179e\"],[0.4444444444444444,\"#bd3786\"],[0.5555555555555556,\"#d8576b\"],[0.6666666666666666,\"#ed7953\"],[0.7777777777777778,\"#fb9f3a\"],[0.8888888888888888,\"#fdca26\"],[1.0,\"#f0f921\"]]}],\"choropleth\":[{\"type\":\"choropleth\",\"colorbar\":{\"outlinewidth\":0,\"ticks\":\"\"}}],\"histogram2d\":[{\"type\":\"histogram2d\",\"colorbar\":{\"outlinewidth\":0,\"ticks\":\"\"},\"colorscale\":[[0.0,\"#0d0887\"],[0.1111111111111111,\"#46039f\"],[0.2222222222222222,\"#7201a8\"],[0.3333333333333333,\"#9c179e\"],[0.4444444444444444,\"#bd3786\"],[0.5555555555555556,\"#d8576b\"],[0.6666666666666666,\"#ed7953\"],[0.7777777777777778,\"#fb9f3a\"],[0.8888888888888888,\"#fdca26\"],[1.0,\"#f0f921\"]]}],\"heatmap\":[{\"type\":\"heatmap\",\"colorbar\":{\"outlinewidth\":0,\"ticks\":\"\"},\"colorscale\":[[0.0,\"#0d0887\"],[0.1111111111111111,\"#46039f\"],[0.2222222222222222,\"#7201a8\"],[0.3333333333333333,\"#9c179e\"],[0.4444444444444444,\"#bd3786\"],[0.5555555555555556,\"#d8576b\"],[0.6666666666666666,\"#ed7953\"],[0.7777777777777778,\"#fb9f3a\"],[0.8888888888888888,\"#fdca26\"],[1.0,\"#f0f921\"]]}],\"heatmapgl\":[{\"type\":\"heatmapgl\",\"colorbar\":{\"outlinewidth\":0,\"ticks\":\"\"},\"colorscale\":[[0.0,\"#0d0887\"],[0.1111111111111111,\"#46039f\"],[0.2222222222222222,\"#7201a8\"],[0.3333333333333333,\"#9c179e\"],[0.4444444444444444,\"#bd3786\"],[0.5555555555555556,\"#d8576b\"],[0.6666666666666666,\"#ed7953\"],[0.7777777777777778,\"#fb9f3a\"],[0.8888888888888888,\"#fdca26\"],[1.0,\"#f0f921\"]]}],\"contourcarpet\":[{\"type\":\"contourcarpet\",\"colorbar\":{\"outlinewidth\":0,\"ticks\":\"\"}}],\"contour\":[{\"type\":\"contour\",\"colorbar\":{\"outlinewidth\":0,\"ticks\":\"\"},\"colorscale\":[[0.0,\"#0d0887\"],[0.1111111111111111,\"#46039f\"],[0.2222222222222222,\"#7201a8\"],[0.3333333333333333,\"#9c179e\"],[0.4444444444444444,\"#bd3786\"],[0.5555555555555556,\"#d8576b\"],[0.6666666666666666,\"#ed7953\"],[0.7777777777777778,\"#fb9f3a\"],[0.8888888888888888,\"#fdca26\"],[1.0,\"#f0f921\"]]}],\"surface\":[{\"type\":\"surface\",\"colorbar\":{\"outlinewidth\":0,\"ticks\":\"\"},\"colorscale\":[[0.0,\"#0d0887\"],[0.1111111111111111,\"#46039f\"],[0.2222222222222222,\"#7201a8\"],[0.3333333333333333,\"#9c179e\"],[0.4444444444444444,\"#bd3786\"],[0.5555555555555556,\"#d8576b\"],[0.6666666666666666,\"#ed7953\"],[0.7777777777777778,\"#fb9f3a\"],[0.8888888888888888,\"#fdca26\"],[1.0,\"#f0f921\"]]}],\"mesh3d\":[{\"type\":\"mesh3d\",\"colorbar\":{\"outlinewidth\":0,\"ticks\":\"\"}}],\"scatter\":[{\"fillpattern\":{\"fillmode\":\"overlay\",\"size\":10,\"solidity\":0.2},\"type\":\"scatter\"}],\"parcoords\":[{\"type\":\"parcoords\",\"line\":{\"colorbar\":{\"outlinewidth\":0,\"ticks\":\"\"}}}],\"scatterpolargl\":[{\"type\":\"scatterpolargl\",\"marker\":{\"colorbar\":{\"outlinewidth\":0,\"ticks\":\"\"}}}],\"bar\":[{\"error_x\":{\"color\":\"#2a3f5f\"},\"error_y\":{\"color\":\"#2a3f5f\"},\"marker\":{\"line\":{\"color\":\"#E5ECF6\",\"width\":0.5},\"pattern\":{\"fillmode\":\"overlay\",\"size\":10,\"solidity\":0.2}},\"type\":\"bar\"}],\"scattergeo\":[{\"type\":\"scattergeo\",\"marker\":{\"colorbar\":{\"outlinewidth\":0,\"ticks\":\"\"}}}],\"scatterpolar\":[{\"type\":\"scatterpolar\",\"marker\":{\"colorbar\":{\"outlinewidth\":0,\"ticks\":\"\"}}}],\"histogram\":[{\"marker\":{\"pattern\":{\"fillmode\":\"overlay\",\"size\":10,\"solidity\":0.2}},\"type\":\"histogram\"}],\"scattergl\":[{\"type\":\"scattergl\",\"marker\":{\"colorbar\":{\"outlinewidth\":0,\"ticks\":\"\"}}}],\"scatter3d\":[{\"type\":\"scatter3d\",\"line\":{\"colorbar\":{\"outlinewidth\":0,\"ticks\":\"\"}},\"marker\":{\"colorbar\":{\"outlinewidth\":0,\"ticks\":\"\"}}}],\"scattermapbox\":[{\"type\":\"scattermapbox\",\"marker\":{\"colorbar\":{\"outlinewidth\":0,\"ticks\":\"\"}}}],\"scatterternary\":[{\"type\":\"scatterternary\",\"marker\":{\"colorbar\":{\"outlinewidth\":0,\"ticks\":\"\"}}}],\"scattercarpet\":[{\"type\":\"scattercarpet\",\"marker\":{\"colorbar\":{\"outlinewidth\":0,\"ticks\":\"\"}}}],\"carpet\":[{\"aaxis\":{\"endlinecolor\":\"#2a3f5f\",\"gridcolor\":\"white\",\"linecolor\":\"white\",\"minorgridcolor\":\"white\",\"startlinecolor\":\"#2a3f5f\"},\"baxis\":{\"endlinecolor\":\"#2a3f5f\",\"gridcolor\":\"white\",\"linecolor\":\"white\",\"minorgridcolor\":\"white\",\"startlinecolor\":\"#2a3f5f\"},\"type\":\"carpet\"}],\"table\":[{\"cells\":{\"fill\":{\"color\":\"#EBF0F8\"},\"line\":{\"color\":\"white\"}},\"header\":{\"fill\":{\"color\":\"#C8D4E3\"},\"line\":{\"color\":\"white\"}},\"type\":\"table\"}],\"barpolar\":[{\"marker\":{\"line\":{\"color\":\"#E5ECF6\",\"width\":0.5},\"pattern\":{\"fillmode\":\"overlay\",\"size\":10,\"solidity\":0.2}},\"type\":\"barpolar\"}],\"pie\":[{\"automargin\":true,\"type\":\"pie\"}]},\"layout\":{\"autotypenumbers\":\"strict\",\"colorway\":[\"#636efa\",\"#EF553B\",\"#00cc96\",\"#ab63fa\",\"#FFA15A\",\"#19d3f3\",\"#FF6692\",\"#B6E880\",\"#FF97FF\",\"#FECB52\"],\"font\":{\"color\":\"#2a3f5f\"},\"hovermode\":\"closest\",\"hoverlabel\":{\"align\":\"left\"},\"paper_bgcolor\":\"white\",\"plot_bgcolor\":\"#E5ECF6\",\"polar\":{\"bgcolor\":\"#E5ECF6\",\"angularaxis\":{\"gridcolor\":\"white\",\"linecolor\":\"white\",\"ticks\":\"\"},\"radialaxis\":{\"gridcolor\":\"white\",\"linecolor\":\"white\",\"ticks\":\"\"}},\"ternary\":{\"bgcolor\":\"#E5ECF6\",\"aaxis\":{\"gridcolor\":\"white\",\"linecolor\":\"white\",\"ticks\":\"\"},\"baxis\":{\"gridcolor\":\"white\",\"linecolor\":\"white\",\"ticks\":\"\"},\"caxis\":{\"gridcolor\":\"white\",\"linecolor\":\"white\",\"ticks\":\"\"}},\"coloraxis\":{\"colorbar\":{\"outlinewidth\":0,\"ticks\":\"\"}},\"colorscale\":{\"sequential\":[[0.0,\"#0d0887\"],[0.1111111111111111,\"#46039f\"],[0.2222222222222222,\"#7201a8\"],[0.3333333333333333,\"#9c179e\"],[0.4444444444444444,\"#bd3786\"],[0.5555555555555556,\"#d8576b\"],[0.6666666666666666,\"#ed7953\"],[0.7777777777777778,\"#fb9f3a\"],[0.8888888888888888,\"#fdca26\"],[1.0,\"#f0f921\"]],\"sequentialminus\":[[0.0,\"#0d0887\"],[0.1111111111111111,\"#46039f\"],[0.2222222222222222,\"#7201a8\"],[0.3333333333333333,\"#9c179e\"],[0.4444444444444444,\"#bd3786\"],[0.5555555555555556,\"#d8576b\"],[0.6666666666666666,\"#ed7953\"],[0.7777777777777778,\"#fb9f3a\"],[0.8888888888888888,\"#fdca26\"],[1.0,\"#f0f921\"]],\"diverging\":[[0,\"#8e0152\"],[0.1,\"#c51b7d\"],[0.2,\"#de77ae\"],[0.3,\"#f1b6da\"],[0.4,\"#fde0ef\"],[0.5,\"#f7f7f7\"],[0.6,\"#e6f5d0\"],[0.7,\"#b8e186\"],[0.8,\"#7fbc41\"],[0.9,\"#4d9221\"],[1,\"#276419\"]]},\"xaxis\":{\"gridcolor\":\"white\",\"linecolor\":\"white\",\"ticks\":\"\",\"title\":{\"standoff\":15},\"zerolinecolor\":\"white\",\"automargin\":true,\"zerolinewidth\":2},\"yaxis\":{\"gridcolor\":\"white\",\"linecolor\":\"white\",\"ticks\":\"\",\"title\":{\"standoff\":15},\"zerolinecolor\":\"white\",\"automargin\":true,\"zerolinewidth\":2},\"scene\":{\"xaxis\":{\"backgroundcolor\":\"#E5ECF6\",\"gridcolor\":\"white\",\"linecolor\":\"white\",\"showbackground\":true,\"ticks\":\"\",\"zerolinecolor\":\"white\",\"gridwidth\":2},\"yaxis\":{\"backgroundcolor\":\"#E5ECF6\",\"gridcolor\":\"white\",\"linecolor\":\"white\",\"showbackground\":true,\"ticks\":\"\",\"zerolinecolor\":\"white\",\"gridwidth\":2},\"zaxis\":{\"backgroundcolor\":\"#E5ECF6\",\"gridcolor\":\"white\",\"linecolor\":\"white\",\"showbackground\":true,\"ticks\":\"\",\"zerolinecolor\":\"white\",\"gridwidth\":2}},\"shapedefaults\":{\"line\":{\"color\":\"#2a3f5f\"}},\"annotationdefaults\":{\"arrowcolor\":\"#2a3f5f\",\"arrowhead\":0,\"arrowwidth\":1},\"geo\":{\"bgcolor\":\"white\",\"landcolor\":\"#E5ECF6\",\"subunitcolor\":\"white\",\"showland\":true,\"showlakes\":true,\"lakecolor\":\"white\"},\"title\":{\"x\":0.05},\"mapbox\":{\"style\":\"light\"}}},\"xaxis\":{\"anchor\":\"y\",\"domain\":[0.0,1.0],\"title\":{\"text\":\"Year\"}},\"yaxis\":{\"anchor\":\"x\",\"domain\":[0.0,1.0],\"title\":{\"text\":\"internet_usage\"}},\"legend\":{\"tracegroupgap\":0},\"margin\":{\"t\":60}},                        {\"responsive\": true}                    ).then(function(){\n",
       "                            \n",
       "var gd = document.getElementById('d06fef8b-75c3-4799-ae37-64780d02596f');\n",
       "var x = new MutationObserver(function (mutations, observer) {{\n",
       "        var display = window.getComputedStyle(gd).display;\n",
       "        if (!display || display === 'none') {{\n",
       "            console.log([gd, 'removed!']);\n",
       "            Plotly.purge(gd);\n",
       "            observer.disconnect();\n",
       "        }}\n",
       "}});\n",
       "\n",
       "// Listen for the removal of the full notebook cells\n",
       "var notebookContainer = gd.closest('#notebook-container');\n",
       "if (notebookContainer) {{\n",
       "    x.observe(notebookContainer, {childList: true});\n",
       "}}\n",
       "\n",
       "// Listen for the clearing of the current output cell\n",
       "var outputEl = gd.closest('.output');\n",
       "if (outputEl) {{\n",
       "    x.observe(outputEl, {childList: true});\n",
       "}}\n",
       "\n",
       "                        })                };                });            </script>        </div>"
      ]
     },
     "metadata": {},
     "output_type": "display_data"
    }
   ],
   "source": [
    "fig = px.line(df[df['Code'] == 'AFG'], x=\"Year\", y=\"internet_usage\")\n",
    "fig.show()"
   ]
  },
  {
   "cell_type": "code",
   "execution_count": 51,
   "id": "221427af-4ca3-463a-ab65-b176dcc6c61f",
   "metadata": {},
   "outputs": [
    {
     "data": {
      "application/vnd.plotly.v1+json": {
       "config": {
        "plotlyServerURL": "https://plot.ly"
       },
       "data": [
        {
         "hovertemplate": "Code=AFG<br>Year=%{x}<br>internet_usage=%{y}<extra></extra>",
         "legendgroup": "AFG",
         "line": {
          "color": "#636efa",
          "dash": "solid"
         },
         "marker": {
          "symbol": "circle"
         },
         "mode": "lines",
         "name": "AFG",
         "showlegend": true,
         "type": "scattergl",
         "x": [
          1990,
          1991,
          1992,
          1993,
          1994,
          1995,
          2001,
          2002,
          2003,
          2004,
          2005,
          2006,
          2007,
          2008,
          2009,
          2010,
          2011,
          2012,
          2013,
          2014,
          2015,
          2017
         ],
         "xaxis": "x",
         "y": [
          0,
          0,
          0,
          0,
          0,
          0,
          0.004722568,
          0.004561395,
          0.087891253,
          0.10580903,
          1.224148084,
          2.107123645,
          1.9,
          1.84,
          3.55,
          4,
          5,
          5.454545455,
          5.9,
          7,
          8.26,
          11.44768809
         ],
         "yaxis": "y"
        },
        {
         "hovertemplate": "Code=ALB<br>Year=%{x}<br>internet_usage=%{y}<extra></extra>",
         "legendgroup": "ALB",
         "line": {
          "color": "#00cc96",
          "dash": "solid"
         },
         "marker": {
          "symbol": "circle"
         },
         "mode": "lines",
         "name": "ALB",
         "showlegend": true,
         "type": "scattergl",
         "x": [
          1990,
          1991,
          1992,
          1993,
          1994,
          1995,
          1996,
          1997,
          1998,
          1999,
          2000,
          2001,
          2002,
          2003,
          2004,
          2005,
          2006,
          2007,
          2008,
          2009,
          2010,
          2011,
          2012,
          2013,
          2014,
          2015,
          2016,
          2017,
          2019
         ],
         "xaxis": "x",
         "y": [
          0,
          0,
          0,
          0,
          0,
          0.011168695,
          0.032196828,
          0.048593919,
          0.06502737,
          0.081437045,
          0.114097347,
          0.325798377,
          0.390081273,
          0.971900415,
          2.420387798,
          6.043890864,
          9.609991316,
          15.03611541,
          23.86,
          41.2,
          45,
          49,
          54.65595904,
          57.2,
          60.1,
          63.2529327,
          66.3634447,
          71.8470405,
          69.64285467
         ],
         "yaxis": "y"
        },
        {
         "hovertemplate": "Code=DZA<br>Year=%{x}<br>internet_usage=%{y}<extra></extra>",
         "legendgroup": "DZA",
         "line": {
          "color": "#ab63fa",
          "dash": "solid"
         },
         "marker": {
          "symbol": "circle"
         },
         "mode": "lines",
         "name": "DZA",
         "showlegend": true,
         "type": "scattergl",
         "x": [
          1990,
          1991,
          1992,
          1993,
          1994,
          1995,
          1996,
          1997,
          1998,
          1999,
          2000,
          2001,
          2002,
          2003,
          2004,
          2005,
          2006,
          2007,
          2008,
          2009,
          2010,
          2011,
          2012,
          2013,
          2014,
          2015,
          2016,
          2017,
          2018
         ],
         "xaxis": "x",
         "y": [
          0,
          0,
          0,
          0,
          0.000360674,
          0.001768954,
          0.001738533,
          0.010268463,
          0.020238555,
          0.199523843,
          0.491705679,
          0.646114017,
          1.59164126,
          2.195359731,
          4.634475088,
          5.843942092,
          7.375984956,
          9.451190626,
          10.18,
          11.23,
          12.5,
          14.9,
          18.2,
          22.5,
          29.5,
          38.2,
          42.94552688,
          47.69105515,
          49.03846808
         ],
         "yaxis": "y"
        },
        {
         "hovertemplate": "Code=ASM<br>Year=%{x}<br>internet_usage=%{y}<extra></extra>",
         "legendgroup": "ASM",
         "line": {
          "color": "#FFA15A",
          "dash": "solid"
         },
         "marker": {
          "symbol": "circle"
         },
         "mode": "lines",
         "name": "ASM",
         "showlegend": true,
         "type": "scattergl",
         "x": [
          1990,
          1991,
          1992,
          1993,
          1994,
          1995
         ],
         "xaxis": "x",
         "y": [
          0,
          0,
          0,
          0,
          0,
          0
         ],
         "yaxis": "y"
        },
        {
         "hovertemplate": "Code=AND<br>Year=%{x}<br>internet_usage=%{y}<extra></extra>",
         "legendgroup": "AND",
         "line": {
          "color": "#19d3f3",
          "dash": "solid"
         },
         "marker": {
          "symbol": "circle"
         },
         "mode": "lines",
         "name": "AND",
         "showlegend": true,
         "type": "scattergl",
         "x": [
          1990,
          1991,
          1992,
          1993,
          1994,
          1995,
          1996,
          1997,
          1998,
          1999,
          2000,
          2002,
          2003,
          2004,
          2005,
          2006,
          2007,
          2008,
          2009,
          2010,
          2011,
          2012,
          2013,
          2014,
          2015,
          2016,
          2017
         ],
         "xaxis": "x",
         "y": [
          0,
          0,
          0,
          0,
          0,
          0,
          1.526601023,
          3.050175385,
          6.886209218,
          7.635686143,
          10.53883561,
          11.26046872,
          13.54641288,
          26.83795439,
          37.60576622,
          48.936847,
          70.87,
          70.04,
          78.53,
          81,
          81,
          86.43442462,
          94,
          95.9,
          96.91,
          97.93063712,
          91.56746703
         ],
         "yaxis": "y"
        },
        {
         "hovertemplate": "Code=AGO<br>Year=%{x}<br>internet_usage=%{y}<extra></extra>",
         "legendgroup": "AGO",
         "line": {
          "color": "#FF6692",
          "dash": "solid"
         },
         "marker": {
          "symbol": "circle"
         },
         "mode": "lines",
         "name": "AGO",
         "showlegend": true,
         "type": "scattergl",
         "x": [
          1990,
          1991,
          1992,
          1993,
          1994,
          1995,
          1996,
          1997,
          1998,
          1999,
          2000,
          2001,
          2002,
          2003,
          2004,
          2005,
          2006,
          2007,
          2008,
          2009,
          2010,
          2011,
          2012,
          2013,
          2014,
          2015,
          2016,
          2017
         ],
         "xaxis": "x",
         "y": [
          0,
          0,
          0,
          0,
          0,
          0,
          0.000775929,
          0.005673746,
          0.018453724,
          0.071964087,
          0.105045562,
          0.136013867,
          0.270376746,
          0.370682065,
          0.464814618,
          1.143366827,
          1.5,
          1.7,
          1.9,
          2.3,
          2.8,
          3.1,
          6.5,
          8.9,
          21.4,
          12.4,
          13,
          14.33907936
         ],
         "yaxis": "y"
        },
        {
         "hovertemplate": "Code=ATG<br>Year=%{x}<br>internet_usage=%{y}<extra></extra>",
         "legendgroup": "ATG",
         "line": {
          "color": "#B6E880",
          "dash": "solid"
         },
         "marker": {
          "symbol": "circle"
         },
         "mode": "lines",
         "name": "ATG",
         "showlegend": true,
         "type": "scattergl",
         "x": [
          1990,
          1991,
          1992,
          1993,
          1994,
          1995,
          1996,
          1997,
          1998,
          1999,
          2000,
          2001,
          2002,
          2003,
          2004,
          2005,
          2006,
          2007,
          2008,
          2009,
          2010,
          2011,
          2012,
          2013,
          2014,
          2015,
          2016
         ],
         "xaxis": "x",
         "y": [
          0,
          0,
          0,
          0,
          0,
          2.200768802,
          2.858449577,
          3.480536838,
          4.0717165,
          5.300681138,
          6.482225737,
          8.899285515,
          12.5,
          17.22864878,
          24.26654372,
          27,
          30,
          34,
          38,
          42,
          47,
          52,
          58,
          63.4,
          67.78,
          70,
          73
         ],
         "yaxis": "y"
        },
        {
         "hovertemplate": "Code=ARG<br>Year=%{x}<br>internet_usage=%{y}<extra></extra>",
         "legendgroup": "ARG",
         "line": {
          "color": "#FF97FF",
          "dash": "solid"
         },
         "marker": {
          "symbol": "circle"
         },
         "mode": "lines",
         "name": "ARG",
         "showlegend": true,
         "type": "scattergl",
         "x": [
          1990,
          1991,
          1992,
          1993,
          1994,
          1995,
          1996,
          1997,
          1998,
          1999,
          2000,
          2001,
          2002,
          2003,
          2004,
          2005,
          2006,
          2007,
          2008,
          2009,
          2010,
          2011,
          2012,
          2013,
          2014,
          2015,
          2016,
          2017
         ],
         "xaxis": "x",
         "y": [
          0,
          0,
          0.002992874,
          0.029527065,
          0.043705951,
          0.086277081,
          0.141954704,
          0.280339882,
          0.83076668,
          3.284481956,
          7.038683086,
          9.780807285,
          10.88212438,
          11.91369655,
          16.03668411,
          17.72058337,
          20.9272021,
          25.94663294,
          28.11262348,
          34,
          45,
          51,
          55.8,
          59.9,
          64.7,
          68.04306411,
          70.96898082,
          74.29490687
         ],
         "yaxis": "y"
        },
        {
         "hovertemplate": "Code=ARM<br>Year=%{x}<br>internet_usage=%{y}<extra></extra>",
         "legendgroup": "ARM",
         "line": {
          "color": "#FECB52",
          "dash": "solid"
         },
         "marker": {
          "symbol": "circle"
         },
         "mode": "lines",
         "name": "ARM",
         "showlegend": true,
         "type": "scattergl",
         "x": [
          1990,
          1991,
          1992,
          1993,
          1994,
          1995,
          1996,
          1997,
          1998,
          1999,
          2000,
          2001,
          2002,
          2003,
          2004,
          2005,
          2006,
          2007,
          2008,
          2009,
          2010,
          2011,
          2012,
          2013,
          2014,
          2015,
          2016,
          2017,
          2018
         ],
         "xaxis": "x",
         "y": [
          0,
          0,
          0,
          0,
          0.009117014,
          0.052743123,
          0.094572902,
          0.111650935,
          0.128659478,
          0.970737757,
          1.300470022,
          1.631094667,
          1.960405046,
          4.575217225,
          4.899008571,
          5.252983352,
          5.631787777,
          6.021253397,
          6.21,
          15.3,
          25,
          32,
          37.5,
          41.9,
          54.62280586,
          59.10083377,
          64.34602977,
          64.74488433,
          68.24505226
         ],
         "yaxis": "y"
        },
        {
         "hovertemplate": "Code=ABW<br>Year=%{x}<br>internet_usage=%{y}<extra></extra>",
         "legendgroup": "ABW",
         "line": {
          "color": "#636efa",
          "dash": "solid"
         },
         "marker": {
          "symbol": "circle"
         },
         "mode": "lines",
         "name": "ABW",
         "showlegend": true,
         "type": "scattergl",
         "x": [
          1990,
          1991,
          1992,
          1993,
          1994,
          1995,
          1996,
          1999,
          2000,
          2001,
          2002,
          2003,
          2004,
          2005,
          2006,
          2007,
          2008,
          2009,
          2010,
          2011,
          2012,
          2013,
          2014,
          2015,
          2016,
          2017
         ],
         "xaxis": "x",
         "y": [
          0,
          0,
          0,
          0,
          0,
          0,
          2.768382663,
          4.506179098,
          15.44282295,
          17.1,
          18.8,
          20.8,
          23,
          25.4,
          28,
          30.9,
          52,
          58,
          62,
          69,
          74,
          78.9,
          83.78,
          88.66122693,
          93.54245387,
          97.17
         ],
         "yaxis": "y"
        },
        {
         "hovertemplate": "Code=AUS<br>Year=%{x}<br>internet_usage=%{y}<extra></extra>",
         "legendgroup": "AUS",
         "line": {
          "color": "#EF553B",
          "dash": "solid"
         },
         "marker": {
          "symbol": "circle"
         },
         "mode": "lines",
         "name": "AUS",
         "showlegend": true,
         "type": "scattergl",
         "x": [
          1990,
          1991,
          1992,
          1993,
          1994,
          1995,
          1996,
          1997,
          1998,
          1999,
          2000,
          2001,
          2005,
          2006,
          2007,
          2008,
          2009,
          2010,
          2011,
          2012,
          2013,
          2014,
          2015,
          2016,
          2017
         ],
         "xaxis": "x",
         "y": [
          0.585094712,
          1.097203891,
          1.768764913,
          1.974611016,
          2.232101254,
          2.759654513,
          3.27524987,
          16.36935838,
          30.81323944,
          40.7837839,
          46.75611561,
          52.68926643,
          63,
          66,
          69.45,
          71.67,
          74.25,
          76,
          79.48769771,
          79,
          83.45349717,
          84,
          84.56051491,
          86.54,
          86.54504885
         ],
         "yaxis": "y"
        },
        {
         "hovertemplate": "Code=AUT<br>Year=%{x}<br>internet_usage=%{y}<extra></extra>",
         "legendgroup": "AUT",
         "line": {
          "color": "#00cc96",
          "dash": "solid"
         },
         "marker": {
          "symbol": "circle"
         },
         "mode": "lines",
         "name": "AUT",
         "showlegend": true,
         "type": "scattergl",
         "x": [
          1990,
          1991,
          1992,
          1993,
          1994,
          1995,
          1996,
          1997,
          1998,
          1999,
          2000,
          2001,
          2002,
          2003,
          2004,
          2005,
          2006,
          2007,
          2008,
          2009,
          2010,
          2011,
          2012,
          2013,
          2014,
          2015,
          2016,
          2017,
          2018,
          2019
         ],
         "xaxis": "x",
         "y": [
          0.130369377,
          0.259081553,
          0.642817619,
          0.76534273,
          1.393422968,
          1.890210524,
          6.909162353,
          9.533974317,
          15.42121932,
          23.0443171,
          33.73013295,
          39.18545018,
          36.56,
          42.7,
          54.28,
          58,
          63.6,
          69.37,
          72.87,
          73.45,
          75.17,
          78.7399931,
          80.02999392,
          80.6188,
          80.99582496,
          83.94014193,
          84.32374257,
          87.93558659,
          87.47913723,
          87.75220479
         ],
         "yaxis": "y"
        },
        {
         "hovertemplate": "Code=AZE<br>Year=%{x}<br>internet_usage=%{y}<extra></extra>",
         "legendgroup": "AZE",
         "line": {
          "color": "#ab63fa",
          "dash": "solid"
         },
         "marker": {
          "symbol": "circle"
         },
         "mode": "lines",
         "name": "AZE",
         "showlegend": true,
         "type": "scattergl",
         "x": [
          1990,
          1991,
          1992,
          1993,
          1994,
          1995,
          1996,
          1997,
          1998,
          1999,
          2000,
          2001,
          2002,
          2005,
          2006,
          2007,
          2008,
          2009,
          2010,
          2011,
          2012,
          2013,
          2014,
          2015,
          2016,
          2017,
          2018
         ],
         "xaxis": "x",
         "y": [
          0,
          0,
          0,
          0,
          0.001431415,
          0.002055556,
          0.006354585,
          0.025187933,
          0.037485109,
          0.099228942,
          0.147757576,
          0.305564638,
          4.999713678,
          8.030375356,
          11.99217733,
          14.54,
          17.08,
          27.4,
          46,
          50,
          54.2,
          73.00000137,
          75.00001564,
          77,
          78.2,
          79,
          79.79999549
         ],
         "yaxis": "y"
        },
        {
         "hovertemplate": "Code=BHS<br>Year=%{x}<br>internet_usage=%{y}<extra></extra>",
         "legendgroup": "BHS",
         "line": {
          "color": "#FFA15A",
          "dash": "solid"
         },
         "marker": {
          "symbol": "circle"
         },
         "mode": "lines",
         "name": "BHS",
         "showlegend": true,
         "type": "scattergl",
         "x": [
          1990,
          1991,
          1992,
          1993,
          1994,
          1995,
          1996,
          1997,
          1998,
          1999,
          2000,
          2001,
          2002,
          2003,
          2004,
          2005,
          2006,
          2007,
          2008,
          2009,
          2010,
          2011,
          2012,
          2013,
          2014,
          2015,
          2016,
          2017
         ],
         "xaxis": "x",
         "y": [
          0,
          0,
          0,
          0,
          0,
          0.960030721,
          1.746950698,
          1.362953903,
          2.33559071,
          3.764557822,
          8,
          11.8,
          18,
          20,
          22,
          25,
          26,
          27,
          31.54,
          33.88,
          43,
          65,
          71.74820281,
          72,
          76.92,
          78,
          80,
          85
         ],
         "yaxis": "y"
        },
        {
         "hovertemplate": "Code=BHR<br>Year=%{x}<br>internet_usage=%{y}<extra></extra>",
         "legendgroup": "BHR",
         "line": {
          "color": "#19d3f3",
          "dash": "solid"
         },
         "marker": {
          "symbol": "circle"
         },
         "mode": "lines",
         "name": "BHR",
         "showlegend": true,
         "type": "scattergl",
         "x": [
          1990,
          1991,
          1992,
          1993,
          1994,
          1995,
          1996,
          1997,
          1998,
          1999,
          2000,
          2001,
          2002,
          2003,
          2004,
          2005,
          2006,
          2007,
          2008,
          2009,
          2010,
          2011,
          2012,
          2013,
          2014,
          2015,
          2016,
          2017,
          2018,
          2019
         ],
         "xaxis": "x",
         "y": [
          0,
          0,
          0,
          0,
          0,
          0.346205844,
          0.843254219,
          1.646299202,
          3.218202151,
          4.720358118,
          6.153732546,
          15.03863425,
          18.05072089,
          21.55494499,
          21.45868051,
          21.30373351,
          28.24395243,
          32.91,
          51.95,
          53,
          55,
          76.9999665,
          88,
          90.0000397,
          90.50313348,
          93.4783008,
          97.9999807,
          95.87813575,
          98.64467258,
          99.70150438
         ],
         "yaxis": "y"
        },
        {
         "hovertemplate": "Code=BGD<br>Year=%{x}<br>internet_usage=%{y}<extra></extra>",
         "legendgroup": "BGD",
         "line": {
          "color": "#FF6692",
          "dash": "solid"
         },
         "marker": {
          "symbol": "circle"
         },
         "mode": "lines",
         "name": "BGD",
         "showlegend": true,
         "type": "scattergl",
         "x": [
          1990,
          1991,
          1992,
          1993,
          1994,
          1995,
          1997,
          1998,
          1999,
          2000,
          2001,
          2002,
          2003,
          2004,
          2005,
          2006,
          2007,
          2008,
          2009,
          2010,
          2011,
          2012,
          2013,
          2014,
          2015,
          2016,
          2019
         ],
         "xaxis": "x",
         "y": [
          0,
          0,
          0,
          0,
          0,
          0,
          0.000751046,
          0.003684813,
          0.036170407,
          0.071039423,
          0.129807974,
          0.139920289,
          0.163877665,
          0.199036334,
          0.241637326,
          1,
          1.8,
          2.5,
          3.1,
          3.7,
          4.5,
          5,
          6.63,
          13.9,
          14.4,
          18.02,
          12.9
         ],
         "yaxis": "y"
        },
        {
         "hovertemplate": "Code=BRB<br>Year=%{x}<br>internet_usage=%{y}<extra></extra>",
         "legendgroup": "BRB",
         "line": {
          "color": "#B6E880",
          "dash": "solid"
         },
         "marker": {
          "symbol": "circle"
         },
         "mode": "lines",
         "name": "BRB",
         "showlegend": true,
         "type": "scattergl",
         "x": [
          1990,
          1991,
          1992,
          1993,
          1994,
          1995,
          1996,
          1997,
          1998,
          1999,
          2000,
          2001,
          2002,
          2003,
          2004,
          2005,
          2006,
          2007,
          2008,
          2009,
          2010,
          2011,
          2012,
          2013,
          2014,
          2015,
          2016,
          2017
         ],
         "xaxis": "x",
         "y": [
          0,
          0,
          0,
          0,
          0,
          0.007752238,
          0.389464214,
          0.783428912,
          1.970249237,
          2.376247035,
          3.973678355,
          11.93645034,
          27.83632242,
          39.68962712,
          49.8,
          52.5,
          55.3,
          58.2,
          61.4,
          64.7,
          65.1,
          66.5,
          71.2,
          71.8,
          75.16,
          76.11,
          79.54939789,
          81.76077839
         ],
         "yaxis": "y"
        },
        {
         "hovertemplate": "Code=BLR<br>Year=%{x}<br>internet_usage=%{y}<extra></extra>",
         "legendgroup": "BLR",
         "line": {
          "color": "#FF97FF",
          "dash": "solid"
         },
         "marker": {
          "symbol": "circle"
         },
         "mode": "lines",
         "name": "BLR",
         "showlegend": true,
         "type": "scattergl",
         "x": [
          1990,
          1991,
          1992,
          1993,
          1994,
          1995,
          1996,
          1997,
          1998,
          1999,
          2000,
          2001,
          2002,
          2006,
          2007,
          2008,
          2009,
          2010,
          2011,
          2012,
          2013,
          2014,
          2015,
          2016,
          2017,
          2018,
          2019
         ],
         "xaxis": "x",
         "y": [
          0,
          0,
          0,
          0,
          0.000485951,
          0.002921254,
          0.029298294,
          0.049020891,
          0.073868897,
          0.494881245,
          1.860398126,
          4.300616022,
          8.950971315,
          16.2,
          19.7,
          23,
          27.43,
          31.8,
          39.64889566,
          46.91,
          54.17,
          59.02,
          62.23036091,
          71.11304576,
          74.43644541,
          79.12988669,
          82.78915209
         ],
         "yaxis": "y"
        },
        {
         "hovertemplate": "Code=BEL<br>Year=%{x}<br>internet_usage=%{y}<extra></extra>",
         "legendgroup": "BEL",
         "line": {
          "color": "#FECB52",
          "dash": "solid"
         },
         "marker": {
          "symbol": "circle"
         },
         "mode": "lines",
         "name": "BEL",
         "showlegend": true,
         "type": "scattergl",
         "x": [
          1990,
          1991,
          1992,
          1993,
          1994,
          1995,
          1996,
          1997,
          1998,
          1999,
          2000,
          2001,
          2002,
          2003,
          2004,
          2005,
          2006,
          2007,
          2008,
          2009,
          2010,
          2011,
          2012,
          2013,
          2014,
          2015,
          2016,
          2017,
          2018,
          2019
         ],
         "xaxis": "x",
         "y": [
          0.00100674,
          0.020072645,
          0.100041027,
          0.199446059,
          0.69599469,
          0.99166299,
          2.968411647,
          4.93808091,
          7.886622701,
          13.77221446,
          29.43169169,
          31.28839551,
          46.33,
          49.97,
          53.86,
          55.82,
          59.72,
          64.44,
          66,
          70,
          75,
          81.609996,
          80.71999055,
          82.1702,
          85,
          85.05294175,
          86.51647666,
          87.67968082,
          88.65506428,
          90.37051309
         ],
         "yaxis": "y"
        },
        {
         "hovertemplate": "Code=BLZ<br>Year=%{x}<br>internet_usage=%{y}<extra></extra>",
         "legendgroup": "BLZ",
         "line": {
          "color": "#636efa",
          "dash": "solid"
         },
         "marker": {
          "symbol": "circle"
         },
         "mode": "lines",
         "name": "BLZ",
         "showlegend": true,
         "type": "scattergl",
         "x": [
          1990,
          1991,
          1992,
          1993,
          1994,
          1995,
          1996,
          1997,
          1998,
          1999,
          2000,
          2002,
          2004,
          2005,
          2006,
          2007,
          2008,
          2009,
          2010,
          2011,
          2012,
          2013,
          2014,
          2015,
          2016,
          2017
         ],
         "xaxis": "x",
         "y": [
          0,
          0,
          0,
          0,
          0,
          0.04539718,
          0.882807327,
          1.288582302,
          2.091516391,
          4.076740564,
          5.963835303,
          5.684251214,
          9.8,
          17,
          24,
          24.6,
          26.3,
          27.2,
          28.2,
          30.7,
          31,
          33.6,
          38.7,
          41.59,
          44.57574032,
          47.0826258
         ],
         "yaxis": "y"
        },
        {
         "hovertemplate": "Code=BEN<br>Year=%{x}<br>internet_usage=%{y}<extra></extra>",
         "legendgroup": "BEN",
         "line": {
          "color": "#EF553B",
          "dash": "solid"
         },
         "marker": {
          "symbol": "circle"
         },
         "mode": "lines",
         "name": "BEN",
         "showlegend": true,
         "type": "scattergl",
         "x": [
          1990,
          1991,
          1992,
          1993,
          1994,
          1995,
          1996,
          1997,
          1998,
          1999,
          2000,
          2001,
          2002,
          2003,
          2004,
          2005,
          2006,
          2007,
          2008,
          2009,
          2010,
          2011,
          2012,
          2013,
          2014,
          2015,
          2016,
          2017
         ],
         "xaxis": "x",
         "y": [
          0,
          0,
          0,
          0,
          0,
          0,
          0.0016931,
          0.024648796,
          0.047877304,
          0.154906741,
          0.225247851,
          0.36341789,
          0.702945595,
          0.951327115,
          1.182540965,
          1.271031439,
          1.537854346,
          1.79,
          1.85,
          2.24,
          3.13,
          4.148323066,
          4.5,
          4.9,
          6,
          11.25498791,
          11.99404791,
          14.11901233
         ],
         "yaxis": "y"
        },
        {
         "hovertemplate": "Code=BMU<br>Year=%{x}<br>internet_usage=%{y}<extra></extra>",
         "legendgroup": "BMU",
         "line": {
          "color": "#00cc96",
          "dash": "solid"
         },
         "marker": {
          "symbol": "circle"
         },
         "mode": "lines",
         "name": "BMU",
         "showlegend": true,
         "type": "scattergl",
         "x": [
          1990,
          1991,
          1992,
          1993,
          1994,
          1995,
          1996,
          1997,
          1998,
          1999,
          2000,
          2001,
          2002,
          2003,
          2004,
          2005,
          2006,
          2007,
          2008,
          2009,
          2010,
          2011,
          2012,
          2013,
          2014,
          2015,
          2016,
          2017
         ],
         "xaxis": "x",
         "y": [
          0,
          0,
          0,
          0,
          0,
          6.838163465,
          16.20246602,
          24.18925674,
          32.10375935,
          39.94758876,
          42.94986002,
          47.5096999,
          52.03159737,
          56.52201218,
          60.99086701,
          65.44706579,
          69.89965516,
          74.35059403,
          82.3,
          83.25,
          84.21,
          88.336,
          91.29930452,
          95.3,
          96.8,
          98.32360965,
          98,
          98.37
         ],
         "yaxis": "y"
        },
        {
         "hovertemplate": "Code=BTN<br>Year=%{x}<br>internet_usage=%{y}<extra></extra>",
         "legendgroup": "BTN",
         "line": {
          "color": "#ab63fa",
          "dash": "solid"
         },
         "marker": {
          "symbol": "circle"
         },
         "mode": "lines",
         "name": "BTN",
         "showlegend": true,
         "type": "scattergl",
         "x": [
          1990,
          1991,
          1992,
          1993,
          1994,
          1995,
          1999,
          2000,
          2001,
          2002,
          2003,
          2004,
          2005,
          2006,
          2007,
          2008,
          2009,
          2010,
          2011,
          2012,
          2013,
          2014,
          2015,
          2016
         ],
         "xaxis": "x",
         "y": [
          0,
          0,
          0,
          0,
          0,
          0,
          0.137571514,
          0.400944447,
          0.864628564,
          1.675802584,
          2.436912399,
          3.156984196,
          3.847106745,
          4.518317258,
          5.92,
          6.55,
          7.17,
          13.6,
          14.4,
          15.6,
          22.4,
          30.3,
          39.8,
          41.77264453
         ],
         "yaxis": "y"
        },
        {
         "hovertemplate": "Code=BOL<br>Year=%{x}<br>internet_usage=%{y}<extra></extra>",
         "legendgroup": "BOL",
         "line": {
          "color": "#FFA15A",
          "dash": "solid"
         },
         "marker": {
          "symbol": "circle"
         },
         "mode": "lines",
         "name": "BOL",
         "showlegend": true,
         "type": "scattergl",
         "x": [
          1990,
          1991,
          1992,
          1993,
          1994,
          1995,
          1996,
          1997,
          1998,
          1999,
          2000,
          2001,
          2002,
          2003,
          2004,
          2005,
          2006,
          2007,
          2008,
          2009,
          2010,
          2011,
          2012,
          2013,
          2014,
          2015,
          2016,
          2017,
          2018
         ],
         "xaxis": "x",
         "y": [
          0,
          0,
          0,
          0,
          0,
          0.066807568,
          0.196081174,
          0.447839036,
          0.626484062,
          0.981815187,
          1.442763585,
          2.120462534,
          3.117192947,
          3.508596401,
          4.439924601,
          5.227583957,
          6.200671255,
          10.49924432,
          12.5,
          16.8,
          22.4,
          30,
          35.34,
          36.99,
          34.6,
          35.56227065,
          39.6975146,
          43.83227607,
          44.28614216
         ],
         "yaxis": "y"
        },
        {
         "hovertemplate": "Code=BIH<br>Year=%{x}<br>internet_usage=%{y}<extra></extra>",
         "legendgroup": "BIH",
         "line": {
          "color": "#19d3f3",
          "dash": "solid"
         },
         "marker": {
          "symbol": "circle"
         },
         "mode": "lines",
         "name": "BIH",
         "showlegend": true,
         "type": "scattergl",
         "x": [
          1990,
          1991,
          1992,
          1993,
          1994,
          1995,
          1996,
          1997,
          1998,
          1999,
          2000,
          2001,
          2002,
          2003,
          2004,
          2005,
          2006,
          2007,
          2008,
          2009,
          2010,
          2011,
          2012,
          2013,
          2014,
          2015,
          2016,
          2017,
          2018,
          2019
         ],
         "xaxis": "x",
         "y": [
          0,
          0,
          0,
          0,
          0,
          0,
          0.015125563,
          0.059425563,
          0.14367106,
          0.1943742,
          1.08296075,
          1.200526951,
          2.648267914,
          3.965036834,
          15.46897162,
          21.326701,
          25.12238569,
          27.92,
          34.66,
          37.74,
          42.75,
          43.88768653,
          45.06450043,
          48.52131417,
          49.91773243,
          52.6,
          60.25653543,
          64.89202051,
          70.12013504,
          69.94634763
         ],
         "yaxis": "y"
        },
        {
         "hovertemplate": "Code=BWA<br>Year=%{x}<br>internet_usage=%{y}<extra></extra>",
         "legendgroup": "BWA",
         "line": {
          "color": "#FF6692",
          "dash": "solid"
         },
         "marker": {
          "symbol": "circle"
         },
         "mode": "lines",
         "name": "BWA",
         "showlegend": true,
         "type": "scattergl",
         "x": [
          1990,
          1991,
          1992,
          1993,
          1994,
          1995,
          1996,
          1997,
          1998,
          1999,
          2000,
          2001,
          2002,
          2003,
          2004,
          2005,
          2006,
          2007,
          2008,
          2009,
          2010,
          2011,
          2012,
          2013,
          2014,
          2015,
          2016,
          2017
         ],
         "xaxis": "x",
         "y": [
          0,
          0,
          0,
          0,
          0,
          0.064521041,
          0.15745423,
          0.30774685,
          0.602400929,
          1.122391474,
          2.902666622,
          3.430886787,
          3.385922351,
          3.345190174,
          3.304889253,
          3.262554036,
          4.289932975,
          5.28,
          6.25,
          6.15,
          6,
          9,
          16,
          30,
          36.74474744,
          37.31205037,
          39.36299738,
          41.41379464
         ],
         "yaxis": "y"
        },
        {
         "hovertemplate": "Code=BRA<br>Year=%{x}<br>internet_usage=%{y}<extra></extra>",
         "legendgroup": "BRA",
         "line": {
          "color": "#B6E880",
          "dash": "solid"
         },
         "marker": {
          "symbol": "circle"
         },
         "mode": "lines",
         "name": "BRA",
         "showlegend": true,
         "type": "scattergl",
         "x": [
          1990,
          1991,
          1992,
          1993,
          1994,
          1995,
          1996,
          1997,
          1998,
          1999,
          2000,
          2001,
          2002,
          2003,
          2004,
          2005,
          2006,
          2007,
          2008,
          2009,
          2010,
          2011,
          2012,
          2013,
          2014,
          2015,
          2016,
          2017,
          2018
         ],
         "xaxis": "x",
         "y": [
          0,
          0.003288171,
          0.012946262,
          0.025498253,
          0.037672709,
          0.105138168,
          0.450789179,
          0.786079155,
          1.477874959,
          2.038732184,
          2.870685159,
          4.528494869,
          9.149425086,
          13.2075861,
          19.07367227,
          21.02274725,
          28.17838018,
          30.88,
          33.83,
          39.22,
          40.65,
          45.69,
          48.56,
          51.04,
          54.55100188,
          58.32795173,
          60.87254007,
          67.47128452,
          70.43428254
         ],
         "yaxis": "y"
        },
        {
         "hovertemplate": "Code=VGB<br>Year=%{x}<br>internet_usage=%{y}<extra></extra>",
         "legendgroup": "VGB",
         "line": {
          "color": "#FF97FF",
          "dash": "solid"
         },
         "marker": {
          "symbol": "circle"
         },
         "mode": "lines",
         "name": "VGB",
         "showlegend": true,
         "type": "scattergl",
         "x": [
          1990,
          1991,
          1992,
          1993,
          1994,
          1995,
          2002,
          2009,
          2010,
          2011,
          2012,
          2016,
          2017
         ],
         "xaxis": "x",
         "y": [
          0,
          0,
          0,
          0,
          0,
          0,
          18.88574127,
          36,
          37,
          37.4,
          37.6,
          77.70142968,
          77.70426829
         ],
         "yaxis": "y"
        },
        {
         "hovertemplate": "Code=BRN<br>Year=%{x}<br>internet_usage=%{y}<extra></extra>",
         "legendgroup": "BRN",
         "line": {
          "color": "#FECB52",
          "dash": "solid"
         },
         "marker": {
          "symbol": "circle"
         },
         "mode": "lines",
         "name": "BRN",
         "showlegend": true,
         "type": "scattergl",
         "x": [
          1990,
          1991,
          1992,
          1993,
          1994,
          1995,
          1996,
          1997,
          1998,
          1999,
          2000,
          2001,
          2002,
          2003,
          2004,
          2005,
          2006,
          2007,
          2008,
          2009,
          2010,
          2011,
          2012,
          2013,
          2014,
          2015,
          2016,
          2017,
          2018,
          2019
         ],
         "xaxis": "x",
         "y": [
          0,
          0,
          0,
          0,
          0,
          1.017080166,
          3.303349927,
          4.831057905,
          6.284742844,
          7.671041206,
          8.996284534,
          12.91776908,
          15.32987986,
          19.59500322,
          29.71560414,
          36.46639195,
          42.18634916,
          44.68,
          46,
          49,
          53,
          56,
          60.27306504,
          64.5,
          68.77,
          71.2,
          90,
          94.86669164,
          95,
          95
         ],
         "yaxis": "y"
        },
        {
         "hovertemplate": "Code=BGR<br>Year=%{x}<br>internet_usage=%{y}<extra></extra>",
         "legendgroup": "BGR",
         "line": {
          "color": "#636efa",
          "dash": "solid"
         },
         "marker": {
          "symbol": "circle"
         },
         "mode": "lines",
         "name": "BGR",
         "showlegend": true,
         "type": "scattergl",
         "x": [
          1990,
          1991,
          1992,
          1993,
          1994,
          1995,
          1996,
          1997,
          1998,
          1999,
          2000,
          2001,
          2002,
          2003,
          2004,
          2005,
          2006,
          2007,
          2008,
          2009,
          2010,
          2011,
          2012,
          2013,
          2014,
          2015,
          2016,
          2017,
          2018,
          2019
         ],
         "xaxis": "x",
         "y": [
          0,
          0,
          0,
          0.002339042,
          0.019526669,
          0.119665549,
          0.725251167,
          1.219813132,
          1.844965121,
          2.908154025,
          5.370923469,
          7.612297749,
          9.08,
          12.04,
          18.13,
          19.97,
          27.09,
          33.64,
          39.67,
          45,
          46.23,
          47.97999305,
          51.89998767,
          53.0615,
          55.49,
          56.65625161,
          59.82554766,
          63.41010138,
          64.78201069,
          67.94698094
         ],
         "yaxis": "y"
        },
        {
         "hovertemplate": "Code=BFA<br>Year=%{x}<br>internet_usage=%{y}<extra></extra>",
         "legendgroup": "BFA",
         "line": {
          "color": "#EF553B",
          "dash": "solid"
         },
         "marker": {
          "symbol": "circle"
         },
         "mode": "lines",
         "name": "BFA",
         "showlegend": true,
         "type": "scattergl",
         "x": [
          1990,
          1991,
          1992,
          1993,
          1994,
          1995,
          1996,
          1997,
          1998,
          1999,
          2000,
          2001,
          2002,
          2003,
          2004,
          2005,
          2006,
          2007,
          2008,
          2009,
          2010,
          2011,
          2012,
          2013,
          2014,
          2015,
          2016,
          2017
         ],
         "xaxis": "x",
         "y": [
          0,
          0,
          0,
          0,
          0,
          0,
          0.000960519,
          0.018686353,
          0.045423484,
          0.061780293,
          0.077080169,
          0.157732465,
          0.200992598,
          0.373440303,
          0.400295285,
          0.469914489,
          0.632707564,
          0.75,
          0.92,
          1.13,
          2.4,
          3,
          3.725034916,
          9.1,
          9.4,
          14,
          13.96,
          15.87620691
         ],
         "yaxis": "y"
        },
        {
         "hovertemplate": "Code=BDI<br>Year=%{x}<br>internet_usage=%{y}<extra></extra>",
         "legendgroup": "BDI",
         "line": {
          "color": "#00cc96",
          "dash": "solid"
         },
         "marker": {
          "symbol": "circle"
         },
         "mode": "lines",
         "name": "BDI",
         "showlegend": true,
         "type": "scattergl",
         "x": [
          1990,
          1991,
          1992,
          1993,
          1994,
          1995,
          1996,
          1997,
          1998,
          1999,
          2000,
          2001,
          2002,
          2003,
          2004,
          2005,
          2006,
          2007,
          2008,
          2009,
          2010,
          2011,
          2012,
          2013,
          2014,
          2015,
          2016,
          2017
         ],
         "xaxis": "x",
         "y": [
          0,
          0,
          0,
          0,
          0,
          0,
          0.000803592,
          0.007979439,
          0.015842776,
          0.039204469,
          0.077248447,
          0.106001245,
          0.118228412,
          0.201273197,
          0.349060462,
          0.542142866,
          0.65759259,
          0.7,
          0.81,
          0.9,
          1,
          1.11,
          1.219999945,
          1.264218111,
          1.38,
          4.866224464,
          5.173626777,
          2.660748535
         ],
         "yaxis": "y"
        },
        {
         "hovertemplate": "Code=KHM<br>Year=%{x}<br>internet_usage=%{y}<extra></extra>",
         "legendgroup": "KHM",
         "line": {
          "color": "#ab63fa",
          "dash": "solid"
         },
         "marker": {
          "symbol": "circle"
         },
         "mode": "lines",
         "name": "KHM",
         "showlegend": true,
         "type": "scattergl",
         "x": [
          1990,
          1991,
          1992,
          1993,
          1994,
          1995,
          1997,
          1998,
          1999,
          2000,
          2001,
          2002,
          2003,
          2004,
          2005,
          2006,
          2007,
          2008,
          2009,
          2010,
          2011,
          2012,
          2013,
          2014,
          2015,
          2016,
          2017,
          2018
         ],
         "xaxis": "x",
         "y": [
          0,
          0,
          0,
          0,
          0,
          0,
          0.005844911,
          0.016324986,
          0.031969578,
          0.04702264,
          0.076956056,
          0.226983238,
          0.260570198,
          0.300436644,
          0.317321781,
          0.46835672,
          0.49,
          0.51,
          0.53,
          1.26,
          3.1,
          4.94,
          6.8,
          14,
          6.43319107,
          32.39845171,
          32.90027854,
          40.5459865
         ],
         "yaxis": "y"
        },
        {
         "hovertemplate": "Code=CMR<br>Year=%{x}<br>internet_usage=%{y}<extra></extra>",
         "legendgroup": "CMR",
         "line": {
          "color": "#FFA15A",
          "dash": "solid"
         },
         "marker": {
          "symbol": "circle"
         },
         "mode": "lines",
         "name": "CMR",
         "showlegend": true,
         "type": "scattergl",
         "x": [
          1990,
          1991,
          1992,
          1993,
          1994,
          1995,
          1997,
          1998,
          1999,
          2000,
          2001,
          2002,
          2003,
          2004,
          2005,
          2006,
          2007,
          2008,
          2009,
          2010,
          2011,
          2012,
          2013,
          2014,
          2015,
          2016,
          2017
         ],
         "xaxis": "x",
         "y": [
          0,
          0,
          0,
          0,
          0,
          0,
          0.006768744,
          0.013216341,
          0.129067581,
          0.252120078,
          0.277051322,
          0.360871584,
          0.587622611,
          0.976075415,
          1.402654226,
          2.028744791,
          2.93,
          3.4,
          3.84,
          4.3,
          5,
          7.5,
          10,
          16.21487223,
          20.68014766,
          23.20297197,
          23.20297197
         ],
         "yaxis": "y"
        },
        {
         "hovertemplate": "Code=CAN<br>Year=%{x}<br>internet_usage=%{y}<extra></extra>",
         "legendgroup": "CAN",
         "line": {
          "color": "#19d3f3",
          "dash": "solid"
         },
         "marker": {
          "symbol": "circle"
         },
         "mode": "lines",
         "name": "CAN",
         "showlegend": true,
         "type": "scattergl",
         "x": [
          1990,
          1991,
          1992,
          1993,
          1994,
          1995,
          1996,
          1997,
          1998,
          1999,
          2000,
          2001,
          2002,
          2003,
          2004,
          2005,
          2006,
          2007,
          2008,
          2009,
          2010,
          2011,
          2012,
          2013,
          2014,
          2015,
          2016,
          2017
         ],
         "xaxis": "x",
         "y": [
          0.360999701,
          0.570385926,
          0.91598104,
          1.184557509,
          2.378693853,
          4.163525253,
          6.76023965,
          15.07235736,
          24.8974003,
          36.18644004,
          51.3,
          60.2,
          61.59329927,
          64.2,
          65.95596346,
          71.66,
          72.4,
          73.2,
          76.7,
          80.3,
          80.3,
          83,
          83,
          85.8,
          87.12,
          90,
          91.16,
          92.70137191
         ],
         "yaxis": "y"
        },
        {
         "hovertemplate": "Code=CPV<br>Year=%{x}<br>internet_usage=%{y}<extra></extra>",
         "legendgroup": "CPV",
         "line": {
          "color": "#FF6692",
          "dash": "solid"
         },
         "marker": {
          "symbol": "circle"
         },
         "mode": "lines",
         "name": "CPV",
         "showlegend": true,
         "type": "scattergl",
         "x": [
          1990,
          1991,
          1992,
          1993,
          1994,
          1995,
          1997,
          1998,
          1999,
          2000,
          2001,
          2002,
          2003,
          2004,
          2005,
          2006,
          2007,
          2008,
          2009,
          2010,
          2011,
          2012,
          2013,
          2014,
          2015,
          2016,
          2017
         ],
         "xaxis": "x",
         "y": [
          0,
          0,
          0,
          0,
          0,
          0,
          0.24096792,
          0.472735008,
          1.159982461,
          1.822443852,
          2.685332713,
          3.518757175,
          4.324885391,
          5.31883207,
          6.074087107,
          6.808911008,
          8.28321982,
          14,
          21,
          30,
          32,
          34.74,
          37.5,
          40.26,
          42.68301416,
          50.32281787,
          57.16214635
         ],
         "yaxis": "y"
        },
        {
         "hovertemplate": "Code=CYM<br>Year=%{x}<br>internet_usage=%{y}<extra></extra>",
         "legendgroup": "CYM",
         "line": {
          "color": "#B6E880",
          "dash": "solid"
         },
         "marker": {
          "symbol": "circle"
         },
         "mode": "lines",
         "name": "CYM",
         "showlegend": true,
         "type": "scattergl",
         "x": [
          1990,
          1991,
          1992,
          1993,
          1994,
          1995,
          2005,
          2006,
          2007,
          2008,
          2009,
          2010,
          2011,
          2012,
          2013,
          2014,
          2015,
          2016,
          2017
         ],
         "xaxis": "x",
         "y": [
          0,
          0,
          0,
          0,
          0,
          3.948967193,
          38.03438308,
          44.5,
          52,
          61,
          64.5,
          66,
          69.46594499,
          69.7,
          71.4,
          74.1,
          77,
          79,
          81.06769325
         ],
         "yaxis": "y"
        },
        {
         "hovertemplate": "Code=CAF<br>Year=%{x}<br>internet_usage=%{y}<extra></extra>",
         "legendgroup": "CAF",
         "line": {
          "color": "#FF97FF",
          "dash": "solid"
         },
         "marker": {
          "symbol": "circle"
         },
         "mode": "lines",
         "name": "CAF",
         "showlegend": true,
         "type": "scattergl",
         "x": [
          1990,
          1991,
          1992,
          1993,
          1994,
          1995,
          1996,
          1997,
          1998,
          1999,
          2000,
          2001,
          2002,
          2003,
          2004,
          2005,
          2006,
          2007,
          2008,
          2009,
          2010,
          2011,
          2012,
          2013,
          2014,
          2015,
          2016,
          2017
         ],
         "xaxis": "x",
         "y": [
          0,
          0,
          0,
          0,
          0,
          0,
          0.005849503,
          0.014270881,
          0.027878201,
          0.040894287,
          0.053394174,
          0.078543428,
          0.128537117,
          0.151563338,
          0.223401395,
          0.268195609,
          0.311159173,
          0.375815961,
          1,
          1.8,
          2,
          2.2,
          3,
          3.4,
          3.6,
          3.8,
          4,
          4.339254945
         ],
         "yaxis": "y"
        },
        {
         "hovertemplate": "Code=TCD<br>Year=%{x}<br>internet_usage=%{y}<extra></extra>",
         "legendgroup": "TCD",
         "line": {
          "color": "#FECB52",
          "dash": "solid"
         },
         "marker": {
          "symbol": "circle"
         },
         "mode": "lines",
         "name": "TCD",
         "showlegend": true,
         "type": "scattergl",
         "x": [
          1990,
          1991,
          1992,
          1993,
          1994,
          1995,
          1997,
          1998,
          1999,
          2000,
          2001,
          2002,
          2003,
          2004,
          2005,
          2006,
          2007,
          2008,
          2009,
          2010,
          2011,
          2012,
          2013,
          2014,
          2015,
          2016,
          2017
         ],
         "xaxis": "x",
         "y": [
          0,
          0,
          0,
          0,
          0,
          0,
          0.000658168,
          0.004268504,
          0.012321728,
          0.035707076,
          0.045934134,
          0.166069665,
          0.320308555,
          0.360920107,
          0.3992577,
          0.581045764,
          0.847224521,
          1.19,
          1.5,
          1.7,
          1.9,
          2.1,
          2.5,
          2.9,
          3.5,
          5,
          6.49999812
         ],
         "yaxis": "y"
        },
        {
         "hovertemplate": "Code=CHL<br>Year=%{x}<br>internet_usage=%{y}<extra></extra>",
         "legendgroup": "CHL",
         "line": {
          "color": "#636efa",
          "dash": "solid"
         },
         "marker": {
          "symbol": "circle"
         },
         "mode": "lines",
         "name": "CHL",
         "showlegend": true,
         "type": "scattergl",
         "x": [
          1990,
          1991,
          1992,
          1993,
          1994,
          1995,
          1996,
          1997,
          1998,
          1999,
          2000,
          2001,
          2002,
          2003,
          2004,
          2005,
          2006,
          2007,
          2008,
          2009,
          2010,
          2011,
          2012,
          2013,
          2014,
          2015,
          2016,
          2017
         ],
         "xaxis": "x",
         "y": [
          0,
          0,
          0.036548938,
          0.071783144,
          0.141084507,
          0.346980781,
          0.68347561,
          1.057092496,
          1.662322022,
          4.103419297,
          16.6,
          19.1,
          22.1,
          25.47377889,
          28.17791012,
          31.17534703,
          34.49775117,
          35.9,
          37.3,
          41.56,
          45,
          52.24960729,
          55.05,
          58,
          61.11,
          76.62959195,
          83.55858602,
          82.32748693
         ],
         "yaxis": "y"
        },
        {
         "hovertemplate": "Code=CHN<br>Year=%{x}<br>internet_usage=%{y}<extra></extra>",
         "legendgroup": "CHN",
         "line": {
          "color": "#EF553B",
          "dash": "solid"
         },
         "marker": {
          "symbol": "circle"
         },
         "mode": "lines",
         "name": "CHN",
         "showlegend": true,
         "type": "scattergl",
         "x": [
          1990,
          1991,
          1992,
          1993,
          1994,
          1995,
          1996,
          1997,
          1998,
          1999,
          2000,
          2001,
          2002,
          2003,
          2004,
          2005,
          2006,
          2007,
          2008,
          2009,
          2010,
          2011,
          2012,
          2013,
          2014,
          2015,
          2016,
          2017
         ],
         "xaxis": "x",
         "y": [
          0,
          0,
          0,
          0.00016868,
          0.001168115,
          0.00495471,
          0.013081692,
          0.032394861,
          0.168540297,
          0.708187957,
          1.775913207,
          2.639650215,
          4.595704331,
          6.2,
          7.3,
          8.523257003,
          10.52315262,
          16,
          22.6,
          28.9,
          34.3,
          38.3,
          42.30011749,
          45.8,
          47.9,
          50.3,
          53.2,
          54.3
         ],
         "yaxis": "y"
        },
        {
         "hovertemplate": "Code=COL<br>Year=%{x}<br>internet_usage=%{y}<extra></extra>",
         "legendgroup": "COL",
         "line": {
          "color": "#00cc96",
          "dash": "solid"
         },
         "marker": {
          "symbol": "circle"
         },
         "mode": "lines",
         "name": "COL",
         "showlegend": true,
         "type": "scattergl",
         "x": [
          1990,
          1991,
          1992,
          1993,
          1994,
          1995,
          1996,
          1997,
          1998,
          1999,
          2000,
          2001,
          2002,
          2003,
          2004,
          2005,
          2006,
          2007,
          2008,
          2009,
          2010,
          2011,
          2012,
          2013,
          2014,
          2015,
          2016,
          2017,
          2018,
          2019
         ],
         "xaxis": "x",
         "y": [
          0,
          0,
          0,
          0,
          0.107173945,
          0.18804679,
          0.330017773,
          0.550521023,
          1.126225245,
          1.697730794,
          2.207532993,
          2.854199971,
          4.6,
          7.388923711,
          9.118690303,
          11.00726389,
          15.34167454,
          21.8,
          25.6,
          30,
          36.5,
          40.35091575,
          48.98,
          51.7,
          52.57,
          55.90497251,
          58.13649357,
          62.25988032,
          64.12637682,
          65.00690072
         ],
         "yaxis": "y"
        },
        {
         "hovertemplate": "Code=COM<br>Year=%{x}<br>internet_usage=%{y}<extra></extra>",
         "legendgroup": "COM",
         "line": {
          "color": "#ab63fa",
          "dash": "solid"
         },
         "marker": {
          "symbol": "circle"
         },
         "mode": "lines",
         "name": "COM",
         "showlegend": true,
         "type": "scattergl",
         "x": [
          1990,
          1991,
          1992,
          1993,
          1994,
          1995,
          1997,
          1998,
          1999,
          2000,
          2001,
          2002,
          2003,
          2004,
          2005,
          2006,
          2007,
          2008,
          2009,
          2010,
          2011,
          2012,
          2013,
          2014,
          2015,
          2016,
          2017
         ],
         "xaxis": "x",
         "y": [
          0,
          0,
          0,
          0,
          0,
          0,
          0,
          0.03787097,
          0.148162964,
          0.271740607,
          0.443068373,
          0.554869675,
          0.84818937,
          1.327327178,
          2,
          2.2,
          2.5,
          3,
          3.5,
          5.1,
          5.5,
          5.975296308,
          6.5,
          6.98,
          7.459161386,
          7.938322771,
          8.478170295
         ],
         "yaxis": "y"
        },
        {
         "hovertemplate": "Code=COG<br>Year=%{x}<br>internet_usage=%{y}<extra></extra>",
         "legendgroup": "COG",
         "line": {
          "color": "#FFA15A",
          "dash": "solid"
         },
         "marker": {
          "symbol": "circle"
         },
         "mode": "lines",
         "name": "COG",
         "showlegend": true,
         "type": "scattergl",
         "x": [
          1990,
          1991,
          1992,
          1993,
          1994,
          1995,
          1996,
          1997,
          1998,
          1999,
          2000,
          2001,
          2002,
          2003,
          2004,
          2005,
          2006,
          2007,
          2008,
          2009,
          2010,
          2011,
          2012,
          2013,
          2014,
          2015,
          2016,
          2017
         ],
         "xaxis": "x",
         "y": [
          0,
          0,
          0,
          0,
          0,
          0,
          0.00352686,
          0.003469104,
          0.003415143,
          0.016791049,
          0.026354732,
          0.032223616,
          0.157249517,
          0.460014187,
          1.07750493,
          1.46342006,
          2.007990079,
          2.759704374,
          4.287509903,
          4.5,
          5,
          5.6,
          6.106695024,
          6.6,
          7.11,
          7.615974662,
          8.121949323,
          8.65
         ],
         "yaxis": "y"
        },
        {
         "hovertemplate": "Code=CRI<br>Year=%{x}<br>internet_usage=%{y}<extra></extra>",
         "legendgroup": "CRI",
         "line": {
          "color": "#19d3f3",
          "dash": "solid"
         },
         "marker": {
          "symbol": "circle"
         },
         "mode": "lines",
         "name": "CRI",
         "showlegend": true,
         "type": "scattergl",
         "x": [
          1990,
          1991,
          1992,
          1993,
          1994,
          1995,
          1996,
          1997,
          1998,
          1999,
          2000,
          2001,
          2002,
          2003,
          2004,
          2005,
          2006,
          2007,
          2008,
          2009,
          2010,
          2011,
          2012,
          2013,
          2014,
          2015,
          2016,
          2017,
          2018,
          2019
         ],
         "xaxis": "x",
         "y": [
          0,
          0,
          0.001113325,
          0.081509754,
          0.279912479,
          0.416829206,
          0.84105704,
          1.640221288,
          2.666378698,
          3.904323257,
          5.800253023,
          9.559482135,
          19.89485113,
          20.33361481,
          20.79230671,
          22.07,
          25.1,
          28.4,
          32.29,
          34.33,
          36.5,
          39.212196,
          47.5,
          45.96,
          53,
          59.76295014,
          65.88044919,
          71.58166462,
          73.47972844,
          81.20259644
         ],
         "yaxis": "y"
        },
        {
         "hovertemplate": "Code=CIV<br>Year=%{x}<br>internet_usage=%{y}<extra></extra>",
         "legendgroup": "CIV",
         "line": {
          "color": "#FF6692",
          "dash": "solid"
         },
         "marker": {
          "symbol": "circle"
         },
         "mode": "lines",
         "name": "CIV",
         "showlegend": true,
         "type": "scattergl",
         "x": [
          1990,
          1991,
          1992,
          1993,
          1994,
          1995,
          1996,
          1997,
          1998,
          1999,
          2000,
          2001,
          2002,
          2003,
          2004,
          2005,
          2006,
          2007,
          2008,
          2009,
          2010,
          2011,
          2012,
          2013,
          2014,
          2015,
          2016,
          2017,
          2018,
          2019
         ],
         "xaxis": "x",
         "y": [
          0,
          0,
          0,
          0,
          0,
          0.000200256,
          0.00840978,
          0.018828361,
          0.060974439,
          0.118685917,
          0.231461671,
          0.395747702,
          0.497929361,
          0.758669629,
          0.849282415,
          1.039238205,
          1.524900791,
          1.8,
          1.9,
          2,
          2.7,
          2.9,
          5,
          12,
          19.2742298,
          38.44000017,
          41.20781493,
          43.83992085,
          37.54653613,
          36.45378947
         ],
         "yaxis": "y"
        },
        {
         "hovertemplate": "Code=HRV<br>Year=%{x}<br>internet_usage=%{y}<extra></extra>",
         "legendgroup": "HRV",
         "line": {
          "color": "#B6E880",
          "dash": "solid"
         },
         "marker": {
          "symbol": "circle"
         },
         "mode": "lines",
         "name": "HRV",
         "showlegend": true,
         "type": "scattergl",
         "x": [
          1990,
          1991,
          1992,
          1993,
          1994,
          1995,
          1996,
          1997,
          1998,
          1999,
          2000,
          2001,
          2002,
          2003,
          2004,
          2005,
          2006,
          2007,
          2008,
          2009,
          2010,
          2011,
          2012,
          2013,
          2014,
          2015,
          2016,
          2017,
          2018,
          2019
         ],
         "xaxis": "x",
         "y": [
          0,
          0,
          0,
          0.097213389,
          0.268318997,
          0.51402859,
          0.858982368,
          1.729609312,
          3.273220279,
          4.405359119,
          6.644882544,
          11.55857318,
          17.76,
          22.75,
          30.91,
          33.14,
          37.98,
          41.44,
          44.24,
          50.58,
          56.55,
          57.78997899,
          61.93997315,
          66.7476,
          68.57,
          69.84503592,
          72.69726967,
          67.09619204,
          75.29462599,
          79.07978368
         ],
         "yaxis": "y"
        },
        {
         "hovertemplate": "Code=CUB<br>Year=%{x}<br>internet_usage=%{y}<extra></extra>",
         "legendgroup": "CUB",
         "line": {
          "color": "#FF97FF",
          "dash": "solid"
         },
         "marker": {
          "symbol": "circle"
         },
         "mode": "lines",
         "name": "CUB",
         "showlegend": true,
         "type": "scattergl",
         "x": [
          1990,
          1991,
          1992,
          1993,
          1994,
          1995,
          1996,
          1997,
          1998,
          1999,
          2000,
          2001,
          2002,
          2003,
          2004,
          2005,
          2006,
          2007,
          2008,
          2009,
          2010,
          2011,
          2012,
          2013,
          2014,
          2015,
          2016,
          2017,
          2018,
          2019
         ],
         "xaxis": "x",
         "y": [
          0,
          0,
          0,
          0,
          0,
          9.17e-05,
          0.031949001,
          0.068220214,
          0.226699199,
          0.314690541,
          0.541182549,
          1.079751722,
          3.770585038,
          5.241269054,
          8.407984759,
          9.738062208,
          11.15960131,
          11.69,
          12.94,
          14.33,
          15.9,
          16.0172908,
          21.2,
          27.93,
          29.07018437,
          37.30509742,
          42.97867519,
          57.14840432,
          62.67892362,
          61.83630006
         ],
         "yaxis": "y"
        },
        {
         "hovertemplate": "Code=CUW<br>Year=%{x}<br>internet_usage=%{y}<extra></extra>",
         "legendgroup": "CUW",
         "line": {
          "color": "#FECB52",
          "dash": "solid"
         },
         "marker": {
          "symbol": "circle"
         },
         "mode": "lines",
         "name": "CUW",
         "showlegend": true,
         "type": "scattergl",
         "x": [
          2016,
          2017
         ],
         "xaxis": "x",
         "y": [
          61.85551074,
          68.12721625
         ],
         "yaxis": "y"
        },
        {
         "hovertemplate": "Code=CYP<br>Year=%{x}<br>internet_usage=%{y}<extra></extra>",
         "legendgroup": "CYP",
         "line": {
          "color": "#636efa",
          "dash": "solid"
         },
         "marker": {
          "symbol": "circle"
         },
         "mode": "lines",
         "name": "CYP",
         "showlegend": true,
         "type": "scattergl",
         "x": [
          1990,
          1991,
          1992,
          1993,
          1994,
          1995,
          1996,
          1997,
          1998,
          1999,
          2000,
          2001,
          2002,
          2003,
          2004,
          2005,
          2006,
          2007,
          2008,
          2009,
          2010,
          2011,
          2012,
          2013,
          2014,
          2015,
          2016,
          2017,
          2018,
          2019
         ],
         "xaxis": "x",
         "y": [
          0,
          0,
          0.05006043,
          0.056367482,
          0.111034621,
          0.410120685,
          0.673343541,
          4.378272095,
          8.890539159,
          11.34239866,
          15.25539437,
          18.81875904,
          28.32,
          30.09,
          33.83,
          32.81,
          35.83,
          40.77,
          42.31,
          49.81,
          52.99,
          56.85989235,
          60.6898684,
          65.4548,
          69.33,
          71.71574092,
          75.9002054,
          80.74318897,
          84.43358252,
          86.06362996
         ],
         "yaxis": "y"
        },
        {
         "hovertemplate": "Code=CZE<br>Year=%{x}<br>internet_usage=%{y}<extra></extra>",
         "legendgroup": "CZE",
         "line": {
          "color": "#EF553B",
          "dash": "solid"
         },
         "marker": {
          "symbol": "circle"
         },
         "mode": "lines",
         "name": "CZE",
         "showlegend": true,
         "type": "scattergl",
         "x": [
          1990,
          1991,
          1992,
          1993,
          1994,
          1995,
          1996,
          1997,
          1998,
          1999,
          2000,
          2001,
          2002,
          2003,
          2004,
          2005,
          2006,
          2007,
          2008,
          2009,
          2010,
          2011,
          2012,
          2013,
          2014,
          2015,
          2016,
          2017,
          2018,
          2019
         ],
         "xaxis": "x",
         "y": [
          0,
          0,
          0,
          0.581319529,
          1.259217838,
          1.45357584,
          1.940378193,
          2.915698695,
          3.895906065,
          6.832802018,
          9.780527888,
          14.69717212,
          23.93,
          34.3,
          35.5,
          35.27,
          47.93,
          51.93,
          62.97,
          64.43,
          68.82,
          70.49,
          73.43000782,
          74.1104,
          74.23171164,
          75.6688387,
          76.4811987,
          78.71917285,
          80.68816754,
          80.86694441
         ],
         "yaxis": "y"
        },
        {
         "hovertemplate": "Code=COD<br>Year=%{x}<br>internet_usage=%{y}<extra></extra>",
         "legendgroup": "COD",
         "line": {
          "color": "#00cc96",
          "dash": "solid"
         },
         "marker": {
          "symbol": "circle"
         },
         "mode": "lines",
         "name": "COD",
         "showlegend": true,
         "type": "scattergl",
         "x": [
          1990,
          1991,
          1992,
          1993,
          1994,
          1995,
          1996,
          1997,
          1998,
          1999,
          2000,
          2001,
          2002,
          2003,
          2004,
          2005,
          2006,
          2007,
          2008,
          2009,
          2010,
          2011,
          2012,
          2013,
          2014,
          2015,
          2016,
          2017
         ],
         "xaxis": "x",
         "y": [
          0,
          0,
          0,
          0,
          0,
          0,
          0.000108207,
          0.000211213,
          0.000413065,
          0.001009076,
          0.005902114,
          0.011475782,
          0.092790702,
          0.134914837,
          0.196208375,
          0.238037799,
          0.29605361,
          0.37,
          0.44,
          0.56,
          0.72,
          1.2,
          1.679961015,
          2.2,
          3,
          3.799999507,
          6.20997406,
          8.619904916
         ],
         "yaxis": "y"
        },
        {
         "hovertemplate": "Code=DNK<br>Year=%{x}<br>internet_usage=%{y}<extra></extra>",
         "legendgroup": "DNK",
         "line": {
          "color": "#ab63fa",
          "dash": "solid"
         },
         "marker": {
          "symbol": "circle"
         },
         "mode": "lines",
         "name": "DNK",
         "showlegend": true,
         "type": "scattergl",
         "x": [
          1990,
          1991,
          1992,
          1993,
          1994,
          1995,
          1996,
          1997,
          1998,
          1999,
          2000,
          2001,
          2002,
          2003,
          2004,
          2005,
          2006,
          2007,
          2008,
          2009,
          2010,
          2011,
          2012,
          2013,
          2014,
          2015,
          2016,
          2017,
          2018,
          2019
         ],
         "xaxis": "x",
         "y": [
          0.097277268,
          0.194056515,
          0.386913951,
          0.578329976,
          1.34430775,
          3.82565642,
          5.714987841,
          11.38200494,
          22.66874615,
          30.59204065,
          39.17243086,
          42.95752472,
          64.25,
          76.26,
          80.93,
          82.74,
          86.65,
          85.03,
          85.02,
          86.84,
          88.72,
          89.81001339,
          92.26001172,
          94.6297,
          95.99,
          96.33050162,
          96.96778525,
          97.09936216,
          97.31920437,
          98.04643475
         ],
         "yaxis": "y"
        },
        {
         "hovertemplate": "Code=DJI<br>Year=%{x}<br>internet_usage=%{y}<extra></extra>",
         "legendgroup": "DJI",
         "line": {
          "color": "#FFA15A",
          "dash": "solid"
         },
         "marker": {
          "symbol": "circle"
         },
         "mode": "lines",
         "name": "DJI",
         "showlegend": true,
         "type": "scattergl",
         "x": [
          1990,
          1991,
          1992,
          1993,
          1994,
          1995,
          1996,
          1997,
          1998,
          1999,
          2000,
          2001,
          2002,
          2003,
          2004,
          2005,
          2006,
          2007,
          2008,
          2009,
          2010,
          2011,
          2012,
          2013,
          2014,
          2015,
          2016,
          2017
         ],
         "xaxis": "x",
         "y": [
          0,
          0,
          0,
          0,
          0,
          0.01603083,
          0.031166241,
          0.082941498,
          0.094696004,
          0.105761909,
          0.194500528,
          0.343526263,
          0.486971705,
          0.625940229,
          0.781317175,
          0.953611449,
          1.270041159,
          1.62,
          2.26,
          4,
          6.5,
          7,
          8.267232892,
          9.5,
          10.71,
          11.92243143,
          13.13491511,
          55.68140925
         ],
         "yaxis": "y"
        },
        {
         "hovertemplate": "Code=DMA<br>Year=%{x}<br>internet_usage=%{y}<extra></extra>",
         "legendgroup": "DMA",
         "line": {
          "color": "#19d3f3",
          "dash": "solid"
         },
         "marker": {
          "symbol": "circle"
         },
         "mode": "lines",
         "name": "DMA",
         "showlegend": true,
         "type": "scattergl",
         "x": [
          1990,
          1991,
          1992,
          1993,
          1994,
          1995,
          1996,
          1998,
          1999,
          2000,
          2001,
          2002,
          2003,
          2004,
          2005,
          2006,
          2007,
          2008,
          2009,
          2010,
          2011,
          2012,
          2013,
          2014,
          2015,
          2016,
          2017
         ],
         "xaxis": "x",
         "y": [
          0,
          0,
          0,
          0,
          0,
          0.548762737,
          1.165518146,
          2.925345191,
          2.932164377,
          8.814844198,
          13.24522804,
          18.42489277,
          23.62041985,
          30.31961309,
          38.54364326,
          39.3981743,
          40.27446301,
          41.16,
          42.02,
          47.45,
          48.6,
          49.8,
          51,
          57.5,
          65,
          67.03,
          69.61966879
         ],
         "yaxis": "y"
        },
        {
         "hovertemplate": "Code=DOM<br>Year=%{x}<br>internet_usage=%{y}<extra></extra>",
         "legendgroup": "DOM",
         "line": {
          "color": "#FF6692",
          "dash": "solid"
         },
         "marker": {
          "symbol": "circle"
         },
         "mode": "lines",
         "name": "DOM",
         "showlegend": true,
         "type": "scattergl",
         "x": [
          1990,
          1991,
          1992,
          1993,
          1994,
          1995,
          1996,
          1997,
          1998,
          1999,
          2000,
          2001,
          2002,
          2003,
          2004,
          2005,
          2006,
          2007,
          2008,
          2009,
          2010,
          2011,
          2012,
          2013,
          2014,
          2015,
          2016,
          2017,
          2018
         ],
         "xaxis": "x",
         "y": [
          0,
          0,
          0,
          0,
          0,
          0.017233601,
          0.074987053,
          0.142687565,
          0.233914189,
          1.104743874,
          3.704692356,
          4.429390697,
          6.823725733,
          7.898392937,
          8.865553461,
          11.48319778,
          14.84492837,
          17.66,
          20.82,
          27.72,
          31.4,
          38,
          42.32,
          45.9,
          49.58,
          54.21576634,
          63.87086474,
          67.57124533,
          74.82428986
         ],
         "yaxis": "y"
        },
        {
         "hovertemplate": "Code=ECU<br>Year=%{x}<br>internet_usage=%{y}<extra></extra>",
         "legendgroup": "ECU",
         "line": {
          "color": "#B6E880",
          "dash": "solid"
         },
         "marker": {
          "symbol": "circle"
         },
         "mode": "lines",
         "name": "ECU",
         "showlegend": true,
         "type": "scattergl",
         "x": [
          1990,
          1991,
          1992,
          1993,
          1994,
          1995,
          1996,
          1997,
          1998,
          1999,
          2000,
          2001,
          2002,
          2003,
          2004,
          2005,
          2006,
          2007,
          2008,
          2009,
          2010,
          2011,
          2012,
          2013,
          2014,
          2015,
          2016
         ],
         "xaxis": "x",
         "y": [
          0,
          0,
          0.005118035,
          0.016400751,
          0.034833586,
          0.043833641,
          0.086161276,
          0.110217959,
          0.125272771,
          0.823371634,
          1.462188536,
          2.670443674,
          4.260796915,
          4.460228345,
          4.834442638,
          5.994255161,
          7.2,
          10.8,
          18.8,
          24.6,
          29.03,
          31.36680836,
          35.13514645,
          40.27912194,
          45.59039067,
          48.94043379,
          54.06292473
         ],
         "yaxis": "y"
        },
        {
         "hovertemplate": "Code=EGY<br>Year=%{x}<br>internet_usage=%{y}<extra></extra>",
         "legendgroup": "EGY",
         "line": {
          "color": "#FF97FF",
          "dash": "solid"
         },
         "marker": {
          "symbol": "circle"
         },
         "mode": "lines",
         "name": "EGY",
         "showlegend": true,
         "type": "scattergl",
         "x": [
          1990,
          1991,
          1992,
          1993,
          1994,
          1995,
          1996,
          1997,
          1998,
          1999,
          2000,
          2001,
          2002,
          2003,
          2004,
          2005,
          2006,
          2007,
          2008,
          2009,
          2010,
          2011,
          2012,
          2013,
          2014,
          2015,
          2016,
          2017,
          2018,
          2019
         ],
         "xaxis": "x",
         "y": [
          0,
          0,
          0,
          0.000975791,
          0.00638327,
          0.031319638,
          0.061466899,
          0.090480245,
          0.147987377,
          0.290445278,
          0.641265038,
          0.838945611,
          2.719999715,
          4.037885107,
          11.92,
          12.75,
          13.66,
          16.03,
          18.01,
          20,
          21.6,
          25.6,
          26.4,
          29.4,
          33.89460391,
          37.81938343,
          41.24806709,
          44.95020425,
          46.92433677,
          57.28286878
         ],
         "yaxis": "y"
        },
        {
         "hovertemplate": "Code=SLV<br>Year=%{x}<br>internet_usage=%{y}<extra></extra>",
         "legendgroup": "SLV",
         "line": {
          "color": "#FECB52",
          "dash": "solid"
         },
         "marker": {
          "symbol": "circle"
         },
         "mode": "lines",
         "name": "SLV",
         "showlegend": true,
         "type": "scattergl",
         "x": [
          1990,
          1991,
          1992,
          1993,
          1994,
          1995,
          1996,
          1997,
          1998,
          1999,
          2000,
          2001,
          2002,
          2003,
          2004,
          2005,
          2006,
          2007,
          2008,
          2009,
          2010,
          2011,
          2012,
          2013,
          2014,
          2015,
          2016,
          2017
         ],
         "xaxis": "x",
         "y": [
          0,
          0,
          0,
          0,
          0,
          0,
          0.086389581,
          0.256960679,
          0.425253672,
          0.845428741,
          1.177397269,
          1.5,
          1.9,
          2.5,
          3.2,
          4.2,
          5.5,
          6.11,
          10.08,
          12.11,
          15.9,
          18.9,
          20.32138772,
          23.1093,
          24.76171215,
          26.80260496,
          28.99707305,
          33.8207289
         ],
         "yaxis": "y"
        },
        {
         "hovertemplate": "Code=GNQ<br>Year=%{x}<br>internet_usage=%{y}<extra></extra>",
         "legendgroup": "GNQ",
         "line": {
          "color": "#636efa",
          "dash": "solid"
         },
         "marker": {
          "symbol": "circle"
         },
         "mode": "lines",
         "name": "GNQ",
         "showlegend": true,
         "type": "scattergl",
         "x": [
          1990,
          1991,
          1992,
          1993,
          1994,
          1995,
          1997,
          1998,
          1999,
          2000,
          2001,
          2002,
          2003,
          2004,
          2005,
          2006,
          2007,
          2008,
          2009,
          2010,
          2011,
          2012,
          2013,
          2014,
          2015,
          2016,
          2017
         ],
         "xaxis": "x",
         "y": [
          0,
          0,
          0,
          0,
          0,
          0,
          0.041462292,
          0.094423774,
          0.097415945,
          0.132354665,
          0.165260423,
          0.321197997,
          0.520524272,
          0.843930285,
          1.149789671,
          1.279193596,
          1.557123059,
          1.82,
          2.13,
          6,
          11.5,
          13.94318219,
          16.4,
          18.86,
          21.31999999,
          23.77999997,
          26.23999996
         ],
         "yaxis": "y"
        },
        {
         "hovertemplate": "Code=ERI<br>Year=%{x}<br>internet_usage=%{y}<extra></extra>",
         "legendgroup": "ERI",
         "line": {
          "color": "#EF553B",
          "dash": "solid"
         },
         "marker": {
          "symbol": "circle"
         },
         "mode": "lines",
         "name": "ERI",
         "showlegend": true,
         "type": "scattergl",
         "x": [
          1990,
          1991,
          1992,
          1993,
          1994,
          1995,
          1996,
          1997,
          1998,
          1999,
          2000,
          2001,
          2002,
          2007,
          2008,
          2009,
          2010,
          2011,
          2012,
          2013,
          2014,
          2015,
          2016,
          2017
         ],
         "xaxis": "x",
         "y": [
          0,
          0,
          0,
          0,
          0,
          0,
          0,
          0.009017718,
          0.008774236,
          0.025495028,
          0.136711941,
          0.157815289,
          0.227090138,
          0.41,
          0.47,
          0.54,
          0.61,
          0.7,
          0.8,
          0.9,
          0.99,
          1.083733116,
          1.17711872,
          1.30890698
         ],
         "yaxis": "y"
        },
        {
         "hovertemplate": "Code=EST<br>Year=%{x}<br>internet_usage=%{y}<extra></extra>",
         "legendgroup": "EST",
         "line": {
          "color": "#00cc96",
          "dash": "solid"
         },
         "marker": {
          "symbol": "circle"
         },
         "mode": "lines",
         "name": "EST",
         "showlegend": true,
         "type": "scattergl",
         "x": [
          1990,
          1991,
          1992,
          1993,
          1994,
          1995,
          1996,
          1997,
          1998,
          1999,
          2000,
          2001,
          2002,
          2003,
          2004,
          2005,
          2006,
          2007,
          2008,
          2009,
          2010,
          2011,
          2012,
          2013,
          2014,
          2015,
          2016,
          2017,
          2018,
          2019
         ],
         "xaxis": "x",
         "y": [
          0,
          0,
          0.065484797,
          0.300711282,
          1.159750913,
          2.778968489,
          3.525111129,
          5.706276548,
          10.79603483,
          14.50089724,
          28.57695381,
          31.52748977,
          41.52,
          45.32,
          53.2,
          61.45,
          63.51,
          66.19,
          70.58,
          72.5,
          74.1,
          76.5,
          78.38992593,
          80.0043,
          84.24152803,
          88.4097035,
          87.24023275,
          88.10245687,
          89.35700777,
          89.53232756
         ],
         "yaxis": "y"
        },
        {
         "hovertemplate": "Code=SWZ<br>Year=%{x}<br>internet_usage=%{y}<extra></extra>",
         "legendgroup": "SWZ",
         "line": {
          "color": "#ab63fa",
          "dash": "solid"
         },
         "marker": {
          "symbol": "circle"
         },
         "mode": "lines",
         "name": "SWZ",
         "showlegend": true,
         "type": "scattergl",
         "x": [
          1990,
          1991,
          1992,
          1993,
          1994,
          1995,
          1996,
          1997,
          1998,
          1999,
          2000,
          2001,
          2002,
          2003,
          2004,
          2005,
          2006,
          2007,
          2008,
          2009,
          2010,
          2011,
          2012,
          2013,
          2014,
          2015,
          2016,
          2017
         ],
         "xaxis": "x",
         "y": [
          0,
          0,
          0,
          0,
          0,
          0.00103175,
          0.050399009,
          0.088545986,
          0.096099605,
          0.4707176,
          0.926191777,
          1.28159005,
          1.816203807,
          2.437073851,
          3.228685073,
          3.696961073,
          3.696538789,
          4.1,
          6.85,
          8.94,
          11.04,
          18.13,
          20.78178258,
          24.7,
          26.17500573,
          25.64304231,
          28.57352278,
          30.3
         ],
         "yaxis": "y"
        },
        {
         "hovertemplate": "Code=ETH<br>Year=%{x}<br>internet_usage=%{y}<extra></extra>",
         "legendgroup": "ETH",
         "line": {
          "color": "#FFA15A",
          "dash": "solid"
         },
         "marker": {
          "symbol": "circle"
         },
         "mode": "lines",
         "name": "ETH",
         "showlegend": true,
         "type": "scattergl",
         "x": [
          1990,
          1991,
          1992,
          1993,
          1994,
          1995,
          1996,
          1997,
          1998,
          1999,
          2000,
          2001,
          2002,
          2003,
          2004,
          2005,
          2006,
          2007,
          2008,
          2009,
          2010,
          2011,
          2012,
          2013,
          2014,
          2015,
          2016,
          2017
         ],
         "xaxis": "x",
         "y": [
          0,
          0,
          0,
          0,
          0,
          1.75e-05,
          0.001703448,
          0.00496672,
          0.009663517,
          0.012541599,
          0.015263767,
          0.037162381,
          0.072402262,
          0.105811659,
          0.155334521,
          0.219659819,
          0.310592657,
          0.37,
          0.45,
          0.54,
          0.75,
          1.1,
          2.9,
          4.6,
          7.7,
          13.85517556,
          15.36692386,
          18.61805145
         ],
         "yaxis": "y"
        },
        {
         "hovertemplate": "Code=FRO<br>Year=%{x}<br>internet_usage=%{y}<extra></extra>",
         "legendgroup": "FRO",
         "line": {
          "color": "#19d3f3",
          "dash": "solid"
         },
         "marker": {
          "symbol": "circle"
         },
         "mode": "lines",
         "name": "FRO",
         "showlegend": true,
         "type": "scattergl",
         "x": [
          1990,
          1991,
          1992,
          1993,
          1994,
          1995,
          1996,
          1997,
          1998,
          1999,
          2000,
          2001,
          2002,
          2003,
          2004,
          2005,
          2006,
          2007,
          2008,
          2009,
          2010,
          2011,
          2012,
          2013,
          2014,
          2015,
          2016,
          2017
         ],
         "xaxis": "x",
         "y": [
          0,
          0,
          0,
          0,
          0,
          0,
          2.318786811,
          4.601297566,
          11.33786848,
          22.29753835,
          32.91639236,
          43.24698352,
          53.29922183,
          58.91264097,
          66.53359947,
          67.90263174,
          69.35944512,
          75.98,
          75.57,
          75.18,
          75.2,
          80.7321728,
          85.33518924,
          90,
          93.3,
          94.2,
          95.10868167,
          97.58195894
         ],
         "yaxis": "y"
        },
        {
         "hovertemplate": "Code=FJI<br>Year=%{x}<br>internet_usage=%{y}<extra></extra>",
         "legendgroup": "FJI",
         "line": {
          "color": "#FF6692",
          "dash": "solid"
         },
         "marker": {
          "symbol": "circle"
         },
         "mode": "lines",
         "name": "FJI",
         "showlegend": true,
         "type": "scattergl",
         "x": [
          1990,
          1991,
          1992,
          1993,
          1994,
          1995,
          1996,
          1997,
          1998,
          1999,
          2000,
          2001,
          2002,
          2003,
          2004,
          2005,
          2006,
          2007,
          2008,
          2009,
          2010,
          2011,
          2012,
          2013,
          2014,
          2015,
          2016,
          2017
         ],
         "xaxis": "x",
         "y": [
          0,
          0,
          0,
          0.006678447,
          0.007907399,
          0.009115343,
          0.064437142,
          0.223454842,
          0.633167865,
          0.942462063,
          1.496854734,
          1.857978594,
          6.1526497,
          6.725434738,
          7.412943485,
          8.453636634,
          9.6000384,
          10.89783105,
          13,
          17,
          20,
          28,
          33.74235675,
          35.2,
          37.4,
          42.5,
          46.50697831,
          49.96637301
         ],
         "yaxis": "y"
        },
        {
         "hovertemplate": "Code=FIN<br>Year=%{x}<br>internet_usage=%{y}<extra></extra>",
         "legendgroup": "FIN",
         "line": {
          "color": "#B6E880",
          "dash": "solid"
         },
         "marker": {
          "symbol": "circle"
         },
         "mode": "lines",
         "name": "FIN",
         "showlegend": true,
         "type": "scattergl",
         "x": [
          1990,
          1991,
          1992,
          1993,
          1994,
          1995,
          1996,
          1997,
          1998,
          1999,
          2000,
          2001,
          2002,
          2003,
          2004,
          2005,
          2006,
          2007,
          2008,
          2009,
          2010,
          2011,
          2012,
          2013,
          2014,
          2015,
          2016,
          2017,
          2018,
          2019
         ],
         "xaxis": "x",
         "y": [
          0.40108767,
          1.397439332,
          1.88687977,
          2.568461349,
          4.915098554,
          13.90030389,
          16.78007526,
          19.4586828,
          25.45252493,
          32.29509229,
          37.24846174,
          43.10536335,
          62.43,
          69.22,
          72.39,
          74.48,
          79.66,
          80.78,
          83.67,
          82.49,
          86.89,
          88.70999491,
          89.87999797,
          91.5144,
          86.53039275,
          86.42213333,
          87.70364996,
          87.46892907,
          88.88996,
          89.60738511
         ],
         "yaxis": "y"
        },
        {
         "hovertemplate": "Code=FRA<br>Year=%{x}<br>internet_usage=%{y}<extra></extra>",
         "legendgroup": "FRA",
         "line": {
          "color": "#FF97FF",
          "dash": "solid"
         },
         "marker": {
          "symbol": "circle"
         },
         "mode": "lines",
         "name": "FRA",
         "showlegend": true,
         "type": "scattergl",
         "x": [
          1990,
          1991,
          1992,
          1993,
          1994,
          1995,
          1996,
          1997,
          1998,
          1999,
          2000,
          2001,
          2002,
          2003,
          2004,
          2005,
          2006,
          2007,
          2008,
          2009,
          2010,
          2011,
          2012,
          2013,
          2014,
          2015,
          2016,
          2017,
          2018,
          2019
         ],
         "xaxis": "x",
         "y": [
          0.052777862,
          0.140113895,
          0.279049463,
          0.590619383,
          0.899867425,
          1.637947245,
          2.584033979,
          4.255003872,
          6.319778722,
          9.125317889,
          14.30792394,
          26.32590355,
          30.18,
          36.14,
          39.15,
          42.87,
          46.87,
          66.09,
          70.68,
          71.58,
          77.28,
          77.81999899,
          81.44,
          81.9198,
          83.75,
          78.00603771,
          79.26981132,
          80.50245972,
          82.04318678,
          83.33974409
         ],
         "yaxis": "y"
        },
        {
         "hovertemplate": "Code=PYF<br>Year=%{x}<br>internet_usage=%{y}<extra></extra>",
         "legendgroup": "PYF",
         "line": {
          "color": "#FECB52",
          "dash": "solid"
         },
         "marker": {
          "symbol": "circle"
         },
         "mode": "lines",
         "name": "PYF",
         "showlegend": true,
         "type": "scattergl",
         "x": [
          1990,
          1991,
          1992,
          1993,
          1994,
          1995,
          1996,
          1997,
          1998,
          1999,
          2000,
          2001,
          2002,
          2003,
          2004,
          2005,
          2006,
          2007,
          2008,
          2009,
          2010,
          2011,
          2012,
          2013,
          2014,
          2015,
          2016,
          2017
         ],
         "xaxis": "x",
         "y": [
          0,
          0,
          0,
          0,
          0,
          0,
          0.090971944,
          0.21438525,
          1.316164696,
          3.448900232,
          6.357063545,
          6.251588946,
          8.200216486,
          14.12429379,
          17.88453743,
          21.54218547,
          25.10796425,
          28.59,
          33.87,
          44.6,
          49,
          49,
          52.87663059,
          56.8,
          60.68,
          64.56020975,
          68.44041949,
          72.70389531
         ],
         "yaxis": "y"
        },
        {
         "hovertemplate": "Code=GAB<br>Year=%{x}<br>internet_usage=%{y}<extra></extra>",
         "legendgroup": "GAB",
         "line": {
          "color": "#636efa",
          "dash": "solid"
         },
         "marker": {
          "symbol": "circle"
         },
         "mode": "lines",
         "name": "GAB",
         "showlegend": true,
         "type": "scattergl",
         "x": [
          1990,
          1991,
          1992,
          1993,
          1994,
          1995,
          1996,
          1997,
          1998,
          1999,
          2000,
          2001,
          2002,
          2003,
          2004,
          2005,
          2006,
          2007,
          2008,
          2009,
          2010,
          2011,
          2012,
          2013,
          2014,
          2015,
          2016,
          2017
         ],
         "xaxis": "x",
         "y": [
          0,
          0,
          0,
          0,
          0,
          0,
          0,
          0.047999009,
          0.17012488,
          0.249009564,
          1.216140618,
          1.347620222,
          1.939530106,
          2.659586594,
          2.9790698,
          4.89326475,
          5.489200803,
          5.767004576,
          7.5,
          9.5,
          13,
          18,
          24,
          30.53803344,
          38.07120929,
          45.78453653,
          48.05227375,
          50.32012015
         ],
         "yaxis": "y"
        },
        {
         "hovertemplate": "Code=GMB<br>Year=%{x}<br>internet_usage=%{y}<extra></extra>",
         "legendgroup": "GMB",
         "line": {
          "color": "#EF553B",
          "dash": "solid"
         },
         "marker": {
          "symbol": "circle"
         },
         "mode": "lines",
         "name": "GMB",
         "showlegend": true,
         "type": "scattergl",
         "x": [
          1990,
          1991,
          1992,
          1993,
          1994,
          1995,
          1996,
          1997,
          1998,
          1999,
          2000,
          2001,
          2002,
          2003,
          2004,
          2005,
          2006,
          2007,
          2008,
          2009,
          2010,
          2011,
          2012,
          2013,
          2014,
          2015,
          2016,
          2017
         ],
         "xaxis": "x",
         "y": [
          0,
          0,
          0,
          0,
          0,
          0.009217541,
          0.03550736,
          0.051311347,
          0.206094461,
          0.715827015,
          0.921794919,
          1.336791166,
          1.796779883,
          2.436781193,
          3.308003478,
          3.799001139,
          5.237691158,
          6.205037419,
          6.88,
          7.63,
          9.2,
          10.8703,
          12.44922872,
          14,
          15.56,
          16.5,
          18.5,
          19.83645444
         ],
         "yaxis": "y"
        },
        {
         "hovertemplate": "Code=GEO<br>Year=%{x}<br>internet_usage=%{y}<extra></extra>",
         "legendgroup": "GEO",
         "line": {
          "color": "#00cc96",
          "dash": "solid"
         },
         "marker": {
          "symbol": "circle"
         },
         "mode": "lines",
         "name": "GEO",
         "showlegend": true,
         "type": "scattergl",
         "x": [
          1990,
          1991,
          1992,
          1993,
          1994,
          1995,
          1996,
          1997,
          1998,
          1999,
          2000,
          2001,
          2002,
          2003,
          2004,
          2005,
          2006,
          2007,
          2008,
          2009,
          2010,
          2011,
          2012,
          2013,
          2014,
          2015,
          2016,
          2017,
          2018,
          2019
         ],
         "xaxis": "x",
         "y": [
          0,
          0,
          0,
          0,
          0,
          0.011836885,
          0.040065419,
          0.060930333,
          0.102830957,
          0.416343567,
          0.484746299,
          0.992344436,
          1.58787563,
          2.558816481,
          3.886221354,
          6.079457629,
          7.526876845,
          8.26,
          10.01,
          20.07,
          26.9,
          31.52,
          36.94,
          43.3,
          44,
          47.56975964,
          58.45928961,
          59.7055046,
          62.7179082,
          68.84671356
         ],
         "yaxis": "y"
        },
        {
         "hovertemplate": "Code=DEU<br>Year=%{x}<br>internet_usage=%{y}<extra></extra>",
         "legendgroup": "DEU",
         "line": {
          "color": "#ab63fa",
          "dash": "solid"
         },
         "marker": {
          "symbol": "circle"
         },
         "mode": "lines",
         "name": "DEU",
         "showlegend": true,
         "type": "scattergl",
         "x": [
          1990,
          1991,
          1992,
          1993,
          1994,
          1995,
          1996,
          1997,
          1998,
          1999,
          2000,
          2001,
          2002,
          2003,
          2004,
          2005,
          2006,
          2007,
          2008,
          2009,
          2010,
          2011,
          2012,
          2013,
          2014,
          2015,
          2016,
          2017,
          2018,
          2019
         ],
         "xaxis": "x",
         "y": [
          0.125892223,
          0.250274153,
          0.43528529,
          0.463635096,
          0.922541043,
          1.837737754,
          3.054805234,
          6.711087477,
          9.877852428,
          20.84598264,
          30.2163466,
          31.65093942,
          48.82,
          55.9,
          64.73,
          68.71,
          72.16,
          75.16,
          78,
          79,
          82,
          81.26999954,
          82.34999847,
          84.17,
          86.19,
          87.58979935,
          84.16520664,
          84.3941537,
          87.03711209,
          88.13451691
         ],
         "yaxis": "y"
        },
        {
         "hovertemplate": "Code=GHA<br>Year=%{x}<br>internet_usage=%{y}<extra></extra>",
         "legendgroup": "GHA",
         "line": {
          "color": "#FFA15A",
          "dash": "solid"
         },
         "marker": {
          "symbol": "circle"
         },
         "mode": "lines",
         "name": "GHA",
         "showlegend": true,
         "type": "scattergl",
         "x": [
          1990,
          1991,
          1992,
          1993,
          1994,
          1995,
          1996,
          1997,
          1998,
          1999,
          2000,
          2001,
          2002,
          2003,
          2004,
          2005,
          2006,
          2007,
          2008,
          2009,
          2010,
          2011,
          2012,
          2013,
          2014,
          2015,
          2016,
          2017
         ],
         "xaxis": "x",
         "y": [
          0,
          0,
          0,
          0,
          0,
          0.000347918,
          0.005648763,
          0.027537542,
          0.032240443,
          0.104895466,
          0.153615298,
          0.20000806,
          0.830284034,
          1.193057911,
          1.716797704,
          1.831197461,
          2.723175973,
          3.85,
          4.27,
          5.44,
          7.8,
          9,
          10.6,
          15,
          25.51773743,
          25,
          34.66600065,
          37.88415262
         ],
         "yaxis": "y"
        },
        {
         "hovertemplate": "Code=GIB<br>Year=%{x}<br>internet_usage=%{y}<extra></extra>",
         "legendgroup": "GIB",
         "line": {
          "color": "#19d3f3",
          "dash": "solid"
         },
         "marker": {
          "symbol": "circle"
         },
         "mode": "lines",
         "name": "GIB",
         "showlegend": true,
         "type": "scattergl",
         "x": [
          1990,
          1991,
          1992,
          1993,
          1994,
          1995,
          1997,
          1998,
          1999,
          2000,
          2001,
          2002,
          2003,
          2004,
          2005,
          2006,
          2007,
          2008,
          2009,
          2010,
          2011,
          2012,
          2016
         ],
         "xaxis": "x",
         "y": [
          0,
          0,
          0,
          0,
          0,
          0,
          2.662907268,
          4.183794329,
          5.936978297,
          19.13163812,
          21.17110944,
          23.67023975,
          28.32577979,
          32.88608261,
          39.07013088,
          45.29864751,
          51.61,
          58,
          65.07,
          65,
          65,
          65.017,
          94.44447158
         ],
         "yaxis": "y"
        },
        {
         "hovertemplate": "Code=GRC<br>Year=%{x}<br>internet_usage=%{y}<extra></extra>",
         "legendgroup": "GRC",
         "line": {
          "color": "#FF6692",
          "dash": "solid"
         },
         "marker": {
          "symbol": "circle"
         },
         "mode": "lines",
         "name": "GRC",
         "showlegend": true,
         "type": "scattergl",
         "x": [
          1990,
          1991,
          1992,
          1993,
          1994,
          1995,
          1996,
          1997,
          1998,
          1999,
          2000,
          2001,
          2002,
          2003,
          2004,
          2005,
          2006,
          2007,
          2008,
          2009,
          2010,
          2011,
          2012,
          2013,
          2014,
          2015,
          2016,
          2017,
          2018,
          2019
         ],
         "xaxis": "x",
         "y": [
          0,
          0.048788803,
          0.048291602,
          0.191062242,
          0.378174312,
          0.749616477,
          1.395360779,
          1.849634688,
          3.221821786,
          6.877292144,
          9.138837308,
          10.93502581,
          14.67,
          17.8,
          21.42,
          24,
          32.25,
          35.88,
          38.2,
          42.4,
          44.4,
          51.64999517,
          55.06999344,
          59.8663,
          63.21,
          66.83495949,
          69.08791547,
          69.89297065,
          72.23837339,
          75.67120669
         ],
         "yaxis": "y"
        },
        {
         "hovertemplate": "Code=GRL<br>Year=%{x}<br>internet_usage=%{y}<extra></extra>",
         "legendgroup": "GRL",
         "line": {
          "color": "#B6E880",
          "dash": "solid"
         },
         "marker": {
          "symbol": "circle"
         },
         "mode": "lines",
         "name": "GRL",
         "showlegend": true,
         "type": "scattergl",
         "x": [
          1990,
          1991,
          1992,
          1993,
          1994,
          1995,
          1996,
          1997,
          1998,
          1999,
          2000,
          2001,
          2002,
          2003,
          2004,
          2005,
          2006,
          2007,
          2008,
          2009,
          2010,
          2011,
          2012,
          2013,
          2014,
          2015,
          2016,
          2017
         ],
         "xaxis": "x",
         "y": [
          0,
          0,
          0,
          0,
          0.064712121,
          0.053940342,
          1.796719191,
          7.954504682,
          14.65444717,
          21.60261331,
          31.74781123,
          35.46413689,
          44.15478903,
          54.53425983,
          56.09901476,
          57.7034045,
          59.36168727,
          61.07,
          62.82,
          62.83,
          63,
          64,
          64.8960101,
          65.8,
          66.7,
          67.60044348,
          68.50087368,
          69.48246178
         ],
         "yaxis": "y"
        },
        {
         "hovertemplate": "Code=GRD<br>Year=%{x}<br>internet_usage=%{y}<extra></extra>",
         "legendgroup": "GRD",
         "line": {
          "color": "#FF97FF",
          "dash": "solid"
         },
         "marker": {
          "symbol": "circle"
         },
         "mode": "lines",
         "name": "GRD",
         "showlegend": true,
         "type": "scattergl",
         "x": [
          1990,
          1991,
          1992,
          1993,
          1994,
          1995,
          1996,
          1997,
          1998,
          1999,
          2000,
          2001,
          2002,
          2003,
          2004,
          2005,
          2006,
          2007,
          2008,
          2009,
          2010,
          2011,
          2012,
          2013,
          2014,
          2015,
          2016,
          2017
         ],
         "xaxis": "x",
         "y": [
          0,
          0,
          0,
          0,
          0,
          0,
          0.298032982,
          0.990883868,
          1.484854484,
          2.473166147,
          4.063907991,
          5.128103982,
          14.75884055,
          18.64518218,
          19.57062058,
          20.48780488,
          21.39599117,
          22.29,
          23.18,
          24.05,
          27,
          30,
          32,
          35,
          51.6,
          53.81,
          55.85640782,
          59.07173536
         ],
         "yaxis": "y"
        },
        {
         "hovertemplate": "Code=GUM<br>Year=%{x}<br>internet_usage=%{y}<extra></extra>",
         "legendgroup": "GUM",
         "line": {
          "color": "#FECB52",
          "dash": "solid"
         },
         "marker": {
          "symbol": "circle"
         },
         "mode": "lines",
         "name": "GUM",
         "showlegend": true,
         "type": "scattergl",
         "x": [
          1990,
          1991,
          1992,
          1993,
          1994,
          1995,
          1996,
          1997,
          1998,
          1999,
          2000,
          2001,
          2002,
          2003,
          2004,
          2005,
          2006,
          2007,
          2008,
          2009,
          2010,
          2011,
          2012,
          2013,
          2014,
          2015,
          2016,
          2017
         ],
         "xaxis": "x",
         "y": [
          0,
          0,
          0,
          0,
          0.34845391,
          0.659530909,
          1.356106888,
          2.344571647,
          4.50128419,
          8.497176323,
          16.11312704,
          25.38022753,
          31.19229426,
          33.71668179,
          36.16178784,
          38.55987756,
          43.851443,
          46.15047362,
          48.41870215,
          50.64202838,
          54.04,
          57.7,
          61.53415931,
          65.4,
          69.27,
          73.13999995,
          77.00999989,
          80.50546556
         ],
         "yaxis": "y"
        },
        {
         "hovertemplate": "Code=GTM<br>Year=%{x}<br>internet_usage=%{y}<extra></extra>",
         "legendgroup": "GTM",
         "line": {
          "color": "#636efa",
          "dash": "solid"
         },
         "marker": {
          "symbol": "circle"
         },
         "mode": "lines",
         "name": "GTM",
         "showlegend": true,
         "type": "scattergl",
         "x": [
          1990,
          1991,
          1992,
          1993,
          1994,
          1995,
          1996,
          1997,
          1998,
          1999,
          2000,
          2001,
          2002,
          2003,
          2004,
          2005,
          2006,
          2007,
          2008,
          2009,
          2010,
          2011,
          2012,
          2013,
          2014,
          2015,
          2016,
          2017
         ],
         "xaxis": "x",
         "y": [
          0,
          0,
          0,
          0,
          0,
          0.002998005,
          0.019534871,
          0.095476021,
          0.466590444,
          0.592652945,
          0.712332905,
          1.738201782,
          3.39174627,
          4.548854908,
          5.1,
          5.7,
          6.5,
          7.3,
          8.3,
          9.3,
          10.5,
          12.3,
          16,
          19.7,
          23.4,
          28.80594156,
          34.50932609,
          40.70304908
         ],
         "yaxis": "y"
        },
        {
         "hovertemplate": "Code=GIN<br>Year=%{x}<br>internet_usage=%{y}<extra></extra>",
         "legendgroup": "GIN",
         "line": {
          "color": "#EF553B",
          "dash": "solid"
         },
         "marker": {
          "symbol": "circle"
         },
         "mode": "lines",
         "name": "GIN",
         "showlegend": true,
         "type": "scattergl",
         "x": [
          1990,
          1991,
          1992,
          1993,
          1994,
          1995,
          1996,
          1997,
          1998,
          1999,
          2000,
          2001,
          2002,
          2003,
          2004,
          2005,
          2006,
          2007,
          2008,
          2009,
          2010,
          2011,
          2012,
          2013,
          2014,
          2015,
          2016,
          2017,
          2018
         ],
         "xaxis": "x",
         "y": [
          0,
          0,
          0,
          0,
          0.000138318,
          0.000668589,
          0.001948942,
          0.003803109,
          0.006203369,
          0.060808919,
          0.095424924,
          0.175541868,
          0.402022749,
          0.450960371,
          0.508819332,
          0.542254181,
          0.637492123,
          0.780025279,
          0.92,
          0.94,
          1,
          2,
          3.1,
          4.5,
          6.4,
          8.2,
          9.8,
          11.40002077,
          21.83002304
         ],
         "yaxis": "y"
        },
        {
         "hovertemplate": "Code=GNB<br>Year=%{x}<br>internet_usage=%{y}<extra></extra>",
         "legendgroup": "GNB",
         "line": {
          "color": "#00cc96",
          "dash": "solid"
         },
         "marker": {
          "symbol": "circle"
         },
         "mode": "lines",
         "name": "GNB",
         "showlegend": true,
         "type": "scattergl",
         "x": [
          1990,
          1991,
          1992,
          1993,
          1994,
          1995,
          1997,
          1998,
          1999,
          2000,
          2001,
          2002,
          2003,
          2004,
          2005,
          2006,
          2007,
          2008,
          2009,
          2010,
          2011,
          2012,
          2013,
          2014,
          2015,
          2016,
          2017
         ],
         "xaxis": "x",
         "y": [
          0,
          0,
          0,
          0,
          0,
          0,
          0.016389063,
          0.024060421,
          0.117702448,
          0.230103171,
          0.299569145,
          1.022993234,
          1.354197478,
          1.808142203,
          1.901365316,
          2.057196705,
          2.206302237,
          2.354888711,
          2.303280592,
          2.45,
          2.672,
          2.893990621,
          3.1,
          3.32,
          3.540706917,
          3.761413832,
          3.930509152
         ],
         "yaxis": "y"
        },
        {
         "hovertemplate": "Code=GUY<br>Year=%{x}<br>internet_usage=%{y}<extra></extra>",
         "legendgroup": "GUY",
         "line": {
          "color": "#ab63fa",
          "dash": "solid"
         },
         "marker": {
          "symbol": "circle"
         },
         "mode": "lines",
         "name": "GUY",
         "showlegend": true,
         "type": "scattergl",
         "x": [
          1990,
          1991,
          1992,
          1993,
          1994,
          1995,
          1996,
          1997,
          1998,
          1999,
          2000,
          2001,
          2007,
          2008,
          2009,
          2010,
          2011,
          2012,
          2013,
          2014,
          2015,
          2016,
          2017
         ],
         "xaxis": "x",
         "y": [
          0,
          0,
          0,
          0,
          0,
          0,
          0.065854115,
          0.131828033,
          0.26408811,
          3.966354735,
          6.611491566,
          13.2069865,
          13.8,
          18.2,
          23.9,
          29.9,
          30,
          30.5,
          31,
          32,
          34,
          35.66,
          37.32583679
         ],
         "yaxis": "y"
        },
        {
         "hovertemplate": "Code=HTI<br>Year=%{x}<br>internet_usage=%{y}<extra></extra>",
         "legendgroup": "HTI",
         "line": {
          "color": "#FFA15A",
          "dash": "solid"
         },
         "marker": {
          "symbol": "circle"
         },
         "mode": "lines",
         "name": "HTI",
         "showlegend": true,
         "type": "scattergl",
         "x": [
          1990,
          1991,
          1992,
          1993,
          1994,
          1995,
          1996,
          1998,
          1999,
          2000,
          2001,
          2002,
          2003,
          2004,
          2005,
          2006,
          2007,
          2008,
          2009,
          2010,
          2011,
          2012,
          2013,
          2014,
          2015,
          2016,
          2017,
          2018
         ],
         "xaxis": "x",
         "y": [
          0,
          0,
          0,
          0,
          0,
          0,
          0.007484253,
          0.023999477,
          0.070658478,
          0.231270715,
          0.340832326,
          0.893432988,
          1.647358346,
          5.401261908,
          6.376201635,
          6.796000481,
          7.2,
          7.6,
          8.1,
          8.37,
          9,
          9.8,
          10.6,
          11.4,
          12.1977,
          12.23260161,
          12.32610358,
          32.47362713
         ],
         "yaxis": "y"
        },
        {
         "hovertemplate": "Code=HND<br>Year=%{x}<br>internet_usage=%{y}<extra></extra>",
         "legendgroup": "HND",
         "line": {
          "color": "#19d3f3",
          "dash": "solid"
         },
         "marker": {
          "symbol": "circle"
         },
         "mode": "lines",
         "name": "HND",
         "showlegend": true,
         "type": "scattergl",
         "x": [
          1990,
          1991,
          1992,
          1993,
          1994,
          1995,
          1996,
          1997,
          1998,
          1999,
          2000,
          2001,
          2002,
          2003,
          2004,
          2005,
          2006,
          2007,
          2008,
          2009,
          2010,
          2011,
          2012,
          2013,
          2014,
          2015,
          2016,
          2017
         ],
         "xaxis": "x",
         "y": [
          0,
          0,
          0,
          0,
          0,
          0.036775252,
          0.043711246,
          0.170996468,
          0.301247214,
          0.573575476,
          1.203855999,
          1.415281931,
          2.597402597,
          4.8,
          5.6,
          6.5,
          7.8,
          9.4,
          9.6,
          9.8,
          11.09,
          15.9,
          18.12,
          17.8,
          19.08,
          27.1,
          29.5,
          32.13636364
         ],
         "yaxis": "y"
        },
        {
         "hovertemplate": "Code=HKG<br>Year=%{x}<br>internet_usage=%{y}<extra></extra>",
         "legendgroup": "HKG",
         "line": {
          "color": "#FF6692",
          "dash": "solid"
         },
         "marker": {
          "symbol": "circle"
         },
         "mode": "lines",
         "name": "HKG",
         "showlegend": true,
         "type": "scattergl",
         "x": [
          1990,
          1991,
          1992,
          1993,
          1994,
          1995,
          1996,
          1997,
          1998,
          1999,
          2000,
          2001,
          2002,
          2003,
          2004,
          2005,
          2006,
          2007,
          2008,
          2009,
          2010,
          2011,
          2012,
          2013,
          2014,
          2015,
          2016,
          2017,
          2018,
          2019
         ],
         "xaxis": "x",
         "y": [
          0,
          0.120955444,
          0.849527883,
          1.334568031,
          2.784198266,
          3.218635643,
          4.748838672,
          10.51875705,
          14.54597958,
          21.23068197,
          27.82776068,
          38.67140323,
          43.08238303,
          52.20004335,
          56.39988039,
          56.9,
          60.8,
          64.8,
          66.7,
          69.4,
          72,
          72.2,
          72.9,
          74.2,
          79.86627043,
          84.94835296,
          87.47941467,
          89.41594465,
          90.50739533,
          91.74340039
         ],
         "yaxis": "y"
        },
        {
         "hovertemplate": "Code=HUN<br>Year=%{x}<br>internet_usage=%{y}<extra></extra>",
         "legendgroup": "HUN",
         "line": {
          "color": "#B6E880",
          "dash": "solid"
         },
         "marker": {
          "symbol": "circle"
         },
         "mode": "lines",
         "name": "HUN",
         "showlegend": true,
         "type": "scattergl",
         "x": [
          1990,
          1991,
          1992,
          1993,
          1994,
          1995,
          1996,
          1997,
          1998,
          1999,
          2000,
          2001,
          2002,
          2003,
          2004,
          2005,
          2006,
          2007,
          2008,
          2009,
          2010,
          2011,
          2012,
          2013,
          2014,
          2015,
          2016,
          2017,
          2018,
          2019
         ],
         "xaxis": "x",
         "y": [
          0,
          0.00338263,
          0.048353421,
          0.193414395,
          0.483580975,
          0.677486054,
          0.969239536,
          1.942449872,
          3.894643278,
          5.857840749,
          6.999676351,
          14.5285543,
          16.67,
          21.63,
          27.74,
          38.97,
          47.06,
          53.3,
          61,
          62,
          65,
          68.01998789,
          70.57999815,
          72.6439,
          75.65319745,
          72.83473703,
          79.25941213,
          76.75054712,
          76.07436064,
          80.37169361
         ],
         "yaxis": "y"
        },
        {
         "hovertemplate": "Code=ISL<br>Year=%{x}<br>internet_usage=%{y}<extra></extra>",
         "legendgroup": "ISL",
         "line": {
          "color": "#FF97FF",
          "dash": "solid"
         },
         "marker": {
          "symbol": "circle"
         },
         "mode": "lines",
         "name": "ISL",
         "showlegend": true,
         "type": "scattergl",
         "x": [
          1990,
          1991,
          1992,
          1993,
          1994,
          1995,
          1996,
          1997,
          1998,
          1999,
          2000,
          2001,
          2002,
          2003,
          2004,
          2005,
          2006,
          2007,
          2008,
          2009,
          2010,
          2011,
          2012,
          2013,
          2014,
          2015,
          2016,
          2017,
          2018
         ],
         "xaxis": "x",
         "y": [
          0,
          0.505129002,
          1.53916008,
          2.667825265,
          6.794811784,
          11.2158757,
          14.80647932,
          27.47886875,
          36.2642065,
          41.29456671,
          44.47053382,
          49.39299537,
          79.12,
          83.14,
          83.88,
          87,
          89.51,
          90.6,
          91,
          93,
          93.39,
          94.8196868,
          96.20979955,
          96.5468,
          98.16,
          98.2,
          98.2400163,
          98.25520119,
          99.01095399
         ],
         "yaxis": "y"
        },
        {
         "hovertemplate": "Code=IND<br>Year=%{x}<br>internet_usage=%{y}<extra></extra>",
         "legendgroup": "IND",
         "line": {
          "color": "#FECB52",
          "dash": "solid"
         },
         "marker": {
          "symbol": "circle"
         },
         "mode": "lines",
         "name": "IND",
         "showlegend": true,
         "type": "scattergl",
         "x": [
          1990,
          1991,
          1992,
          1993,
          1994,
          1995,
          1996,
          1997,
          1998,
          1999,
          2000,
          2001,
          2002,
          2003,
          2004,
          2005,
          2006,
          2007,
          2008,
          2009,
          2010,
          2011,
          2012,
          2013,
          2014,
          2015,
          2016,
          2017,
          2018
         ],
         "xaxis": "x",
         "y": [
          0,
          0,
          0.000111308,
          0.000218176,
          0.001069562,
          0.026228879,
          0.046333977,
          0.070767849,
          0.139027329,
          0.273224277,
          0.52753245,
          0.660146377,
          1.537875582,
          1.686489971,
          1.976136492,
          2.388075,
          2.805499865,
          3.95,
          4.38,
          5.12,
          7.5,
          10.07,
          12.58006091,
          15.1,
          21,
          17,
          22,
          32,
          20.08130004
         ],
         "yaxis": "y"
        },
        {
         "hovertemplate": "Code=IDN<br>Year=%{x}<br>internet_usage=%{y}<extra></extra>",
         "legendgroup": "IDN",
         "line": {
          "color": "#636efa",
          "dash": "solid"
         },
         "marker": {
          "symbol": "circle"
         },
         "mode": "lines",
         "name": "IDN",
         "showlegend": true,
         "type": "scattergl",
         "x": [
          1990,
          1991,
          1992,
          1993,
          1994,
          1995,
          1996,
          1997,
          1998,
          1999,
          2000,
          2001,
          2002,
          2003,
          2004,
          2005,
          2006,
          2007,
          2008,
          2009,
          2010,
          2011,
          2012,
          2013,
          2014,
          2015,
          2016,
          2017,
          2018,
          2019
         ],
         "xaxis": "x",
         "y": [
          0,
          0,
          0,
          0,
          0.001059744,
          0.026109477,
          0.056623989,
          0.194910264,
          0.255306646,
          0.444415936,
          0.925563864,
          2.018613859,
          2.134135733,
          2.38701978,
          2.600285876,
          3.602024763,
          4.764813134,
          5.786274729,
          7.917479385,
          6.92,
          10.92,
          12.28,
          14.52,
          14.94,
          17.14,
          22.0627426,
          25.4473537,
          32.33580625,
          39.90463864,
          47.69064898
         ],
         "yaxis": "y"
        },
        {
         "hovertemplate": "Code=IRN<br>Year=%{x}<br>internet_usage=%{y}<extra></extra>",
         "legendgroup": "IRN",
         "line": {
          "color": "#EF553B",
          "dash": "solid"
         },
         "marker": {
          "symbol": "circle"
         },
         "mode": "lines",
         "name": "IRN",
         "showlegend": true,
         "type": "scattergl",
         "x": [
          1990,
          1991,
          1992,
          1993,
          1994,
          1995,
          1996,
          1997,
          1998,
          1999,
          2000,
          2001,
          2002,
          2003,
          2004,
          2005,
          2006,
          2007,
          2008,
          2009,
          2010,
          2011,
          2012,
          2013,
          2014,
          2015,
          2016,
          2017,
          2018
         ],
         "xaxis": "x",
         "y": [
          0,
          0,
          0,
          0,
          0.000408332,
          0.004179752,
          0.01582608,
          0.046756094,
          0.099815221,
          0.378569095,
          0.93419002,
          1.484221332,
          4.626175115,
          6.933721953,
          7.49,
          8.1,
          8.76,
          9.47,
          12.02,
          13.8,
          15.9,
          19,
          22.73,
          29.95,
          39.35,
          45.33497615,
          53.22677167,
          64.04397362,
          70.00455222
         ],
         "yaxis": "y"
        },
        {
         "hovertemplate": "Code=IRQ<br>Year=%{x}<br>internet_usage=%{y}<extra></extra>",
         "legendgroup": "IRQ",
         "line": {
          "color": "#00cc96",
          "dash": "solid"
         },
         "marker": {
          "symbol": "circle"
         },
         "mode": "lines",
         "name": "IRQ",
         "showlegend": true,
         "type": "scattergl",
         "x": [
          1990,
          1991,
          1992,
          1993,
          1994,
          1995,
          2001,
          2002,
          2003,
          2004,
          2005,
          2006,
          2007,
          2008,
          2009,
          2010,
          2011,
          2012,
          2013,
          2014,
          2015,
          2016,
          2017,
          2018
         ],
         "xaxis": "x",
         "y": [
          0,
          0,
          0,
          0,
          0,
          0,
          0.1,
          0.5,
          0.6,
          0.9,
          0.9,
          0.952344244,
          0.93,
          1,
          1.06,
          2.5,
          5,
          7.1,
          9.2,
          13.21,
          58,
          21.23,
          49.35999889,
          75.00000131
         ],
         "yaxis": "y"
        },
        {
         "hovertemplate": "Code=IRL<br>Year=%{x}<br>internet_usage=%{y}<extra></extra>",
         "legendgroup": "IRL",
         "line": {
          "color": "#ab63fa",
          "dash": "solid"
         },
         "marker": {
          "symbol": "circle"
         },
         "mode": "lines",
         "name": "IRL",
         "showlegend": true,
         "type": "scattergl",
         "x": [
          1990,
          1991,
          1992,
          1993,
          1994,
          1995,
          1996,
          1997,
          1998,
          1999,
          2000,
          2001,
          2002,
          2003,
          2004,
          2005,
          2006,
          2007,
          2008,
          2009,
          2010,
          2011,
          2012,
          2013,
          2014,
          2015,
          2017,
          2018
         ],
         "xaxis": "x",
         "y": [
          0,
          0.056796044,
          0.169686377,
          0.281141005,
          0.558377222,
          1.108386328,
          2.199301832,
          4.08825507,
          8.096010043,
          10.93380859,
          17.85046724,
          23.13881219,
          25.85,
          34.31,
          36.99,
          41.61,
          54.82,
          61.15832455,
          65.34,
          67.38,
          69.85,
          74.88997297,
          76.91999254,
          78.2477,
          83.49172234,
          83.49479167,
          84.11400706,
          84.52230206
         ],
         "yaxis": "y"
        },
        {
         "hovertemplate": "Code=ISR<br>Year=%{x}<br>internet_usage=%{y}<extra></extra>",
         "legendgroup": "ISR",
         "line": {
          "color": "#FFA15A",
          "dash": "solid"
         },
         "marker": {
          "symbol": "circle"
         },
         "mode": "lines",
         "name": "ISR",
         "showlegend": true,
         "type": "scattergl",
         "x": [
          1990,
          1991,
          1992,
          1993,
          1994,
          1995,
          1996,
          1997,
          1998,
          1999,
          2000,
          2001,
          2002,
          2003,
          2004,
          2005,
          2006,
          2007,
          2008,
          2009,
          2010,
          2011,
          2012,
          2013,
          2014,
          2015,
          2016,
          2017,
          2018,
          2019
         ],
         "xaxis": "x",
         "y": [
          0.110773866,
          0.2146241,
          0.310579197,
          0.398833333,
          0.57696646,
          0.93042297,
          2.1683676,
          4.399405482,
          10.30706995,
          13.43612191,
          20.87379,
          17.37862386,
          17.76459906,
          19.59339366,
          22.77048553,
          25.19404242,
          27.88107446,
          48.12806219,
          59.39,
          63.12,
          67.5,
          68.87387799,
          70.8,
          70.25031195,
          75.01775316,
          77.35208966,
          79.65312418,
          81.58118359,
          83.73315696,
          86.78787762
         ],
         "yaxis": "y"
        },
        {
         "hovertemplate": "Code=ITA<br>Year=%{x}<br>internet_usage=%{y}<extra></extra>",
         "legendgroup": "ITA",
         "line": {
          "color": "#19d3f3",
          "dash": "solid"
         },
         "marker": {
          "symbol": "circle"
         },
         "mode": "lines",
         "name": "ITA",
         "showlegend": true,
         "type": "scattergl",
         "x": [
          1990,
          1991,
          1992,
          1993,
          1994,
          1995,
          1996,
          1997,
          1998,
          1999,
          2000,
          2001,
          2002,
          2003,
          2004,
          2005,
          2006,
          2007,
          2008,
          2009,
          2010,
          2011,
          2012,
          2013,
          2014,
          2015,
          2016,
          2017,
          2018
         ],
         "xaxis": "x",
         "y": [
          0.017544562,
          0.035063256,
          0.070053433,
          0.122462053,
          0.192304619,
          0.524412787,
          1.023289903,
          2.276737834,
          4.558519565,
          14.37841019,
          23.11087424,
          27.22211698,
          28.04,
          29.04,
          33.24,
          35,
          37.99,
          40.79,
          44.53,
          48.83,
          53.68,
          54.3899983,
          55.82999799,
          58.4593,
          55.63846022,
          58.14173496,
          61.32425277,
          63.077347,
          74.38718292
         ],
         "yaxis": "y"
        },
        {
         "hovertemplate": "Code=JAM<br>Year=%{x}<br>internet_usage=%{y}<extra></extra>",
         "legendgroup": "JAM",
         "line": {
          "color": "#FF6692",
          "dash": "solid"
         },
         "marker": {
          "symbol": "circle"
         },
         "mode": "lines",
         "name": "JAM",
         "showlegend": true,
         "type": "scattergl",
         "x": [
          1990,
          1991,
          1992,
          1993,
          1994,
          1995,
          1996,
          1997,
          1998,
          1999,
          2000,
          2001,
          2002,
          2003,
          2004,
          2005,
          2006,
          2007,
          2008,
          2009,
          2010,
          2011,
          2012,
          2013,
          2014,
          2015,
          2016,
          2017
         ],
         "xaxis": "x",
         "y": [
          0,
          0,
          0,
          0,
          0.036817104,
          0.109487986,
          0.591145842,
          0.797797441,
          1.978726318,
          2.355688556,
          3.115778027,
          3.863020387,
          6.1,
          7.8,
          10,
          12.8,
          16.4,
          21.1,
          23.6,
          24.3,
          27.67,
          37.43861341,
          33.79,
          37.1,
          40.4027351,
          42.22122119,
          44.36685637,
          55.07206705
         ],
         "yaxis": "y"
        },
        {
         "hovertemplate": "Code=JPN<br>Year=%{x}<br>internet_usage=%{y}<extra></extra>",
         "legendgroup": "JPN",
         "line": {
          "color": "#B6E880",
          "dash": "solid"
         },
         "marker": {
          "symbol": "circle"
         },
         "mode": "lines",
         "name": "JPN",
         "showlegend": true,
         "type": "scattergl",
         "x": [
          1990,
          1991,
          1992,
          1993,
          1994,
          1995,
          1996,
          1997,
          1998,
          1999,
          2000,
          2001,
          2002,
          2003,
          2004,
          2005,
          2006,
          2007,
          2008,
          2009,
          2010,
          2011,
          2012,
          2013,
          2014,
          2015,
          2016,
          2017,
          2018
         ],
         "xaxis": "x",
         "y": [
          0.020293683,
          0.040438041,
          0.096678025,
          0.401277526,
          0.799684291,
          1.594363148,
          4.372981968,
          9.16307714,
          13.41404088,
          21.39129031,
          29.99074036,
          38.53206086,
          46.59420112,
          48.43526589,
          62.39392963,
          66.9210661,
          68.68527032,
          74.3,
          75.4,
          78,
          78.21,
          79.05411352,
          79.4964,
          88.21942891,
          89.10683302,
          91.05802839,
          93.18272128,
          91.72654724,
          91.28160849
         ],
         "yaxis": "y"
        },
        {
         "hovertemplate": "Code=JOR<br>Year=%{x}<br>internet_usage=%{y}<extra></extra>",
         "legendgroup": "JOR",
         "line": {
          "color": "#FF97FF",
          "dash": "solid"
         },
         "marker": {
          "symbol": "circle"
         },
         "mode": "lines",
         "name": "JOR",
         "showlegend": true,
         "type": "scattergl",
         "x": [
          1990,
          1991,
          1992,
          1993,
          1994,
          1995,
          1996,
          1997,
          1998,
          1999,
          2000,
          2001,
          2002,
          2003,
          2004,
          2005,
          2006,
          2007,
          2008,
          2009,
          2010,
          2011,
          2012,
          2013,
          2014,
          2015,
          2016,
          2017
         ],
         "xaxis": "x",
         "y": [
          0,
          0,
          0,
          0,
          0,
          0.02323392,
          0.044938549,
          0.599341106,
          1.305888264,
          2.526965353,
          2.623275422,
          4.705719581,
          6.025532412,
          8.466005016,
          11.65874137,
          12.93285205,
          13.86710879,
          20,
          23,
          26,
          27.2,
          34.9,
          37,
          41.4,
          46.2,
          60.11438269,
          62.30219257,
          66.79031443
         ],
         "yaxis": "y"
        },
        {
         "hovertemplate": "Code=KAZ<br>Year=%{x}<br>internet_usage=%{y}<extra></extra>",
         "legendgroup": "KAZ",
         "line": {
          "color": "#FECB52",
          "dash": "solid"
         },
         "marker": {
          "symbol": "circle"
         },
         "mode": "lines",
         "name": "KAZ",
         "showlegend": true,
         "type": "scattergl",
         "x": [
          1990,
          1991,
          1992,
          1993,
          1994,
          1995,
          1996,
          1997,
          1998,
          1999,
          2000,
          2001,
          2002,
          2003,
          2004,
          2005,
          2006,
          2007,
          2008,
          2009,
          2010,
          2011,
          2012,
          2013,
          2014,
          2015,
          2016,
          2017,
          2018,
          2019
         ],
         "xaxis": "x",
         "y": [
          0,
          0,
          0,
          0,
          0.000521079,
          0.011302355,
          0.031824512,
          0.064596754,
          0.131069604,
          0.464277218,
          0.668594403,
          1.006124211,
          1.674770995,
          2.000414753,
          2.650394657,
          2.961707492,
          3.268369051,
          4.02,
          11,
          18.2,
          31.6,
          50.6,
          61.90662747,
          63.30422443,
          66,
          70.8299336,
          74.58772647,
          76.42674823,
          78.90391906,
          81.87762554
         ],
         "yaxis": "y"
        },
        {
         "hovertemplate": "Code=KEN<br>Year=%{x}<br>internet_usage=%{y}<extra></extra>",
         "legendgroup": "KEN",
         "line": {
          "color": "#636efa",
          "dash": "solid"
         },
         "marker": {
          "symbol": "circle"
         },
         "mode": "lines",
         "name": "KEN",
         "showlegend": true,
         "type": "scattergl",
         "x": [
          1990,
          1991,
          1992,
          1993,
          1994,
          1995,
          1996,
          1997,
          1998,
          1999,
          2000,
          2001,
          2002,
          2003,
          2004,
          2005,
          2006,
          2007,
          2008,
          2009,
          2010,
          2011,
          2012,
          2013,
          2014,
          2015,
          2016,
          2017,
          2019
         ],
         "xaxis": "x",
         "y": [
          0,
          0,
          0,
          0,
          0,
          0.000727482,
          0.008839115,
          0.034406051,
          0.050261388,
          0.114256028,
          0.318059714,
          0.619782266,
          1.207773885,
          2.941902861,
          3.023528042,
          3.101897702,
          3.6,
          4.4,
          5.2,
          6.1,
          7.2,
          8.8,
          10.5,
          13,
          16.5,
          16.58785485,
          16.6,
          17.82710021,
          22.56511937
         ],
         "yaxis": "y"
        },
        {
         "hovertemplate": "Code=KIR<br>Year=%{x}<br>internet_usage=%{y}<extra></extra>",
         "legendgroup": "KIR",
         "line": {
          "color": "#EF553B",
          "dash": "solid"
         },
         "marker": {
          "symbol": "circle"
         },
         "mode": "lines",
         "name": "KIR",
         "showlegend": true,
         "type": "scattergl",
         "x": [
          1990,
          1991,
          1992,
          1993,
          1994,
          1995,
          1998,
          1999,
          2000,
          2001,
          2002,
          2003,
          2004,
          2005,
          2006,
          2007,
          2008,
          2009,
          2010,
          2011,
          2012,
          2013,
          2014,
          2015,
          2016,
          2017
         ],
         "xaxis": "x",
         "y": [
          0,
          0,
          0,
          0,
          0,
          0,
          0.616545618,
          1.211577838,
          1.785225474,
          2.337458948,
          2.5,
          3,
          3.5,
          4,
          4.5,
          6,
          7,
          8.97,
          9.07,
          10,
          10.74679768,
          11.5,
          12.25,
          12.99748389,
          13.7,
          14.58181818
         ],
         "yaxis": "y"
        },
        {
         "hovertemplate": "Code=OWID_KOS<br>Year=%{x}<br>internet_usage=%{y}<extra></extra>",
         "legendgroup": "OWID_KOS",
         "line": {
          "color": "#00cc96",
          "dash": "solid"
         },
         "marker": {
          "symbol": "circle"
         },
         "mode": "lines",
         "name": "OWID_KOS",
         "showlegend": true,
         "type": "scattergl",
         "x": [
          2017,
          2018
         ],
         "xaxis": "x",
         "y": [
          83.89359681,
          89.44303197
         ],
         "yaxis": "y"
        },
        {
         "hovertemplate": "Code=KWT<br>Year=%{x}<br>internet_usage=%{y}<extra></extra>",
         "legendgroup": "KWT",
         "line": {
          "color": "#ab63fa",
          "dash": "solid"
         },
         "marker": {
          "symbol": "circle"
         },
         "mode": "lines",
         "name": "KWT",
         "showlegend": true,
         "type": "scattergl",
         "x": [
          1990,
          1991,
          1992,
          1993,
          1994,
          1995,
          1996,
          1997,
          1998,
          1999,
          2000,
          2001,
          2002,
          2003,
          2004,
          2005,
          2006,
          2007,
          2008,
          2009,
          2010,
          2011,
          2012,
          2013,
          2014,
          2015,
          2016,
          2017,
          2018,
          2019
         ],
         "xaxis": "x",
         "y": [
          0,
          0,
          0,
          0.091082245,
          0.147162703,
          0.202898433,
          0.855662317,
          2.174535859,
          3.052397455,
          4.756222209,
          6.731395768,
          8.551792434,
          10.24896793,
          22.40293838,
          22.92711204,
          25.92610837,
          28.79119795,
          34.8,
          42,
          50.8,
          61.4,
          65.76907069,
          70.45,
          75.46,
          78.7,
          72,
          78.36738376,
          97.99998933,
          99.59884959,
          99.54267645
         ],
         "yaxis": "y"
        },
        {
         "hovertemplate": "Code=KGZ<br>Year=%{x}<br>internet_usage=%{y}<extra></extra>",
         "legendgroup": "KGZ",
         "line": {
          "color": "#FFA15A",
          "dash": "solid"
         },
         "marker": {
          "symbol": "circle"
         },
         "mode": "lines",
         "name": "KGZ",
         "showlegend": true,
         "type": "scattergl",
         "x": [
          1990,
          1991,
          1992,
          1993,
          1994,
          1995,
          1998,
          1999,
          2000,
          2001,
          2002,
          2003,
          2004,
          2005,
          2006,
          2007,
          2008,
          2009,
          2010,
          2011,
          2012,
          2013,
          2014,
          2015,
          2016,
          2017
         ],
         "xaxis": "x",
         "y": [
          0,
          0,
          0,
          0,
          0,
          0,
          0.072808334,
          0.20471135,
          1.041401145,
          3.002941327,
          2.99926518,
          3.908766268,
          5.090385307,
          10.53380134,
          12.306907,
          14.03,
          15.7,
          16,
          16.3,
          17.5,
          19.8,
          23,
          28.3,
          30.24704278,
          37,
          38.19903776
         ],
         "yaxis": "y"
        },
        {
         "hovertemplate": "Code=LAO<br>Year=%{x}<br>internet_usage=%{y}<extra></extra>",
         "legendgroup": "LAO",
         "line": {
          "color": "#19d3f3",
          "dash": "solid"
         },
         "marker": {
          "symbol": "circle"
         },
         "mode": "lines",
         "name": "LAO",
         "showlegend": true,
         "type": "scattergl",
         "x": [
          1990,
          1991,
          1992,
          1993,
          1994,
          1995,
          1998,
          1999,
          2000,
          2001,
          2002,
          2003,
          2004,
          2005,
          2006,
          2007,
          2008,
          2009,
          2010,
          2011,
          2012,
          2013,
          2014,
          2015,
          2016,
          2017
         ],
         "xaxis": "x",
         "y": [
          0,
          0,
          0,
          0,
          0,
          0,
          0.009657814,
          0.037780708,
          0.111044032,
          0.181664461,
          0.267899241,
          0.333912466,
          0.36143449,
          0.85035749,
          1.169893428,
          1.64,
          3.55,
          6,
          7,
          9,
          10.74767619,
          12.5,
          14.26,
          18.2,
          21.87,
          25.51043508
         ],
         "yaxis": "y"
        },
        {
         "hovertemplate": "Code=LVA<br>Year=%{x}<br>internet_usage=%{y}<extra></extra>",
         "legendgroup": "LVA",
         "line": {
          "color": "#FF6692",
          "dash": "solid"
         },
         "marker": {
          "symbol": "circle"
         },
         "mode": "lines",
         "name": "LVA",
         "showlegend": true,
         "type": "scattergl",
         "x": [
          1990,
          1991,
          1992,
          1993,
          1994,
          1995,
          1996,
          1997,
          1998,
          1999,
          2000,
          2001,
          2002,
          2003,
          2004,
          2005,
          2006,
          2007,
          2008,
          2009,
          2010,
          2011,
          2012,
          2013,
          2014,
          2015,
          2016,
          2017,
          2018,
          2019
         ],
         "xaxis": "x",
         "y": [
          0,
          0,
          0,
          0,
          0,
          0,
          0.812717072,
          2.053454712,
          3.315267886,
          4.387409055,
          6.319062083,
          7.219345808,
          21.94,
          26.98,
          38.58,
          46,
          53.63,
          59.17,
          63.41,
          66.84,
          68.42,
          69.74995456,
          73.11994377,
          75.2344,
          75.83,
          79.20058292,
          79.84209778,
          80.114077,
          83.57717486,
          86.13545644
         ],
         "yaxis": "y"
        },
        {
         "hovertemplate": "Code=LBN<br>Year=%{x}<br>internet_usage=%{y}<extra></extra>",
         "legendgroup": "LBN",
         "line": {
          "color": "#B6E880",
          "dash": "solid"
         },
         "marker": {
          "symbol": "circle"
         },
         "mode": "lines",
         "name": "LBN",
         "showlegend": true,
         "type": "scattergl",
         "x": [
          1990,
          1991,
          1992,
          1993,
          1994,
          1995,
          1996,
          1997,
          1998,
          1999,
          2000,
          2001,
          2002,
          2003,
          2004,
          2005,
          2006,
          2007,
          2008,
          2009,
          2010,
          2011,
          2012,
          2013,
          2014,
          2015,
          2016,
          2017
         ],
         "xaxis": "x",
         "y": [
          0,
          0,
          0,
          0,
          0,
          0.071617991,
          0.140166939,
          1.241079739,
          2.722352199,
          5.376809498,
          7.952743736,
          6.783219775,
          7,
          8,
          9,
          10.14,
          15,
          18.74,
          22.53,
          30.14,
          43.68,
          52,
          61.24978572,
          70.5,
          73,
          74,
          76.11,
          78.18077489
         ],
         "yaxis": "y"
        },
        {
         "hovertemplate": "Code=LSO<br>Year=%{x}<br>internet_usage=%{y}<extra></extra>",
         "legendgroup": "LSO",
         "line": {
          "color": "#FF97FF",
          "dash": "solid"
         },
         "marker": {
          "symbol": "circle"
         },
         "mode": "lines",
         "name": "LSO",
         "showlegend": true,
         "type": "scattergl",
         "x": [
          1990,
          1991,
          1992,
          1993,
          1994,
          1995,
          1996,
          1997,
          1998,
          1999,
          2000,
          2001,
          2002,
          2003,
          2004,
          2005,
          2006,
          2007,
          2008,
          2009,
          2010,
          2011,
          2012,
          2013,
          2014,
          2015,
          2016,
          2017
         ],
         "xaxis": "x",
         "y": [
          0,
          0,
          0,
          0,
          0,
          0,
          0.00284594,
          0.005584433,
          0.010956533,
          0.05380446,
          0.21180607,
          0.261150063,
          1.083943137,
          1.53249659,
          2.175524339,
          2.580245484,
          2.979708187,
          3.44543126,
          3.58,
          3.72,
          3.86,
          7,
          10,
          15,
          22,
          25,
          32.45385695,
          29.78780333
         ],
         "yaxis": "y"
        },
        {
         "hovertemplate": "Code=LBR<br>Year=%{x}<br>internet_usage=%{y}<extra></extra>",
         "legendgroup": "LBR",
         "line": {
          "color": "#FECB52",
          "dash": "solid"
         },
         "marker": {
          "symbol": "circle"
         },
         "mode": "lines",
         "name": "LBR",
         "showlegend": true,
         "type": "scattergl",
         "x": [
          1990,
          1991,
          1992,
          1993,
          1994,
          1995,
          1997,
          1998,
          1999,
          2000,
          2001,
          2002,
          2003,
          2004,
          2007,
          2008,
          2009,
          2010,
          2011,
          2012,
          2013,
          2014,
          2015,
          2016,
          2017
         ],
         "xaxis": "x",
         "y": [
          0,
          0,
          0,
          0,
          0,
          0,
          0.004489443,
          0.004099387,
          0.011328732,
          0.017702706,
          0.033812227,
          0.032713307,
          0.031868935,
          0.031011185,
          0.551376581,
          0.53,
          2,
          2.3,
          2.5,
          2.6,
          3.2,
          5.41,
          33,
          7.319106411,
          7.984479722
         ],
         "yaxis": "y"
        },
        {
         "hovertemplate": "Code=LBY<br>Year=%{x}<br>internet_usage=%{y}<extra></extra>",
         "legendgroup": "LBY",
         "line": {
          "color": "#636efa",
          "dash": "solid"
         },
         "marker": {
          "symbol": "circle"
         },
         "mode": "lines",
         "name": "LBY",
         "showlegend": true,
         "type": "scattergl",
         "x": [
          1990,
          1991,
          1992,
          1993,
          1994,
          1995,
          1999,
          2000,
          2001,
          2002,
          2003,
          2004,
          2005,
          2006,
          2007,
          2008,
          2009,
          2010,
          2011,
          2013,
          2014,
          2015,
          2016,
          2017
         ],
         "xaxis": "x",
         "y": [
          0,
          0,
          0,
          0,
          0,
          0,
          0.133617289,
          0.187042622,
          0.366533175,
          2.244418222,
          2.814517987,
          3.532838162,
          3.917787977,
          4.301051789,
          4.721999379,
          9,
          10.8,
          14,
          14,
          16.5,
          17.76,
          19.01607978,
          20.27215956,
          21.75892062
         ],
         "yaxis": "y"
        },
        {
         "hovertemplate": "Code=LIE<br>Year=%{x}<br>internet_usage=%{y}<extra></extra>",
         "legendgroup": "LIE",
         "line": {
          "color": "#EF553B",
          "dash": "solid"
         },
         "marker": {
          "symbol": "circle"
         },
         "mode": "lines",
         "name": "LIE",
         "showlegend": true,
         "type": "scattergl",
         "x": [
          1990,
          1991,
          1992,
          1993,
          1994,
          1995,
          2000,
          2001,
          2002,
          2003,
          2004,
          2005,
          2006,
          2007,
          2008,
          2009,
          2010,
          2011,
          2012,
          2013,
          2014,
          2015,
          2016,
          2017
         ],
         "xaxis": "x",
         "y": [
          0,
          0,
          0,
          0,
          0,
          0,
          36.51522989,
          45.11685265,
          59.47071067,
          58.80969184,
          64.00744814,
          63.37135615,
          64.21416136,
          65.08021844,
          70,
          75,
          80,
          85,
          89.4077,
          93.8,
          95.21,
          96.6411951,
          98.09390389,
          99.54661245
         ],
         "yaxis": "y"
        },
        {
         "hovertemplate": "Code=LTU<br>Year=%{x}<br>internet_usage=%{y}<extra></extra>",
         "legendgroup": "LTU",
         "line": {
          "color": "#00cc96",
          "dash": "solid"
         },
         "marker": {
          "symbol": "circle"
         },
         "mode": "lines",
         "name": "LTU",
         "showlegend": true,
         "type": "scattergl",
         "x": [
          1990,
          1991,
          1992,
          1993,
          1994,
          1995,
          1996,
          1997,
          1998,
          1999,
          2000,
          2001,
          2002,
          2003,
          2004,
          2005,
          2006,
          2007,
          2008,
          2009,
          2010,
          2011,
          2012,
          2013,
          2014,
          2015,
          2016,
          2017,
          2018,
          2019
         ],
         "xaxis": "x",
         "y": [
          0,
          0,
          0,
          0,
          0,
          0,
          0.277421291,
          0.978422157,
          1.972063745,
          2.9230547,
          6.427067495,
          7.179356994,
          17.69,
          25.91,
          31.23,
          36.22,
          43.9,
          49.9,
          55.22,
          59.76,
          62.12,
          63.6399774,
          67.22998933,
          68.4529,
          72.13,
          71.37805901,
          74.37664556,
          77.61525651,
          79.72258277,
          81.58186838
         ],
         "yaxis": "y"
        },
        {
         "hovertemplate": "Code=LUX<br>Year=%{x}<br>internet_usage=%{y}<extra></extra>",
         "legendgroup": "LUX",
         "line": {
          "color": "#ab63fa",
          "dash": "solid"
         },
         "marker": {
          "symbol": "circle"
         },
         "mode": "lines",
         "name": "LUX",
         "showlegend": true,
         "type": "scattergl",
         "x": [
          1990,
          1991,
          1992,
          1993,
          1994,
          1995,
          1996,
          1997,
          1998,
          1999,
          2000,
          2001,
          2002,
          2003,
          2004,
          2005,
          2006,
          2007,
          2008,
          2009,
          2010,
          2011,
          2012,
          2013,
          2014,
          2015,
          2016,
          2017,
          2018
         ],
         "xaxis": "x",
         "y": [
          0,
          0,
          0.153198791,
          0.302155121,
          0.496486119,
          1.590941911,
          5.551653306,
          7.142704085,
          11.74555372,
          17.3879578,
          22.88732797,
          36.16342251,
          39.84,
          54.55,
          65.88,
          70,
          72.51,
          78.92,
          82.23,
          87.31,
          90.62,
          90.02985856,
          91.94992374,
          93.7765,
          94.67,
          96.37671417,
          98.13669867,
          97.36296032,
          97.06129871
         ],
         "yaxis": "y"
        },
        {
         "hovertemplate": "Code=MAC<br>Year=%{x}<br>internet_usage=%{y}<extra></extra>",
         "legendgroup": "MAC",
         "line": {
          "color": "#FFA15A",
          "dash": "solid"
         },
         "marker": {
          "symbol": "circle"
         },
         "mode": "lines",
         "name": "MAC",
         "showlegend": true,
         "type": "scattergl",
         "x": [
          1990,
          1991,
          1992,
          1993,
          1994,
          1995,
          1996,
          1997,
          1998,
          1999,
          2000,
          2001,
          2002,
          2003,
          2004,
          2005,
          2006,
          2007,
          2008,
          2009,
          2010,
          2011,
          2012,
          2013,
          2014,
          2015,
          2016,
          2017,
          2018,
          2019
         ],
         "xaxis": "x",
         "y": [
          0,
          0,
          0,
          0,
          0.036993376,
          0.280014086,
          0.727273598,
          2.364127672,
          7.003324245,
          9.212005085,
          13.60858974,
          22.52121677,
          25.17188016,
          25.74212398,
          31.48409738,
          34.86292717,
          46.4,
          47.327,
          49.24,
          54,
          55.198,
          60.20369672,
          61.31,
          65.8,
          69.78,
          77.60013186,
          81.64298546,
          83.17408907,
          83.79408961,
          86.46792571
         ],
         "yaxis": "y"
        },
        {
         "hovertemplate": "Code=MDG<br>Year=%{x}<br>internet_usage=%{y}<extra></extra>",
         "legendgroup": "MDG",
         "line": {
          "color": "#19d3f3",
          "dash": "solid"
         },
         "marker": {
          "symbol": "circle"
         },
         "mode": "lines",
         "name": "MDG",
         "showlegend": true,
         "type": "scattergl",
         "x": [
          1990,
          1991,
          1992,
          1993,
          1994,
          1995,
          1996,
          1997,
          1998,
          1999,
          2000,
          2001,
          2002,
          2003,
          2004,
          2005,
          2006,
          2007,
          2008,
          2009,
          2010,
          2011,
          2012,
          2013,
          2014,
          2015,
          2016
         ],
         "xaxis": "x",
         "y": [
          0,
          0,
          0,
          0,
          0,
          0,
          0.003695196,
          0.014333647,
          0.062561023,
          0.168608781,
          0.196394691,
          0.222511586,
          0.339720155,
          0.423252419,
          0.525353655,
          0.567721802,
          0.607552239,
          0.65,
          1.65,
          1.63,
          1.7,
          1.9,
          2.3,
          3,
          3.7,
          4.17397219,
          4.713662899
         ],
         "yaxis": "y"
        },
        {
         "hovertemplate": "Code=MWI<br>Year=%{x}<br>internet_usage=%{y}<extra></extra>",
         "legendgroup": "MWI",
         "line": {
          "color": "#FF6692",
          "dash": "solid"
         },
         "marker": {
          "symbol": "circle"
         },
         "mode": "lines",
         "name": "MWI",
         "showlegend": true,
         "type": "scattergl",
         "x": [
          1990,
          1991,
          1992,
          1993,
          1994,
          1995,
          1997,
          1998,
          1999,
          2000,
          2001,
          2002,
          2003,
          2004,
          2005,
          2006,
          2007,
          2008,
          2009,
          2010,
          2011,
          2012,
          2013,
          2014,
          2015,
          2016,
          2017
         ],
         "xaxis": "x",
         "y": [
          0,
          0,
          0,
          0,
          0,
          0,
          0.004668518,
          0.018057365,
          0.087278755,
          0.126780945,
          0.164020725,
          0.215094727,
          0.278815116,
          0.347505335,
          0.384489334,
          0.42513749,
          0.965864737,
          0.7,
          1.07,
          2.26,
          3.33,
          4.3506,
          5.05,
          5.83,
          5.3,
          11.4708908,
          13.78216439
         ],
         "yaxis": "y"
        },
        {
         "hovertemplate": "Code=MYS<br>Year=%{x}<br>internet_usage=%{y}<extra></extra>",
         "legendgroup": "MYS",
         "line": {
          "color": "#B6E880",
          "dash": "solid"
         },
         "marker": {
          "symbol": "circle"
         },
         "mode": "lines",
         "name": "MYS",
         "showlegend": true,
         "type": "scattergl",
         "x": [
          1990,
          1991,
          1992,
          1993,
          1994,
          1995,
          1996,
          1997,
          1998,
          1999,
          2000,
          2001,
          2002,
          2003,
          2004,
          2005,
          2006,
          2007,
          2008,
          2009,
          2010,
          2011,
          2012,
          2013,
          2014,
          2015,
          2016,
          2017,
          2018,
          2019
         ],
         "xaxis": "x",
         "y": [
          0,
          0,
          0.001047822,
          0.025538478,
          0.099607417,
          0.145673837,
          0.852044466,
          2.307393234,
          6.751770483,
          12.3055022,
          21.38473116,
          26.6959725,
          32.33820434,
          34.97115234,
          42.25226563,
          48.62917025,
          51.63798899,
          55.7,
          55.8,
          55.9,
          56.3,
          61,
          65.8,
          57.05751226,
          63.66542588,
          71.06406781,
          78.78830993,
          80.14047901,
          81.20104862,
          84.21322418
         ],
         "yaxis": "y"
        },
        {
         "hovertemplate": "Code=MDV<br>Year=%{x}<br>internet_usage=%{y}<extra></extra>",
         "legendgroup": "MDV",
         "line": {
          "color": "#FF97FF",
          "dash": "solid"
         },
         "marker": {
          "symbol": "circle"
         },
         "mode": "lines",
         "name": "MDV",
         "showlegend": true,
         "type": "scattergl",
         "x": [
          1990,
          1991,
          1992,
          1993,
          1994,
          1995,
          1996,
          1997,
          1998,
          1999,
          2000,
          2001,
          2002,
          2003,
          2004,
          2005,
          2006,
          2007,
          2008,
          2009,
          2010,
          2011,
          2012,
          2013,
          2014,
          2015,
          2016,
          2017
         ],
         "xaxis": "x",
         "y": [
          0,
          0,
          0,
          0,
          0,
          0,
          0.22693009,
          0.309444238,
          0.569627464,
          1.119908615,
          2.203872939,
          3.617290649,
          5.347765169,
          5.97659285,
          6.588254875,
          6.869605067,
          11.03635278,
          16.3,
          23.2,
          24.8,
          26.53,
          34,
          38.9301,
          44.1,
          49.28,
          54.46195515,
          59.09258997,
          63.18566588
         ],
         "yaxis": "y"
        },
        {
         "hovertemplate": "Code=MLI<br>Year=%{x}<br>internet_usage=%{y}<extra></extra>",
         "legendgroup": "MLI",
         "line": {
          "color": "#FECB52",
          "dash": "solid"
         },
         "marker": {
          "symbol": "circle"
         },
         "mode": "lines",
         "name": "MLI",
         "showlegend": true,
         "type": "scattergl",
         "x": [
          1990,
          1991,
          1992,
          1993,
          1994,
          1995,
          1996,
          1997,
          1998,
          1999,
          2000,
          2001,
          2002,
          2003,
          2004,
          2005,
          2006,
          2007,
          2008,
          2009,
          2010,
          2011,
          2012,
          2013,
          2014,
          2015,
          2016,
          2017
         ],
         "xaxis": "x",
         "y": [
          0,
          0,
          0,
          0,
          0,
          0,
          0.002055228,
          0.010085919,
          0.019793888,
          0.060909873,
          0.142545755,
          0.185897413,
          0.227045578,
          0.310364443,
          0.43281964,
          0.507063136,
          0.729627281,
          0.81,
          1.57,
          1.8,
          2,
          2.2,
          2.8,
          3.5,
          7,
          10.33,
          11.11218649,
          12.72064096
         ],
         "yaxis": "y"
        },
        {
         "hovertemplate": "Code=MLT<br>Year=%{x}<br>internet_usage=%{y}<extra></extra>",
         "legendgroup": "MLT",
         "line": {
          "color": "#636efa",
          "dash": "solid"
         },
         "marker": {
          "symbol": "circle"
         },
         "mode": "lines",
         "name": "MLT",
         "showlegend": true,
         "type": "scattergl",
         "x": [
          1990,
          1991,
          1992,
          1993,
          1994,
          1995,
          1996,
          1997,
          1998,
          1999,
          2000,
          2001,
          2002,
          2003,
          2004,
          2005,
          2006,
          2007,
          2008,
          2009,
          2010,
          2011,
          2012,
          2013,
          2014,
          2015,
          2016,
          2017,
          2018,
          2019
         ],
         "xaxis": "x",
         "y": [
          0,
          0,
          0,
          0,
          0,
          0.224995699,
          1.051527475,
          3.920605132,
          6.500783995,
          7.759798038,
          13.11370871,
          17.87784832,
          28.92,
          31.64,
          34.62,
          41.24,
          40.41,
          46.9,
          50.08,
          58.86,
          63,
          68.01982379,
          68.19987429,
          68.9138,
          73.17,
          75.96001898,
          78.0751488,
          81.01191108,
          81.65804429,
          85.77859638
         ],
         "yaxis": "y"
        },
        {
         "hovertemplate": "Code=MHL<br>Year=%{x}<br>internet_usage=%{y}<extra></extra>",
         "legendgroup": "MHL",
         "line": {
          "color": "#EF553B",
          "dash": "solid"
         },
         "marker": {
          "symbol": "circle"
         },
         "mode": "lines",
         "name": "MHL",
         "showlegend": true,
         "type": "scattergl",
         "x": [
          1990,
          1991,
          1992,
          1993,
          1994,
          1995,
          1996,
          1999,
          2000,
          2001,
          2002,
          2003,
          2004,
          2005,
          2006,
          2007,
          2008,
          2009,
          2010,
          2011,
          2012,
          2013,
          2014,
          2015,
          2016,
          2017
         ],
         "xaxis": "x",
         "y": [
          0,
          0,
          0,
          0,
          0,
          0,
          0.037059432,
          0.966071567,
          1.534271796,
          1.706614078,
          2.335444575,
          2.569750367,
          3.599776814,
          3.878702398,
          3.795590214,
          3.95,
          4.6,
          5.6,
          7,
          10,
          12.5,
          14,
          16.8,
          19.2824418,
          29.78777936,
          38.70116262
         ],
         "yaxis": "y"
        },
        {
         "hovertemplate": "Code=MRT<br>Year=%{x}<br>internet_usage=%{y}<extra></extra>",
         "legendgroup": "MRT",
         "line": {
          "color": "#00cc96",
          "dash": "solid"
         },
         "marker": {
          "symbol": "circle"
         },
         "mode": "lines",
         "name": "MRT",
         "showlegend": true,
         "type": "scattergl",
         "x": [
          1990,
          1991,
          1992,
          1993,
          1994,
          1995,
          1997,
          1998,
          1999,
          2000,
          2001,
          2002,
          2003,
          2004,
          2005,
          2006,
          2007,
          2008,
          2009,
          2010,
          2011,
          2012,
          2013,
          2014,
          2015,
          2016,
          2017
         ],
         "xaxis": "x",
         "y": [
          0,
          0,
          0,
          0,
          0,
          0,
          0.004172527,
          0.040594795,
          0.118464464,
          0.192031462,
          0.261448552,
          0.363229415,
          0.424004896,
          0.481470438,
          0.669966475,
          0.979661253,
          1.433613196,
          1.87,
          2.28,
          4,
          4.5,
          5,
          6.2,
          10.7,
          15.19912669,
          18,
          20.80096366
         ],
         "yaxis": "y"
        },
        {
         "hovertemplate": "Code=MUS<br>Year=%{x}<br>internet_usage=%{y}<extra></extra>",
         "legendgroup": "MUS",
         "line": {
          "color": "#ab63fa",
          "dash": "solid"
         },
         "marker": {
          "symbol": "circle"
         },
         "mode": "lines",
         "name": "MUS",
         "showlegend": true,
         "type": "scattergl",
         "x": [
          1990,
          1991,
          1992,
          1993,
          1994,
          1995,
          1996,
          1997,
          1998,
          1999,
          2000,
          2001,
          2002,
          2003,
          2004,
          2005,
          2006,
          2007,
          2008,
          2009,
          2010,
          2011,
          2012,
          2013,
          2014,
          2015,
          2016,
          2017,
          2018,
          2019
         ],
         "xaxis": "x",
         "y": [
          0,
          0,
          0,
          0,
          0,
          0,
          0.183769158,
          0.475629193,
          2.565279962,
          4.652213227,
          7.281535115,
          8.780904019,
          10.25262467,
          12.1871062,
          13.68908859,
          15.17222875,
          16.7,
          20.22,
          21.81,
          22.51,
          28.33,
          34.95,
          35.42,
          40.11682514,
          44.80327537,
          50.13931848,
          52.19132594,
          55.4032403,
          58.5961697,
          63.99989817
         ],
         "yaxis": "y"
        },
        {
         "hovertemplate": "Code=MEX<br>Year=%{x}<br>internet_usage=%{y}<extra></extra>",
         "legendgroup": "MEX",
         "line": {
          "color": "#FFA15A",
          "dash": "solid"
         },
         "marker": {
          "symbol": "circle"
         },
         "mode": "lines",
         "name": "MEX",
         "showlegend": true,
         "type": "scattergl",
         "x": [
          1990,
          1991,
          1992,
          1993,
          1994,
          1995,
          1996,
          1997,
          1998,
          1999,
          2000,
          2001,
          2002,
          2003,
          2004,
          2005,
          2006,
          2007,
          2008,
          2009,
          2010,
          2011,
          2012,
          2013,
          2014,
          2015,
          2016,
          2017,
          2018,
          2019
         ],
         "xaxis": "x",
         "y": [
          0,
          0.005880695,
          0.01730781,
          0.028305042,
          0.043339167,
          0.10256419,
          0.20040628,
          0.62731154,
          1.265783278,
          1.857436221,
          5.081384153,
          7.038023117,
          11.9,
          12.9,
          14.1,
          17.21,
          19.52,
          20.81,
          21.71,
          26.34,
          31.05,
          37.17629541,
          39.75,
          43.46,
          44.39,
          57.43104299,
          59.540446,
          63.85224909,
          65.77263448,
          70.06991047
         ],
         "yaxis": "y"
        },
        {
         "hovertemplate": "Code=FSM<br>Year=%{x}<br>internet_usage=%{y}<extra></extra>",
         "legendgroup": "FSM",
         "line": {
          "color": "#19d3f3",
          "dash": "solid"
         },
         "marker": {
          "symbol": "circle"
         },
         "mode": "lines",
         "name": "FSM",
         "showlegend": true,
         "type": "scattergl",
         "x": [
          1990,
          1991,
          1992,
          1993,
          1994,
          1995,
          1996,
          1997,
          1998,
          1999,
          2000,
          2001,
          2002,
          2003,
          2004,
          2005,
          2006,
          2007,
          2008,
          2009,
          2010,
          2011,
          2012,
          2013,
          2014,
          2015,
          2016,
          2017
         ],
         "xaxis": "x",
         "y": [
          0,
          0,
          0,
          0,
          0,
          0,
          0.278037795,
          0.570676845,
          1.858718785,
          2.797594069,
          3.734862137,
          4.660527199,
          5.570099705,
          9.2325021,
          11.01786731,
          11.8813691,
          12.75033925,
          13.62113273,
          14.49,
          15.35,
          20,
          22.8,
          25.974423,
          27.8,
          29.65,
          31.50108128,
          33.35216255,
          35.30405287
         ],
         "yaxis": "y"
        },
        {
         "hovertemplate": "Code=MDA<br>Year=%{x}<br>internet_usage=%{y}<extra></extra>",
         "legendgroup": "MDA",
         "line": {
          "color": "#FF6692",
          "dash": "solid"
         },
         "marker": {
          "symbol": "circle"
         },
         "mode": "lines",
         "name": "MDA",
         "showlegend": true,
         "type": "scattergl",
         "x": [
          1990,
          1991,
          1992,
          1993,
          1994,
          1995,
          1996,
          1997,
          1998,
          1999,
          2000,
          2001,
          2002,
          2003,
          2004,
          2005,
          2006,
          2007,
          2008,
          2009,
          2010,
          2011,
          2012,
          2013,
          2014,
          2015,
          2016,
          2017
         ],
         "xaxis": "x",
         "y": [
          0,
          0,
          0,
          0,
          0.000825391,
          0.003457217,
          0.004643901,
          0.028128808,
          0.260818206,
          0.600695269,
          1.282846417,
          1.487812952,
          3.787242799,
          7.407544584,
          10.62939084,
          14.63027046,
          19.62064771,
          20.45,
          23.39,
          27.5,
          32.3,
          38,
          43.37,
          60,
          67,
          69.00000447,
          70.99999911,
          76.12451989
         ],
         "yaxis": "y"
        },
        {
         "hovertemplate": "Code=MCO<br>Year=%{x}<br>internet_usage=%{y}<extra></extra>",
         "legendgroup": "MCO",
         "line": {
          "color": "#B6E880",
          "dash": "solid"
         },
         "marker": {
          "symbol": "circle"
         },
         "mode": "lines",
         "name": "MCO",
         "showlegend": true,
         "type": "scattergl",
         "x": [
          1990,
          1991,
          1992,
          1993,
          1994,
          1995,
          2000,
          2001,
          2002,
          2003,
          2004,
          2005,
          2006,
          2007,
          2008,
          2009,
          2010,
          2011,
          2012,
          2013,
          2014,
          2015,
          2016,
          2017
         ],
         "xaxis": "x",
         "y": [
          0,
          0,
          0,
          0,
          0,
          0,
          42.18486345,
          46.64614236,
          48.04711717,
          49.49116892,
          52.49019668,
          55.46482606,
          61.47603971,
          64.3776824,
          67.25,
          70.1,
          75,
          80.3,
          87,
          90.7,
          92.4,
          93.36330202,
          95.20817797,
          97.05297684
         ],
         "yaxis": "y"
        },
        {
         "hovertemplate": "Code=MNG<br>Year=%{x}<br>internet_usage=%{y}<extra></extra>",
         "legendgroup": "MNG",
         "line": {
          "color": "#FF97FF",
          "dash": "solid"
         },
         "marker": {
          "symbol": "circle"
         },
         "mode": "lines",
         "name": "MNG",
         "showlegend": true,
         "type": "scattergl",
         "x": [
          1990,
          1991,
          1992,
          1993,
          1994,
          1995,
          1996,
          1997,
          1998,
          1999,
          2000,
          2001,
          2002,
          2007,
          2008,
          2009,
          2010,
          2011,
          2012,
          2013,
          2014,
          2015,
          2016,
          2017,
          2018,
          2019
         ],
         "xaxis": "x",
         "y": [
          0,
          0,
          0,
          0,
          0,
          0.008811225,
          0.018160749,
          0.112742554,
          0.145810542,
          0.50847156,
          1.255652004,
          1.653238239,
          2.039572603,
          9,
          9.8,
          10,
          10.2,
          12.49999111,
          16.4,
          17.69998424,
          19.94244743,
          22.50000413,
          22.2657705,
          23.71426517,
          47.13000188,
          51.07999408
         ],
         "yaxis": "y"
        },
        {
         "hovertemplate": "Code=MNE<br>Year=%{x}<br>internet_usage=%{y}<extra></extra>",
         "legendgroup": "MNE",
         "line": {
          "color": "#FECB52",
          "dash": "solid"
         },
         "marker": {
          "symbol": "circle"
         },
         "mode": "lines",
         "name": "MNE",
         "showlegend": true,
         "type": "scattergl",
         "x": [
          2004,
          2005,
          2006,
          2007,
          2008,
          2009,
          2010,
          2011,
          2012,
          2013,
          2014,
          2015,
          2016,
          2017,
          2018,
          2019
         ],
         "xaxis": "x",
         "y": [
          25.3500686,
          27.1,
          28.9,
          30.8,
          32.9,
          35.1,
          37.5,
          35.61154125,
          56.83878255,
          60.31,
          61,
          68.11978601,
          69.88164684,
          71.27233254,
          71.51710049,
          73.47666575
         ],
         "yaxis": "y"
        },
        {
         "hovertemplate": "Code=MAR<br>Year=%{x}<br>internet_usage=%{y}<extra></extra>",
         "legendgroup": "MAR",
         "line": {
          "color": "#636efa",
          "dash": "solid"
         },
         "marker": {
          "symbol": "circle"
         },
         "mode": "lines",
         "name": "MAR",
         "showlegend": true,
         "type": "scattergl",
         "x": [
          1990,
          1991,
          1992,
          1993,
          1994,
          1995,
          1996,
          1997,
          1998,
          1999,
          2000,
          2001,
          2002,
          2003,
          2004,
          2005,
          2006,
          2007,
          2008,
          2009,
          2010,
          2011,
          2012,
          2013,
          2014,
          2015,
          2016,
          2017,
          2018,
          2019
         ],
         "xaxis": "x",
         "y": [
          0,
          0,
          0,
          0,
          0,
          0.003710492,
          0.005675444,
          0.021635203,
          0.142300767,
          0.175595345,
          0.693791245,
          1.371438101,
          2.373253192,
          3.353366681,
          11.60793477,
          15.08444452,
          19.77119157,
          21.5,
          33.1,
          41.3,
          52,
          46.1074826,
          55.41605319,
          56,
          56.8,
          57.07999935,
          58.27123642,
          61.76221201,
          64.80386519,
          74.37631447
         ],
         "yaxis": "y"
        },
        {
         "hovertemplate": "Code=MOZ<br>Year=%{x}<br>internet_usage=%{y}<extra></extra>",
         "legendgroup": "MOZ",
         "line": {
          "color": "#EF553B",
          "dash": "solid"
         },
         "marker": {
          "symbol": "circle"
         },
         "mode": "lines",
         "name": "MOZ",
         "showlegend": true,
         "type": "scattergl",
         "x": [
          1990,
          1991,
          1992,
          1993,
          1994,
          1995,
          1996,
          1997,
          1998,
          1999,
          2000,
          2001,
          2002,
          2003,
          2004,
          2005,
          2006,
          2007,
          2008,
          2009,
          2010,
          2011,
          2012,
          2013,
          2014,
          2015,
          2016,
          2017
         ],
         "xaxis": "x",
         "y": [
          0,
          0,
          0,
          0,
          0,
          0,
          0.003042979,
          0.011842611,
          0.020197055,
          0.056250629,
          0.10959253,
          0.160031947,
          0.259612611,
          0.419538844,
          0.679447835,
          0.854357118,
          0.842954488,
          0.91,
          1.56,
          2.68,
          4.17,
          4.3,
          6,
          7.29393733,
          9.236314896,
          16.93353299,
          17.52123909,
          20.7740003
         ],
         "yaxis": "y"
        },
        {
         "hovertemplate": "Code=MMR<br>Year=%{x}<br>internet_usage=%{y}<extra></extra>",
         "legendgroup": "MMR",
         "line": {
          "color": "#00cc96",
          "dash": "solid"
         },
         "marker": {
          "symbol": "circle"
         },
         "mode": "lines",
         "name": "MMR",
         "showlegend": true,
         "type": "scattergl",
         "x": [
          1990,
          1991,
          1992,
          1993,
          1994,
          1995,
          1999,
          2001,
          2002,
          2003,
          2004,
          2005,
          2006,
          2007,
          2008,
          2009,
          2010,
          2011,
          2012,
          2013,
          2014,
          2015,
          2016,
          2017
         ],
         "xaxis": "x",
         "y": [
          0,
          0,
          0,
          0,
          0,
          0,
          0.000151709,
          0.000289277,
          0.000426494,
          0.024064149,
          0.024337392,
          0.065238856,
          0.182048331,
          0.217128445,
          0.22,
          0.22,
          0.25,
          0.98,
          4,
          8,
          11.52,
          21.72583401,
          25.07330424,
          23.62108195
         ],
         "yaxis": "y"
        },
        {
         "hovertemplate": "Code=NAM<br>Year=%{x}<br>internet_usage=%{y}<extra></extra>",
         "legendgroup": "NAM",
         "line": {
          "color": "#ab63fa",
          "dash": "solid"
         },
         "marker": {
          "symbol": "circle"
         },
         "mode": "lines",
         "name": "NAM",
         "showlegend": true,
         "type": "scattergl",
         "x": [
          1990,
          1991,
          1992,
          1993,
          1994,
          1995,
          1996,
          1997,
          1998,
          1999,
          2000,
          2001,
          2002,
          2003,
          2004,
          2005,
          2006,
          2007,
          2008,
          2009,
          2010,
          2011,
          2012,
          2013,
          2014,
          2015,
          2016,
          2017
         ],
         "xaxis": "x",
         "y": [
          0,
          0,
          0,
          0,
          0,
          0.006172051,
          0.009032145,
          0.058750679,
          0.286745093,
          0.336217708,
          1.644739547,
          2.416979442,
          2.633699769,
          3.359839886,
          3.804715615,
          4.010046644,
          4.398870647,
          4.835610778,
          5.329003772,
          6.5,
          11.6,
          12,
          12.9414,
          13.9,
          14.84,
          25.68785182,
          31.03334594,
          36.83740647
         ],
         "yaxis": "y"
        },
        {
         "hovertemplate": "Code=NRU<br>Year=%{x}<br>internet_usage=%{y}<extra></extra>",
         "legendgroup": "NRU",
         "line": {
          "color": "#FFA15A",
          "dash": "solid"
         },
         "marker": {
          "symbol": "circle"
         },
         "mode": "lines",
         "name": "NRU",
         "showlegend": true,
         "type": "scattergl",
         "x": [
          1990,
          1991,
          1992,
          1993,
          1994,
          1995,
          2001,
          2011,
          2017
         ],
         "xaxis": "x",
         "y": [
          0,
          0,
          0,
          0,
          0,
          0,
          2.987155233,
          54,
          62.38512451
         ],
         "yaxis": "y"
        },
        {
         "hovertemplate": "Code=NPL<br>Year=%{x}<br>internet_usage=%{y}<extra></extra>",
         "legendgroup": "NPL",
         "line": {
          "color": "#19d3f3",
          "dash": "solid"
         },
         "marker": {
          "symbol": "circle"
         },
         "mode": "lines",
         "name": "NPL",
         "showlegend": true,
         "type": "scattergl",
         "x": [
          1990,
          1991,
          1992,
          1993,
          1994,
          1995,
          1996,
          1997,
          1998,
          1999,
          2000,
          2001,
          2002,
          2003,
          2004,
          2005,
          2006,
          2007,
          2008,
          2009,
          2010,
          2011,
          2012,
          2013,
          2014,
          2015,
          2016,
          2017
         ],
         "xaxis": "x",
         "y": [
          0,
          0,
          0,
          0,
          0,
          0.000924878,
          0.004510473,
          0.021998858,
          0.064393596,
          0.146668869,
          0.204651684,
          0.240015303,
          0.31295606,
          0.382810917,
          0.449843651,
          0.826551266,
          1.141389164,
          1.41,
          1.73,
          1.97,
          7.93,
          9,
          11.1493,
          13.3,
          15.44,
          17.58161801,
          19.68876384,
          21.40351043
         ],
         "yaxis": "y"
        },
        {
         "hovertemplate": "Code=NLD<br>Year=%{x}<br>internet_usage=%{y}<extra></extra>",
         "legendgroup": "NLD",
         "line": {
          "color": "#FF6692",
          "dash": "solid"
         },
         "marker": {
          "symbol": "circle"
         },
         "mode": "lines",
         "name": "NLD",
         "showlegend": true,
         "type": "scattergl",
         "x": [
          1990,
          1991,
          1992,
          1993,
          1994,
          1995,
          1996,
          1997,
          1998,
          1999,
          2000,
          2001,
          2002,
          2003,
          2004,
          2005,
          2006,
          2007,
          2008,
          2009,
          2010,
          2011,
          2012,
          2013,
          2014,
          2015,
          2016,
          2017,
          2018,
          2019
         ],
         "xaxis": "x",
         "y": [
          0.334386942,
          0.531496128,
          1.320008028,
          1.967087737,
          3.257308831,
          6.47315766,
          9.649069145,
          14.0655114,
          22.24382769,
          39.17600725,
          43.98435137,
          49.37306211,
          61.29,
          64.35,
          68.52,
          81,
          83.7,
          85.82,
          87.42,
          89.63,
          90.72,
          91.41999576,
          92.85999236,
          93.9564,
          91.666666,
          91.72413793,
          90.4109589,
          93.19727891,
          92.56756757,
          93.2885906
         ],
         "yaxis": "y"
        },
        {
         "hovertemplate": "Code=NCL<br>Year=%{x}<br>internet_usage=%{y}<extra></extra>",
         "legendgroup": "NCL",
         "line": {
          "color": "#B6E880",
          "dash": "solid"
         },
         "marker": {
          "symbol": "circle"
         },
         "mode": "lines",
         "name": "NCL",
         "showlegend": true,
         "type": "scattergl",
         "x": [
          1990,
          1991,
          1992,
          1993,
          1994,
          1995,
          1996,
          1997,
          1998,
          1999,
          2000,
          2001,
          2002,
          2003,
          2004,
          2005,
          2006,
          2007,
          2008,
          2009,
          2010,
          2011,
          2012,
          2013,
          2014,
          2015,
          2017
         ],
         "xaxis": "x",
         "y": [
          0,
          0,
          0,
          0,
          0,
          0.005179013,
          0.252983946,
          0.989334969,
          1.936042825,
          5.688147323,
          13.93954882,
          18.23710978,
          22.38979742,
          26.40833447,
          30.29804621,
          32.35901475,
          33.51571468,
          35.05,
          34.51,
          33.99,
          42,
          50,
          58,
          66,
          70,
          74.00175279,
          82.0058408
         ],
         "yaxis": "y"
        },
        {
         "hovertemplate": "Code=NZL<br>Year=%{x}<br>internet_usage=%{y}<extra></extra>",
         "legendgroup": "NZL",
         "line": {
          "color": "#FF97FF",
          "dash": "solid"
         },
         "marker": {
          "symbol": "circle"
         },
         "mode": "lines",
         "name": "NZL",
         "showlegend": true,
         "type": "scattergl",
         "x": [
          1990,
          1991,
          1992,
          1993,
          1994,
          1995,
          1996,
          1997,
          1998,
          1999,
          2000,
          2001,
          2002,
          2003,
          2004,
          2005,
          2006,
          2007,
          2008,
          2009,
          2010,
          2011,
          2012,
          2013,
          2014,
          2015,
          2016,
          2017
         ],
         "xaxis": "x",
         "y": [
          0,
          0,
          0.285941241,
          0.631215367,
          3.168718848,
          4.88424078,
          8.041899368,
          14.6015244,
          31.63626081,
          41.49448266,
          47.37955654,
          53.24101529,
          59.08075328,
          60.96253987,
          61.84762781,
          62.72021237,
          69,
          69.76,
          72.03,
          79.7,
          80.46,
          81.23,
          81.64447018,
          82.78,
          85.5,
          88.22288882,
          88.47018635,
          90.81109307
         ],
         "yaxis": "y"
        },
        {
         "hovertemplate": "Code=NIC<br>Year=%{x}<br>internet_usage=%{y}<extra></extra>",
         "legendgroup": "NIC",
         "line": {
          "color": "#FECB52",
          "dash": "solid"
         },
         "marker": {
          "symbol": "circle"
         },
         "mode": "lines",
         "name": "NIC",
         "showlegend": true,
         "type": "scattergl",
         "x": [
          1990,
          1991,
          1992,
          1993,
          1994,
          1995,
          1996,
          1997,
          1998,
          1999,
          2000,
          2001,
          2002,
          2003,
          2004,
          2005,
          2006,
          2007,
          2008,
          2009,
          2010,
          2011,
          2012,
          2013,
          2014,
          2015,
          2016,
          2017
         ],
         "xaxis": "x",
         "y": [
          0,
          0,
          0,
          0,
          0.013166228,
          0.030046478,
          0.084093291,
          0.206216818,
          0.303808975,
          0.497901643,
          0.980216487,
          1.448799428,
          1.714729584,
          1.880412532,
          2.320664609,
          2.566351177,
          2.805573063,
          3.9,
          5.3,
          7.3,
          10,
          10.6,
          13.5,
          15.5,
          17.6,
          19.7042915,
          24.57183396,
          27.86304001
         ],
         "yaxis": "y"
        },
        {
         "hovertemplate": "Code=NER<br>Year=%{x}<br>internet_usage=%{y}<extra></extra>",
         "legendgroup": "NER",
         "line": {
          "color": "#636efa",
          "dash": "solid"
         },
         "marker": {
          "symbol": "circle"
         },
         "mode": "lines",
         "name": "NER",
         "showlegend": true,
         "type": "scattergl",
         "x": [
          1990,
          1991,
          1992,
          1993,
          1994,
          1995,
          1996,
          1997,
          1998,
          1999,
          2000,
          2001,
          2002,
          2003,
          2004,
          2005,
          2006,
          2007,
          2008,
          2009,
          2010,
          2011,
          2012,
          2013,
          2014,
          2015,
          2016,
          2017,
          2018
         ],
         "xaxis": "x",
         "y": [
          0,
          0,
          0,
          0,
          0,
          0,
          0.001039305,
          0.002008766,
          0.002911503,
          0.028136022,
          0.036261294,
          0.105185431,
          0.127152469,
          0.155698704,
          0.189933734,
          0.221341351,
          0.294033977,
          0.39039062,
          0.7,
          0.76,
          0.83,
          0.9,
          1.05,
          1.15,
          1.248675689,
          2.476219975,
          4.32275803,
          10.22431156,
          5.250487687
         ],
         "yaxis": "y"
        },
        {
         "hovertemplate": "Code=NGA<br>Year=%{x}<br>internet_usage=%{y}<extra></extra>",
         "legendgroup": "NGA",
         "line": {
          "color": "#EF553B",
          "dash": "solid"
         },
         "marker": {
          "symbol": "circle"
         },
         "mode": "lines",
         "name": "NGA",
         "showlegend": true,
         "type": "scattergl",
         "x": [
          1990,
          1991,
          1992,
          1993,
          1994,
          1995,
          1996,
          1997,
          1998,
          1999,
          2000,
          2001,
          2002,
          2003,
          2004,
          2005,
          2006,
          2007,
          2008,
          2009,
          2010,
          2011,
          2012,
          2013,
          2014,
          2015,
          2016,
          2017
         ],
         "xaxis": "x",
         "y": [
          0,
          0,
          0,
          0,
          0,
          0,
          0.00883298,
          0.017237401,
          0.025231461,
          0.041038723,
          0.064080808,
          0.08990137,
          0.320461976,
          0.558576245,
          1.286137641,
          3.549155718,
          5.545036083,
          6.77,
          8,
          9.3,
          11.5,
          13.8,
          16.1,
          19.1,
          21,
          36,
          25.67,
          7.469439317
         ],
         "yaxis": "y"
        },
        {
         "hovertemplate": "Code=PRK<br>Year=%{x}<br>internet_usage=%{y}<extra></extra>",
         "legendgroup": "PRK",
         "line": {
          "color": "#00cc96",
          "dash": "solid"
         },
         "marker": {
          "symbol": "circle"
         },
         "mode": "lines",
         "name": "PRK",
         "showlegend": true,
         "type": "scattergl",
         "x": [
          1990,
          1991,
          1992,
          1993,
          1994,
          1995,
          1997,
          1998,
          1999,
          2000,
          2001,
          2002,
          2003,
          2004,
          2005,
          2006,
          2007,
          2008,
          2009,
          2010,
          2011,
          2012,
          2013
         ],
         "xaxis": "x",
         "y": [
          0,
          0,
          0,
          0,
          0,
          0,
          0,
          0,
          0,
          0,
          0,
          0,
          0,
          0,
          0,
          0,
          0,
          0,
          0,
          0,
          0,
          0,
          0
         ],
         "yaxis": "y"
        },
        {
         "hovertemplate": "Code=MKD<br>Year=%{x}<br>internet_usage=%{y}<extra></extra>",
         "legendgroup": "MKD",
         "line": {
          "color": "#ab63fa",
          "dash": "solid"
         },
         "marker": {
          "symbol": "circle"
         },
         "mode": "lines",
         "name": "MKD",
         "showlegend": true,
         "type": "scattergl",
         "x": [
          1990,
          1991,
          1992,
          1993,
          1994,
          1995,
          1996,
          1997,
          1998,
          1999,
          2000,
          2001,
          2002,
          2003,
          2004,
          2005,
          2006,
          2007,
          2008,
          2009,
          2010,
          2011,
          2012,
          2013,
          2014,
          2015,
          2016,
          2017,
          2018
         ],
         "xaxis": "x",
         "y": [
          0,
          0,
          0,
          0,
          0,
          0.04074384,
          0.075995734,
          0.503985009,
          1.002861666,
          1.49733026,
          2.485566316,
          3.468184608,
          17.33,
          19.07,
          24.44,
          26.45,
          28.62,
          36.3,
          46.04,
          51.77,
          51.9,
          56.7,
          57.44994731,
          65.24,
          68.06,
          70.38020308,
          72.15681447,
          74.51682418,
          79.16775519
         ],
         "yaxis": "y"
        },
        {
         "hovertemplate": "Code=MNP<br>Year=%{x}<br>internet_usage=%{y}<extra></extra>",
         "legendgroup": "MNP",
         "line": {
          "color": "#FFA15A",
          "dash": "solid"
         },
         "marker": {
          "symbol": "circle"
         },
         "mode": "lines",
         "name": "MNP",
         "showlegend": true,
         "type": "scattergl",
         "x": [
          1990,
          1991,
          1992,
          1993,
          1994,
          1995
         ],
         "xaxis": "x",
         "y": [
          0,
          0,
          0,
          0,
          0,
          0
         ],
         "yaxis": "y"
        },
        {
         "hovertemplate": "Code=NOR<br>Year=%{x}<br>internet_usage=%{y}<extra></extra>",
         "legendgroup": "NOR",
         "line": {
          "color": "#19d3f3",
          "dash": "solid"
         },
         "marker": {
          "symbol": "circle"
         },
         "mode": "lines",
         "name": "NOR",
         "showlegend": true,
         "type": "scattergl",
         "x": [
          1990,
          1991,
          1992,
          1993,
          1994,
          1995,
          1996,
          1997,
          1998,
          1999,
          2000,
          2001,
          2002,
          2003,
          2004,
          2005,
          2006,
          2007,
          2008,
          2009,
          2010,
          2011,
          2012,
          2013,
          2014,
          2015,
          2016,
          2017,
          2018,
          2019
         ],
         "xaxis": "x",
         "y": [
          0.707299448,
          1.407395158,
          2.216365832,
          2.783990846,
          4.152450292,
          6.423220493,
          18.25031077,
          20.41788144,
          22.56011255,
          40,
          52,
          64,
          72.84,
          78.13,
          77.69,
          81.99,
          82.55,
          86.93,
          90.57,
          92.08,
          93.39,
          93.48998265,
          94.64997805,
          95.0534,
          96.3,
          96.81032569,
          97.29820367,
          96.3576013,
          96.49165799,
          98.00000439
         ],
         "yaxis": "y"
        },
        {
         "hovertemplate": "Code=OMN<br>Year=%{x}<br>internet_usage=%{y}<extra></extra>",
         "legendgroup": "OMN",
         "line": {
          "color": "#FF6692",
          "dash": "solid"
         },
         "marker": {
          "symbol": "circle"
         },
         "mode": "lines",
         "name": "OMN",
         "showlegend": true,
         "type": "scattergl",
         "x": [
          1990,
          1991,
          1992,
          1993,
          1994,
          1995,
          1996,
          1997,
          1998,
          1999,
          2000,
          2001,
          2002,
          2003,
          2004,
          2005,
          2006,
          2007,
          2008,
          2009,
          2010,
          2011,
          2012,
          2013,
          2014,
          2015,
          2016,
          2017,
          2019
         ],
         "xaxis": "x",
         "y": [
          0,
          0,
          0,
          0,
          0,
          0,
          0,
          0.439792805,
          0.862725306,
          2.515665987,
          3.520421417,
          5.893841521,
          6.873396039,
          7.255742945,
          6.75885217,
          6.68358142,
          8.299716673,
          16.68,
          20,
          26.8,
          35.8278,
          48,
          60,
          66.45,
          70.22,
          73.53,
          76.84539047,
          80.18563573,
          92.40844424
         ],
         "yaxis": "y"
        },
        {
         "hovertemplate": "Code=PAK<br>Year=%{x}<br>internet_usage=%{y}<extra></extra>",
         "legendgroup": "PAK",
         "line": {
          "color": "#B6E880",
          "dash": "solid"
         },
         "marker": {
          "symbol": "circle"
         },
         "mode": "lines",
         "name": "PAK",
         "showlegend": true,
         "type": "scattergl",
         "x": [
          1990,
          1991,
          1992,
          1993,
          1994,
          1995,
          1996,
          1997,
          1998,
          1999,
          2001,
          2002,
          2003,
          2004,
          2005,
          2006,
          2007,
          2008,
          2009,
          2010,
          2011,
          2012,
          2013,
          2014,
          2015,
          2016,
          2017,
          2019
         ],
         "xaxis": "x",
         "y": [
          0,
          0,
          0,
          0,
          0,
          0.000122702,
          0.00299173,
          0.027549238,
          0.043947719,
          0.055357238,
          1.318550779,
          2.577426737,
          5.041158126,
          6.164320985,
          6.332329098,
          6.5,
          6.8,
          7,
          7.5,
          8,
          9,
          9.96,
          10.9,
          12,
          14,
          12.38544676,
          17.10514586,
          17.07090203
         ],
         "yaxis": "y"
        },
        {
         "hovertemplate": "Code=PLW<br>Year=%{x}<br>internet_usage=%{y}<extra></extra>",
         "legendgroup": "PLW",
         "line": {
          "color": "#FF97FF",
          "dash": "solid"
         },
         "marker": {
          "symbol": "circle"
         },
         "mode": "lines",
         "name": "PLW",
         "showlegend": true,
         "type": "scattergl",
         "x": [
          1990,
          1991,
          1992,
          1993,
          1994,
          1995,
          2002,
          2003,
          2004
         ],
         "xaxis": "x",
         "y": [
          0,
          0,
          0,
          0,
          0,
          0,
          20.24393947,
          21.60152718,
          26.97033263
         ],
         "yaxis": "y"
        },
        {
         "hovertemplate": "Code=PSE<br>Year=%{x}<br>internet_usage=%{y}<extra></extra>",
         "legendgroup": "PSE",
         "line": {
          "color": "#FECB52",
          "dash": "solid"
         },
         "marker": {
          "symbol": "circle"
         },
         "mode": "lines",
         "name": "PSE",
         "showlegend": true,
         "type": "scattergl",
         "x": [
          1990,
          1991,
          1992,
          1993,
          1994,
          1995,
          2000,
          2001,
          2002,
          2003,
          2004,
          2005,
          2006,
          2007,
          2008,
          2009,
          2010,
          2011,
          2012,
          2013,
          2014,
          2015,
          2016,
          2017,
          2018,
          2019
         ],
         "xaxis": "x",
         "y": [
          0,
          0,
          0,
          0,
          0,
          0,
          1.111306207,
          1.836854839,
          3.100092235,
          4.130616356,
          4.400904826,
          16.005,
          18.41,
          21.176,
          24.358,
          32.23,
          37.4,
          41.08,
          43.4,
          46.6,
          53.67,
          57.42419241,
          61.17838483,
          65.2,
          64.39999371,
          70.62260685
         ],
         "yaxis": "y"
        },
        {
         "hovertemplate": "Code=PAN<br>Year=%{x}<br>internet_usage=%{y}<extra></extra>",
         "legendgroup": "PAN",
         "line": {
          "color": "#636efa",
          "dash": "solid"
         },
         "marker": {
          "symbol": "circle"
         },
         "mode": "lines",
         "name": "PAN",
         "showlegend": true,
         "type": "scattergl",
         "x": [
          1990,
          1991,
          1992,
          1993,
          1994,
          1995,
          1996,
          1997,
          1998,
          1999,
          2000,
          2001,
          2002,
          2003,
          2004,
          2005,
          2006,
          2007,
          2008,
          2009,
          2010,
          2011,
          2012,
          2013,
          2014,
          2015,
          2016,
          2017,
          2018,
          2019
         ],
         "xaxis": "x",
         "y": [
          0,
          0,
          0,
          0,
          0.007636899,
          0.056123043,
          0.219998526,
          0.539065541,
          2.750648071,
          3.836864509,
          6.554796477,
          7.268399878,
          8.518077815,
          9.987424077,
          11.14086254,
          11.48400928,
          17.34956617,
          22.29,
          33.82,
          39.08,
          40.1,
          42.7,
          40.30189522,
          44.03,
          44.92,
          51.20542499,
          54,
          59.9506309,
          61.80553132,
          63.62841477
         ],
         "yaxis": "y"
        },
        {
         "hovertemplate": "Code=PNG<br>Year=%{x}<br>internet_usage=%{y}<extra></extra>",
         "legendgroup": "PNG",
         "line": {
          "color": "#EF553B",
          "dash": "solid"
         },
         "marker": {
          "symbol": "circle"
         },
         "mode": "lines",
         "name": "PNG",
         "showlegend": true,
         "type": "scattergl",
         "x": [
          1990,
          1991,
          1992,
          1993,
          1994,
          1995,
          1996,
          1997,
          1998,
          1999,
          2000,
          2001,
          2002,
          2003,
          2004,
          2005,
          2006,
          2007,
          2008,
          2009,
          2010,
          2011,
          2012,
          2013,
          2014,
          2015,
          2016,
          2017
         ],
         "xaxis": "x",
         "y": [
          0,
          0,
          0,
          0,
          0,
          0,
          0.002067023,
          0.100588321,
          0.234958542,
          0.667113315,
          0.835249302,
          0.904103545,
          1.321656935,
          1.374404668,
          1.507912772,
          1.716190476,
          1.754487261,
          1.790559361,
          1.15,
          1.61,
          1.28,
          2,
          3.5,
          5.1,
          6.5,
          7.9,
          9.601538462,
          11.20919659
         ],
         "yaxis": "y"
        },
        {
         "hovertemplate": "Code=PRY<br>Year=%{x}<br>internet_usage=%{y}<extra></extra>",
         "legendgroup": "PRY",
         "line": {
          "color": "#00cc96",
          "dash": "solid"
         },
         "marker": {
          "symbol": "circle"
         },
         "mode": "lines",
         "name": "PRY",
         "showlegend": true,
         "type": "scattergl",
         "x": [
          1990,
          1991,
          1992,
          1993,
          1994,
          1995,
          1996,
          1997,
          1998,
          1999,
          2000,
          2001,
          2002,
          2003,
          2004,
          2005,
          2006,
          2007,
          2008,
          2009,
          2010,
          2011,
          2012,
          2013,
          2014,
          2015,
          2016,
          2017,
          2018,
          2019
         ],
         "xaxis": "x",
         "y": [
          0,
          0,
          0,
          0,
          0,
          0,
          0.020359612,
          0.099576719,
          0.194904951,
          0.38165732,
          0.747630712,
          1.098793836,
          1.794969598,
          2.111942082,
          3.452438431,
          7.907007861,
          7.962073884,
          11.21,
          14.27,
          18.9,
          19.8,
          24.76351588,
          29.34,
          36.9,
          43,
          49.71630466,
          53.40412748,
          61.07575622,
          64.99354302,
          68.51762842
         ],
         "yaxis": "y"
        },
        {
         "hovertemplate": "Code=PER<br>Year=%{x}<br>internet_usage=%{y}<extra></extra>",
         "legendgroup": "PER",
         "line": {
          "color": "#ab63fa",
          "dash": "solid"
         },
         "marker": {
          "symbol": "circle"
         },
         "mode": "lines",
         "name": "PER",
         "showlegend": true,
         "type": "scattergl",
         "x": [
          1990,
          1991,
          1992,
          1993,
          1994,
          1995,
          1996,
          1997,
          1998,
          1999,
          2000,
          2001,
          2002,
          2003,
          2004,
          2005,
          2006,
          2007,
          2008,
          2009,
          2010,
          2011,
          2012,
          2013,
          2014,
          2015,
          2016,
          2017,
          2018,
          2019
         ],
         "xaxis": "x",
         "y": [
          0,
          0,
          0,
          0,
          0.008504578,
          0.033412305,
          0.24623258,
          0.403429701,
          1.19038044,
          1.952497608,
          3.076430611,
          7.578762957,
          8.96694917,
          11.6,
          14.1,
          17.1,
          20.7,
          25.2,
          30.57,
          31.4,
          34.77,
          36.01,
          38.2,
          39.2,
          40.2,
          40.85260091,
          45.46174069,
          50.45041218,
          55.05433424,
          59.9505036
         ],
         "yaxis": "y"
        },
        {
         "hovertemplate": "Code=PHL<br>Year=%{x}<br>internet_usage=%{y}<extra></extra>",
         "legendgroup": "PHL",
         "line": {
          "color": "#FFA15A",
          "dash": "solid"
         },
         "marker": {
          "symbol": "circle"
         },
         "mode": "lines",
         "name": "PHL",
         "showlegend": true,
         "type": "scattergl",
         "x": [
          1990,
          1991,
          1992,
          1993,
          1994,
          1995,
          1996,
          1997,
          1998,
          1999,
          2000,
          2001,
          2002,
          2003,
          2004,
          2005,
          2006,
          2007,
          2008,
          2009,
          2010,
          2011,
          2012,
          2013,
          2014,
          2015,
          2016,
          2017,
          2019
         ],
         "xaxis": "x",
         "y": [
          0,
          0,
          0,
          0,
          0.005844253,
          0.028585702,
          0.055946029,
          0.136912963,
          1.103405994,
          1.431608803,
          1.982253196,
          2.52400566,
          4.332275746,
          4.857672267,
          5.243628452,
          5.397636329,
          5.740586325,
          5.97,
          6.22,
          9,
          25,
          29,
          36.2351,
          48.09902359,
          49.6,
          36,
          55.5,
          60.05476033,
          43.02661187
         ],
         "yaxis": "y"
        },
        {
         "hovertemplate": "Code=POL<br>Year=%{x}<br>internet_usage=%{y}<extra></extra>",
         "legendgroup": "POL",
         "line": {
          "color": "#19d3f3",
          "dash": "solid"
         },
         "marker": {
          "symbol": "circle"
         },
         "mode": "lines",
         "name": "POL",
         "showlegend": true,
         "type": "scattergl",
         "x": [
          1990,
          1991,
          1992,
          1993,
          1994,
          1995,
          1996,
          1997,
          1998,
          1999,
          2000,
          2001,
          2002,
          2003,
          2004,
          2005,
          2006,
          2007,
          2008,
          2009,
          2010,
          2011,
          2012,
          2013,
          2014,
          2015,
          2016,
          2017,
          2018,
          2019
         ],
         "xaxis": "x",
         "y": [
          0,
          0.005229468,
          0.052127181,
          0.129961704,
          0.389098144,
          0.647752333,
          1.295200255,
          2.073465474,
          4.102272002,
          5.45644373,
          7.285428708,
          9.900669707,
          21.15,
          24.87,
          32.53,
          38.81,
          44.58,
          48.6,
          53.13,
          58.97,
          62.32,
          61.94999897,
          62.30999727,
          62.8492,
          66.6,
          67.99698716,
          73.3007041,
          75.98536595,
          77.54173454,
          84.51645192
         ],
         "yaxis": "y"
        },
        {
         "hovertemplate": "Code=PRT<br>Year=%{x}<br>internet_usage=%{y}<extra></extra>",
         "legendgroup": "PRT",
         "line": {
          "color": "#FF6692",
          "dash": "solid"
         },
         "marker": {
          "symbol": "circle"
         },
         "mode": "lines",
         "name": "PRT",
         "showlegend": true,
         "type": "scattergl",
         "x": [
          1990,
          1991,
          1992,
          1993,
          1994,
          1995,
          1996,
          1997,
          1998,
          1999,
          2000,
          2001,
          2002,
          2003,
          2004,
          2005,
          2006,
          2007,
          2008,
          2009,
          2010,
          2011,
          2012,
          2013,
          2014,
          2015,
          2016,
          2017,
          2018,
          2019
         ],
         "xaxis": "x",
         "y": [
          0,
          0.10023057,
          0.250426501,
          0.450161608,
          0.718905754,
          1.494334529,
          2.98087767,
          4.953001955,
          9.870446442,
          14.74233784,
          16.43046769,
          18.08713656,
          19.37,
          29.67,
          31.78,
          34.99,
          38.01,
          42.09,
          44.13,
          48.27,
          53.3,
          55.24999688,
          60.33999749,
          62.0956,
          64.59,
          68.63286148,
          70.42356709,
          73.79121395,
          74.66096815,
          75.34637155
         ],
         "yaxis": "y"
        },
        {
         "hovertemplate": "Code=PRI<br>Year=%{x}<br>internet_usage=%{y}<extra></extra>",
         "legendgroup": "PRI",
         "line": {
          "color": "#B6E880",
          "dash": "solid"
         },
         "marker": {
          "symbol": "circle"
         },
         "mode": "lines",
         "name": "PRI",
         "showlegend": true,
         "type": "scattergl",
         "x": [
          1990,
          1991,
          1992,
          1993,
          1994,
          1995,
          1996,
          1997,
          1998,
          1999,
          2000,
          2001,
          2002,
          2003,
          2004,
          2005,
          2006,
          2007,
          2008,
          2009,
          2010,
          2011,
          2012,
          2013,
          2015,
          2016,
          2017,
          2018,
          2019
         ],
         "xaxis": "x",
         "y": [
          0,
          0,
          0,
          0,
          0.027254662,
          0.135102783,
          0.268160428,
          1.331822159,
          2.647646679,
          5.265682651,
          10.47464821,
          15.63003092,
          17.54764757,
          19.70702566,
          22.13073823,
          23.40005045,
          25.44241821,
          27.86,
          38,
          41.5,
          45.3,
          48,
          68.9999826,
          68.99999,
          63.46633538,
          68.6438072,
          68.74077314,
          70.85639974,
          70.8743212
         ],
         "yaxis": "y"
        },
        {
         "hovertemplate": "Code=QAT<br>Year=%{x}<br>internet_usage=%{y}<extra></extra>",
         "legendgroup": "QAT",
         "line": {
          "color": "#FF97FF",
          "dash": "solid"
         },
         "marker": {
          "symbol": "circle"
         },
         "mode": "lines",
         "name": "QAT",
         "showlegend": true,
         "type": "scattergl",
         "x": [
          1990,
          1991,
          1992,
          1993,
          1994,
          1995,
          1996,
          1997,
          1998,
          1999,
          2000,
          2001,
          2002,
          2003,
          2004,
          2005,
          2006,
          2007,
          2008,
          2009,
          2010,
          2011,
          2012,
          2013,
          2014,
          2015,
          2016,
          2017,
          2018,
          2019
         ],
         "xaxis": "x",
         "y": [
          0,
          0,
          0,
          0,
          0,
          0.190209535,
          0.930185833,
          3.083749186,
          3.52002985,
          4.070728915,
          4.863679179,
          6.170268561,
          10.22612893,
          19.24233642,
          20.70164785,
          24.73349378,
          28.97411271,
          37,
          44.3,
          53.1,
          69,
          69,
          69.3,
          85.3,
          91.49,
          92.88482645,
          95.12466217,
          97.38884917,
          99.65284913,
          99.65280421
         ],
         "yaxis": "y"
        },
        {
         "hovertemplate": "Code=ROU<br>Year=%{x}<br>internet_usage=%{y}<extra></extra>",
         "legendgroup": "ROU",
         "line": {
          "color": "#FECB52",
          "dash": "solid"
         },
         "marker": {
          "symbol": "circle"
         },
         "mode": "lines",
         "name": "ROU",
         "showlegend": true,
         "type": "scattergl",
         "x": [
          1990,
          1991,
          1992,
          1993,
          1994,
          1995,
          1996,
          1997,
          1998,
          1999,
          2000,
          2001,
          2002,
          2003,
          2004,
          2005,
          2006,
          2007,
          2008,
          2009,
          2010,
          2011,
          2012,
          2013,
          2014,
          2015,
          2016,
          2017,
          2018,
          2019
         ],
         "xaxis": "x",
         "y": [
          0,
          0,
          0,
          0.003703214,
          0.026300162,
          0.074952756,
          0.221622649,
          0.445444676,
          2.237649473,
          2.697580217,
          3.613717291,
          4.538669029,
          6.58,
          8.9,
          15,
          21.5,
          24.66,
          28.3,
          32.42,
          36.6,
          39.93,
          40.00999678,
          45.87999425,
          49.7645,
          54.08,
          55.76315563,
          59.50395129,
          63.74728218,
          70.68127793,
          73.65748258
         ],
         "yaxis": "y"
        },
        {
         "hovertemplate": "Code=RUS<br>Year=%{x}<br>internet_usage=%{y}<extra></extra>",
         "legendgroup": "RUS",
         "line": {
          "color": "#636efa",
          "dash": "solid"
         },
         "marker": {
          "symbol": "circle"
         },
         "mode": "lines",
         "name": "RUS",
         "showlegend": true,
         "type": "scattergl",
         "x": [
          1990,
          1991,
          1992,
          1993,
          1994,
          1995,
          1996,
          1997,
          1998,
          1999,
          2000,
          2001,
          2002,
          2003,
          2004,
          2005,
          2006,
          2007,
          2008,
          2009,
          2010,
          2011,
          2012,
          2013,
          2014,
          2015,
          2016,
          2017,
          2018,
          2019
         ],
         "xaxis": "x",
         "y": [
          0,
          0,
          0.000672532,
          0.013447238,
          0.053817493,
          0.148151042,
          0.26975293,
          0.472963763,
          0.812744451,
          1.018984614,
          1.977230109,
          2.944367787,
          4.128271818,
          8.298860616,
          12.8593889,
          15.2266732,
          18.02327746,
          24.66,
          26.83,
          29,
          43,
          49,
          63.8,
          67.97,
          70.52,
          70.09924123,
          73.09143462,
          76.00813853,
          80.86472187,
          82.64216187
         ],
         "yaxis": "y"
        },
        {
         "hovertemplate": "Code=RWA<br>Year=%{x}<br>internet_usage=%{y}<extra></extra>",
         "legendgroup": "RWA",
         "line": {
          "color": "#EF553B",
          "dash": "solid"
         },
         "marker": {
          "symbol": "circle"
         },
         "mode": "lines",
         "name": "RWA",
         "showlegend": true,
         "type": "scattergl",
         "x": [
          1990,
          1991,
          1992,
          1993,
          1994,
          1995,
          1996,
          1997,
          1998,
          1999,
          2000,
          2001,
          2002,
          2003,
          2004,
          2005,
          2007,
          2008,
          2009,
          2010,
          2011,
          2012,
          2013,
          2014,
          2015,
          2016,
          2017
         ],
         "xaxis": "x",
         "y": [
          0,
          0,
          0,
          0,
          0,
          0,
          0.000883372,
          0.001625791,
          0.011763573,
          0.067176482,
          0.06283146,
          0.24067241,
          0.292784719,
          0.356918467,
          0.430854243,
          0.556041165,
          2.115387178,
          4.5,
          7.7,
          8,
          7,
          8.023854277,
          9,
          10.6,
          18,
          20,
          21.76763262
         ],
         "yaxis": "y"
        },
        {
         "hovertemplate": "Code=KNA<br>Year=%{x}<br>internet_usage=%{y}<extra></extra>",
         "legendgroup": "KNA",
         "line": {
          "color": "#00cc96",
          "dash": "solid"
         },
         "marker": {
          "symbol": "circle"
         },
         "mode": "lines",
         "name": "KNA",
         "showlegend": true,
         "type": "scattergl",
         "x": [
          1990,
          1991,
          1992,
          1993,
          1994,
          1995,
          1996,
          1997,
          1998,
          1999,
          2000,
          2001,
          2002,
          2003,
          2004,
          2005,
          2006,
          2007,
          2008,
          2009,
          2010,
          2011,
          2012,
          2013,
          2014,
          2015,
          2016,
          2017
         ],
         "xaxis": "x",
         "y": [
          0,
          0,
          0,
          0,
          0,
          0,
          1.945569823,
          2.258559942,
          3.343810607,
          4.400440044,
          5.86281024,
          7.714726556,
          21.15238176,
          22.96978429,
          24.73767754,
          34,
          38.5,
          43.5,
          49.2,
          55.7,
          63,
          63.2,
          64,
          64.6,
          68,
          75.7,
          76.81767491,
          80.71019081
         ],
         "yaxis": "y"
        },
        {
         "hovertemplate": "Code=LCA<br>Year=%{x}<br>internet_usage=%{y}<extra></extra>",
         "legendgroup": "LCA",
         "line": {
          "color": "#ab63fa",
          "dash": "solid"
         },
         "marker": {
          "symbol": "circle"
         },
         "mode": "lines",
         "name": "LCA",
         "showlegend": true,
         "type": "scattergl",
         "x": [
          1990,
          1991,
          1992,
          1993,
          1994,
          1995,
          1996,
          1997,
          1998,
          1999,
          2000,
          2001,
          2002,
          2003,
          2004,
          2005,
          2006,
          2007,
          2008,
          2009,
          2010,
          2011,
          2012,
          2013,
          2014,
          2015,
          2016,
          2017
         ],
         "xaxis": "x",
         "y": [
          0,
          0,
          0,
          0,
          0,
          0.305656686,
          0.670465974,
          0.992168483,
          1.304988973,
          1.932105802,
          5.090483341,
          8.181863954,
          14.64183577,
          20.98247346,
          21.39521236,
          21.56758295,
          24.5,
          27.9,
          30,
          31,
          32.5,
          34,
          34.82,
          36,
          39.7,
          42.53093047,
          46.72907806,
          50.81524478
         ],
         "yaxis": "y"
        },
        {
         "hovertemplate": "Code=VCT<br>Year=%{x}<br>internet_usage=%{y}<extra></extra>",
         "legendgroup": "VCT",
         "line": {
          "color": "#FFA15A",
          "dash": "solid"
         },
         "marker": {
          "symbol": "circle"
         },
         "mode": "lines",
         "name": "VCT",
         "showlegend": true,
         "type": "scattergl",
         "x": [
          1990,
          1991,
          1992,
          1993,
          1994,
          1995,
          1996,
          1997,
          1998,
          1999,
          2000,
          2001,
          2002,
          2003,
          2004,
          2005,
          2006,
          2007,
          2008,
          2009,
          2010,
          2011,
          2012,
          2013,
          2014,
          2015,
          2016
         ],
         "xaxis": "x",
         "y": [
          0,
          0,
          0,
          0,
          0,
          0.128634622,
          0.483248317,
          0.926371957,
          1.853997683,
          2.7820023,
          3.245037411,
          5.094809778,
          5.54959488,
          6.462274167,
          7.371165842,
          9.198278082,
          12,
          16,
          21,
          31,
          33.7,
          36.7,
          40,
          43.5,
          47.4,
          17.13206652,
          20.68943522
         ],
         "yaxis": "y"
        },
        {
         "hovertemplate": "Code=WSM<br>Year=%{x}<br>internet_usage=%{y}<extra></extra>",
         "legendgroup": "WSM",
         "line": {
          "color": "#19d3f3",
          "dash": "solid"
         },
         "marker": {
          "symbol": "circle"
         },
         "mode": "lines",
         "name": "WSM",
         "showlegend": true,
         "type": "scattergl",
         "x": [
          1990,
          1991,
          1992,
          1993,
          1994,
          1995,
          1997,
          1998,
          1999,
          2000,
          2001,
          2002,
          2003,
          2004,
          2005,
          2006,
          2007,
          2008,
          2009,
          2010,
          2011,
          2012,
          2013,
          2014,
          2015,
          2016,
          2017
         ],
         "xaxis": "x",
         "y": [
          0,
          0,
          0,
          0,
          0,
          0,
          0.174571863,
          0.230359015,
          0.285308333,
          0.566392533,
          1.689902831,
          2.244832676,
          2.799630449,
          3.07552941,
          3.352592112,
          4.469173873,
          4.749983235,
          5.031615316,
          6,
          7,
          11,
          12.92249,
          15.3,
          21.2,
          25.40700977,
          29.41173011,
          33.61093932
         ],
         "yaxis": "y"
        },
        {
         "hovertemplate": "Code=SMR<br>Year=%{x}<br>internet_usage=%{y}<extra></extra>",
         "legendgroup": "SMR",
         "line": {
          "color": "#FF6692",
          "dash": "solid"
         },
         "marker": {
          "symbol": "circle"
         },
         "mode": "lines",
         "name": "SMR",
         "showlegend": true,
         "type": "scattergl",
         "x": [
          1990,
          1991,
          1992,
          1993,
          1994,
          1995,
          1996,
          1997,
          1998,
          1999,
          2000,
          2001,
          2002,
          2003,
          2004,
          2005,
          2006,
          2007,
          2008,
          2009,
          2011,
          2017
         ],
         "xaxis": "x",
         "y": [
          0,
          0,
          0,
          0,
          0,
          1.362132711,
          1.428075186,
          1.41854848,
          1.408557941,
          42.80331575,
          48.79949531,
          50.34166909,
          50.83483994,
          50.00345304,
          50.56634304,
          50.2595642,
          50.20865936,
          50.36482211,
          54.52,
          54.21,
          49.6,
          60.18230126
         ],
         "yaxis": "y"
        },
        {
         "hovertemplate": "Code=STP<br>Year=%{x}<br>internet_usage=%{y}<extra></extra>",
         "legendgroup": "STP",
         "line": {
          "color": "#B6E880",
          "dash": "solid"
         },
         "marker": {
          "symbol": "circle"
         },
         "mode": "lines",
         "name": "STP",
         "showlegend": true,
         "type": "scattergl",
         "x": [
          1990,
          1991,
          1992,
          1993,
          1994,
          1995,
          1998,
          1999,
          2000,
          2001,
          2002,
          2003,
          2004,
          2005,
          2006,
          2007,
          2008,
          2009,
          2010,
          2011,
          2012,
          2013,
          2014,
          2015,
          2016,
          2017
         ],
         "xaxis": "x",
         "y": [
          0,
          0,
          0,
          0,
          0,
          0,
          0.295847047,
          0.363203161,
          4.638516816,
          6.310917888,
          7.580665169,
          10.16184431,
          13.32285269,
          13.75948422,
          14.18201978,
          14.5904832,
          15.48,
          16.41,
          18.75,
          20.1612,
          21.5724,
          23,
          24.41,
          25.82,
          28,
          29.9312292
         ],
         "yaxis": "y"
        },
        {
         "hovertemplate": "Code=SAU<br>Year=%{x}<br>internet_usage=%{y}<extra></extra>",
         "legendgroup": "SAU",
         "line": {
          "color": "#FF97FF",
          "dash": "solid"
         },
         "marker": {
          "symbol": "circle"
         },
         "mode": "lines",
         "name": "SAU",
         "showlegend": true,
         "type": "scattergl",
         "x": [
          1990,
          1991,
          1992,
          1993,
          1994,
          1995,
          1996,
          1997,
          1998,
          1999,
          2000,
          2001,
          2002,
          2003,
          2004,
          2005,
          2006,
          2007,
          2008,
          2009,
          2010,
          2011,
          2012,
          2013,
          2014,
          2015,
          2016,
          2017,
          2018,
          2019
         ],
         "xaxis": "x",
         "y": [
          0,
          0,
          0,
          0,
          0,
          0.010956134,
          0.026732651,
          0.052099031,
          0.101429893,
          0.49358534,
          2.210691809,
          4.681053166,
          6.38470502,
          8.001582891,
          10.234533,
          12.70503599,
          19.45955435,
          30,
          36,
          38,
          41,
          47.5,
          54,
          60.5,
          64.71365737,
          69.6162358,
          74.87927469,
          94.17559961,
          93.31000185,
          95.7247356
         ],
         "yaxis": "y"
        },
        {
         "hovertemplate": "Code=SEN<br>Year=%{x}<br>internet_usage=%{y}<extra></extra>",
         "legendgroup": "SEN",
         "line": {
          "color": "#FECB52",
          "dash": "solid"
         },
         "marker": {
          "symbol": "circle"
         },
         "mode": "lines",
         "name": "SEN",
         "showlegend": true,
         "type": "scattergl",
         "x": [
          1990,
          1991,
          1992,
          1993,
          1994,
          1995,
          1996,
          1997,
          1998,
          1999,
          2000,
          2001,
          2002,
          2003,
          2004,
          2005,
          2006,
          2007,
          2008,
          2009,
          2010,
          2011,
          2012,
          2013,
          2014,
          2015,
          2016,
          2017
         ],
         "xaxis": "x",
         "y": [
          0,
          0,
          0,
          0,
          0,
          0.000692848,
          0.011238219,
          0.027347441,
          0.079871379,
          0.311090952,
          0.403967486,
          0.983794059,
          1.006454537,
          2.10143643,
          4.38602398,
          4.786684083,
          5.611738652,
          6.89,
          7.12,
          7.5,
          8,
          9.8,
          10.8,
          13.1,
          17.7,
          27,
          25.66476804,
          29.64312367
         ],
         "yaxis": "y"
        },
        {
         "hovertemplate": "Code=SRB<br>Year=%{x}<br>internet_usage=%{y}<extra></extra>",
         "legendgroup": "SRB",
         "line": {
          "color": "#636efa",
          "dash": "solid"
         },
         "marker": {
          "symbol": "circle"
         },
         "mode": "lines",
         "name": "SRB",
         "showlegend": true,
         "type": "scattergl",
         "x": [
          2004,
          2005,
          2006,
          2007,
          2008,
          2009,
          2010,
          2011,
          2012,
          2013,
          2014,
          2015,
          2016,
          2017,
          2018,
          2019
         ],
         "xaxis": "x",
         "y": [
          23.5,
          26.3,
          27.2,
          33.15,
          35.6,
          38.1,
          40.9,
          42.2,
          48.1,
          53.45036418,
          62.07508046,
          65.3170254,
          67.05684137,
          70.33083553,
          73.36070915,
          77.41677362
         ],
         "yaxis": "y"
        },
        {
         "hovertemplate": "Code=SYC<br>Year=%{x}<br>internet_usage=%{y}<extra></extra>",
         "legendgroup": "SYC",
         "line": {
          "color": "#EF553B",
          "dash": "solid"
         },
         "marker": {
          "symbol": "circle"
         },
         "mode": "lines",
         "name": "SYC",
         "showlegend": true,
         "type": "scattergl",
         "x": [
          1990,
          1991,
          1992,
          1993,
          1994,
          1995,
          1996,
          1997,
          1998,
          1999,
          2000,
          2001,
          2002,
          2003,
          2004,
          2005,
          2006,
          2007,
          2008,
          2010,
          2011,
          2012,
          2013,
          2014,
          2015,
          2016,
          2017
         ],
         "xaxis": "x",
         "y": [
          0,
          0,
          0,
          0,
          0,
          0,
          0.651474286,
          1.28295593,
          2.526177514,
          6.229054803,
          7.395629183,
          11.01510293,
          14.30417083,
          14.59250432,
          24.27213922,
          25.41326815,
          34.95197117,
          38.38,
          40.44,
          41,
          43.16400446,
          47.076,
          50.4,
          51.25470199,
          54.25961786,
          56.51470815,
          58.76981124
         ],
         "yaxis": "y"
        },
        {
         "hovertemplate": "Code=SLE<br>Year=%{x}<br>internet_usage=%{y}<extra></extra>",
         "legendgroup": "SLE",
         "line": {
          "color": "#00cc96",
          "dash": "solid"
         },
         "marker": {
          "symbol": "circle"
         },
         "mode": "lines",
         "name": "SLE",
         "showlegend": true,
         "type": "scattergl",
         "x": [
          1990,
          1991,
          1992,
          1993,
          1994,
          1995,
          1996,
          1997,
          1998,
          1999,
          2000,
          2001,
          2002,
          2003,
          2004,
          2005,
          2006,
          2007,
          2008,
          2009,
          2010,
          2011,
          2012,
          2013,
          2014,
          2015,
          2016,
          2017
         ],
         "xaxis": "x",
         "y": [
          0,
          0,
          0,
          0,
          0,
          0,
          0.002506116,
          0.004987835,
          0.014805065,
          0.048490656,
          0.118254246,
          0.160264445,
          0.176198957,
          0.190173282,
          0.203007681,
          0.21539161,
          0.227669467,
          0.239834699,
          0.25,
          0.26,
          0.58,
          0.9,
          2.5,
          4,
          6.057298984,
          6.344421603,
          11.77318438,
          13.23693043
         ],
         "yaxis": "y"
        },
        {
         "hovertemplate": "Code=SGP<br>Year=%{x}<br>internet_usage=%{y}<extra></extra>",
         "legendgroup": "SGP",
         "line": {
          "color": "#ab63fa",
          "dash": "solid"
         },
         "marker": {
          "symbol": "circle"
         },
         "mode": "lines",
         "name": "SGP",
         "showlegend": true,
         "type": "scattergl",
         "x": [
          1990,
          1991,
          1992,
          1993,
          1994,
          1995,
          1996,
          1997,
          1998,
          1999,
          2000,
          2001,
          2002,
          2003,
          2004,
          2005,
          2006,
          2007,
          2008,
          2009,
          2010,
          2011,
          2012,
          2013,
          2014,
          2015,
          2016,
          2017,
          2018,
          2019
         ],
         "xaxis": "x",
         "y": [
          0,
          0.161504498,
          0.471368155,
          0.763278139,
          1.185203797,
          2.873418722,
          8.34995903,
          13.47162042,
          19.59076716,
          24.15543693,
          36,
          41.67042518,
          47,
          53.83794329,
          62,
          61,
          59,
          69.9,
          69,
          69,
          71,
          71,
          72,
          80.90205685,
          79.02923586,
          79.012957,
          84.45226789,
          84.45226789,
          88.16563603,
          88.94925269
         ],
         "yaxis": "y"
        },
        {
         "hovertemplate": "Code=SVK<br>Year=%{x}<br>internet_usage=%{y}<extra></extra>",
         "legendgroup": "SVK",
         "line": {
          "color": "#FFA15A",
          "dash": "solid"
         },
         "marker": {
          "symbol": "circle"
         },
         "mode": "lines",
         "name": "SVK",
         "showlegend": true,
         "type": "scattergl",
         "x": [
          1990,
          1991,
          1992,
          1993,
          1994,
          1995,
          1996,
          1997,
          1998,
          1999,
          2000,
          2001,
          2002,
          2003,
          2004,
          2005,
          2006,
          2007,
          2008,
          2009,
          2010,
          2011,
          2012,
          2013,
          2014,
          2015,
          2016,
          2017,
          2018,
          2019
         ],
         "xaxis": "x",
         "y": [
          0,
          0,
          0,
          0.127829232,
          0.318509704,
          0.523210163,
          0.783290109,
          1.173381014,
          2.689809786,
          5.437758139,
          9.426803201,
          12.52832185,
          40.14,
          43.04,
          52.89,
          55.19,
          56.08,
          61.8,
          66.05,
          70,
          75.71,
          74.43999717,
          76.70999012,
          77.8826,
          79.98,
          77.63468203,
          80.47585728,
          81.62566752,
          80.44892248,
          82.8536605
         ],
         "yaxis": "y"
        },
        {
         "hovertemplate": "Code=SVN<br>Year=%{x}<br>internet_usage=%{y}<extra></extra>",
         "legendgroup": "SVN",
         "line": {
          "color": "#19d3f3",
          "dash": "solid"
         },
         "marker": {
          "symbol": "circle"
         },
         "mode": "lines",
         "name": "SVN",
         "showlegend": true,
         "type": "scattergl",
         "x": [
          1990,
          1991,
          1992,
          1993,
          1994,
          1995,
          1996,
          1997,
          1998,
          1999,
          2000,
          2001,
          2002,
          2003,
          2004,
          2005,
          2006,
          2007,
          2008,
          2009,
          2010,
          2011,
          2012,
          2013,
          2014,
          2015,
          2016,
          2017,
          2018,
          2019
         ],
         "xaxis": "x",
         "y": [
          0,
          0,
          0,
          0.409792399,
          1.071570172,
          2.898985609,
          5.072272271,
          7.591923004,
          10.10460285,
          12.61093843,
          15.11025956,
          30.17591047,
          27.83888542,
          31.85479301,
          40.81,
          46.81,
          54.01,
          56.74,
          58,
          64,
          70,
          67.33999481,
          68.34997453,
          72.6756,
          71.59,
          73.09865997,
          75.49850426,
          78.88542636,
          79.7499766,
          83.1083578
         ],
         "yaxis": "y"
        },
        {
         "hovertemplate": "Code=SLB<br>Year=%{x}<br>internet_usage=%{y}<extra></extra>",
         "legendgroup": "SLB",
         "line": {
          "color": "#FF6692",
          "dash": "solid"
         },
         "marker": {
          "symbol": "circle"
         },
         "mode": "lines",
         "name": "SLB",
         "showlegend": true,
         "type": "scattergl",
         "x": [
          1990,
          1991,
          1992,
          1993,
          1994,
          1995,
          1996,
          1997,
          1998,
          1999,
          2000,
          2001,
          2002,
          2003,
          2004,
          2005,
          2006,
          2007,
          2008,
          2009,
          2010,
          2011,
          2012,
          2013,
          2014,
          2015,
          2016,
          2017
         ],
         "xaxis": "x",
         "y": [
          0,
          0,
          0,
          0,
          0,
          0.02487191,
          0.268683585,
          0.391923246,
          0.508292797,
          0.494541498,
          0.481296806,
          0.468551964,
          0.501919843,
          0.555609882,
          0.649672673,
          0.844307573,
          1.646347989,
          2,
          3,
          4,
          5,
          6,
          6.9974,
          8,
          9,
          10.00046498,
          11.00090227,
          11.92422906
         ],
         "yaxis": "y"
        },
        {
         "hovertemplate": "Code=SOM<br>Year=%{x}<br>internet_usage=%{y}<extra></extra>",
         "legendgroup": "SOM",
         "line": {
          "color": "#B6E880",
          "dash": "solid"
         },
         "marker": {
          "symbol": "circle"
         },
         "mode": "lines",
         "name": "SOM",
         "showlegend": true,
         "type": "scattergl",
         "x": [
          1990,
          1991,
          1992,
          1993,
          1994,
          1995,
          1996,
          1997,
          1998,
          1999,
          2000,
          2001,
          2002,
          2003,
          2004,
          2005,
          2006,
          2007,
          2008,
          2009,
          2011,
          2012,
          2013,
          2014,
          2015,
          2016,
          2017
         ],
         "xaxis": "x",
         "y": [
          0,
          0,
          0,
          0,
          0,
          0,
          0.00150955,
          0.002948713,
          0.00716442,
          0.013910394,
          0.02,
          0.079039179,
          0.115614213,
          0.376198003,
          1.053454744,
          1.077327839,
          1.100216368,
          1.122235622,
          1.142687372,
          1.160610542,
          1.25,
          1.3767,
          1.5,
          1.63,
          1.76,
          1.88,
          2.004048698
         ],
         "yaxis": "y"
        },
        {
         "hovertemplate": "Code=ZAF<br>Year=%{x}<br>internet_usage=%{y}<extra></extra>",
         "legendgroup": "ZAF",
         "line": {
          "color": "#FF97FF",
          "dash": "solid"
         },
         "marker": {
          "symbol": "circle"
         },
         "mode": "lines",
         "name": "ZAF",
         "showlegend": true,
         "type": "scattergl",
         "x": [
          1990,
          1991,
          1992,
          1993,
          1994,
          1995,
          1996,
          1997,
          1998,
          1999,
          2000,
          2001,
          2002,
          2003,
          2004,
          2005,
          2006,
          2007,
          2008,
          2009,
          2010,
          2011,
          2012,
          2013,
          2014,
          2015,
          2016,
          2017
         ],
         "xaxis": "x",
         "y": [
          0,
          0.013283591,
          0.038869106,
          0.113747184,
          0.246905533,
          0.676740104,
          0.841882931,
          1.632093791,
          2.906220867,
          4.116249583,
          5.348559732,
          6.346619318,
          6.710322437,
          7.007691726,
          8.425118683,
          7.48854253,
          7.607139675,
          8.065375174,
          8.43,
          10,
          24,
          33.97,
          41,
          46.5,
          49,
          51.91911572,
          54,
          56.16739447
         ],
         "yaxis": "y"
        },
        {
         "hovertemplate": "Code=KOR<br>Year=%{x}<br>internet_usage=%{y}<extra></extra>",
         "legendgroup": "KOR",
         "line": {
          "color": "#FECB52",
          "dash": "solid"
         },
         "marker": {
          "symbol": "circle"
         },
         "mode": "lines",
         "name": "KOR",
         "showlegend": true,
         "type": "scattergl",
         "x": [
          1990,
          1991,
          1992,
          1993,
          1994,
          1995,
          1996,
          1997,
          1998,
          1999,
          2000,
          2001,
          2002,
          2003,
          2004,
          2005,
          2006,
          2007,
          2008,
          2009,
          2010,
          2011,
          2012,
          2013,
          2014,
          2015,
          2016,
          2017,
          2018,
          2019
         ],
         "xaxis": "x",
         "y": [
          0.023265092,
          0.046124435,
          0.098404337,
          0.249946523,
          0.311359364,
          0.81968667,
          1.624237192,
          3.600801564,
          6.781815468,
          23.55219445,
          44.7,
          56.6,
          59.4,
          65.5,
          72.7,
          73.5,
          78.1,
          78.8,
          81,
          81.6,
          83.7,
          83.75912015,
          84.07,
          84.77,
          87.55682649,
          89.8962558,
          92.84302568,
          95.06942188,
          96.02285958,
          96.15758265
         ],
         "yaxis": "y"
        },
        {
         "hovertemplate": "Code=SSD<br>Year=%{x}<br>internet_usage=%{y}<extra></extra>",
         "legendgroup": "SSD",
         "line": {
          "color": "#636efa",
          "dash": "solid"
         },
         "marker": {
          "symbol": "circle"
         },
         "mode": "lines",
         "name": "SSD",
         "showlegend": true,
         "type": "scattergl",
         "x": [
          2013,
          2014,
          2015,
          2016,
          2017
         ],
         "xaxis": "x",
         "y": [
          3.829969245,
          4.51615373,
          5.5,
          6.679728051,
          7.977428907
         ],
         "yaxis": "y"
        },
        {
         "hovertemplate": "Code=ESP<br>Year=%{x}<br>internet_usage=%{y}<extra></extra>",
         "legendgroup": "ESP",
         "line": {
          "color": "#EF553B",
          "dash": "solid"
         },
         "marker": {
          "symbol": "circle"
         },
         "mode": "lines",
         "name": "ESP",
         "showlegend": true,
         "type": "scattergl",
         "x": [
          1990,
          1991,
          1992,
          1993,
          1994,
          1995,
          1996,
          1997,
          1998,
          1999,
          2000,
          2001,
          2002,
          2003,
          2004,
          2005,
          2006,
          2007,
          2008,
          2009,
          2010,
          2011,
          2012,
          2013,
          2014,
          2015,
          2016,
          2017,
          2018,
          2019
         ],
         "xaxis": "x",
         "y": [
          0.012873564,
          0.025686194,
          0.076845453,
          0.127689668,
          0.280069738,
          0.380800728,
          1.331847404,
          2.803319625,
          4.361892394,
          7.085039678,
          13.62496081,
          18.14872269,
          20.39,
          39.93,
          44.01,
          47.88,
          50.37,
          55.11,
          59.6,
          62.4,
          65.8,
          67.08999939,
          69.80999994,
          71.635,
          76.19,
          78.68963187,
          80.56133294,
          84.6022457,
          86.10723553,
          90.71866533
         ],
         "yaxis": "y"
        },
        {
         "hovertemplate": "Code=LKA<br>Year=%{x}<br>internet_usage=%{y}<extra></extra>",
         "legendgroup": "LKA",
         "line": {
          "color": "#00cc96",
          "dash": "solid"
         },
         "marker": {
          "symbol": "circle"
         },
         "mode": "lines",
         "name": "LKA",
         "showlegend": true,
         "type": "scattergl",
         "x": [
          1990,
          1991,
          1992,
          1993,
          1994,
          1995,
          1996,
          1997,
          1998,
          1999,
          2000,
          2001,
          2002,
          2003,
          2004,
          2005,
          2006,
          2007,
          2008,
          2009,
          2010,
          2011,
          2012,
          2013,
          2014,
          2015,
          2016,
          2017
         ],
         "xaxis": "x",
         "y": [
          0,
          0,
          0,
          0,
          0.002765448,
          0.005484436,
          0.054464499,
          0.162464548,
          0.296351104,
          0.348414425,
          0.647410011,
          0.793821864,
          1.050422706,
          1.458580228,
          1.44615998,
          1.792046794,
          2.537566129,
          3.88,
          5.8,
          8.78,
          12,
          15,
          18.2854,
          21.9,
          25.8,
          12.1,
          16.4,
          34.1133479
         ],
         "yaxis": "y"
        },
        {
         "hovertemplate": "Code=SDN<br>Year=%{x}<br>internet_usage=%{y}<extra></extra>",
         "legendgroup": "SDN",
         "line": {
          "color": "#ab63fa",
          "dash": "solid"
         },
         "marker": {
          "symbol": "circle"
         },
         "mode": "lines",
         "name": "SDN",
         "showlegend": true,
         "type": "scattergl",
         "x": [
          1990,
          1991,
          1992,
          1993,
          1994,
          1995,
          1996,
          1997,
          1998,
          1999,
          2000,
          2001,
          2002,
          2003,
          2004,
          2005,
          2007,
          2010,
          2011,
          2012,
          2013,
          2014,
          2015,
          2016,
          2017
         ],
         "xaxis": "x",
         "y": [
          0,
          0,
          0,
          0,
          0,
          0,
          0,
          0.001231819,
          0.004805071,
          0.008794581,
          0.025785032,
          0.140185224,
          0.439477639,
          0.538471703,
          0.791561615,
          1.292040678,
          8.66,
          16.7,
          17.46,
          21,
          22.7,
          24.64,
          26.61,
          14.09999994,
          30.87029573
         ],
         "yaxis": "y"
        },
        {
         "hovertemplate": "Code=SUR<br>Year=%{x}<br>internet_usage=%{y}<extra></extra>",
         "legendgroup": "SUR",
         "line": {
          "color": "#FFA15A",
          "dash": "solid"
         },
         "marker": {
          "symbol": "circle"
         },
         "mode": "lines",
         "name": "SUR",
         "showlegend": true,
         "type": "scattergl",
         "x": [
          1990,
          1991,
          1992,
          1993,
          1994,
          1995,
          1996,
          1997,
          1998,
          1999,
          2000,
          2001,
          2002,
          2003,
          2004,
          2005,
          2006,
          2007,
          2008,
          2009,
          2010,
          2011,
          2012,
          2013,
          2014,
          2015,
          2016,
          2017
         ],
         "xaxis": "x",
         "y": [
          0,
          0,
          0,
          0,
          0,
          0.114720735,
          0.226306297,
          1.003086936,
          1.670148436,
          1.891871357,
          2.506411052,
          3.064448389,
          4.161568745,
          4.719875395,
          6.076047814,
          6.403086288,
          9.499626942,
          14.11,
          21.06,
          31.36,
          31.59,
          32,
          34.6812,
          37.4,
          40.08,
          42.76382778,
          45.4,
          48.94517397
         ],
         "yaxis": "y"
        },
        {
         "hovertemplate": "Code=SWE<br>Year=%{x}<br>internet_usage=%{y}<extra></extra>",
         "legendgroup": "SWE",
         "line": {
          "color": "#19d3f3",
          "dash": "solid"
         },
         "marker": {
          "symbol": "circle"
         },
         "mode": "lines",
         "name": "SWE",
         "showlegend": true,
         "type": "scattergl",
         "x": [
          1990,
          1991,
          1992,
          1993,
          1994,
          1995,
          1996,
          1997,
          1998,
          1999,
          2000,
          2001,
          2002,
          2003,
          2004,
          2005,
          2006,
          2007,
          2008,
          2009,
          2010,
          2011,
          2012,
          2013,
          2014,
          2015,
          2016,
          2017,
          2019
         ],
         "xaxis": "x",
         "y": [
          0.584192066,
          1.160519453,
          1.497871352,
          1.716364182,
          3.412810096,
          5.098024244,
          9.04359976,
          23.72794756,
          33.46751233,
          41.43278316,
          45.68765221,
          51.76566494,
          70.57,
          79.13,
          83.89,
          84.83,
          87.76,
          82.01,
          90,
          91,
          90,
          92.76998606,
          93.17998801,
          94.7836,
          92.52,
          90.61019664,
          89.65094761,
          93.00626697,
          94.49344341
         ],
         "yaxis": "y"
        },
        {
         "hovertemplate": "Code=CHE<br>Year=%{x}<br>internet_usage=%{y}<extra></extra>",
         "legendgroup": "CHE",
         "line": {
          "color": "#FF6692",
          "dash": "solid"
         },
         "marker": {
          "symbol": "circle"
         },
         "mode": "lines",
         "name": "CHE",
         "showlegend": true,
         "type": "scattergl",
         "x": [
          1990,
          1991,
          1992,
          1993,
          1994,
          1995,
          1996,
          1997,
          1998,
          1999,
          2000,
          2001,
          2002,
          2003,
          2004,
          2005,
          2006,
          2007,
          2008,
          2009,
          2010,
          2011,
          2012,
          2013,
          2014,
          2015,
          2016,
          2017,
          2019
         ],
         "xaxis": "x",
         "y": [
          0.595714223,
          1.17995597,
          1.751713322,
          2.167270203,
          2.720004329,
          3.552007211,
          4.549656748,
          15.1,
          24.8,
          34,
          47.1,
          55.1,
          61.4,
          65.1,
          67.8,
          70.1,
          75.7,
          77.2,
          79.2,
          81.3,
          83.9,
          85.19302818,
          85.2,
          86.34,
          87.4,
          87.4790556,
          89.13468774,
          89.68614767,
          93.14608695
         ],
         "yaxis": "y"
        },
        {
         "hovertemplate": "Code=SYR<br>Year=%{x}<br>internet_usage=%{y}<extra></extra>",
         "legendgroup": "SYR",
         "line": {
          "color": "#B6E880",
          "dash": "solid"
         },
         "marker": {
          "symbol": "circle"
         },
         "mode": "lines",
         "name": "SYR",
         "showlegend": true,
         "type": "scattergl",
         "x": [
          1990,
          1991,
          1992,
          1993,
          1994,
          1995,
          1996,
          1997,
          1998,
          1999,
          2000,
          2001,
          2002,
          2003,
          2004,
          2005,
          2006,
          2007,
          2008,
          2009,
          2010,
          2011,
          2012,
          2013,
          2014,
          2015,
          2016,
          2017
         ],
         "xaxis": "x",
         "y": [
          0,
          0,
          0,
          0,
          0,
          0,
          0,
          0.032607814,
          0.063687286,
          0.124295462,
          0.18169858,
          0.35375913,
          2.093101019,
          3.397972614,
          4.321593778,
          5.648106049,
          7.832551569,
          11.5,
          14,
          17.3,
          20.7,
          22.5,
          24.3001,
          26.2,
          28.09,
          29.97979724,
          31.86962727,
          34.25340193
         ],
         "yaxis": "y"
        },
        {
         "hovertemplate": "Code=TJK<br>Year=%{x}<br>internet_usage=%{y}<extra></extra>",
         "legendgroup": "TJK",
         "line": {
          "color": "#FF97FF",
          "dash": "solid"
         },
         "marker": {
          "symbol": "circle"
         },
         "mode": "lines",
         "name": "TJK",
         "showlegend": true,
         "type": "scattergl",
         "x": [
          1990,
          1991,
          1992,
          1993,
          1994,
          1995,
          1999,
          2000,
          2001,
          2002,
          2003,
          2004,
          2005,
          2006,
          2007,
          2008,
          2009,
          2010,
          2011,
          2012,
          2013,
          2014,
          2015,
          2016,
          2017
         ],
         "xaxis": "x",
         "y": [
          0,
          0,
          0,
          0,
          0,
          0,
          0.032791858,
          0.048599595,
          0.051259133,
          0.055462827,
          0.064583777,
          0.077479907,
          0.298690024,
          3.772406207,
          7.197619518,
          8.78,
          10.07,
          11.55,
          13.03,
          14.51,
          16,
          17.49,
          18.98,
          20.47,
          21.96
         ],
         "yaxis": "y"
        },
        {
         "hovertemplate": "Code=TZA<br>Year=%{x}<br>internet_usage=%{y}<extra></extra>",
         "legendgroup": "TZA",
         "line": {
          "color": "#FECB52",
          "dash": "solid"
         },
         "marker": {
          "symbol": "circle"
         },
         "mode": "lines",
         "name": "TZA",
         "showlegend": true,
         "type": "scattergl",
         "x": [
          1990,
          1991,
          1992,
          1993,
          1994,
          1995,
          1996,
          1997,
          1998,
          1999,
          2000,
          2001,
          2002,
          2003,
          2004,
          2005,
          2006,
          2007,
          2008,
          2009,
          2010,
          2011,
          2012,
          2013,
          2014,
          2015,
          2016,
          2017
         ],
         "xaxis": "x",
         "y": [
          0,
          0,
          0,
          0,
          0,
          0,
          0.001622155,
          0.007900283,
          0.009244125,
          0.075130889,
          0.11719444,
          0.171300351,
          0.222484414,
          0.676962857,
          0.877574971,
          1.1,
          1.3,
          1.6,
          1.9,
          2.4,
          2.9,
          3.2,
          3.95,
          4.4,
          7,
          20,
          13.50423285,
          15.99999943
         ],
         "yaxis": "y"
        },
        {
         "hovertemplate": "Code=THA<br>Year=%{x}<br>internet_usage=%{y}<extra></extra>",
         "legendgroup": "THA",
         "line": {
          "color": "#636efa",
          "dash": "solid"
         },
         "marker": {
          "symbol": "circle"
         },
         "mode": "lines",
         "name": "THA",
         "showlegend": true,
         "type": "scattergl",
         "x": [
          1990,
          1991,
          1992,
          1993,
          1994,
          1995,
          1996,
          1997,
          1998,
          1999,
          2000,
          2001,
          2002,
          2003,
          2004,
          2005,
          2006,
          2007,
          2008,
          2009,
          2010,
          2011,
          2012,
          2013,
          2014,
          2015,
          2016,
          2017,
          2018,
          2019
         ],
         "xaxis": "x",
         "y": [
          0,
          5.22e-05,
          0.000343725,
          0.013580966,
          0.038614321,
          0.074825338,
          0.115472136,
          0.360522185,
          1.091218985,
          2.426242432,
          3.689041279,
          5.556326121,
          7.531250335,
          9.299027238,
          10.67730332,
          15.02600436,
          17.16071472,
          20.03,
          18.2,
          20.1,
          22.4,
          23.66992562,
          26.46,
          28.94,
          34.89,
          39.31612674,
          47.50496562,
          52.89192934,
          56.81748093,
          66.65241317
         ],
         "yaxis": "y"
        },
        {
         "hovertemplate": "Code=TLS<br>Year=%{x}<br>internet_usage=%{y}<extra></extra>",
         "legendgroup": "TLS",
         "line": {
          "color": "#EF553B",
          "dash": "solid"
         },
         "marker": {
          "symbol": "circle"
         },
         "mode": "lines",
         "name": "TLS",
         "showlegend": true,
         "type": "scattergl",
         "x": [
          1990,
          1991,
          1992,
          1993,
          1994,
          1995,
          2002,
          2003,
          2004,
          2005,
          2006,
          2007,
          2008,
          2009,
          2010,
          2011,
          2012,
          2013,
          2014,
          2015,
          2016,
          2017
         ],
         "xaxis": "x",
         "y": [
          0,
          0,
          0,
          0,
          0,
          0,
          0,
          0,
          0,
          0.099031768,
          0.5,
          1,
          1.5,
          2,
          3,
          4,
          7,
          11,
          17.5,
          23,
          25.24624959,
          27.49273173
         ],
         "yaxis": "y"
        },
        {
         "hovertemplate": "Code=TGO<br>Year=%{x}<br>internet_usage=%{y}<extra></extra>",
         "legendgroup": "TGO",
         "line": {
          "color": "#00cc96",
          "dash": "solid"
         },
         "marker": {
          "symbol": "circle"
         },
         "mode": "lines",
         "name": "TGO",
         "showlegend": true,
         "type": "scattergl",
         "x": [
          1990,
          1991,
          1992,
          1993,
          1994,
          1995,
          1996,
          1997,
          1998,
          1999,
          2000,
          2001,
          2002,
          2003,
          2004,
          2005,
          2006,
          2007,
          2008,
          2009,
          2010,
          2011,
          2012,
          2013,
          2014,
          2015,
          2016,
          2017
         ],
         "xaxis": "x",
         "y": [
          0,
          0,
          0,
          0,
          0,
          0,
          0.010929139,
          0.211139465,
          0.305583935,
          0.590363264,
          0.8,
          0.9,
          1,
          1.2,
          1.5,
          1.8,
          2,
          2.2,
          2.4,
          2.6,
          3,
          3.5,
          4,
          4.5,
          5.7,
          7.12,
          11.31,
          12.36022497
         ],
         "yaxis": "y"
        },
        {
         "hovertemplate": "Code=TON<br>Year=%{x}<br>internet_usage=%{y}<extra></extra>",
         "legendgroup": "TON",
         "line": {
          "color": "#ab63fa",
          "dash": "solid"
         },
         "marker": {
          "symbol": "circle"
         },
         "mode": "lines",
         "name": "TON",
         "showlegend": true,
         "type": "scattergl",
         "x": [
          1990,
          1991,
          1992,
          1993,
          1994,
          1995,
          1996,
          1997,
          1998,
          1999,
          2000,
          2001,
          2002,
          2003,
          2004,
          2005,
          2006,
          2007,
          2008,
          2009,
          2010,
          2011,
          2012,
          2013,
          2014,
          2015,
          2016,
          2017
         ],
         "xaxis": "x",
         "y": [
          0,
          0,
          0,
          0,
          0,
          0.12323112,
          0.163793456,
          0.510866122,
          0.765134358,
          1.01796712,
          2.434398044,
          2.825371839,
          2.907297316,
          2.985817368,
          3.952373895,
          4.907782762,
          5.853944095,
          7.179865329,
          8.110769944,
          10,
          16,
          25,
          30,
          32.75396061,
          35.95444145,
          38.65127243,
          39.95,
          41.24872764
         ],
         "yaxis": "y"
        },
        {
         "hovertemplate": "Code=TTO<br>Year=%{x}<br>internet_usage=%{y}<extra></extra>",
         "legendgroup": "TTO",
         "line": {
          "color": "#FFA15A",
          "dash": "solid"
         },
         "marker": {
          "symbol": "circle"
         },
         "mode": "lines",
         "name": "TTO",
         "showlegend": true,
         "type": "scattergl",
         "x": [
          1990,
          1991,
          1992,
          1993,
          1994,
          1995,
          1996,
          1997,
          1998,
          1999,
          2000,
          2001,
          2002,
          2003,
          2004,
          2005,
          2006,
          2007,
          2008,
          2009,
          2010,
          2011,
          2012,
          2013,
          2014,
          2015,
          2016,
          2017
         ],
         "xaxis": "x",
         "y": [
          0,
          0,
          0,
          0,
          0,
          0.158149899,
          0.393080525,
          1.173174658,
          2.724825339,
          5.814250962,
          7.721411474,
          15.38462722,
          21.99867548,
          25.97176411,
          27.02427008,
          28.97671243,
          30.00374858,
          32.3,
          34.8,
          44.3,
          48.5,
          55.2,
          59.5162,
          63.8,
          65.1,
          69.19847061,
          73.29694122,
          77.32605293
         ],
         "yaxis": "y"
        },
        {
         "hovertemplate": "Code=TUN<br>Year=%{x}<br>internet_usage=%{y}<extra></extra>",
         "legendgroup": "TUN",
         "line": {
          "color": "#19d3f3",
          "dash": "solid"
         },
         "marker": {
          "symbol": "circle"
         },
         "mode": "lines",
         "name": "TUN",
         "showlegend": true,
         "type": "scattergl",
         "x": [
          1990,
          1991,
          1992,
          1993,
          1994,
          1995,
          1996,
          1997,
          1998,
          1999,
          2000,
          2001,
          2002,
          2003,
          2004,
          2005,
          2006,
          2007,
          2008,
          2009,
          2010,
          2011,
          2012,
          2013,
          2014,
          2015,
          2016,
          2017,
          2018,
          2019
         ],
         "xaxis": "x",
         "y": [
          0,
          0,
          0,
          0,
          0.007379544,
          0.011191954,
          0.027615372,
          0.043656974,
          0.107940957,
          1.602494764,
          2.750740293,
          4.297966035,
          5.252887295,
          6.490845795,
          8.528817752,
          9.655086542,
          12.98640865,
          17.1,
          27.53,
          34.07,
          36.8,
          39.1,
          41.4416,
          43.8,
          46.16,
          46.49999434,
          49.59999484,
          55.50015506,
          64.19081023,
          66.6999983
         ],
         "yaxis": "y"
        },
        {
         "hovertemplate": "Code=TUR<br>Year=%{x}<br>internet_usage=%{y}<extra></extra>",
         "legendgroup": "TUR",
         "line": {
          "color": "#FF6692",
          "dash": "solid"
         },
         "marker": {
          "symbol": "circle"
         },
         "mode": "lines",
         "name": "TUR",
         "showlegend": true,
         "type": "scattergl",
         "x": [
          1990,
          1991,
          1992,
          1993,
          1994,
          1995,
          1996,
          1997,
          1998,
          1999,
          2000,
          2001,
          2002,
          2003,
          2004,
          2005,
          2006,
          2007,
          2008,
          2009,
          2010,
          2011,
          2012,
          2013,
          2014,
          2015,
          2016,
          2017,
          2018,
          2019
         ],
         "xaxis": "x",
         "y": [
          0,
          0,
          0,
          0.008457732,
          0.049869182,
          0.081691205,
          0.192724936,
          0.473695432,
          0.698805129,
          2.292117685,
          3.761685035,
          5.189481461,
          11.38,
          12.33,
          14.58,
          15.46,
          18.24,
          28.63,
          34.37,
          36.4,
          39.82,
          43.06571043,
          45.13,
          46.25,
          51.04,
          53.74497914,
          58.34773401,
          64.68461768,
          71.04276107,
          73.97670403
         ],
         "yaxis": "y"
        },
        {
         "hovertemplate": "Code=TKM<br>Year=%{x}<br>internet_usage=%{y}<extra></extra>",
         "legendgroup": "TKM",
         "line": {
          "color": "#B6E880",
          "dash": "solid"
         },
         "marker": {
          "symbol": "circle"
         },
         "mode": "lines",
         "name": "TKM",
         "showlegend": true,
         "type": "scattergl",
         "x": [
          1990,
          1991,
          1992,
          1993,
          1994,
          1995,
          1999,
          2000,
          2001,
          2002,
          2003,
          2004,
          2005,
          2006,
          2007,
          2008,
          2009,
          2010,
          2011,
          2012,
          2013,
          2014,
          2015,
          2016,
          2017
         ],
         "xaxis": "x",
         "y": [
          0,
          0,
          0,
          0,
          0,
          0,
          0.04502077,
          0.133282183,
          0.175209518,
          0.302132016,
          0.425182632,
          0.754053983,
          0.997256559,
          1.319573118,
          1.406360688,
          1.75,
          1.95,
          3,
          5,
          7.1958,
          9.6,
          12.2,
          14.99677482,
          17.99032446,
          21.25099741
         ],
         "yaxis": "y"
        },
        {
         "hovertemplate": "Code=TCA<br>Year=%{x}<br>internet_usage=%{y}<extra></extra>",
         "legendgroup": "TCA",
         "line": {
          "color": "#FF97FF",
          "dash": "solid"
         },
         "marker": {
          "symbol": "circle"
         },
         "mode": "lines",
         "name": "TCA",
         "showlegend": true,
         "type": "scattergl",
         "x": [
          1990,
          1991,
          1992,
          1993,
          1994,
          1995
         ],
         "xaxis": "x",
         "y": [
          0,
          0,
          0,
          0,
          0,
          0
         ],
         "yaxis": "y"
        },
        {
         "hovertemplate": "Code=TUV<br>Year=%{x}<br>internet_usage=%{y}<extra></extra>",
         "legendgroup": "TUV",
         "line": {
          "color": "#FECB52",
          "dash": "solid"
         },
         "marker": {
          "symbol": "circle"
         },
         "mode": "lines",
         "name": "TUV",
         "showlegend": true,
         "type": "scattergl",
         "x": [
          1990,
          1991,
          1992,
          1993,
          1994,
          1995,
          2000,
          2007,
          2008,
          2009,
          2010,
          2011,
          2012,
          2013,
          2014,
          2015,
          2016,
          2017
         ],
         "xaxis": "x",
         "y": [
          0,
          0,
          0,
          0,
          0,
          0,
          5.241639585,
          10,
          15,
          20,
          25,
          30,
          35,
          37,
          39.2,
          42.7,
          46.00915151,
          49.31833862
         ],
         "yaxis": "y"
        },
        {
         "hovertemplate": "Code=UGA<br>Year=%{x}<br>internet_usage=%{y}<extra></extra>",
         "legendgroup": "UGA",
         "line": {
          "color": "#636efa",
          "dash": "solid"
         },
         "marker": {
          "symbol": "circle"
         },
         "mode": "lines",
         "name": "UGA",
         "showlegend": true,
         "type": "scattergl",
         "x": [
          1990,
          1991,
          1992,
          1993,
          1994,
          1995,
          1996,
          1997,
          1998,
          1999,
          2000,
          2001,
          2002,
          2003,
          2004,
          2005,
          2006,
          2007,
          2008,
          2009,
          2010,
          2011,
          2012,
          2013,
          2014,
          2015,
          2016,
          2017
         ],
         "xaxis": "x",
         "y": [
          0,
          0,
          0,
          0,
          0,
          0.002863471,
          0.004625948,
          0.010319341,
          0.065289465,
          0.10554394,
          0.163714063,
          0.237945087,
          0.384093505,
          0.46484984,
          0.71997068,
          1.742205503,
          2.529363038,
          3.671965351,
          7.9,
          9.78,
          12.5,
          13.01354333,
          14.1,
          15.5,
          16.9,
          17.83485947,
          21.87617046,
          23.70653091
         ],
         "yaxis": "y"
        },
        {
         "hovertemplate": "Code=UKR<br>Year=%{x}<br>internet_usage=%{y}<extra></extra>",
         "legendgroup": "UKR",
         "line": {
          "color": "#EF553B",
          "dash": "solid"
         },
         "marker": {
          "symbol": "circle"
         },
         "mode": "lines",
         "name": "UKR",
         "showlegend": true,
         "type": "scattergl",
         "x": [
          1990,
          1991,
          1992,
          1993,
          1994,
          1995,
          1996,
          1997,
          1998,
          1999,
          2000,
          2001,
          2002,
          2003,
          2004,
          2005,
          2006,
          2007,
          2008,
          2009,
          2010,
          2011,
          2012,
          2013,
          2014,
          2015,
          2016,
          2017,
          2018
         ],
         "xaxis": "x",
         "y": [
          0,
          0,
          0,
          0.00077697,
          0.013641246,
          0.043083985,
          0.098580381,
          0.198821885,
          0.301075792,
          0.405385448,
          0.716183762,
          1.238759547,
          1.873885116,
          3.148127588,
          3.489477881,
          3.749764415,
          4.506124564,
          6.55,
          11,
          17.9,
          23.3,
          28.70826284,
          35.27,
          40.954129,
          46.23597546,
          48.88464368,
          53.0009696,
          58.88947945,
          62.55315539
         ],
         "yaxis": "y"
        },
        {
         "hovertemplate": "Code=ARE<br>Year=%{x}<br>internet_usage=%{y}<extra></extra>",
         "legendgroup": "ARE",
         "line": {
          "color": "#00cc96",
          "dash": "solid"
         },
         "marker": {
          "symbol": "circle"
         },
         "mode": "lines",
         "name": "ARE",
         "showlegend": true,
         "type": "scattergl",
         "x": [
          1990,
          1991,
          1992,
          1993,
          1994,
          1995,
          1996,
          1997,
          1998,
          1999,
          2000,
          2001,
          2002,
          2003,
          2004,
          2005,
          2006,
          2007,
          2008,
          2009,
          2010,
          2011,
          2012,
          2013,
          2014,
          2015,
          2016,
          2017,
          2018,
          2019
         ],
         "xaxis": "x",
         "y": [
          0,
          0,
          0,
          0,
          0,
          0.102939175,
          0.375393534,
          3.295592694,
          6.908302986,
          14.94269899,
          23.62530088,
          26.2717542,
          28.31648531,
          29.47795341,
          30.13129617,
          40,
          52,
          61,
          63,
          64,
          68,
          78,
          84.9999915,
          88,
          90.4,
          90.5,
          90.60000732,
          94.81992254,
          98.45000178,
          99.14999796
         ],
         "yaxis": "y"
        },
        {
         "hovertemplate": "Code=GBR<br>Year=%{x}<br>internet_usage=%{y}<extra></extra>",
         "legendgroup": "GBR",
         "line": {
          "color": "#ab63fa",
          "dash": "solid"
         },
         "marker": {
          "symbol": "circle"
         },
         "mode": "lines",
         "name": "GBR",
         "showlegend": true,
         "type": "scattergl",
         "x": [
          1990,
          1991,
          1992,
          1993,
          1994,
          1995,
          1996,
          1997,
          1998,
          1999,
          2000,
          2001,
          2002,
          2003,
          2004,
          2005,
          2006,
          2007,
          2008,
          2009,
          2010,
          2011,
          2012,
          2013,
          2014,
          2015,
          2016,
          2017,
          2018,
          2019
         ],
         "xaxis": "x",
         "y": [
          0.087355319,
          0.174230922,
          0.260615159,
          0.519762001,
          1.036609166,
          1.895168284,
          4.123650336,
          7.385398957,
          13.6699831,
          21.29363827,
          26.82175435,
          33.48109487,
          56.48,
          64.82,
          65.61,
          70,
          68.82,
          75.09,
          78.39,
          83.56,
          85,
          85.37999855,
          87.47999842,
          89.8441,
          91.61,
          92.00029987,
          94.77580063,
          90.42455049,
          90.69200899,
          92.51662855
         ],
         "yaxis": "y"
        },
        {
         "hovertemplate": "Code=USA<br>Year=%{x}<br>internet_usage=%{y}<extra></extra>",
         "legendgroup": "USA",
         "line": {
          "color": "#FFA15A",
          "dash": "solid"
         },
         "marker": {
          "symbol": "circle"
         },
         "mode": "lines",
         "name": "USA",
         "showlegend": true,
         "type": "scattergl",
         "x": [
          1990,
          1991,
          1992,
          1993,
          1994,
          1995,
          1996,
          1997,
          1998,
          1999,
          2000,
          2001,
          2002,
          2003,
          2004,
          2005,
          2006,
          2007,
          2008,
          2009,
          2010,
          2011,
          2012,
          2013,
          2014,
          2015,
          2016,
          2017,
          2018
         ],
         "xaxis": "x",
         "y": [
          0.784728502,
          1.163193726,
          1.724202539,
          2.271673294,
          4.862780635,
          9.237088297,
          16.41935296,
          21.61640097,
          30.09319659,
          35.84872446,
          43.07916264,
          49.08083159,
          58.78540388,
          61.69711712,
          64.75825648,
          67.96805292,
          68.93119327,
          75,
          74,
          71,
          71.69,
          69.72946076,
          74.7,
          71.4,
          73,
          74.55420245,
          85.54442129,
          87.27488917,
          88.49890317
         ],
         "yaxis": "y"
        },
        {
         "hovertemplate": "Code=VIR<br>Year=%{x}<br>internet_usage=%{y}<extra></extra>",
         "legendgroup": "VIR",
         "line": {
          "color": "#19d3f3",
          "dash": "solid"
         },
         "marker": {
          "symbol": "circle"
         },
         "mode": "lines",
         "name": "VIR",
         "showlegend": true,
         "type": "scattergl",
         "x": [
          1990,
          1991,
          1992,
          1993,
          1994,
          1995,
          1996,
          1997,
          1998,
          1999,
          2000,
          2001,
          2002,
          2003,
          2004,
          2005,
          2006,
          2007,
          2008,
          2009,
          2010,
          2011,
          2012,
          2013,
          2014,
          2015,
          2016,
          2017
         ],
         "xaxis": "x",
         "y": [
          0,
          0,
          0,
          0,
          0.940645283,
          2.801957634,
          4.647185664,
          6.948368986,
          9.245220221,
          11.07460593,
          13.81508054,
          18.37576604,
          27.49443238,
          27.42907299,
          27.37700879,
          27.34431967,
          27.33261054,
          27.33933584,
          27.36177742,
          27.39650968,
          31.22,
          35.6,
          40.5479,
          45.3,
          50.07,
          54.8391373,
          59.6083158,
          64.3774943
         ],
         "yaxis": "y"
        },
        {
         "hovertemplate": "Code=URY<br>Year=%{x}<br>internet_usage=%{y}<extra></extra>",
         "legendgroup": "URY",
         "line": {
          "color": "#FF6692",
          "dash": "solid"
         },
         "marker": {
          "symbol": "circle"
         },
         "mode": "lines",
         "name": "URY",
         "showlegend": true,
         "type": "scattergl",
         "x": [
          1990,
          1991,
          1992,
          1993,
          1994,
          1995,
          1996,
          1997,
          1998,
          1999,
          2000,
          2001,
          2002,
          2003,
          2004,
          2005,
          2006,
          2007,
          2008,
          2009,
          2010,
          2011,
          2012,
          2013,
          2014,
          2015,
          2016,
          2017,
          2018,
          2019
         ],
         "xaxis": "x",
         "y": [
          0,
          0,
          0,
          0,
          0.062474386,
          0.310128582,
          1.847472089,
          3.363239668,
          6.987069365,
          9.972765285,
          10.53905775,
          11.12143768,
          11.4194702,
          15.93713672,
          17.06309834,
          20.08818956,
          29.4,
          34,
          39.3,
          41.8,
          46.4,
          51.40466106,
          54.45376868,
          57.69,
          61.46,
          64.5707871,
          66.4,
          70.3223544,
          74.3831762,
          76.94955197
         ],
         "yaxis": "y"
        },
        {
         "hovertemplate": "Code=UZB<br>Year=%{x}<br>internet_usage=%{y}<extra></extra>",
         "legendgroup": "UZB",
         "line": {
          "color": "#B6E880",
          "dash": "solid"
         },
         "marker": {
          "symbol": "circle"
         },
         "mode": "lines",
         "name": "UZB",
         "showlegend": true,
         "type": "scattergl",
         "x": [
          1990,
          1991,
          1992,
          1993,
          1994,
          1995,
          1996,
          1997,
          1998,
          1999,
          2000,
          2001,
          2002,
          2003,
          2004,
          2005,
          2006,
          2007,
          2008,
          2009,
          2010,
          2011,
          2012,
          2013,
          2014,
          2015,
          2016,
          2017,
          2018
         ],
         "xaxis": "x",
         "y": [
          0,
          0,
          0,
          0,
          0,
          0.001527093,
          0.004285074,
          0.010536935,
          0.020754437,
          0.030688343,
          0.484347308,
          0.597567994,
          1.081939742,
          1.912595178,
          2.593725421,
          3.343509888,
          6.388321967,
          7.490604681,
          9.080114523,
          11.9,
          15.9,
          18.6,
          23.6,
          26.8,
          35.5,
          42.8,
          46.79128694,
          48.69999885,
          55.20000067
         ],
         "yaxis": "y"
        },
        {
         "hovertemplate": "Code=VUT<br>Year=%{x}<br>internet_usage=%{y}<extra></extra>",
         "legendgroup": "VUT",
         "line": {
          "color": "#FF97FF",
          "dash": "solid"
         },
         "marker": {
          "symbol": "circle"
         },
         "mode": "lines",
         "name": "VUT",
         "showlegend": true,
         "type": "scattergl",
         "x": [
          1990,
          1991,
          1992,
          1993,
          1994,
          1995,
          1996,
          1997,
          1998,
          1999,
          2000,
          2001,
          2002,
          2003,
          2004,
          2005,
          2006,
          2007,
          2008,
          2009,
          2010,
          2011,
          2012,
          2013,
          2014,
          2015,
          2016,
          2017
         ],
         "xaxis": "x",
         "y": [
          0,
          0,
          0,
          0,
          0,
          0,
          0.056845636,
          0.139505815,
          0.274185942,
          0.538300048,
          2.108336891,
          2.830572239,
          3.510038711,
          3.903295845,
          4.746602619,
          5.082333808,
          5.850585059,
          6.8,
          7.269119923,
          7.5,
          8,
          9.2,
          10.598,
          11.3,
          18.8,
          22.35140458,
          24,
          25.71978784
         ],
         "yaxis": "y"
        },
        {
         "hovertemplate": "Code=VEN<br>Year=%{x}<br>internet_usage=%{y}<extra></extra>",
         "legendgroup": "VEN",
         "line": {
          "color": "#FECB52",
          "dash": "solid"
         },
         "marker": {
          "symbol": "circle"
         },
         "mode": "lines",
         "name": "VEN",
         "showlegend": true,
         "type": "scattergl",
         "x": [
          1990,
          1991,
          1992,
          1993,
          1994,
          1995,
          1996,
          1997,
          1998,
          1999,
          2000,
          2001,
          2002,
          2003,
          2004,
          2005,
          2006,
          2007,
          2008,
          2009,
          2010,
          2011,
          2012,
          2013,
          2014,
          2015,
          2016,
          2017
         ],
         "xaxis": "x",
         "y": [
          0,
          0,
          0.012082134,
          0.041587233,
          0.055486978,
          0.122214848,
          0.24826058,
          0.390959318,
          1.383990391,
          2.839825767,
          3.359597465,
          4.636000948,
          4.910446327,
          7.499963465,
          8.404469592,
          12.55299791,
          15.22471148,
          20.83,
          25.88,
          32.7,
          37.37,
          40.22,
          49.05008307,
          54.9,
          57,
          64,
          60,
          64.31336383
         ],
         "yaxis": "y"
        },
        {
         "hovertemplate": "Code=VNM<br>Year=%{x}<br>internet_usage=%{y}<extra></extra>",
         "legendgroup": "VNM",
         "line": {
          "color": "#636efa",
          "dash": "solid"
         },
         "marker": {
          "symbol": "circle"
         },
         "mode": "lines",
         "name": "VNM",
         "showlegend": true,
         "type": "scattergl",
         "x": [
          1990,
          1991,
          1992,
          1993,
          1994,
          1995,
          1996,
          1997,
          1998,
          1999,
          2000,
          2001,
          2002,
          2003,
          2004,
          2005,
          2006,
          2007,
          2008,
          2009,
          2010,
          2011,
          2012,
          2013,
          2014,
          2015,
          2016,
          2017,
          2018,
          2019
         ],
         "xaxis": "x",
         "y": [
          0,
          0,
          0,
          0,
          0,
          0,
          0.000134813,
          0.003981962,
          0.013078543,
          0.128926663,
          0.254248276,
          1.265651236,
          1.854999236,
          3.780280814,
          7.642408528,
          12.73992929,
          17.25456172,
          20.75544477,
          23.92,
          26.55,
          30.65,
          35.07,
          36.8,
          38.5,
          41,
          45,
          53,
          58.14,
          69.84792868,
          68.7
         ],
         "yaxis": "y"
        },
        {
         "hovertemplate": "Code=OWID_WRL<br>Year=%{x}<br>internet_usage=%{y}<extra></extra>",
         "legendgroup": "OWID_WRL",
         "line": {
          "color": "#EF553B",
          "dash": "solid"
         },
         "marker": {
          "symbol": "circle"
         },
         "mode": "lines",
         "name": "OWID_WRL",
         "showlegend": true,
         "type": "scattergl",
         "x": [
          1990,
          1991,
          1992,
          1993,
          1994,
          1995,
          1996,
          1997,
          1998,
          1999,
          2000,
          2001,
          2002,
          2003,
          2004,
          2005,
          2006,
          2007,
          2008,
          2009,
          2010,
          2011,
          2012,
          2013,
          2014,
          2015,
          2016,
          2017
         ],
         "xaxis": "x",
         "y": [
          0.0492353503886526,
          0.0791811448606764,
          0.125363507571836,
          0.178899926843963,
          0.359900198627025,
          0.681457000731263,
          1.32346981670892,
          2.03950847211358,
          3.13640582616729,
          4.62993504135382,
          6.73388038172672,
          8.05907355321202,
          10.5283686906732,
          12.2097659831683,
          14.0982293188612,
          15.7028936153559,
          17.4831937915925,
          20.4117381555735,
          22.9587730234956,
          25.3708372478522,
          28.7535063686057,
          31.1482105767916,
          34.2253920368198,
          36.6391439419875,
          39.8585274477917,
          41.6920714467025,
          44.844248197958,
          48.9969115845464
         ],
         "yaxis": "y"
        },
        {
         "hovertemplate": "Code=YEM<br>Year=%{x}<br>internet_usage=%{y}<extra></extra>",
         "legendgroup": "YEM",
         "line": {
          "color": "#00cc96",
          "dash": "solid"
         },
         "marker": {
          "symbol": "circle"
         },
         "mode": "lines",
         "name": "YEM",
         "showlegend": true,
         "type": "scattergl",
         "x": [
          1990,
          1991,
          1992,
          1993,
          1994,
          1995,
          1996,
          1997,
          1998,
          1999,
          2000,
          2001,
          2002,
          2003,
          2004,
          2005,
          2006,
          2007,
          2008,
          2009,
          2010,
          2011,
          2012,
          2013,
          2014,
          2015,
          2016,
          2017
         ],
         "xaxis": "x",
         "y": [
          0,
          0,
          0,
          0,
          0,
          0,
          0.000621081,
          0.015025295,
          0.023323243,
          0.056628675,
          0.082500387,
          0.090802459,
          0.518796032,
          0.6047341,
          0.881222989,
          1.048597934,
          1.247824049,
          5.01,
          6.89,
          9.96,
          12.35,
          14.905,
          17.4465,
          20,
          22.55,
          24.08540947,
          24.57920836,
          26.71835477
         ],
         "yaxis": "y"
        },
        {
         "hovertemplate": "Code=ZMB<br>Year=%{x}<br>internet_usage=%{y}<extra></extra>",
         "legendgroup": "ZMB",
         "line": {
          "color": "#ab63fa",
          "dash": "solid"
         },
         "marker": {
          "symbol": "circle"
         },
         "mode": "lines",
         "name": "ZMB",
         "showlegend": true,
         "type": "scattergl",
         "x": [
          1990,
          1991,
          1992,
          1993,
          1994,
          1995,
          1996,
          1997,
          1998,
          1999,
          2000,
          2001,
          2002,
          2003,
          2004,
          2005,
          2006,
          2007,
          2008,
          2009,
          2010,
          2011,
          2012,
          2013,
          2014,
          2015,
          2016,
          2017,
          2018
         ],
         "xaxis": "x",
         "y": [
          0,
          0,
          0,
          0,
          0.006776105,
          0.008783623,
          0.009069176,
          0.009329658,
          0.030226183,
          0.147053172,
          0.191071643,
          0.233129556,
          0.477750907,
          0.980483039,
          2.013549532,
          2.851752261,
          4.159913394,
          4.87,
          5.55,
          6.31,
          10,
          11.5,
          13.4682,
          15.4,
          19,
          21,
          25.50657885,
          27.8525791,
          14.2999971
         ],
         "yaxis": "y"
        },
        {
         "hovertemplate": "Code=ZWE<br>Year=%{x}<br>internet_usage=%{y}<extra></extra>",
         "legendgroup": "ZWE",
         "line": {
          "color": "#FFA15A",
          "dash": "solid"
         },
         "marker": {
          "symbol": "circle"
         },
         "mode": "lines",
         "name": "ZWE",
         "showlegend": true,
         "type": "scattergl",
         "x": [
          1990,
          1991,
          1992,
          1993,
          1994,
          1995,
          1996,
          1997,
          1998,
          1999,
          2000,
          2001,
          2002,
          2003,
          2004,
          2005,
          2006,
          2007,
          2008,
          2009,
          2010,
          2011,
          2012,
          2013,
          2014,
          2015,
          2016,
          2017
         ],
         "xaxis": "x",
         "y": [
          0,
          0,
          0,
          0,
          0.00173928,
          0.00768354,
          0.016790484,
          0.033080327,
          0.081648476,
          0.161675528,
          0.401433535,
          0.799846046,
          1.1,
          1.8,
          2.1,
          2.4,
          2.4,
          3,
          3.5,
          4,
          6.4,
          8.4,
          12,
          15.5,
          16.36473996,
          22.7428181,
          23.11998904,
          27.05548769
         ],
         "yaxis": "y"
        }
       ],
       "layout": {
        "autosize": true,
        "legend": {
         "title": {
          "text": "Code"
         },
         "tracegroupgap": 0
        },
        "margin": {
         "t": 60
        },
        "template": {
         "data": {
          "bar": [
           {
            "error_x": {
             "color": "#2a3f5f"
            },
            "error_y": {
             "color": "#2a3f5f"
            },
            "marker": {
             "line": {
              "color": "#E5ECF6",
              "width": 0.5
             },
             "pattern": {
              "fillmode": "overlay",
              "size": 10,
              "solidity": 0.2
             }
            },
            "type": "bar"
           }
          ],
          "barpolar": [
           {
            "marker": {
             "line": {
              "color": "#E5ECF6",
              "width": 0.5
             },
             "pattern": {
              "fillmode": "overlay",
              "size": 10,
              "solidity": 0.2
             }
            },
            "type": "barpolar"
           }
          ],
          "carpet": [
           {
            "aaxis": {
             "endlinecolor": "#2a3f5f",
             "gridcolor": "white",
             "linecolor": "white",
             "minorgridcolor": "white",
             "startlinecolor": "#2a3f5f"
            },
            "baxis": {
             "endlinecolor": "#2a3f5f",
             "gridcolor": "white",
             "linecolor": "white",
             "minorgridcolor": "white",
             "startlinecolor": "#2a3f5f"
            },
            "type": "carpet"
           }
          ],
          "choropleth": [
           {
            "colorbar": {
             "outlinewidth": 0,
             "ticks": ""
            },
            "type": "choropleth"
           }
          ],
          "contour": [
           {
            "colorbar": {
             "outlinewidth": 0,
             "ticks": ""
            },
            "colorscale": [
             [
              0,
              "#0d0887"
             ],
             [
              0.1111111111111111,
              "#46039f"
             ],
             [
              0.2222222222222222,
              "#7201a8"
             ],
             [
              0.3333333333333333,
              "#9c179e"
             ],
             [
              0.4444444444444444,
              "#bd3786"
             ],
             [
              0.5555555555555556,
              "#d8576b"
             ],
             [
              0.6666666666666666,
              "#ed7953"
             ],
             [
              0.7777777777777778,
              "#fb9f3a"
             ],
             [
              0.8888888888888888,
              "#fdca26"
             ],
             [
              1,
              "#f0f921"
             ]
            ],
            "type": "contour"
           }
          ],
          "contourcarpet": [
           {
            "colorbar": {
             "outlinewidth": 0,
             "ticks": ""
            },
            "type": "contourcarpet"
           }
          ],
          "heatmap": [
           {
            "colorbar": {
             "outlinewidth": 0,
             "ticks": ""
            },
            "colorscale": [
             [
              0,
              "#0d0887"
             ],
             [
              0.1111111111111111,
              "#46039f"
             ],
             [
              0.2222222222222222,
              "#7201a8"
             ],
             [
              0.3333333333333333,
              "#9c179e"
             ],
             [
              0.4444444444444444,
              "#bd3786"
             ],
             [
              0.5555555555555556,
              "#d8576b"
             ],
             [
              0.6666666666666666,
              "#ed7953"
             ],
             [
              0.7777777777777778,
              "#fb9f3a"
             ],
             [
              0.8888888888888888,
              "#fdca26"
             ],
             [
              1,
              "#f0f921"
             ]
            ],
            "type": "heatmap"
           }
          ],
          "heatmapgl": [
           {
            "colorbar": {
             "outlinewidth": 0,
             "ticks": ""
            },
            "colorscale": [
             [
              0,
              "#0d0887"
             ],
             [
              0.1111111111111111,
              "#46039f"
             ],
             [
              0.2222222222222222,
              "#7201a8"
             ],
             [
              0.3333333333333333,
              "#9c179e"
             ],
             [
              0.4444444444444444,
              "#bd3786"
             ],
             [
              0.5555555555555556,
              "#d8576b"
             ],
             [
              0.6666666666666666,
              "#ed7953"
             ],
             [
              0.7777777777777778,
              "#fb9f3a"
             ],
             [
              0.8888888888888888,
              "#fdca26"
             ],
             [
              1,
              "#f0f921"
             ]
            ],
            "type": "heatmapgl"
           }
          ],
          "histogram": [
           {
            "marker": {
             "pattern": {
              "fillmode": "overlay",
              "size": 10,
              "solidity": 0.2
             }
            },
            "type": "histogram"
           }
          ],
          "histogram2d": [
           {
            "colorbar": {
             "outlinewidth": 0,
             "ticks": ""
            },
            "colorscale": [
             [
              0,
              "#0d0887"
             ],
             [
              0.1111111111111111,
              "#46039f"
             ],
             [
              0.2222222222222222,
              "#7201a8"
             ],
             [
              0.3333333333333333,
              "#9c179e"
             ],
             [
              0.4444444444444444,
              "#bd3786"
             ],
             [
              0.5555555555555556,
              "#d8576b"
             ],
             [
              0.6666666666666666,
              "#ed7953"
             ],
             [
              0.7777777777777778,
              "#fb9f3a"
             ],
             [
              0.8888888888888888,
              "#fdca26"
             ],
             [
              1,
              "#f0f921"
             ]
            ],
            "type": "histogram2d"
           }
          ],
          "histogram2dcontour": [
           {
            "colorbar": {
             "outlinewidth": 0,
             "ticks": ""
            },
            "colorscale": [
             [
              0,
              "#0d0887"
             ],
             [
              0.1111111111111111,
              "#46039f"
             ],
             [
              0.2222222222222222,
              "#7201a8"
             ],
             [
              0.3333333333333333,
              "#9c179e"
             ],
             [
              0.4444444444444444,
              "#bd3786"
             ],
             [
              0.5555555555555556,
              "#d8576b"
             ],
             [
              0.6666666666666666,
              "#ed7953"
             ],
             [
              0.7777777777777778,
              "#fb9f3a"
             ],
             [
              0.8888888888888888,
              "#fdca26"
             ],
             [
              1,
              "#f0f921"
             ]
            ],
            "type": "histogram2dcontour"
           }
          ],
          "mesh3d": [
           {
            "colorbar": {
             "outlinewidth": 0,
             "ticks": ""
            },
            "type": "mesh3d"
           }
          ],
          "parcoords": [
           {
            "line": {
             "colorbar": {
              "outlinewidth": 0,
              "ticks": ""
             }
            },
            "type": "parcoords"
           }
          ],
          "pie": [
           {
            "automargin": true,
            "type": "pie"
           }
          ],
          "scatter": [
           {
            "fillpattern": {
             "fillmode": "overlay",
             "size": 10,
             "solidity": 0.2
            },
            "type": "scatter"
           }
          ],
          "scatter3d": [
           {
            "line": {
             "colorbar": {
              "outlinewidth": 0,
              "ticks": ""
             }
            },
            "marker": {
             "colorbar": {
              "outlinewidth": 0,
              "ticks": ""
             }
            },
            "type": "scatter3d"
           }
          ],
          "scattercarpet": [
           {
            "marker": {
             "colorbar": {
              "outlinewidth": 0,
              "ticks": ""
             }
            },
            "type": "scattercarpet"
           }
          ],
          "scattergeo": [
           {
            "marker": {
             "colorbar": {
              "outlinewidth": 0,
              "ticks": ""
             }
            },
            "type": "scattergeo"
           }
          ],
          "scattergl": [
           {
            "marker": {
             "colorbar": {
              "outlinewidth": 0,
              "ticks": ""
             }
            },
            "type": "scattergl"
           }
          ],
          "scattermapbox": [
           {
            "marker": {
             "colorbar": {
              "outlinewidth": 0,
              "ticks": ""
             }
            },
            "type": "scattermapbox"
           }
          ],
          "scatterpolar": [
           {
            "marker": {
             "colorbar": {
              "outlinewidth": 0,
              "ticks": ""
             }
            },
            "type": "scatterpolar"
           }
          ],
          "scatterpolargl": [
           {
            "marker": {
             "colorbar": {
              "outlinewidth": 0,
              "ticks": ""
             }
            },
            "type": "scatterpolargl"
           }
          ],
          "scatterternary": [
           {
            "marker": {
             "colorbar": {
              "outlinewidth": 0,
              "ticks": ""
             }
            },
            "type": "scatterternary"
           }
          ],
          "surface": [
           {
            "colorbar": {
             "outlinewidth": 0,
             "ticks": ""
            },
            "colorscale": [
             [
              0,
              "#0d0887"
             ],
             [
              0.1111111111111111,
              "#46039f"
             ],
             [
              0.2222222222222222,
              "#7201a8"
             ],
             [
              0.3333333333333333,
              "#9c179e"
             ],
             [
              0.4444444444444444,
              "#bd3786"
             ],
             [
              0.5555555555555556,
              "#d8576b"
             ],
             [
              0.6666666666666666,
              "#ed7953"
             ],
             [
              0.7777777777777778,
              "#fb9f3a"
             ],
             [
              0.8888888888888888,
              "#fdca26"
             ],
             [
              1,
              "#f0f921"
             ]
            ],
            "type": "surface"
           }
          ],
          "table": [
           {
            "cells": {
             "fill": {
              "color": "#EBF0F8"
             },
             "line": {
              "color": "white"
             }
            },
            "header": {
             "fill": {
              "color": "#C8D4E3"
             },
             "line": {
              "color": "white"
             }
            },
            "type": "table"
           }
          ]
         },
         "layout": {
          "annotationdefaults": {
           "arrowcolor": "#2a3f5f",
           "arrowhead": 0,
           "arrowwidth": 1
          },
          "autotypenumbers": "strict",
          "coloraxis": {
           "colorbar": {
            "outlinewidth": 0,
            "ticks": ""
           }
          },
          "colorscale": {
           "diverging": [
            [
             0,
             "#8e0152"
            ],
            [
             0.1,
             "#c51b7d"
            ],
            [
             0.2,
             "#de77ae"
            ],
            [
             0.3,
             "#f1b6da"
            ],
            [
             0.4,
             "#fde0ef"
            ],
            [
             0.5,
             "#f7f7f7"
            ],
            [
             0.6,
             "#e6f5d0"
            ],
            [
             0.7,
             "#b8e186"
            ],
            [
             0.8,
             "#7fbc41"
            ],
            [
             0.9,
             "#4d9221"
            ],
            [
             1,
             "#276419"
            ]
           ],
           "sequential": [
            [
             0,
             "#0d0887"
            ],
            [
             0.1111111111111111,
             "#46039f"
            ],
            [
             0.2222222222222222,
             "#7201a8"
            ],
            [
             0.3333333333333333,
             "#9c179e"
            ],
            [
             0.4444444444444444,
             "#bd3786"
            ],
            [
             0.5555555555555556,
             "#d8576b"
            ],
            [
             0.6666666666666666,
             "#ed7953"
            ],
            [
             0.7777777777777778,
             "#fb9f3a"
            ],
            [
             0.8888888888888888,
             "#fdca26"
            ],
            [
             1,
             "#f0f921"
            ]
           ],
           "sequentialminus": [
            [
             0,
             "#0d0887"
            ],
            [
             0.1111111111111111,
             "#46039f"
            ],
            [
             0.2222222222222222,
             "#7201a8"
            ],
            [
             0.3333333333333333,
             "#9c179e"
            ],
            [
             0.4444444444444444,
             "#bd3786"
            ],
            [
             0.5555555555555556,
             "#d8576b"
            ],
            [
             0.6666666666666666,
             "#ed7953"
            ],
            [
             0.7777777777777778,
             "#fb9f3a"
            ],
            [
             0.8888888888888888,
             "#fdca26"
            ],
            [
             1,
             "#f0f921"
            ]
           ]
          },
          "colorway": [
           "#636efa",
           "#EF553B",
           "#00cc96",
           "#ab63fa",
           "#FFA15A",
           "#19d3f3",
           "#FF6692",
           "#B6E880",
           "#FF97FF",
           "#FECB52"
          ],
          "font": {
           "color": "#2a3f5f"
          },
          "geo": {
           "bgcolor": "white",
           "lakecolor": "white",
           "landcolor": "#E5ECF6",
           "showlakes": true,
           "showland": true,
           "subunitcolor": "white"
          },
          "hoverlabel": {
           "align": "left"
          },
          "hovermode": "closest",
          "mapbox": {
           "style": "light"
          },
          "paper_bgcolor": "white",
          "plot_bgcolor": "#E5ECF6",
          "polar": {
           "angularaxis": {
            "gridcolor": "white",
            "linecolor": "white",
            "ticks": ""
           },
           "bgcolor": "#E5ECF6",
           "radialaxis": {
            "gridcolor": "white",
            "linecolor": "white",
            "ticks": ""
           }
          },
          "scene": {
           "xaxis": {
            "backgroundcolor": "#E5ECF6",
            "gridcolor": "white",
            "gridwidth": 2,
            "linecolor": "white",
            "showbackground": true,
            "ticks": "",
            "zerolinecolor": "white"
           },
           "yaxis": {
            "backgroundcolor": "#E5ECF6",
            "gridcolor": "white",
            "gridwidth": 2,
            "linecolor": "white",
            "showbackground": true,
            "ticks": "",
            "zerolinecolor": "white"
           },
           "zaxis": {
            "backgroundcolor": "#E5ECF6",
            "gridcolor": "white",
            "gridwidth": 2,
            "linecolor": "white",
            "showbackground": true,
            "ticks": "",
            "zerolinecolor": "white"
           }
          },
          "shapedefaults": {
           "line": {
            "color": "#2a3f5f"
           }
          },
          "ternary": {
           "aaxis": {
            "gridcolor": "white",
            "linecolor": "white",
            "ticks": ""
           },
           "baxis": {
            "gridcolor": "white",
            "linecolor": "white",
            "ticks": ""
           },
           "bgcolor": "#E5ECF6",
           "caxis": {
            "gridcolor": "white",
            "linecolor": "white",
            "ticks": ""
           }
          },
          "title": {
           "x": 0.05
          },
          "xaxis": {
           "automargin": true,
           "gridcolor": "white",
           "linecolor": "white",
           "ticks": "",
           "title": {
            "standoff": 15
           },
           "zerolinecolor": "white",
           "zerolinewidth": 2
          },
          "yaxis": {
           "automargin": true,
           "gridcolor": "white",
           "linecolor": "white",
           "ticks": "",
           "title": {
            "standoff": 15
           },
           "zerolinecolor": "white",
           "zerolinewidth": 2
          }
         }
        },
        "xaxis": {
         "anchor": "y",
         "autorange": true,
         "domain": [
          0,
          1
         ],
         "range": [
          1990,
          2019
         ],
         "title": {
          "text": "Year"
         },
         "type": "linear"
        },
        "yaxis": {
         "anchor": "x",
         "autorange": true,
         "domain": [
          0,
          1
         ],
         "range": [
          -5.538972465555555,
          105.24047684555556
         ],
         "title": {
          "text": "internet_usage"
         },
         "type": "linear"
        }
       }
      },
      "image/png": "[encoded data removed]",
      "text/html": [
       "<div>                            <div id=\"7f6c160b-8ca1-488f-9888-f97b89a5d2db\" class=\"plotly-graph-div\" style=\"height:525px; width:100%;\"></div>            <script type=\"text/javascript\">                require([\"plotly\"], function(Plotly) {                    window.PLOTLYENV=window.PLOTLYENV || {};                                    if (document.getElementById(\"7f6c160b-8ca1-488f-9888-f97b89a5d2db\")) {                    Plotly.newPlot(                        \"7f6c160b-8ca1-488f-9888-f97b89a5d2db\",                        [{\"hovertemplate\":\"Code=AFG<br>Year=%{x}<br>internet_usage=%{y}<extra></extra>\",\"legendgroup\":\"AFG\",\"line\":{\"color\":\"#636efa\",\"dash\":\"solid\"},\"marker\":{\"symbol\":\"circle\"},\"mode\":\"lines\",\"name\":\"AFG\",\"showlegend\":true,\"x\":[1990,1991,1992,1993,1994,1995,2001,2002,2003,2004,2005,2006,2007,2008,2009,2010,2011,2012,2013,2014,2015,2017],\"xaxis\":\"x\",\"y\":[0.0,0.0,0.0,0.0,0.0,0.0,0.004722568,0.004561395,0.087891253,0.10580903,1.224148084,2.107123645,1.9,1.84,3.55,4.0,5.0,5.454545455,5.9,7.0,8.26,11.44768809],\"yaxis\":\"y\",\"type\":\"scattergl\"},{\"hovertemplate\":\"Code=ALB<br>Year=%{x}<br>internet_usage=%{y}<extra></extra>\",\"legendgroup\":\"ALB\",\"line\":{\"color\":\"#00cc96\",\"dash\":\"solid\"},\"marker\":{\"symbol\":\"circle\"},\"mode\":\"lines\",\"name\":\"ALB\",\"showlegend\":true,\"x\":[1990,1991,1992,1993,1994,1995,1996,1997,1998,1999,2000,2001,2002,2003,2004,2005,2006,2007,2008,2009,2010,2011,2012,2013,2014,2015,2016,2017,2019],\"xaxis\":\"x\",\"y\":[0.0,0.0,0.0,0.0,0.0,0.011168695,0.032196828,0.048593919,0.06502737,0.081437045,0.114097347,0.325798377,0.390081273,0.971900415,2.420387798,6.043890864,9.609991316,15.03611541,23.86,41.2,45.0,49.0,54.65595904,57.2,60.1,63.2529327,66.3634447,71.8470405,69.64285467],\"yaxis\":\"y\",\"type\":\"scattergl\"},{\"hovertemplate\":\"Code=DZA<br>Year=%{x}<br>internet_usage=%{y}<extra></extra>\",\"legendgroup\":\"DZA\",\"line\":{\"color\":\"#ab63fa\",\"dash\":\"solid\"},\"marker\":{\"symbol\":\"circle\"},\"mode\":\"lines\",\"name\":\"DZA\",\"showlegend\":true,\"x\":[1990,1991,1992,1993,1994,1995,1996,1997,1998,1999,2000,2001,2002,2003,2004,2005,2006,2007,2008,2009,2010,2011,2012,2013,2014,2015,2016,2017,2018],\"xaxis\":\"x\",\"y\":[0.0,0.0,0.0,0.0,0.000360674,0.001768954,0.001738533,0.010268463,0.020238555,0.199523843,0.491705679,0.646114017,1.59164126,2.195359731,4.634475088,5.843942092,7.375984956,9.451190626,10.18,11.23,12.5,14.9,18.2,22.5,29.5,38.2,42.94552688,47.69105515,49.03846808],\"yaxis\":\"y\",\"type\":\"scattergl\"},{\"hovertemplate\":\"Code=ASM<br>Year=%{x}<br>internet_usage=%{y}<extra></extra>\",\"legendgroup\":\"ASM\",\"line\":{\"color\":\"#FFA15A\",\"dash\":\"solid\"},\"marker\":{\"symbol\":\"circle\"},\"mode\":\"lines\",\"name\":\"ASM\",\"showlegend\":true,\"x\":[1990,1991,1992,1993,1994,1995],\"xaxis\":\"x\",\"y\":[0.0,0.0,0.0,0.0,0.0,0.0],\"yaxis\":\"y\",\"type\":\"scattergl\"},{\"hovertemplate\":\"Code=AND<br>Year=%{x}<br>internet_usage=%{y}<extra></extra>\",\"legendgroup\":\"AND\",\"line\":{\"color\":\"#19d3f3\",\"dash\":\"solid\"},\"marker\":{\"symbol\":\"circle\"},\"mode\":\"lines\",\"name\":\"AND\",\"showlegend\":true,\"x\":[1990,1991,1992,1993,1994,1995,1996,1997,1998,1999,2000,2002,2003,2004,2005,2006,2007,2008,2009,2010,2011,2012,2013,2014,2015,2016,2017],\"xaxis\":\"x\",\"y\":[0.0,0.0,0.0,0.0,0.0,0.0,1.526601023,3.050175385,6.886209218,7.635686143,10.53883561,11.26046872,13.54641288,26.83795439,37.60576622,48.936847,70.87,70.04,78.53,81.0,81.0,86.43442462,94.0,95.9,96.91,97.93063712,91.56746703],\"yaxis\":\"y\",\"type\":\"scattergl\"},{\"hovertemplate\":\"Code=AGO<br>Year=%{x}<br>internet_usage=%{y}<extra></extra>\",\"legendgroup\":\"AGO\",\"line\":{\"color\":\"#FF6692\",\"dash\":\"solid\"},\"marker\":{\"symbol\":\"circle\"},\"mode\":\"lines\",\"name\":\"AGO\",\"showlegend\":true,\"x\":[1990,1991,1992,1993,1994,1995,1996,1997,1998,1999,2000,2001,2002,2003,2004,2005,2006,2007,2008,2009,2010,2011,2012,2013,2014,2015,2016,2017],\"xaxis\":\"x\",\"y\":[0.0,0.0,0.0,0.0,0.0,0.0,0.000775929,0.005673746,0.018453724,0.071964087,0.105045562,0.136013867,0.270376746,0.370682065,0.464814618,1.143366827,1.5,1.7,1.9,2.3,2.8,3.1,6.5,8.9,21.4,12.4,13.0,14.33907936],\"yaxis\":\"y\",\"type\":\"scattergl\"},{\"hovertemplate\":\"Code=ATG<br>Year=%{x}<br>internet_usage=%{y}<extra></extra>\",\"legendgroup\":\"ATG\",\"line\":{\"color\":\"#B6E880\",\"dash\":\"solid\"},\"marker\":{\"symbol\":\"circle\"},\"mode\":\"lines\",\"name\":\"ATG\",\"showlegend\":true,\"x\":[1990,1991,1992,1993,1994,1995,1996,1997,1998,1999,2000,2001,2002,2003,2004,2005,2006,2007,2008,2009,2010,2011,2012,2013,2014,2015,2016],\"xaxis\":\"x\",\"y\":[0.0,0.0,0.0,0.0,0.0,2.200768802,2.858449577,3.480536838,4.0717165,5.300681138,6.482225737,8.899285515,12.5,17.22864878,24.26654372,27.0,30.0,34.0,38.0,42.0,47.0,52.0,58.0,63.4,67.78,70.0,73.0],\"yaxis\":\"y\",\"type\":\"scattergl\"},{\"hovertemplate\":\"Code=ARG<br>Year=%{x}<br>internet_usage=%{y}<extra></extra>\",\"legendgroup\":\"ARG\",\"line\":{\"color\":\"#FF97FF\",\"dash\":\"solid\"},\"marker\":{\"symbol\":\"circle\"},\"mode\":\"lines\",\"name\":\"ARG\",\"showlegend\":true,\"x\":[1990,1991,1992,1993,1994,1995,1996,1997,1998,1999,2000,2001,2002,2003,2004,2005,2006,2007,2008,2009,2010,2011,2012,2013,2014,2015,2016,2017],\"xaxis\":\"x\",\"y\":[0.0,0.0,0.002992874,0.029527065,0.043705951,0.086277081,0.141954704,0.280339882,0.83076668,3.284481956,7.038683086,9.780807285,10.88212438,11.91369655,16.03668411,17.72058337,20.9272021,25.94663294,28.11262348,34.0,45.0,51.0,55.8,59.9,64.7,68.04306411,70.96898082,74.29490687],\"yaxis\":\"y\",\"type\":\"scattergl\"},{\"hovertemplate\":\"Code=ARM<br>Year=%{x}<br>internet_usage=%{y}<extra></extra>\",\"legendgroup\":\"ARM\",\"line\":{\"color\":\"#FECB52\",\"dash\":\"solid\"},\"marker\":{\"symbol\":\"circle\"},\"mode\":\"lines\",\"name\":\"ARM\",\"showlegend\":true,\"x\":[1990,1991,1992,1993,1994,1995,1996,1997,1998,1999,2000,2001,2002,2003,2004,2005,2006,2007,2008,2009,2010,2011,2012,2013,2014,2015,2016,2017,2018],\"xaxis\":\"x\",\"y\":[0.0,0.0,0.0,0.0,0.009117014,0.052743123,0.094572902,0.111650935,0.128659478,0.970737757,1.300470022,1.631094667,1.960405046,4.575217225,4.899008571,5.252983352,5.631787777,6.021253397,6.21,15.3,25.0,32.0,37.5,41.9,54.62280586,59.10083377,64.34602977,64.74488433,68.24505226],\"yaxis\":\"y\",\"type\":\"scattergl\"},{\"hovertemplate\":\"Code=ABW<br>Year=%{x}<br>internet_usage=%{y}<extra></extra>\",\"legendgroup\":\"ABW\",\"line\":{\"color\":\"#636efa\",\"dash\":\"solid\"},\"marker\":{\"symbol\":\"circle\"},\"mode\":\"lines\",\"name\":\"ABW\",\"showlegend\":true,\"x\":[1990,1991,1992,1993,1994,1995,1996,1999,2000,2001,2002,2003,2004,2005,2006,2007,2008,2009,2010,2011,2012,2013,2014,2015,2016,2017],\"xaxis\":\"x\",\"y\":[0.0,0.0,0.0,0.0,0.0,0.0,2.768382663,4.506179098,15.44282295,17.1,18.8,20.8,23.0,25.4,28.0,30.9,52.0,58.0,62.0,69.0,74.0,78.9,83.78,88.66122693,93.54245387,97.17],\"yaxis\":\"y\",\"type\":\"scattergl\"},{\"hovertemplate\":\"Code=AUS<br>Year=%{x}<br>internet_usage=%{y}<extra></extra>\",\"legendgroup\":\"AUS\",\"line\":{\"color\":\"#EF553B\",\"dash\":\"solid\"},\"marker\":{\"symbol\":\"circle\"},\"mode\":\"lines\",\"name\":\"AUS\",\"showlegend\":true,\"x\":[1990,1991,1992,1993,1994,1995,1996,1997,1998,1999,2000,2001,2005,2006,2007,2008,2009,2010,2011,2012,2013,2014,2015,2016,2017],\"xaxis\":\"x\",\"y\":[0.585094712,1.097203891,1.768764913,1.974611016,2.232101254,2.759654513,3.27524987,16.36935838,30.81323944,40.7837839,46.75611561,52.68926643,63.0,66.0,69.45,71.67,74.25,76.0,79.48769771,79.0,83.45349717,84.0,84.56051491,86.54,86.54504885],\"yaxis\":\"y\",\"type\":\"scattergl\"},{\"hovertemplate\":\"Code=AUT<br>Year=%{x}<br>internet_usage=%{y}<extra></extra>\",\"legendgroup\":\"AUT\",\"line\":{\"color\":\"#00cc96\",\"dash\":\"solid\"},\"marker\":{\"symbol\":\"circle\"},\"mode\":\"lines\",\"name\":\"AUT\",\"showlegend\":true,\"x\":[1990,1991,1992,1993,1994,1995,1996,1997,1998,1999,2000,2001,2002,2003,2004,2005,2006,2007,2008,2009,2010,2011,2012,2013,2014,2015,2016,2017,2018,2019],\"xaxis\":\"x\",\"y\":[0.130369377,0.259081553,0.642817619,0.76534273,1.393422968,1.890210524,6.909162353,9.533974317,15.42121932,23.0443171,33.73013295,39.18545018,36.56,42.7,54.28,58.0,63.6,69.37,72.87,73.45,75.17,78.7399931,80.02999392,80.6188,80.99582496,83.94014193,84.32374257,87.93558659,87.47913723,87.75220479],\"yaxis\":\"y\",\"type\":\"scattergl\"},{\"hovertemplate\":\"Code=AZE<br>Year=%{x}<br>internet_usage=%{y}<extra></extra>\",\"legendgroup\":\"AZE\",\"line\":{\"color\":\"#ab63fa\",\"dash\":\"solid\"},\"marker\":{\"symbol\":\"circle\"},\"mode\":\"lines\",\"name\":\"AZE\",\"showlegend\":true,\"x\":[1990,1991,1992,1993,1994,1995,1996,1997,1998,1999,2000,2001,2002,2005,2006,2007,2008,2009,2010,2011,2012,2013,2014,2015,2016,2017,2018],\"xaxis\":\"x\",\"y\":[0.0,0.0,0.0,0.0,0.001431415,0.002055556,0.006354585,0.025187933,0.037485109,0.099228942,0.147757576,0.305564638,4.999713678,8.030375356,11.99217733,14.54,17.08,27.4,46.0,50.0,54.2,73.00000137,75.00001564,77.0,78.2,79.0,79.79999549],\"yaxis\":\"y\",\"type\":\"scattergl\"},{\"hovertemplate\":\"Code=BHS<br>Year=%{x}<br>internet_usage=%{y}<extra></extra>\",\"legendgroup\":\"BHS\",\"line\":{\"color\":\"#FFA15A\",\"dash\":\"solid\"},\"marker\":{\"symbol\":\"circle\"},\"mode\":\"lines\",\"name\":\"BHS\",\"showlegend\":true,\"x\":[1990,1991,1992,1993,1994,1995,1996,1997,1998,1999,2000,2001,2002,2003,2004,2005,2006,2007,2008,2009,2010,2011,2012,2013,2014,2015,2016,2017],\"xaxis\":\"x\",\"y\":[0.0,0.0,0.0,0.0,0.0,0.960030721,1.746950698,1.362953903,2.33559071,3.764557822,8.0,11.8,18.0,20.0,22.0,25.0,26.0,27.0,31.54,33.88,43.0,65.0,71.74820281,72.0,76.92,78.0,80.0,85.0],\"yaxis\":\"y\",\"type\":\"scattergl\"},{\"hovertemplate\":\"Code=BHR<br>Year=%{x}<br>internet_usage=%{y}<extra></extra>\",\"legendgroup\":\"BHR\",\"line\":{\"color\":\"#19d3f3\",\"dash\":\"solid\"},\"marker\":{\"symbol\":\"circle\"},\"mode\":\"lines\",\"name\":\"BHR\",\"showlegend\":true,\"x\":[1990,1991,1992,1993,1994,1995,1996,1997,1998,1999,2000,2001,2002,2003,2004,2005,2006,2007,2008,2009,2010,2011,2012,2013,2014,2015,2016,2017,2018,2019],\"xaxis\":\"x\",\"y\":[0.0,0.0,0.0,0.0,0.0,0.346205844,0.843254219,1.646299202,3.218202151,4.720358118,6.153732546,15.03863425,18.05072089,21.55494499,21.45868051,21.30373351,28.24395243,32.91,51.95,53.0,55.0,76.9999665,88.0,90.0000397,90.50313348,93.4783008,97.9999807,95.87813575,98.64467258,99.70150438],\"yaxis\":\"y\",\"type\":\"scattergl\"},{\"hovertemplate\":\"Code=BGD<br>Year=%{x}<br>internet_usage=%{y}<extra></extra>\",\"legendgroup\":\"BGD\",\"line\":{\"color\":\"#FF6692\",\"dash\":\"solid\"},\"marker\":{\"symbol\":\"circle\"},\"mode\":\"lines\",\"name\":\"BGD\",\"showlegend\":true,\"x\":[1990,1991,1992,1993,1994,1995,1997,1998,1999,2000,2001,2002,2003,2004,2005,2006,2007,2008,2009,2010,2011,2012,2013,2014,2015,2016,2019],\"xaxis\":\"x\",\"y\":[0.0,0.0,0.0,0.0,0.0,0.0,0.000751046,0.003684813,0.036170407,0.071039423,0.129807974,0.139920289,0.163877665,0.199036334,0.241637326,1.0,1.8,2.5,3.1,3.7,4.5,5.0,6.63,13.9,14.4,18.02,12.9],\"yaxis\":\"y\",\"type\":\"scattergl\"},{\"hovertemplate\":\"Code=BRB<br>Year=%{x}<br>internet_usage=%{y}<extra></extra>\",\"legendgroup\":\"BRB\",\"line\":{\"color\":\"#B6E880\",\"dash\":\"solid\"},\"marker\":{\"symbol\":\"circle\"},\"mode\":\"lines\",\"name\":\"BRB\",\"showlegend\":true,\"x\":[1990,1991,1992,1993,1994,1995,1996,1997,1998,1999,2000,2001,2002,2003,2004,2005,2006,2007,2008,2009,2010,2011,2012,2013,2014,2015,2016,2017],\"xaxis\":\"x\",\"y\":[0.0,0.0,0.0,0.0,0.0,0.007752238,0.389464214,0.783428912,1.970249237,2.376247035,3.973678355,11.93645034,27.83632242,39.68962712,49.8,52.5,55.3,58.2,61.4,64.7,65.1,66.5,71.2,71.8,75.16,76.11,79.54939789,81.76077839],\"yaxis\":\"y\",\"type\":\"scattergl\"},{\"hovertemplate\":\"Code=BLR<br>Year=%{x}<br>internet_usage=%{y}<extra></extra>\",\"legendgroup\":\"BLR\",\"line\":{\"color\":\"#FF97FF\",\"dash\":\"solid\"},\"marker\":{\"symbol\":\"circle\"},\"mode\":\"lines\",\"name\":\"BLR\",\"showlegend\":true,\"x\":[1990,1991,1992,1993,1994,1995,1996,1997,1998,1999,2000,2001,2002,2006,2007,2008,2009,2010,2011,2012,2013,2014,2015,2016,2017,2018,2019],\"xaxis\":\"x\",\"y\":[0.0,0.0,0.0,0.0,0.000485951,0.002921254,0.029298294,0.049020891,0.073868897,0.494881245,1.860398126,4.300616022,8.950971315,16.2,19.7,23.0,27.43,31.8,39.64889566,46.91,54.17,59.02,62.23036091,71.11304576,74.43644541,79.12988669,82.78915209],\"yaxis\":\"y\",\"type\":\"scattergl\"},{\"hovertemplate\":\"Code=BEL<br>Year=%{x}<br>internet_usage=%{y}<extra></extra>\",\"legendgroup\":\"BEL\",\"line\":{\"color\":\"#FECB52\",\"dash\":\"solid\"},\"marker\":{\"symbol\":\"circle\"},\"mode\":\"lines\",\"name\":\"BEL\",\"showlegend\":true,\"x\":[1990,1991,1992,1993,1994,1995,1996,1997,1998,1999,2000,2001,2002,2003,2004,2005,2006,2007,2008,2009,2010,2011,2012,2013,2014,2015,2016,2017,2018,2019],\"xaxis\":\"x\",\"y\":[0.00100674,0.020072645,0.100041027,0.199446059,0.69599469,0.99166299,2.968411647,4.93808091,7.886622701,13.77221446,29.43169169,31.28839551,46.33,49.97,53.86,55.82,59.72,64.44,66.0,70.0,75.0,81.609996,80.71999055,82.1702,85.0,85.05294175,86.51647666,87.67968082,88.65506428,90.37051309],\"yaxis\":\"y\",\"type\":\"scattergl\"},{\"hovertemplate\":\"Code=BLZ<br>Year=%{x}<br>internet_usage=%{y}<extra></extra>\",\"legendgroup\":\"BLZ\",\"line\":{\"color\":\"#636efa\",\"dash\":\"solid\"},\"marker\":{\"symbol\":\"circle\"},\"mode\":\"lines\",\"name\":\"BLZ\",\"showlegend\":true,\"x\":[1990,1991,1992,1993,1994,1995,1996,1997,1998,1999,2000,2002,2004,2005,2006,2007,2008,2009,2010,2011,2012,2013,2014,2015,2016,2017],\"xaxis\":\"x\",\"y\":[0.0,0.0,0.0,0.0,0.0,0.04539718,0.882807327,1.288582302,2.091516391,4.076740564,5.963835303,5.684251214,9.8,17.0,24.0,24.6,26.3,27.2,28.2,30.7,31.0,33.6,38.7,41.59,44.57574032,47.0826258],\"yaxis\":\"y\",\"type\":\"scattergl\"},{\"hovertemplate\":\"Code=BEN<br>Year=%{x}<br>internet_usage=%{y}<extra></extra>\",\"legendgroup\":\"BEN\",\"line\":{\"color\":\"#EF553B\",\"dash\":\"solid\"},\"marker\":{\"symbol\":\"circle\"},\"mode\":\"lines\",\"name\":\"BEN\",\"showlegend\":true,\"x\":[1990,1991,1992,1993,1994,1995,1996,1997,1998,1999,2000,2001,2002,2003,2004,2005,2006,2007,2008,2009,2010,2011,2012,2013,2014,2015,2016,2017],\"xaxis\":\"x\",\"y\":[0.0,0.0,0.0,0.0,0.0,0.0,0.0016931,0.024648796,0.047877304,0.154906741,0.225247851,0.36341789,0.702945595,0.951327115,1.182540965,1.271031439,1.537854346,1.79,1.85,2.24,3.13,4.148323066,4.5,4.9,6.0,11.25498791,11.99404791,14.11901233],\"yaxis\":\"y\",\"type\":\"scattergl\"},{\"hovertemplate\":\"Code=BMU<br>Year=%{x}<br>internet_usage=%{y}<extra></extra>\",\"legendgroup\":\"BMU\",\"line\":{\"color\":\"#00cc96\",\"dash\":\"solid\"},\"marker\":{\"symbol\":\"circle\"},\"mode\":\"lines\",\"name\":\"BMU\",\"showlegend\":true,\"x\":[1990,1991,1992,1993,1994,1995,1996,1997,1998,1999,2000,2001,2002,2003,2004,2005,2006,2007,2008,2009,2010,2011,2012,2013,2014,2015,2016,2017],\"xaxis\":\"x\",\"y\":[0.0,0.0,0.0,0.0,0.0,6.838163465,16.20246602,24.18925674,32.10375935,39.94758876,42.94986002,47.5096999,52.03159737,56.52201218,60.99086701,65.44706579,69.89965516,74.35059403,82.3,83.25,84.21,88.336,91.29930452,95.3,96.8,98.32360965,98.0,98.37],\"yaxis\":\"y\",\"type\":\"scattergl\"},{\"hovertemplate\":\"Code=BTN<br>Year=%{x}<br>internet_usage=%{y}<extra></extra>\",\"legendgroup\":\"BTN\",\"line\":{\"color\":\"#ab63fa\",\"dash\":\"solid\"},\"marker\":{\"symbol\":\"circle\"},\"mode\":\"lines\",\"name\":\"BTN\",\"showlegend\":true,\"x\":[1990,1991,1992,1993,1994,1995,1999,2000,2001,2002,2003,2004,2005,2006,2007,2008,2009,2010,2011,2012,2013,2014,2015,2016],\"xaxis\":\"x\",\"y\":[0.0,0.0,0.0,0.0,0.0,0.0,0.137571514,0.400944447,0.864628564,1.675802584,2.436912399,3.156984196,3.847106745,4.518317258,5.92,6.55,7.17,13.6,14.4,15.6,22.4,30.3,39.8,41.77264453],\"yaxis\":\"y\",\"type\":\"scattergl\"},{\"hovertemplate\":\"Code=BOL<br>Year=%{x}<br>internet_usage=%{y}<extra></extra>\",\"legendgroup\":\"BOL\",\"line\":{\"color\":\"#FFA15A\",\"dash\":\"solid\"},\"marker\":{\"symbol\":\"circle\"},\"mode\":\"lines\",\"name\":\"BOL\",\"showlegend\":true,\"x\":[1990,1991,1992,1993,1994,1995,1996,1997,1998,1999,2000,2001,2002,2003,2004,2005,2006,2007,2008,2009,2010,2011,2012,2013,2014,2015,2016,2017,2018],\"xaxis\":\"x\",\"y\":[0.0,0.0,0.0,0.0,0.0,0.066807568,0.196081174,0.447839036,0.626484062,0.981815187,1.442763585,2.120462534,3.117192947,3.508596401,4.439924601,5.227583957,6.200671255,10.49924432,12.5,16.8,22.4,30.0,35.34,36.99,34.6,35.56227065,39.6975146,43.83227607,44.28614216],\"yaxis\":\"y\",\"type\":\"scattergl\"},{\"hovertemplate\":\"Code=BIH<br>Year=%{x}<br>internet_usage=%{y}<extra></extra>\",\"legendgroup\":\"BIH\",\"line\":{\"color\":\"#19d3f3\",\"dash\":\"solid\"},\"marker\":{\"symbol\":\"circle\"},\"mode\":\"lines\",\"name\":\"BIH\",\"showlegend\":true,\"x\":[1990,1991,1992,1993,1994,1995,1996,1997,1998,1999,2000,2001,2002,2003,2004,2005,2006,2007,2008,2009,2010,2011,2012,2013,2014,2015,2016,2017,2018,2019],\"xaxis\":\"x\",\"y\":[0.0,0.0,0.0,0.0,0.0,0.0,0.015125563,0.059425563,0.14367106,0.1943742,1.08296075,1.200526951,2.648267914,3.965036834,15.46897162,21.326701,25.12238569,27.92,34.66,37.74,42.75,43.88768653,45.06450043,48.52131417,49.91773243,52.6,60.25653543,64.89202051,70.12013504,69.94634763],\"yaxis\":\"y\",\"type\":\"scattergl\"},{\"hovertemplate\":\"Code=BWA<br>Year=%{x}<br>internet_usage=%{y}<extra></extra>\",\"legendgroup\":\"BWA\",\"line\":{\"color\":\"#FF6692\",\"dash\":\"solid\"},\"marker\":{\"symbol\":\"circle\"},\"mode\":\"lines\",\"name\":\"BWA\",\"showlegend\":true,\"x\":[1990,1991,1992,1993,1994,1995,1996,1997,1998,1999,2000,2001,2002,2003,2004,2005,2006,2007,2008,2009,2010,2011,2012,2013,2014,2015,2016,2017],\"xaxis\":\"x\",\"y\":[0.0,0.0,0.0,0.0,0.0,0.064521041,0.15745423,0.30774685,0.602400929,1.122391474,2.902666622,3.430886787,3.385922351,3.345190174,3.304889253,3.262554036,4.289932975,5.28,6.25,6.15,6.0,9.0,16.0,30.0,36.74474744,37.31205037,39.36299738,41.41379464],\"yaxis\":\"y\",\"type\":\"scattergl\"},{\"hovertemplate\":\"Code=BRA<br>Year=%{x}<br>internet_usage=%{y}<extra></extra>\",\"legendgroup\":\"BRA\",\"line\":{\"color\":\"#B6E880\",\"dash\":\"solid\"},\"marker\":{\"symbol\":\"circle\"},\"mode\":\"lines\",\"name\":\"BRA\",\"showlegend\":true,\"x\":[1990,1991,1992,1993,1994,1995,1996,1997,1998,1999,2000,2001,2002,2003,2004,2005,2006,2007,2008,2009,2010,2011,2012,2013,2014,2015,2016,2017,2018],\"xaxis\":\"x\",\"y\":[0.0,0.003288171,0.012946262,0.025498253,0.037672709,0.105138168,0.450789179,0.786079155,1.477874959,2.038732184,2.870685159,4.528494869,9.149425086,13.2075861,19.07367227,21.02274725,28.17838018,30.88,33.83,39.22,40.65,45.69,48.56,51.04,54.55100188,58.32795173,60.87254007,67.47128452,70.43428254],\"yaxis\":\"y\",\"type\":\"scattergl\"},{\"hovertemplate\":\"Code=VGB<br>Year=%{x}<br>internet_usage=%{y}<extra></extra>\",\"legendgroup\":\"VGB\",\"line\":{\"color\":\"#FF97FF\",\"dash\":\"solid\"},\"marker\":{\"symbol\":\"circle\"},\"mode\":\"lines\",\"name\":\"VGB\",\"showlegend\":true,\"x\":[1990,1991,1992,1993,1994,1995,2002,2009,2010,2011,2012,2016,2017],\"xaxis\":\"x\",\"y\":[0.0,0.0,0.0,0.0,0.0,0.0,18.88574127,36.0,37.0,37.4,37.6,77.70142968,77.70426829],\"yaxis\":\"y\",\"type\":\"scattergl\"},{\"hovertemplate\":\"Code=BRN<br>Year=%{x}<br>internet_usage=%{y}<extra></extra>\",\"legendgroup\":\"BRN\",\"line\":{\"color\":\"#FECB52\",\"dash\":\"solid\"},\"marker\":{\"symbol\":\"circle\"},\"mode\":\"lines\",\"name\":\"BRN\",\"showlegend\":true,\"x\":[1990,1991,1992,1993,1994,1995,1996,1997,1998,1999,2000,2001,2002,2003,2004,2005,2006,2007,2008,2009,2010,2011,2012,2013,2014,2015,2016,2017,2018,2019],\"xaxis\":\"x\",\"y\":[0.0,0.0,0.0,0.0,0.0,1.017080166,3.303349927,4.831057905,6.284742844,7.671041206,8.996284534,12.91776908,15.32987986,19.59500322,29.71560414,36.46639195,42.18634916,44.68,46.0,49.0,53.0,56.0,60.27306504,64.5,68.77,71.2,90.0,94.86669164,95.0,95.0],\"yaxis\":\"y\",\"type\":\"scattergl\"},{\"hovertemplate\":\"Code=BGR<br>Year=%{x}<br>internet_usage=%{y}<extra></extra>\",\"legendgroup\":\"BGR\",\"line\":{\"color\":\"#636efa\",\"dash\":\"solid\"},\"marker\":{\"symbol\":\"circle\"},\"mode\":\"lines\",\"name\":\"BGR\",\"showlegend\":true,\"x\":[1990,1991,1992,1993,1994,1995,1996,1997,1998,1999,2000,2001,2002,2003,2004,2005,2006,2007,2008,2009,2010,2011,2012,2013,2014,2015,2016,2017,2018,2019],\"xaxis\":\"x\",\"y\":[0.0,0.0,0.0,0.002339042,0.019526669,0.119665549,0.725251167,1.219813132,1.844965121,2.908154025,5.370923469,7.612297749,9.08,12.04,18.13,19.97,27.09,33.64,39.67,45.0,46.23,47.97999305,51.89998767,53.0615,55.49,56.65625161,59.82554766,63.41010138,64.78201069,67.94698094],\"yaxis\":\"y\",\"type\":\"scattergl\"},{\"hovertemplate\":\"Code=BFA<br>Year=%{x}<br>internet_usage=%{y}<extra></extra>\",\"legendgroup\":\"BFA\",\"line\":{\"color\":\"#EF553B\",\"dash\":\"solid\"},\"marker\":{\"symbol\":\"circle\"},\"mode\":\"lines\",\"name\":\"BFA\",\"showlegend\":true,\"x\":[1990,1991,1992,1993,1994,1995,1996,1997,1998,1999,2000,2001,2002,2003,2004,2005,2006,2007,2008,2009,2010,2011,2012,2013,2014,2015,2016,2017],\"xaxis\":\"x\",\"y\":[0.0,0.0,0.0,0.0,0.0,0.0,0.000960519,0.018686353,0.045423484,0.061780293,0.077080169,0.157732465,0.200992598,0.373440303,0.400295285,0.469914489,0.632707564,0.75,0.92,1.13,2.4,3.0,3.725034916,9.1,9.4,14.0,13.96,15.87620691],\"yaxis\":\"y\",\"type\":\"scattergl\"},{\"hovertemplate\":\"Code=BDI<br>Year=%{x}<br>internet_usage=%{y}<extra></extra>\",\"legendgroup\":\"BDI\",\"line\":{\"color\":\"#00cc96\",\"dash\":\"solid\"},\"marker\":{\"symbol\":\"circle\"},\"mode\":\"lines\",\"name\":\"BDI\",\"showlegend\":true,\"x\":[1990,1991,1992,1993,1994,1995,1996,1997,1998,1999,2000,2001,2002,2003,2004,2005,2006,2007,2008,2009,2010,2011,2012,2013,2014,2015,2016,2017],\"xaxis\":\"x\",\"y\":[0.0,0.0,0.0,0.0,0.0,0.0,0.000803592,0.007979439,0.015842776,0.039204469,0.077248447,0.106001245,0.118228412,0.201273197,0.349060462,0.542142866,0.65759259,0.7,0.81,0.9,1.0,1.11,1.219999945,1.264218111,1.38,4.866224464,5.173626777,2.660748535],\"yaxis\":\"y\",\"type\":\"scattergl\"},{\"hovertemplate\":\"Code=KHM<br>Year=%{x}<br>internet_usage=%{y}<extra></extra>\",\"legendgroup\":\"KHM\",\"line\":{\"color\":\"#ab63fa\",\"dash\":\"solid\"},\"marker\":{\"symbol\":\"circle\"},\"mode\":\"lines\",\"name\":\"KHM\",\"showlegend\":true,\"x\":[1990,1991,1992,1993,1994,1995,1997,1998,1999,2000,2001,2002,2003,2004,2005,2006,2007,2008,2009,2010,2011,2012,2013,2014,2015,2016,2017,2018],\"xaxis\":\"x\",\"y\":[0.0,0.0,0.0,0.0,0.0,0.0,0.005844911,0.016324986,0.031969578,0.04702264,0.076956056,0.226983238,0.260570198,0.300436644,0.317321781,0.46835672,0.49,0.51,0.53,1.26,3.1,4.94,6.8,14.0,6.43319107,32.39845171,32.90027854,40.5459865],\"yaxis\":\"y\",\"type\":\"scattergl\"},{\"hovertemplate\":\"Code=CMR<br>Year=%{x}<br>internet_usage=%{y}<extra></extra>\",\"legendgroup\":\"CMR\",\"line\":{\"color\":\"#FFA15A\",\"dash\":\"solid\"},\"marker\":{\"symbol\":\"circle\"},\"mode\":\"lines\",\"name\":\"CMR\",\"showlegend\":true,\"x\":[1990,1991,1992,1993,1994,1995,1997,1998,1999,2000,2001,2002,2003,2004,2005,2006,2007,2008,2009,2010,2011,2012,2013,2014,2015,2016,2017],\"xaxis\":\"x\",\"y\":[0.0,0.0,0.0,0.0,0.0,0.0,0.006768744,0.013216341,0.129067581,0.252120078,0.277051322,0.360871584,0.587622611,0.976075415,1.402654226,2.028744791,2.93,3.4,3.84,4.3,5.0,7.5,10.0,16.21487223,20.68014766,23.20297197,23.20297197],\"yaxis\":\"y\",\"type\":\"scattergl\"},{\"hovertemplate\":\"Code=CAN<br>Year=%{x}<br>internet_usage=%{y}<extra></extra>\",\"legendgroup\":\"CAN\",\"line\":{\"color\":\"#19d3f3\",\"dash\":\"solid\"},\"marker\":{\"symbol\":\"circle\"},\"mode\":\"lines\",\"name\":\"CAN\",\"showlegend\":true,\"x\":[1990,1991,1992,1993,1994,1995,1996,1997,1998,1999,2000,2001,2002,2003,2004,2005,2006,2007,2008,2009,2010,2011,2012,2013,2014,2015,2016,2017],\"xaxis\":\"x\",\"y\":[0.360999701,0.570385926,0.91598104,1.184557509,2.378693853,4.163525253,6.76023965,15.07235736,24.8974003,36.18644004,51.3,60.2,61.59329927,64.2,65.95596346,71.66,72.4,73.2,76.7,80.3,80.3,83.0,83.0,85.8,87.12,90.0,91.16,92.70137191],\"yaxis\":\"y\",\"type\":\"scattergl\"},{\"hovertemplate\":\"Code=CPV<br>Year=%{x}<br>internet_usage=%{y}<extra></extra>\",\"legendgroup\":\"CPV\",\"line\":{\"color\":\"#FF6692\",\"dash\":\"solid\"},\"marker\":{\"symbol\":\"circle\"},\"mode\":\"lines\",\"name\":\"CPV\",\"showlegend\":true,\"x\":[1990,1991,1992,1993,1994,1995,1997,1998,1999,2000,2001,2002,2003,2004,2005,2006,2007,2008,2009,2010,2011,2012,2013,2014,2015,2016,2017],\"xaxis\":\"x\",\"y\":[0.0,0.0,0.0,0.0,0.0,0.0,0.24096792,0.472735008,1.159982461,1.822443852,2.685332713,3.518757175,4.324885391,5.31883207,6.074087107,6.808911008,8.28321982,14.0,21.0,30.0,32.0,34.74,37.5,40.26,42.68301416,50.32281787,57.16214635],\"yaxis\":\"y\",\"type\":\"scattergl\"},{\"hovertemplate\":\"Code=CYM<br>Year=%{x}<br>internet_usage=%{y}<extra></extra>\",\"legendgroup\":\"CYM\",\"line\":{\"color\":\"#B6E880\",\"dash\":\"solid\"},\"marker\":{\"symbol\":\"circle\"},\"mode\":\"lines\",\"name\":\"CYM\",\"showlegend\":true,\"x\":[1990,1991,1992,1993,1994,1995,2005,2006,2007,2008,2009,2010,2011,2012,2013,2014,2015,2016,2017],\"xaxis\":\"x\",\"y\":[0.0,0.0,0.0,0.0,0.0,3.948967193,38.03438308,44.5,52.0,61.0,64.5,66.0,69.46594499,69.7,71.4,74.1,77.0,79.0,81.06769325],\"yaxis\":\"y\",\"type\":\"scattergl\"},{\"hovertemplate\":\"Code=CAF<br>Year=%{x}<br>internet_usage=%{y}<extra></extra>\",\"legendgroup\":\"CAF\",\"line\":{\"color\":\"#FF97FF\",\"dash\":\"solid\"},\"marker\":{\"symbol\":\"circle\"},\"mode\":\"lines\",\"name\":\"CAF\",\"showlegend\":true,\"x\":[1990,1991,1992,1993,1994,1995,1996,1997,1998,1999,2000,2001,2002,2003,2004,2005,2006,2007,2008,2009,2010,2011,2012,2013,2014,2015,2016,2017],\"xaxis\":\"x\",\"y\":[0.0,0.0,0.0,0.0,0.0,0.0,0.005849503,0.014270881,0.027878201,0.040894287,0.053394174,0.078543428,0.128537117,0.151563338,0.223401395,0.268195609,0.311159173,0.375815961,1.0,1.8,2.0,2.2,3.0,3.4,3.6,3.8,4.0,4.339254945],\"yaxis\":\"y\",\"type\":\"scattergl\"},{\"hovertemplate\":\"Code=TCD<br>Year=%{x}<br>internet_usage=%{y}<extra></extra>\",\"legendgroup\":\"TCD\",\"line\":{\"color\":\"#FECB52\",\"dash\":\"solid\"},\"marker\":{\"symbol\":\"circle\"},\"mode\":\"lines\",\"name\":\"TCD\",\"showlegend\":true,\"x\":[1990,1991,1992,1993,1994,1995,1997,1998,1999,2000,2001,2002,2003,2004,2005,2006,2007,2008,2009,2010,2011,2012,2013,2014,2015,2016,2017],\"xaxis\":\"x\",\"y\":[0.0,0.0,0.0,0.0,0.0,0.0,0.000658168,0.004268504,0.012321728,0.035707076,0.045934134,0.166069665,0.320308555,0.360920107,0.3992577,0.581045764,0.847224521,1.19,1.5,1.7,1.9,2.1,2.5,2.9,3.5,5.0,6.49999812],\"yaxis\":\"y\",\"type\":\"scattergl\"},{\"hovertemplate\":\"Code=CHL<br>Year=%{x}<br>internet_usage=%{y}<extra></extra>\",\"legendgroup\":\"CHL\",\"line\":{\"color\":\"#636efa\",\"dash\":\"solid\"},\"marker\":{\"symbol\":\"circle\"},\"mode\":\"lines\",\"name\":\"CHL\",\"showlegend\":true,\"x\":[1990,1991,1992,1993,1994,1995,1996,1997,1998,1999,2000,2001,2002,2003,2004,2005,2006,2007,2008,2009,2010,2011,2012,2013,2014,2015,2016,2017],\"xaxis\":\"x\",\"y\":[0.0,0.0,0.036548938,0.071783144,0.141084507,0.346980781,0.68347561,1.057092496,1.662322022,4.103419297,16.6,19.1,22.1,25.47377889,28.17791012,31.17534703,34.49775117,35.9,37.3,41.56,45.0,52.24960729,55.05,58.0,61.11,76.62959195,83.55858602,82.32748693],\"yaxis\":\"y\",\"type\":\"scattergl\"},{\"hovertemplate\":\"Code=CHN<br>Year=%{x}<br>internet_usage=%{y}<extra></extra>\",\"legendgroup\":\"CHN\",\"line\":{\"color\":\"#EF553B\",\"dash\":\"solid\"},\"marker\":{\"symbol\":\"circle\"},\"mode\":\"lines\",\"name\":\"CHN\",\"showlegend\":true,\"x\":[1990,1991,1992,1993,1994,1995,1996,1997,1998,1999,2000,2001,2002,2003,2004,2005,2006,2007,2008,2009,2010,2011,2012,2013,2014,2015,2016,2017],\"xaxis\":\"x\",\"y\":[0.0,0.0,0.0,0.00016868,0.001168115,0.00495471,0.013081692,0.032394861,0.168540297,0.708187957,1.775913207,2.639650215,4.595704331,6.2,7.3,8.523257003,10.52315262,16.0,22.6,28.9,34.3,38.3,42.30011749,45.8,47.9,50.3,53.2,54.3],\"yaxis\":\"y\",\"type\":\"scattergl\"},{\"hovertemplate\":\"Code=COL<br>Year=%{x}<br>internet_usage=%{y}<extra></extra>\",\"legendgroup\":\"COL\",\"line\":{\"color\":\"#00cc96\",\"dash\":\"solid\"},\"marker\":{\"symbol\":\"circle\"},\"mode\":\"lines\",\"name\":\"COL\",\"showlegend\":true,\"x\":[1990,1991,1992,1993,1994,1995,1996,1997,1998,1999,2000,2001,2002,2003,2004,2005,2006,2007,2008,2009,2010,2011,2012,2013,2014,2015,2016,2017,2018,2019],\"xaxis\":\"x\",\"y\":[0.0,0.0,0.0,0.0,0.107173945,0.18804679,0.330017773,0.550521023,1.126225245,1.697730794,2.207532993,2.854199971,4.6,7.388923711,9.118690303,11.00726389,15.34167454,21.8,25.6,30.0,36.5,40.35091575,48.98,51.7,52.57,55.90497251,58.13649357,62.25988032,64.12637682,65.00690072],\"yaxis\":\"y\",\"type\":\"scattergl\"},{\"hovertemplate\":\"Code=COM<br>Year=%{x}<br>internet_usage=%{y}<extra></extra>\",\"legendgroup\":\"COM\",\"line\":{\"color\":\"#ab63fa\",\"dash\":\"solid\"},\"marker\":{\"symbol\":\"circle\"},\"mode\":\"lines\",\"name\":\"COM\",\"showlegend\":true,\"x\":[1990,1991,1992,1993,1994,1995,1997,1998,1999,2000,2001,2002,2003,2004,2005,2006,2007,2008,2009,2010,2011,2012,2013,2014,2015,2016,2017],\"xaxis\":\"x\",\"y\":[0.0,0.0,0.0,0.0,0.0,0.0,0.0,0.03787097,0.148162964,0.271740607,0.443068373,0.554869675,0.84818937,1.327327178,2.0,2.2,2.5,3.0,3.5,5.1,5.5,5.975296308,6.5,6.98,7.459161386,7.938322771,8.478170295],\"yaxis\":\"y\",\"type\":\"scattergl\"},{\"hovertemplate\":\"Code=COG<br>Year=%{x}<br>internet_usage=%{y}<extra></extra>\",\"legendgroup\":\"COG\",\"line\":{\"color\":\"#FFA15A\",\"dash\":\"solid\"},\"marker\":{\"symbol\":\"circle\"},\"mode\":\"lines\",\"name\":\"COG\",\"showlegend\":true,\"x\":[1990,1991,1992,1993,1994,1995,1996,1997,1998,1999,2000,2001,2002,2003,2004,2005,2006,2007,2008,2009,2010,2011,2012,2013,2014,2015,2016,2017],\"xaxis\":\"x\",\"y\":[0.0,0.0,0.0,0.0,0.0,0.0,0.00352686,0.003469104,0.003415143,0.016791049,0.026354732,0.032223616,0.157249517,0.460014187,1.07750493,1.46342006,2.007990079,2.759704374,4.287509903,4.5,5.0,5.6,6.106695024,6.6,7.11,7.615974662,8.121949323,8.65],\"yaxis\":\"y\",\"type\":\"scattergl\"},{\"hovertemplate\":\"Code=CRI<br>Year=%{x}<br>internet_usage=%{y}<extra></extra>\",\"legendgroup\":\"CRI\",\"line\":{\"color\":\"#19d3f3\",\"dash\":\"solid\"},\"marker\":{\"symbol\":\"circle\"},\"mode\":\"lines\",\"name\":\"CRI\",\"showlegend\":true,\"x\":[1990,1991,1992,1993,1994,1995,1996,1997,1998,1999,2000,2001,2002,2003,2004,2005,2006,2007,2008,2009,2010,2011,2012,2013,2014,2015,2016,2017,2018,2019],\"xaxis\":\"x\",\"y\":[0.0,0.0,0.001113325,0.081509754,0.279912479,0.416829206,0.84105704,1.640221288,2.666378698,3.904323257,5.800253023,9.559482135,19.89485113,20.33361481,20.79230671,22.07,25.1,28.4,32.29,34.33,36.5,39.212196,47.5,45.96,53.0,59.76295014,65.88044919,71.58166462,73.47972844,81.20259644],\"yaxis\":\"y\",\"type\":\"scattergl\"},{\"hovertemplate\":\"Code=CIV<br>Year=%{x}<br>internet_usage=%{y}<extra></extra>\",\"legendgroup\":\"CIV\",\"line\":{\"color\":\"#FF6692\",\"dash\":\"solid\"},\"marker\":{\"symbol\":\"circle\"},\"mode\":\"lines\",\"name\":\"CIV\",\"showlegend\":true,\"x\":[1990,1991,1992,1993,1994,1995,1996,1997,1998,1999,2000,2001,2002,2003,2004,2005,2006,2007,2008,2009,2010,2011,2012,2013,2014,2015,2016,2017,2018,2019],\"xaxis\":\"x\",\"y\":[0.0,0.0,0.0,0.0,0.0,0.000200256,0.00840978,0.018828361,0.060974439,0.118685917,0.231461671,0.395747702,0.497929361,0.758669629,0.849282415,1.039238205,1.524900791,1.8,1.9,2.0,2.7,2.9,5.0,12.0,19.2742298,38.44000017,41.20781493,43.83992085,37.54653613,36.45378947],\"yaxis\":\"y\",\"type\":\"scattergl\"},{\"hovertemplate\":\"Code=HRV<br>Year=%{x}<br>internet_usage=%{y}<extra></extra>\",\"legendgroup\":\"HRV\",\"line\":{\"color\":\"#B6E880\",\"dash\":\"solid\"},\"marker\":{\"symbol\":\"circle\"},\"mode\":\"lines\",\"name\":\"HRV\",\"showlegend\":true,\"x\":[1990,1991,1992,1993,1994,1995,1996,1997,1998,1999,2000,2001,2002,2003,2004,2005,2006,2007,2008,2009,2010,2011,2012,2013,2014,2015,2016,2017,2018,2019],\"xaxis\":\"x\",\"y\":[0.0,0.0,0.0,0.097213389,0.268318997,0.51402859,0.858982368,1.729609312,3.273220279,4.405359119,6.644882544,11.55857318,17.76,22.75,30.91,33.14,37.98,41.44,44.24,50.58,56.55,57.78997899,61.93997315,66.7476,68.57,69.84503592,72.69726967,67.09619204,75.29462599,79.07978368],\"yaxis\":\"y\",\"type\":\"scattergl\"},{\"hovertemplate\":\"Code=CUB<br>Year=%{x}<br>internet_usage=%{y}<extra></extra>\",\"legendgroup\":\"CUB\",\"line\":{\"color\":\"#FF97FF\",\"dash\":\"solid\"},\"marker\":{\"symbol\":\"circle\"},\"mode\":\"lines\",\"name\":\"CUB\",\"showlegend\":true,\"x\":[1990,1991,1992,1993,1994,1995,1996,1997,1998,1999,2000,2001,2002,2003,2004,2005,2006,2007,2008,2009,2010,2011,2012,2013,2014,2015,2016,2017,2018,2019],\"xaxis\":\"x\",\"y\":[0.0,0.0,0.0,0.0,0.0,9.17e-05,0.031949001,0.068220214,0.226699199,0.314690541,0.541182549,1.079751722,3.770585038,5.241269054,8.407984759,9.738062208,11.15960131,11.69,12.94,14.33,15.9,16.0172908,21.2,27.93,29.07018437,37.30509742,42.97867519,57.14840432,62.67892362,61.83630006],\"yaxis\":\"y\",\"type\":\"scattergl\"},{\"hovertemplate\":\"Code=CUW<br>Year=%{x}<br>internet_usage=%{y}<extra></extra>\",\"legendgroup\":\"CUW\",\"line\":{\"color\":\"#FECB52\",\"dash\":\"solid\"},\"marker\":{\"symbol\":\"circle\"},\"mode\":\"lines\",\"name\":\"CUW\",\"showlegend\":true,\"x\":[2016,2017],\"xaxis\":\"x\",\"y\":[61.85551074,68.12721625],\"yaxis\":\"y\",\"type\":\"scattergl\"},{\"hovertemplate\":\"Code=CYP<br>Year=%{x}<br>internet_usage=%{y}<extra></extra>\",\"legendgroup\":\"CYP\",\"line\":{\"color\":\"#636efa\",\"dash\":\"solid\"},\"marker\":{\"symbol\":\"circle\"},\"mode\":\"lines\",\"name\":\"CYP\",\"showlegend\":true,\"x\":[1990,1991,1992,1993,1994,1995,1996,1997,1998,1999,2000,2001,2002,2003,2004,2005,2006,2007,2008,2009,2010,2011,2012,2013,2014,2015,2016,2017,2018,2019],\"xaxis\":\"x\",\"y\":[0.0,0.0,0.05006043,0.056367482,0.111034621,0.410120685,0.673343541,4.378272095,8.890539159,11.34239866,15.25539437,18.81875904,28.32,30.09,33.83,32.81,35.83,40.77,42.31,49.81,52.99,56.85989235,60.6898684,65.4548,69.33,71.71574092,75.9002054,80.74318897,84.43358252,86.06362996],\"yaxis\":\"y\",\"type\":\"scattergl\"},{\"hovertemplate\":\"Code=CZE<br>Year=%{x}<br>internet_usage=%{y}<extra></extra>\",\"legendgroup\":\"CZE\",\"line\":{\"color\":\"#EF553B\",\"dash\":\"solid\"},\"marker\":{\"symbol\":\"circle\"},\"mode\":\"lines\",\"name\":\"CZE\",\"showlegend\":true,\"x\":[1990,1991,1992,1993,1994,1995,1996,1997,1998,1999,2000,2001,2002,2003,2004,2005,2006,2007,2008,2009,2010,2011,2012,2013,2014,2015,2016,2017,2018,2019],\"xaxis\":\"x\",\"y\":[0.0,0.0,0.0,0.581319529,1.259217838,1.45357584,1.940378193,2.915698695,3.895906065,6.832802018,9.780527888,14.69717212,23.93,34.3,35.5,35.27,47.93,51.93,62.97,64.43,68.82,70.49,73.43000782,74.1104,74.23171164,75.6688387,76.4811987,78.71917285,80.68816754,80.86694441],\"yaxis\":\"y\",\"type\":\"scattergl\"},{\"hovertemplate\":\"Code=COD<br>Year=%{x}<br>internet_usage=%{y}<extra></extra>\",\"legendgroup\":\"COD\",\"line\":{\"color\":\"#00cc96\",\"dash\":\"solid\"},\"marker\":{\"symbol\":\"circle\"},\"mode\":\"lines\",\"name\":\"COD\",\"showlegend\":true,\"x\":[1990,1991,1992,1993,1994,1995,1996,1997,1998,1999,2000,2001,2002,2003,2004,2005,2006,2007,2008,2009,2010,2011,2012,2013,2014,2015,2016,2017],\"xaxis\":\"x\",\"y\":[0.0,0.0,0.0,0.0,0.0,0.0,0.000108207,0.000211213,0.000413065,0.001009076,0.005902114,0.011475782,0.092790702,0.134914837,0.196208375,0.238037799,0.29605361,0.37,0.44,0.56,0.72,1.2,1.679961015,2.2,3.0,3.799999507,6.20997406,8.619904916],\"yaxis\":\"y\",\"type\":\"scattergl\"},{\"hovertemplate\":\"Code=DNK<br>Year=%{x}<br>internet_usage=%{y}<extra></extra>\",\"legendgroup\":\"DNK\",\"line\":{\"color\":\"#ab63fa\",\"dash\":\"solid\"},\"marker\":{\"symbol\":\"circle\"},\"mode\":\"lines\",\"name\":\"DNK\",\"showlegend\":true,\"x\":[1990,1991,1992,1993,1994,1995,1996,1997,1998,1999,2000,2001,2002,2003,2004,2005,2006,2007,2008,2009,2010,2011,2012,2013,2014,2015,2016,2017,2018,2019],\"xaxis\":\"x\",\"y\":[0.097277268,0.194056515,0.386913951,0.578329976,1.34430775,3.82565642,5.714987841,11.38200494,22.66874615,30.59204065,39.17243086,42.95752472,64.25,76.26,80.93,82.74,86.65,85.03,85.02,86.84,88.72,89.81001339,92.26001172,94.6297,95.99,96.33050162,96.96778525,97.09936216,97.31920437,98.04643475],\"yaxis\":\"y\",\"type\":\"scattergl\"},{\"hovertemplate\":\"Code=DJI<br>Year=%{x}<br>internet_usage=%{y}<extra></extra>\",\"legendgroup\":\"DJI\",\"line\":{\"color\":\"#FFA15A\",\"dash\":\"solid\"},\"marker\":{\"symbol\":\"circle\"},\"mode\":\"lines\",\"name\":\"DJI\",\"showlegend\":true,\"x\":[1990,1991,1992,1993,1994,1995,1996,1997,1998,1999,2000,2001,2002,2003,2004,2005,2006,2007,2008,2009,2010,2011,2012,2013,2014,2015,2016,2017],\"xaxis\":\"x\",\"y\":[0.0,0.0,0.0,0.0,0.0,0.01603083,0.031166241,0.082941498,0.094696004,0.105761909,0.194500528,0.343526263,0.486971705,0.625940229,0.781317175,0.953611449,1.270041159,1.62,2.26,4.0,6.5,7.0,8.267232892,9.5,10.71,11.92243143,13.13491511,55.68140925],\"yaxis\":\"y\",\"type\":\"scattergl\"},{\"hovertemplate\":\"Code=DMA<br>Year=%{x}<br>internet_usage=%{y}<extra></extra>\",\"legendgroup\":\"DMA\",\"line\":{\"color\":\"#19d3f3\",\"dash\":\"solid\"},\"marker\":{\"symbol\":\"circle\"},\"mode\":\"lines\",\"name\":\"DMA\",\"showlegend\":true,\"x\":[1990,1991,1992,1993,1994,1995,1996,1998,1999,2000,2001,2002,2003,2004,2005,2006,2007,2008,2009,2010,2011,2012,2013,2014,2015,2016,2017],\"xaxis\":\"x\",\"y\":[0.0,0.0,0.0,0.0,0.0,0.548762737,1.165518146,2.925345191,2.932164377,8.814844198,13.24522804,18.42489277,23.62041985,30.31961309,38.54364326,39.3981743,40.27446301,41.16,42.02,47.45,48.6,49.8,51.0,57.5,65.0,67.03,69.61966879],\"yaxis\":\"y\",\"type\":\"scattergl\"},{\"hovertemplate\":\"Code=DOM<br>Year=%{x}<br>internet_usage=%{y}<extra></extra>\",\"legendgroup\":\"DOM\",\"line\":{\"color\":\"#FF6692\",\"dash\":\"solid\"},\"marker\":{\"symbol\":\"circle\"},\"mode\":\"lines\",\"name\":\"DOM\",\"showlegend\":true,\"x\":[1990,1991,1992,1993,1994,1995,1996,1997,1998,1999,2000,2001,2002,2003,2004,2005,2006,2007,2008,2009,2010,2011,2012,2013,2014,2015,2016,2017,2018],\"xaxis\":\"x\",\"y\":[0.0,0.0,0.0,0.0,0.0,0.017233601,0.074987053,0.142687565,0.233914189,1.104743874,3.704692356,4.429390697,6.823725733,7.898392937,8.865553461,11.48319778,14.84492837,17.66,20.82,27.72,31.4,38.0,42.32,45.9,49.58,54.21576634,63.87086474,67.57124533,74.82428986],\"yaxis\":\"y\",\"type\":\"scattergl\"},{\"hovertemplate\":\"Code=ECU<br>Year=%{x}<br>internet_usage=%{y}<extra></extra>\",\"legendgroup\":\"ECU\",\"line\":{\"color\":\"#B6E880\",\"dash\":\"solid\"},\"marker\":{\"symbol\":\"circle\"},\"mode\":\"lines\",\"name\":\"ECU\",\"showlegend\":true,\"x\":[1990,1991,1992,1993,1994,1995,1996,1997,1998,1999,2000,2001,2002,2003,2004,2005,2006,2007,2008,2009,2010,2011,2012,2013,2014,2015,2016],\"xaxis\":\"x\",\"y\":[0.0,0.0,0.005118035,0.016400751,0.034833586,0.043833641,0.086161276,0.110217959,0.125272771,0.823371634,1.462188536,2.670443674,4.260796915,4.460228345,4.834442638,5.994255161,7.2,10.8,18.8,24.6,29.03,31.36680836,35.13514645,40.27912194,45.59039067,48.94043379,54.06292473],\"yaxis\":\"y\",\"type\":\"scattergl\"},{\"hovertemplate\":\"Code=EGY<br>Year=%{x}<br>internet_usage=%{y}<extra></extra>\",\"legendgroup\":\"EGY\",\"line\":{\"color\":\"#FF97FF\",\"dash\":\"solid\"},\"marker\":{\"symbol\":\"circle\"},\"mode\":\"lines\",\"name\":\"EGY\",\"showlegend\":true,\"x\":[1990,1991,1992,1993,1994,1995,1996,1997,1998,1999,2000,2001,2002,2003,2004,2005,2006,2007,2008,2009,2010,2011,2012,2013,2014,2015,2016,2017,2018,2019],\"xaxis\":\"x\",\"y\":[0.0,0.0,0.0,0.000975791,0.00638327,0.031319638,0.061466899,0.090480245,0.147987377,0.290445278,0.641265038,0.838945611,2.719999715,4.037885107,11.92,12.75,13.66,16.03,18.01,20.0,21.6,25.6,26.4,29.4,33.89460391,37.81938343,41.24806709,44.95020425,46.92433677,57.28286878],\"yaxis\":\"y\",\"type\":\"scattergl\"},{\"hovertemplate\":\"Code=SLV<br>Year=%{x}<br>internet_usage=%{y}<extra></extra>\",\"legendgroup\":\"SLV\",\"line\":{\"color\":\"#FECB52\",\"dash\":\"solid\"},\"marker\":{\"symbol\":\"circle\"},\"mode\":\"lines\",\"name\":\"SLV\",\"showlegend\":true,\"x\":[1990,1991,1992,1993,1994,1995,1996,1997,1998,1999,2000,2001,2002,2003,2004,2005,2006,2007,2008,2009,2010,2011,2012,2013,2014,2015,2016,2017],\"xaxis\":\"x\",\"y\":[0.0,0.0,0.0,0.0,0.0,0.0,0.086389581,0.256960679,0.425253672,0.845428741,1.177397269,1.5,1.9,2.5,3.2,4.2,5.5,6.11,10.08,12.11,15.9,18.9,20.32138772,23.1093,24.76171215,26.80260496,28.99707305,33.8207289],\"yaxis\":\"y\",\"type\":\"scattergl\"},{\"hovertemplate\":\"Code=GNQ<br>Year=%{x}<br>internet_usage=%{y}<extra></extra>\",\"legendgroup\":\"GNQ\",\"line\":{\"color\":\"#636efa\",\"dash\":\"solid\"},\"marker\":{\"symbol\":\"circle\"},\"mode\":\"lines\",\"name\":\"GNQ\",\"showlegend\":true,\"x\":[1990,1991,1992,1993,1994,1995,1997,1998,1999,2000,2001,2002,2003,2004,2005,2006,2007,2008,2009,2010,2011,2012,2013,2014,2015,2016,2017],\"xaxis\":\"x\",\"y\":[0.0,0.0,0.0,0.0,0.0,0.0,0.041462292,0.094423774,0.097415945,0.132354665,0.165260423,0.321197997,0.520524272,0.843930285,1.149789671,1.279193596,1.557123059,1.82,2.13,6.0,11.5,13.94318219,16.4,18.86,21.31999999,23.77999997,26.23999996],\"yaxis\":\"y\",\"type\":\"scattergl\"},{\"hovertemplate\":\"Code=ERI<br>Year=%{x}<br>internet_usage=%{y}<extra></extra>\",\"legendgroup\":\"ERI\",\"line\":{\"color\":\"#EF553B\",\"dash\":\"solid\"},\"marker\":{\"symbol\":\"circle\"},\"mode\":\"lines\",\"name\":\"ERI\",\"showlegend\":true,\"x\":[1990,1991,1992,1993,1994,1995,1996,1997,1998,1999,2000,2001,2002,2007,2008,2009,2010,2011,2012,2013,2014,2015,2016,2017],\"xaxis\":\"x\",\"y\":[0.0,0.0,0.0,0.0,0.0,0.0,0.0,0.009017718,0.008774236,0.025495028,0.136711941,0.157815289,0.227090138,0.41,0.47,0.54,0.61,0.7,0.8,0.9,0.99,1.083733116,1.17711872,1.30890698],\"yaxis\":\"y\",\"type\":\"scattergl\"},{\"hovertemplate\":\"Code=EST<br>Year=%{x}<br>internet_usage=%{y}<extra></extra>\",\"legendgroup\":\"EST\",\"line\":{\"color\":\"#00cc96\",\"dash\":\"solid\"},\"marker\":{\"symbol\":\"circle\"},\"mode\":\"lines\",\"name\":\"EST\",\"showlegend\":true,\"x\":[1990,1991,1992,1993,1994,1995,1996,1997,1998,1999,2000,2001,2002,2003,2004,2005,2006,2007,2008,2009,2010,2011,2012,2013,2014,2015,2016,2017,2018,2019],\"xaxis\":\"x\",\"y\":[0.0,0.0,0.065484797,0.300711282,1.159750913,2.778968489,3.525111129,5.706276548,10.79603483,14.50089724,28.57695381,31.52748977,41.52,45.32,53.2,61.45,63.51,66.19,70.58,72.5,74.1,76.5,78.38992593,80.0043,84.24152803,88.4097035,87.24023275,88.10245687,89.35700777,89.53232756],\"yaxis\":\"y\",\"type\":\"scattergl\"},{\"hovertemplate\":\"Code=SWZ<br>Year=%{x}<br>internet_usage=%{y}<extra></extra>\",\"legendgroup\":\"SWZ\",\"line\":{\"color\":\"#ab63fa\",\"dash\":\"solid\"},\"marker\":{\"symbol\":\"circle\"},\"mode\":\"lines\",\"name\":\"SWZ\",\"showlegend\":true,\"x\":[1990,1991,1992,1993,1994,1995,1996,1997,1998,1999,2000,2001,2002,2003,2004,2005,2006,2007,2008,2009,2010,2011,2012,2013,2014,2015,2016,2017],\"xaxis\":\"x\",\"y\":[0.0,0.0,0.0,0.0,0.0,0.00103175,0.050399009,0.088545986,0.096099605,0.4707176,0.926191777,1.28159005,1.816203807,2.437073851,3.228685073,3.696961073,3.696538789,4.1,6.85,8.94,11.04,18.13,20.78178258,24.7,26.17500573,25.64304231,28.57352278,30.3],\"yaxis\":\"y\",\"type\":\"scattergl\"},{\"hovertemplate\":\"Code=ETH<br>Year=%{x}<br>internet_usage=%{y}<extra></extra>\",\"legendgroup\":\"ETH\",\"line\":{\"color\":\"#FFA15A\",\"dash\":\"solid\"},\"marker\":{\"symbol\":\"circle\"},\"mode\":\"lines\",\"name\":\"ETH\",\"showlegend\":true,\"x\":[1990,1991,1992,1993,1994,1995,1996,1997,1998,1999,2000,2001,2002,2003,2004,2005,2006,2007,2008,2009,2010,2011,2012,2013,2014,2015,2016,2017],\"xaxis\":\"x\",\"y\":[0.0,0.0,0.0,0.0,0.0,1.75e-05,0.001703448,0.00496672,0.009663517,0.012541599,0.015263767,0.037162381,0.072402262,0.105811659,0.155334521,0.219659819,0.310592657,0.37,0.45,0.54,0.75,1.1,2.9,4.6,7.7,13.85517556,15.36692386,18.61805145],\"yaxis\":\"y\",\"type\":\"scattergl\"},{\"hovertemplate\":\"Code=FRO<br>Year=%{x}<br>internet_usage=%{y}<extra></extra>\",\"legendgroup\":\"FRO\",\"line\":{\"color\":\"#19d3f3\",\"dash\":\"solid\"},\"marker\":{\"symbol\":\"circle\"},\"mode\":\"lines\",\"name\":\"FRO\",\"showlegend\":true,\"x\":[1990,1991,1992,1993,1994,1995,1996,1997,1998,1999,2000,2001,2002,2003,2004,2005,2006,2007,2008,2009,2010,2011,2012,2013,2014,2015,2016,2017],\"xaxis\":\"x\",\"y\":[0.0,0.0,0.0,0.0,0.0,0.0,2.318786811,4.601297566,11.33786848,22.29753835,32.91639236,43.24698352,53.29922183,58.91264097,66.53359947,67.90263174,69.35944512,75.98,75.57,75.18,75.2,80.7321728,85.33518924,90.0,93.3,94.2,95.10868167,97.58195894],\"yaxis\":\"y\",\"type\":\"scattergl\"},{\"hovertemplate\":\"Code=FJI<br>Year=%{x}<br>internet_usage=%{y}<extra></extra>\",\"legendgroup\":\"FJI\",\"line\":{\"color\":\"#FF6692\",\"dash\":\"solid\"},\"marker\":{\"symbol\":\"circle\"},\"mode\":\"lines\",\"name\":\"FJI\",\"showlegend\":true,\"x\":[1990,1991,1992,1993,1994,1995,1996,1997,1998,1999,2000,2001,2002,2003,2004,2005,2006,2007,2008,2009,2010,2011,2012,2013,2014,2015,2016,2017],\"xaxis\":\"x\",\"y\":[0.0,0.0,0.0,0.006678447,0.007907399,0.009115343,0.064437142,0.223454842,0.633167865,0.942462063,1.496854734,1.857978594,6.1526497,6.725434738,7.412943485,8.453636634,9.6000384,10.89783105,13.0,17.0,20.0,28.0,33.74235675,35.2,37.4,42.5,46.50697831,49.96637301],\"yaxis\":\"y\",\"type\":\"scattergl\"},{\"hovertemplate\":\"Code=FIN<br>Year=%{x}<br>internet_usage=%{y}<extra></extra>\",\"legendgroup\":\"FIN\",\"line\":{\"color\":\"#B6E880\",\"dash\":\"solid\"},\"marker\":{\"symbol\":\"circle\"},\"mode\":\"lines\",\"name\":\"FIN\",\"showlegend\":true,\"x\":[1990,1991,1992,1993,1994,1995,1996,1997,1998,1999,2000,2001,2002,2003,2004,2005,2006,2007,2008,2009,2010,2011,2012,2013,2014,2015,2016,2017,2018,2019],\"xaxis\":\"x\",\"y\":[0.40108767,1.397439332,1.88687977,2.568461349,4.915098554,13.90030389,16.78007526,19.4586828,25.45252493,32.29509229,37.24846174,43.10536335,62.43,69.22,72.39,74.48,79.66,80.78,83.67,82.49,86.89,88.70999491,89.87999797,91.5144,86.53039275,86.42213333,87.70364996,87.46892907,88.88996,89.60738511],\"yaxis\":\"y\",\"type\":\"scattergl\"},{\"hovertemplate\":\"Code=FRA<br>Year=%{x}<br>internet_usage=%{y}<extra></extra>\",\"legendgroup\":\"FRA\",\"line\":{\"color\":\"#FF97FF\",\"dash\":\"solid\"},\"marker\":{\"symbol\":\"circle\"},\"mode\":\"lines\",\"name\":\"FRA\",\"showlegend\":true,\"x\":[1990,1991,1992,1993,1994,1995,1996,1997,1998,1999,2000,2001,2002,2003,2004,2005,2006,2007,2008,2009,2010,2011,2012,2013,2014,2015,2016,2017,2018,2019],\"xaxis\":\"x\",\"y\":[0.052777862,0.140113895,0.279049463,0.590619383,0.899867425,1.637947245,2.584033979,4.255003872,6.319778722,9.125317889,14.30792394,26.32590355,30.18,36.14,39.15,42.87,46.87,66.09,70.68,71.58,77.28,77.81999899,81.44,81.9198,83.75,78.00603771,79.26981132,80.50245972,82.04318678,83.33974409],\"yaxis\":\"y\",\"type\":\"scattergl\"},{\"hovertemplate\":\"Code=PYF<br>Year=%{x}<br>internet_usage=%{y}<extra></extra>\",\"legendgroup\":\"PYF\",\"line\":{\"color\":\"#FECB52\",\"dash\":\"solid\"},\"marker\":{\"symbol\":\"circle\"},\"mode\":\"lines\",\"name\":\"PYF\",\"showlegend\":true,\"x\":[1990,1991,1992,1993,1994,1995,1996,1997,1998,1999,2000,2001,2002,2003,2004,2005,2006,2007,2008,2009,2010,2011,2012,2013,2014,2015,2016,2017],\"xaxis\":\"x\",\"y\":[0.0,0.0,0.0,0.0,0.0,0.0,0.090971944,0.21438525,1.316164696,3.448900232,6.357063545,6.251588946,8.200216486,14.12429379,17.88453743,21.54218547,25.10796425,28.59,33.87,44.6,49.0,49.0,52.87663059,56.8,60.68,64.56020975,68.44041949,72.70389531],\"yaxis\":\"y\",\"type\":\"scattergl\"},{\"hovertemplate\":\"Code=GAB<br>Year=%{x}<br>internet_usage=%{y}<extra></extra>\",\"legendgroup\":\"GAB\",\"line\":{\"color\":\"#636efa\",\"dash\":\"solid\"},\"marker\":{\"symbol\":\"circle\"},\"mode\":\"lines\",\"name\":\"GAB\",\"showlegend\":true,\"x\":[1990,1991,1992,1993,1994,1995,1996,1997,1998,1999,2000,2001,2002,2003,2004,2005,2006,2007,2008,2009,2010,2011,2012,2013,2014,2015,2016,2017],\"xaxis\":\"x\",\"y\":[0.0,0.0,0.0,0.0,0.0,0.0,0.0,0.047999009,0.17012488,0.249009564,1.216140618,1.347620222,1.939530106,2.659586594,2.9790698,4.89326475,5.489200803,5.767004576,7.5,9.5,13.0,18.0,24.0,30.53803344,38.07120929,45.78453653,48.05227375,50.32012015],\"yaxis\":\"y\",\"type\":\"scattergl\"},{\"hovertemplate\":\"Code=GMB<br>Year=%{x}<br>internet_usage=%{y}<extra></extra>\",\"legendgroup\":\"GMB\",\"line\":{\"color\":\"#EF553B\",\"dash\":\"solid\"},\"marker\":{\"symbol\":\"circle\"},\"mode\":\"lines\",\"name\":\"GMB\",\"showlegend\":true,\"x\":[1990,1991,1992,1993,1994,1995,1996,1997,1998,1999,2000,2001,2002,2003,2004,2005,2006,2007,2008,2009,2010,2011,2012,2013,2014,2015,2016,2017],\"xaxis\":\"x\",\"y\":[0.0,0.0,0.0,0.0,0.0,0.009217541,0.03550736,0.051311347,0.206094461,0.715827015,0.921794919,1.336791166,1.796779883,2.436781193,3.308003478,3.799001139,5.237691158,6.205037419,6.88,7.63,9.2,10.8703,12.44922872,14.0,15.56,16.5,18.5,19.83645444],\"yaxis\":\"y\",\"type\":\"scattergl\"},{\"hovertemplate\":\"Code=GEO<br>Year=%{x}<br>internet_usage=%{y}<extra></extra>\",\"legendgroup\":\"GEO\",\"line\":{\"color\":\"#00cc96\",\"dash\":\"solid\"},\"marker\":{\"symbol\":\"circle\"},\"mode\":\"lines\",\"name\":\"GEO\",\"showlegend\":true,\"x\":[1990,1991,1992,1993,1994,1995,1996,1997,1998,1999,2000,2001,2002,2003,2004,2005,2006,2007,2008,2009,2010,2011,2012,2013,2014,2015,2016,2017,2018,2019],\"xaxis\":\"x\",\"y\":[0.0,0.0,0.0,0.0,0.0,0.011836885,0.040065419,0.060930333,0.102830957,0.416343567,0.484746299,0.992344436,1.58787563,2.558816481,3.886221354,6.079457629,7.526876845,8.26,10.01,20.07,26.9,31.52,36.94,43.3,44.0,47.56975964,58.45928961,59.7055046,62.7179082,68.84671356],\"yaxis\":\"y\",\"type\":\"scattergl\"},{\"hovertemplate\":\"Code=DEU<br>Year=%{x}<br>internet_usage=%{y}<extra></extra>\",\"legendgroup\":\"DEU\",\"line\":{\"color\":\"#ab63fa\",\"dash\":\"solid\"},\"marker\":{\"symbol\":\"circle\"},\"mode\":\"lines\",\"name\":\"DEU\",\"showlegend\":true,\"x\":[1990,1991,1992,1993,1994,1995,1996,1997,1998,1999,2000,2001,2002,2003,2004,2005,2006,2007,2008,2009,2010,2011,2012,2013,2014,2015,2016,2017,2018,2019],\"xaxis\":\"x\",\"y\":[0.125892223,0.250274153,0.43528529,0.463635096,0.922541043,1.837737754,3.054805234,6.711087477,9.877852428,20.84598264,30.2163466,31.65093942,48.82,55.9,64.73,68.71,72.16,75.16,78.0,79.0,82.0,81.26999954,82.34999847,84.17,86.19,87.58979935,84.16520664,84.3941537,87.03711209,88.13451691],\"yaxis\":\"y\",\"type\":\"scattergl\"},{\"hovertemplate\":\"Code=GHA<br>Year=%{x}<br>internet_usage=%{y}<extra></extra>\",\"legendgroup\":\"GHA\",\"line\":{\"color\":\"#FFA15A\",\"dash\":\"solid\"},\"marker\":{\"symbol\":\"circle\"},\"mode\":\"lines\",\"name\":\"GHA\",\"showlegend\":true,\"x\":[1990,1991,1992,1993,1994,1995,1996,1997,1998,1999,2000,2001,2002,2003,2004,2005,2006,2007,2008,2009,2010,2011,2012,2013,2014,2015,2016,2017],\"xaxis\":\"x\",\"y\":[0.0,0.0,0.0,0.0,0.0,0.000347918,0.005648763,0.027537542,0.032240443,0.104895466,0.153615298,0.20000806,0.830284034,1.193057911,1.716797704,1.831197461,2.723175973,3.85,4.27,5.44,7.8,9.0,10.6,15.0,25.51773743,25.0,34.66600065,37.88415262],\"yaxis\":\"y\",\"type\":\"scattergl\"},{\"hovertemplate\":\"Code=GIB<br>Year=%{x}<br>internet_usage=%{y}<extra></extra>\",\"legendgroup\":\"GIB\",\"line\":{\"color\":\"#19d3f3\",\"dash\":\"solid\"},\"marker\":{\"symbol\":\"circle\"},\"mode\":\"lines\",\"name\":\"GIB\",\"showlegend\":true,\"x\":[1990,1991,1992,1993,1994,1995,1997,1998,1999,2000,2001,2002,2003,2004,2005,2006,2007,2008,2009,2010,2011,2012,2016],\"xaxis\":\"x\",\"y\":[0.0,0.0,0.0,0.0,0.0,0.0,2.662907268,4.183794329,5.936978297,19.13163812,21.17110944,23.67023975,28.32577979,32.88608261,39.07013088,45.29864751,51.61,58.0,65.07,65.0,65.0,65.017,94.44447158],\"yaxis\":\"y\",\"type\":\"scattergl\"},{\"hovertemplate\":\"Code=GRC<br>Year=%{x}<br>internet_usage=%{y}<extra></extra>\",\"legendgroup\":\"GRC\",\"line\":{\"color\":\"#FF6692\",\"dash\":\"solid\"},\"marker\":{\"symbol\":\"circle\"},\"mode\":\"lines\",\"name\":\"GRC\",\"showlegend\":true,\"x\":[1990,1991,1992,1993,1994,1995,1996,1997,1998,1999,2000,2001,2002,2003,2004,2005,2006,2007,2008,2009,2010,2011,2012,2013,2014,2015,2016,2017,2018,2019],\"xaxis\":\"x\",\"y\":[0.0,0.048788803,0.048291602,0.191062242,0.378174312,0.749616477,1.395360779,1.849634688,3.221821786,6.877292144,9.138837308,10.93502581,14.67,17.8,21.42,24.0,32.25,35.88,38.2,42.4,44.4,51.64999517,55.06999344,59.8663,63.21,66.83495949,69.08791547,69.89297065,72.23837339,75.67120669],\"yaxis\":\"y\",\"type\":\"scattergl\"},{\"hovertemplate\":\"Code=GRL<br>Year=%{x}<br>internet_usage=%{y}<extra></extra>\",\"legendgroup\":\"GRL\",\"line\":{\"color\":\"#B6E880\",\"dash\":\"solid\"},\"marker\":{\"symbol\":\"circle\"},\"mode\":\"lines\",\"name\":\"GRL\",\"showlegend\":true,\"x\":[1990,1991,1992,1993,1994,1995,1996,1997,1998,1999,2000,2001,2002,2003,2004,2005,2006,2007,2008,2009,2010,2011,2012,2013,2014,2015,2016,2017],\"xaxis\":\"x\",\"y\":[0.0,0.0,0.0,0.0,0.064712121,0.053940342,1.796719191,7.954504682,14.65444717,21.60261331,31.74781123,35.46413689,44.15478903,54.53425983,56.09901476,57.7034045,59.36168727,61.07,62.82,62.83,63.0,64.0,64.8960101,65.8,66.7,67.60044348,68.50087368,69.48246178],\"yaxis\":\"y\",\"type\":\"scattergl\"},{\"hovertemplate\":\"Code=GRD<br>Year=%{x}<br>internet_usage=%{y}<extra></extra>\",\"legendgroup\":\"GRD\",\"line\":{\"color\":\"#FF97FF\",\"dash\":\"solid\"},\"marker\":{\"symbol\":\"circle\"},\"mode\":\"lines\",\"name\":\"GRD\",\"showlegend\":true,\"x\":[1990,1991,1992,1993,1994,1995,1996,1997,1998,1999,2000,2001,2002,2003,2004,2005,2006,2007,2008,2009,2010,2011,2012,2013,2014,2015,2016,2017],\"xaxis\":\"x\",\"y\":[0.0,0.0,0.0,0.0,0.0,0.0,0.298032982,0.990883868,1.484854484,2.473166147,4.063907991,5.128103982,14.75884055,18.64518218,19.57062058,20.48780488,21.39599117,22.29,23.18,24.05,27.0,30.0,32.0,35.0,51.6,53.81,55.85640782,59.07173536],\"yaxis\":\"y\",\"type\":\"scattergl\"},{\"hovertemplate\":\"Code=GUM<br>Year=%{x}<br>internet_usage=%{y}<extra></extra>\",\"legendgroup\":\"GUM\",\"line\":{\"color\":\"#FECB52\",\"dash\":\"solid\"},\"marker\":{\"symbol\":\"circle\"},\"mode\":\"lines\",\"name\":\"GUM\",\"showlegend\":true,\"x\":[1990,1991,1992,1993,1994,1995,1996,1997,1998,1999,2000,2001,2002,2003,2004,2005,2006,2007,2008,2009,2010,2011,2012,2013,2014,2015,2016,2017],\"xaxis\":\"x\",\"y\":[0.0,0.0,0.0,0.0,0.34845391,0.659530909,1.356106888,2.344571647,4.50128419,8.497176323,16.11312704,25.38022753,31.19229426,33.71668179,36.16178784,38.55987756,43.851443,46.15047362,48.41870215,50.64202838,54.04,57.7,61.53415931,65.4,69.27,73.13999995,77.00999989,80.50546556],\"yaxis\":\"y\",\"type\":\"scattergl\"},{\"hovertemplate\":\"Code=GTM<br>Year=%{x}<br>internet_usage=%{y}<extra></extra>\",\"legendgroup\":\"GTM\",\"line\":{\"color\":\"#636efa\",\"dash\":\"solid\"},\"marker\":{\"symbol\":\"circle\"},\"mode\":\"lines\",\"name\":\"GTM\",\"showlegend\":true,\"x\":[1990,1991,1992,1993,1994,1995,1996,1997,1998,1999,2000,2001,2002,2003,2004,2005,2006,2007,2008,2009,2010,2011,2012,2013,2014,2015,2016,2017],\"xaxis\":\"x\",\"y\":[0.0,0.0,0.0,0.0,0.0,0.002998005,0.019534871,0.095476021,0.466590444,0.592652945,0.712332905,1.738201782,3.39174627,4.548854908,5.1,5.7,6.5,7.3,8.3,9.3,10.5,12.3,16.0,19.7,23.4,28.80594156,34.50932609,40.70304908],\"yaxis\":\"y\",\"type\":\"scattergl\"},{\"hovertemplate\":\"Code=GIN<br>Year=%{x}<br>internet_usage=%{y}<extra></extra>\",\"legendgroup\":\"GIN\",\"line\":{\"color\":\"#EF553B\",\"dash\":\"solid\"},\"marker\":{\"symbol\":\"circle\"},\"mode\":\"lines\",\"name\":\"GIN\",\"showlegend\":true,\"x\":[1990,1991,1992,1993,1994,1995,1996,1997,1998,1999,2000,2001,2002,2003,2004,2005,2006,2007,2008,2009,2010,2011,2012,2013,2014,2015,2016,2017,2018],\"xaxis\":\"x\",\"y\":[0.0,0.0,0.0,0.0,0.000138318,0.000668589,0.001948942,0.003803109,0.006203369,0.060808919,0.095424924,0.175541868,0.402022749,0.450960371,0.508819332,0.542254181,0.637492123,0.780025279,0.92,0.94,1.0,2.0,3.1,4.5,6.4,8.2,9.8,11.40002077,21.83002304],\"yaxis\":\"y\",\"type\":\"scattergl\"},{\"hovertemplate\":\"Code=GNB<br>Year=%{x}<br>internet_usage=%{y}<extra></extra>\",\"legendgroup\":\"GNB\",\"line\":{\"color\":\"#00cc96\",\"dash\":\"solid\"},\"marker\":{\"symbol\":\"circle\"},\"mode\":\"lines\",\"name\":\"GNB\",\"showlegend\":true,\"x\":[1990,1991,1992,1993,1994,1995,1997,1998,1999,2000,2001,2002,2003,2004,2005,2006,2007,2008,2009,2010,2011,2012,2013,2014,2015,2016,2017],\"xaxis\":\"x\",\"y\":[0.0,0.0,0.0,0.0,0.0,0.0,0.016389063,0.024060421,0.117702448,0.230103171,0.299569145,1.022993234,1.354197478,1.808142203,1.901365316,2.057196705,2.206302237,2.354888711,2.303280592,2.45,2.672,2.893990621,3.1,3.32,3.540706917,3.761413832,3.930509152],\"yaxis\":\"y\",\"type\":\"scattergl\"},{\"hovertemplate\":\"Code=GUY<br>Year=%{x}<br>internet_usage=%{y}<extra></extra>\",\"legendgroup\":\"GUY\",\"line\":{\"color\":\"#ab63fa\",\"dash\":\"solid\"},\"marker\":{\"symbol\":\"circle\"},\"mode\":\"lines\",\"name\":\"GUY\",\"showlegend\":true,\"x\":[1990,1991,1992,1993,1994,1995,1996,1997,1998,1999,2000,2001,2007,2008,2009,2010,2011,2012,2013,2014,2015,2016,2017],\"xaxis\":\"x\",\"y\":[0.0,0.0,0.0,0.0,0.0,0.0,0.065854115,0.131828033,0.26408811,3.966354735,6.611491566,13.2069865,13.8,18.2,23.9,29.9,30.0,30.5,31.0,32.0,34.0,35.66,37.32583679],\"yaxis\":\"y\",\"type\":\"scattergl\"},{\"hovertemplate\":\"Code=HTI<br>Year=%{x}<br>internet_usage=%{y}<extra></extra>\",\"legendgroup\":\"HTI\",\"line\":{\"color\":\"#FFA15A\",\"dash\":\"solid\"},\"marker\":{\"symbol\":\"circle\"},\"mode\":\"lines\",\"name\":\"HTI\",\"showlegend\":true,\"x\":[1990,1991,1992,1993,1994,1995,1996,1998,1999,2000,2001,2002,2003,2004,2005,2006,2007,2008,2009,2010,2011,2012,2013,2014,2015,2016,2017,2018],\"xaxis\":\"x\",\"y\":[0.0,0.0,0.0,0.0,0.0,0.0,0.007484253,0.023999477,0.070658478,0.231270715,0.340832326,0.893432988,1.647358346,5.401261908,6.376201635,6.796000481,7.2,7.6,8.1,8.37,9.0,9.8,10.6,11.4,12.1977,12.23260161,12.32610358,32.47362713],\"yaxis\":\"y\",\"type\":\"scattergl\"},{\"hovertemplate\":\"Code=HND<br>Year=%{x}<br>internet_usage=%{y}<extra></extra>\",\"legendgroup\":\"HND\",\"line\":{\"color\":\"#19d3f3\",\"dash\":\"solid\"},\"marker\":{\"symbol\":\"circle\"},\"mode\":\"lines\",\"name\":\"HND\",\"showlegend\":true,\"x\":[1990,1991,1992,1993,1994,1995,1996,1997,1998,1999,2000,2001,2002,2003,2004,2005,2006,2007,2008,2009,2010,2011,2012,2013,2014,2015,2016,2017],\"xaxis\":\"x\",\"y\":[0.0,0.0,0.0,0.0,0.0,0.036775252,0.043711246,0.170996468,0.301247214,0.573575476,1.203855999,1.415281931,2.597402597,4.8,5.6,6.5,7.8,9.4,9.6,9.8,11.09,15.9,18.12,17.8,19.08,27.1,29.5,32.13636364],\"yaxis\":\"y\",\"type\":\"scattergl\"},{\"hovertemplate\":\"Code=HKG<br>Year=%{x}<br>internet_usage=%{y}<extra></extra>\",\"legendgroup\":\"HKG\",\"line\":{\"color\":\"#FF6692\",\"dash\":\"solid\"},\"marker\":{\"symbol\":\"circle\"},\"mode\":\"lines\",\"name\":\"HKG\",\"showlegend\":true,\"x\":[1990,1991,1992,1993,1994,1995,1996,1997,1998,1999,2000,2001,2002,2003,2004,2005,2006,2007,2008,2009,2010,2011,2012,2013,2014,2015,2016,2017,2018,2019],\"xaxis\":\"x\",\"y\":[0.0,0.120955444,0.849527883,1.334568031,2.784198266,3.218635643,4.748838672,10.51875705,14.54597958,21.23068197,27.82776068,38.67140323,43.08238303,52.20004335,56.39988039,56.9,60.8,64.8,66.7,69.4,72.0,72.2,72.9,74.2,79.86627043,84.94835296,87.47941467,89.41594465,90.50739533,91.74340039],\"yaxis\":\"y\",\"type\":\"scattergl\"},{\"hovertemplate\":\"Code=HUN<br>Year=%{x}<br>internet_usage=%{y}<extra></extra>\",\"legendgroup\":\"HUN\",\"line\":{\"color\":\"#B6E880\",\"dash\":\"solid\"},\"marker\":{\"symbol\":\"circle\"},\"mode\":\"lines\",\"name\":\"HUN\",\"showlegend\":true,\"x\":[1990,1991,1992,1993,1994,1995,1996,1997,1998,1999,2000,2001,2002,2003,2004,2005,2006,2007,2008,2009,2010,2011,2012,2013,2014,2015,2016,2017,2018,2019],\"xaxis\":\"x\",\"y\":[0.0,0.00338263,0.048353421,0.193414395,0.483580975,0.677486054,0.969239536,1.942449872,3.894643278,5.857840749,6.999676351,14.5285543,16.67,21.63,27.74,38.97,47.06,53.3,61.0,62.0,65.0,68.01998789,70.57999815,72.6439,75.65319745,72.83473703,79.25941213,76.75054712,76.07436064,80.37169361],\"yaxis\":\"y\",\"type\":\"scattergl\"},{\"hovertemplate\":\"Code=ISL<br>Year=%{x}<br>internet_usage=%{y}<extra></extra>\",\"legendgroup\":\"ISL\",\"line\":{\"color\":\"#FF97FF\",\"dash\":\"solid\"},\"marker\":{\"symbol\":\"circle\"},\"mode\":\"lines\",\"name\":\"ISL\",\"showlegend\":true,\"x\":[1990,1991,1992,1993,1994,1995,1996,1997,1998,1999,2000,2001,2002,2003,2004,2005,2006,2007,2008,2009,2010,2011,2012,2013,2014,2015,2016,2017,2018],\"xaxis\":\"x\",\"y\":[0.0,0.505129002,1.53916008,2.667825265,6.794811784,11.2158757,14.80647932,27.47886875,36.2642065,41.29456671,44.47053382,49.39299537,79.12,83.14,83.88,87.0,89.51,90.6,91.0,93.0,93.39,94.8196868,96.20979955,96.5468,98.16,98.2,98.2400163,98.25520119,99.01095399],\"yaxis\":\"y\",\"type\":\"scattergl\"},{\"hovertemplate\":\"Code=IND<br>Year=%{x}<br>internet_usage=%{y}<extra></extra>\",\"legendgroup\":\"IND\",\"line\":{\"color\":\"#FECB52\",\"dash\":\"solid\"},\"marker\":{\"symbol\":\"circle\"},\"mode\":\"lines\",\"name\":\"IND\",\"showlegend\":true,\"x\":[1990,1991,1992,1993,1994,1995,1996,1997,1998,1999,2000,2001,2002,2003,2004,2005,2006,2007,2008,2009,2010,2011,2012,2013,2014,2015,2016,2017,2018],\"xaxis\":\"x\",\"y\":[0.0,0.0,0.000111308,0.000218176,0.001069562,0.026228879,0.046333977,0.070767849,0.139027329,0.273224277,0.52753245,0.660146377,1.537875582,1.686489971,1.976136492,2.388075,2.805499865,3.95,4.38,5.12,7.5,10.07,12.58006091,15.1,21.0,17.0,22.0,32.0,20.08130004],\"yaxis\":\"y\",\"type\":\"scattergl\"},{\"hovertemplate\":\"Code=IDN<br>Year=%{x}<br>internet_usage=%{y}<extra></extra>\",\"legendgroup\":\"IDN\",\"line\":{\"color\":\"#636efa\",\"dash\":\"solid\"},\"marker\":{\"symbol\":\"circle\"},\"mode\":\"lines\",\"name\":\"IDN\",\"showlegend\":true,\"x\":[1990,1991,1992,1993,1994,1995,1996,1997,1998,1999,2000,2001,2002,2003,2004,2005,2006,2007,2008,2009,2010,2011,2012,2013,2014,2015,2016,2017,2018,2019],\"xaxis\":\"x\",\"y\":[0.0,0.0,0.0,0.0,0.001059744,0.026109477,0.056623989,0.194910264,0.255306646,0.444415936,0.925563864,2.018613859,2.134135733,2.38701978,2.600285876,3.602024763,4.764813134,5.786274729,7.917479385,6.92,10.92,12.28,14.52,14.94,17.14,22.0627426,25.4473537,32.33580625,39.90463864,47.69064898],\"yaxis\":\"y\",\"type\":\"scattergl\"},{\"hovertemplate\":\"Code=IRN<br>Year=%{x}<br>internet_usage=%{y}<extra></extra>\",\"legendgroup\":\"IRN\",\"line\":{\"color\":\"#EF553B\",\"dash\":\"solid\"},\"marker\":{\"symbol\":\"circle\"},\"mode\":\"lines\",\"name\":\"IRN\",\"showlegend\":true,\"x\":[1990,1991,1992,1993,1994,1995,1996,1997,1998,1999,2000,2001,2002,2003,2004,2005,2006,2007,2008,2009,2010,2011,2012,2013,2014,2015,2016,2017,2018],\"xaxis\":\"x\",\"y\":[0.0,0.0,0.0,0.0,0.000408332,0.004179752,0.01582608,0.046756094,0.099815221,0.378569095,0.93419002,1.484221332,4.626175115,6.933721953,7.49,8.1,8.76,9.47,12.02,13.8,15.9,19.0,22.73,29.95,39.35,45.33497615,53.22677167,64.04397362,70.00455222],\"yaxis\":\"y\",\"type\":\"scattergl\"},{\"hovertemplate\":\"Code=IRQ<br>Year=%{x}<br>internet_usage=%{y}<extra></extra>\",\"legendgroup\":\"IRQ\",\"line\":{\"color\":\"#00cc96\",\"dash\":\"solid\"},\"marker\":{\"symbol\":\"circle\"},\"mode\":\"lines\",\"name\":\"IRQ\",\"showlegend\":true,\"x\":[1990,1991,1992,1993,1994,1995,2001,2002,2003,2004,2005,2006,2007,2008,2009,2010,2011,2012,2013,2014,2015,2016,2017,2018],\"xaxis\":\"x\",\"y\":[0.0,0.0,0.0,0.0,0.0,0.0,0.1,0.5,0.6,0.9,0.9,0.952344244,0.93,1.0,1.06,2.5,5.0,7.1,9.2,13.21,58.0,21.23,49.35999889,75.00000131],\"yaxis\":\"y\",\"type\":\"scattergl\"},{\"hovertemplate\":\"Code=IRL<br>Year=%{x}<br>internet_usage=%{y}<extra></extra>\",\"legendgroup\":\"IRL\",\"line\":{\"color\":\"#ab63fa\",\"dash\":\"solid\"},\"marker\":{\"symbol\":\"circle\"},\"mode\":\"lines\",\"name\":\"IRL\",\"showlegend\":true,\"x\":[1990,1991,1992,1993,1994,1995,1996,1997,1998,1999,2000,2001,2002,2003,2004,2005,2006,2007,2008,2009,2010,2011,2012,2013,2014,2015,2017,2018],\"xaxis\":\"x\",\"y\":[0.0,0.056796044,0.169686377,0.281141005,0.558377222,1.108386328,2.199301832,4.08825507,8.096010043,10.93380859,17.85046724,23.13881219,25.85,34.31,36.99,41.61,54.82,61.15832455,65.34,67.38,69.85,74.88997297,76.91999254,78.2477,83.49172234,83.49479167,84.11400706,84.52230206],\"yaxis\":\"y\",\"type\":\"scattergl\"},{\"hovertemplate\":\"Code=ISR<br>Year=%{x}<br>internet_usage=%{y}<extra></extra>\",\"legendgroup\":\"ISR\",\"line\":{\"color\":\"#FFA15A\",\"dash\":\"solid\"},\"marker\":{\"symbol\":\"circle\"},\"mode\":\"lines\",\"name\":\"ISR\",\"showlegend\":true,\"x\":[1990,1991,1992,1993,1994,1995,1996,1997,1998,1999,2000,2001,2002,2003,2004,2005,2006,2007,2008,2009,2010,2011,2012,2013,2014,2015,2016,2017,2018,2019],\"xaxis\":\"x\",\"y\":[0.110773866,0.2146241,0.310579197,0.398833333,0.57696646,0.93042297,2.1683676,4.399405482,10.30706995,13.43612191,20.87379,17.37862386,17.76459906,19.59339366,22.77048553,25.19404242,27.88107446,48.12806219,59.39,63.12,67.5,68.87387799,70.8,70.25031195,75.01775316,77.35208966,79.65312418,81.58118359,83.73315696,86.78787762],\"yaxis\":\"y\",\"type\":\"scattergl\"},{\"hovertemplate\":\"Code=ITA<br>Year=%{x}<br>internet_usage=%{y}<extra></extra>\",\"legendgroup\":\"ITA\",\"line\":{\"color\":\"#19d3f3\",\"dash\":\"solid\"},\"marker\":{\"symbol\":\"circle\"},\"mode\":\"lines\",\"name\":\"ITA\",\"showlegend\":true,\"x\":[1990,1991,1992,1993,1994,1995,1996,1997,1998,1999,2000,2001,2002,2003,2004,2005,2006,2007,2008,2009,2010,2011,2012,2013,2014,2015,2016,2017,2018],\"xaxis\":\"x\",\"y\":[0.017544562,0.035063256,0.070053433,0.122462053,0.192304619,0.524412787,1.023289903,2.276737834,4.558519565,14.37841019,23.11087424,27.22211698,28.04,29.04,33.24,35.0,37.99,40.79,44.53,48.83,53.68,54.3899983,55.82999799,58.4593,55.63846022,58.14173496,61.32425277,63.077347,74.38718292],\"yaxis\":\"y\",\"type\":\"scattergl\"},{\"hovertemplate\":\"Code=JAM<br>Year=%{x}<br>internet_usage=%{y}<extra></extra>\",\"legendgroup\":\"JAM\",\"line\":{\"color\":\"#FF6692\",\"dash\":\"solid\"},\"marker\":{\"symbol\":\"circle\"},\"mode\":\"lines\",\"name\":\"JAM\",\"showlegend\":true,\"x\":[1990,1991,1992,1993,1994,1995,1996,1997,1998,1999,2000,2001,2002,2003,2004,2005,2006,2007,2008,2009,2010,2011,2012,2013,2014,2015,2016,2017],\"xaxis\":\"x\",\"y\":[0.0,0.0,0.0,0.0,0.036817104,0.109487986,0.591145842,0.797797441,1.978726318,2.355688556,3.115778027,3.863020387,6.1,7.8,10.0,12.8,16.4,21.1,23.6,24.3,27.67,37.43861341,33.79,37.1,40.4027351,42.22122119,44.36685637,55.07206705],\"yaxis\":\"y\",\"type\":\"scattergl\"},{\"hovertemplate\":\"Code=JPN<br>Year=%{x}<br>internet_usage=%{y}<extra></extra>\",\"legendgroup\":\"JPN\",\"line\":{\"color\":\"#B6E880\",\"dash\":\"solid\"},\"marker\":{\"symbol\":\"circle\"},\"mode\":\"lines\",\"name\":\"JPN\",\"showlegend\":true,\"x\":[1990,1991,1992,1993,1994,1995,1996,1997,1998,1999,2000,2001,2002,2003,2004,2005,2006,2007,2008,2009,2010,2011,2012,2013,2014,2015,2016,2017,2018],\"xaxis\":\"x\",\"y\":[0.020293683,0.040438041,0.096678025,0.401277526,0.799684291,1.594363148,4.372981968,9.16307714,13.41404088,21.39129031,29.99074036,38.53206086,46.59420112,48.43526589,62.39392963,66.9210661,68.68527032,74.3,75.4,78.0,78.21,79.05411352,79.4964,88.21942891,89.10683302,91.05802839,93.18272128,91.72654724,91.28160849],\"yaxis\":\"y\",\"type\":\"scattergl\"},{\"hovertemplate\":\"Code=JOR<br>Year=%{x}<br>internet_usage=%{y}<extra></extra>\",\"legendgroup\":\"JOR\",\"line\":{\"color\":\"#FF97FF\",\"dash\":\"solid\"},\"marker\":{\"symbol\":\"circle\"},\"mode\":\"lines\",\"name\":\"JOR\",\"showlegend\":true,\"x\":[1990,1991,1992,1993,1994,1995,1996,1997,1998,1999,2000,2001,2002,2003,2004,2005,2006,2007,2008,2009,2010,2011,2012,2013,2014,2015,2016,2017],\"xaxis\":\"x\",\"y\":[0.0,0.0,0.0,0.0,0.0,0.02323392,0.044938549,0.599341106,1.305888264,2.526965353,2.623275422,4.705719581,6.025532412,8.466005016,11.65874137,12.93285205,13.86710879,20.0,23.0,26.0,27.2,34.9,37.0,41.4,46.2,60.11438269,62.30219257,66.79031443],\"yaxis\":\"y\",\"type\":\"scattergl\"},{\"hovertemplate\":\"Code=KAZ<br>Year=%{x}<br>internet_usage=%{y}<extra></extra>\",\"legendgroup\":\"KAZ\",\"line\":{\"color\":\"#FECB52\",\"dash\":\"solid\"},\"marker\":{\"symbol\":\"circle\"},\"mode\":\"lines\",\"name\":\"KAZ\",\"showlegend\":true,\"x\":[1990,1991,1992,1993,1994,1995,1996,1997,1998,1999,2000,2001,2002,2003,2004,2005,2006,2007,2008,2009,2010,2011,2012,2013,2014,2015,2016,2017,2018,2019],\"xaxis\":\"x\",\"y\":[0.0,0.0,0.0,0.0,0.000521079,0.011302355,0.031824512,0.064596754,0.131069604,0.464277218,0.668594403,1.006124211,1.674770995,2.000414753,2.650394657,2.961707492,3.268369051,4.02,11.0,18.2,31.6,50.6,61.90662747,63.30422443,66.0,70.8299336,74.58772647,76.42674823,78.90391906,81.87762554],\"yaxis\":\"y\",\"type\":\"scattergl\"},{\"hovertemplate\":\"Code=KEN<br>Year=%{x}<br>internet_usage=%{y}<extra></extra>\",\"legendgroup\":\"KEN\",\"line\":{\"color\":\"#636efa\",\"dash\":\"solid\"},\"marker\":{\"symbol\":\"circle\"},\"mode\":\"lines\",\"name\":\"KEN\",\"showlegend\":true,\"x\":[1990,1991,1992,1993,1994,1995,1996,1997,1998,1999,2000,2001,2002,2003,2004,2005,2006,2007,2008,2009,2010,2011,2012,2013,2014,2015,2016,2017,2019],\"xaxis\":\"x\",\"y\":[0.0,0.0,0.0,0.0,0.0,0.000727482,0.008839115,0.034406051,0.050261388,0.114256028,0.318059714,0.619782266,1.207773885,2.941902861,3.023528042,3.101897702,3.6,4.4,5.2,6.1,7.2,8.8,10.5,13.0,16.5,16.58785485,16.6,17.82710021,22.56511937],\"yaxis\":\"y\",\"type\":\"scattergl\"},{\"hovertemplate\":\"Code=KIR<br>Year=%{x}<br>internet_usage=%{y}<extra></extra>\",\"legendgroup\":\"KIR\",\"line\":{\"color\":\"#EF553B\",\"dash\":\"solid\"},\"marker\":{\"symbol\":\"circle\"},\"mode\":\"lines\",\"name\":\"KIR\",\"showlegend\":true,\"x\":[1990,1991,1992,1993,1994,1995,1998,1999,2000,2001,2002,2003,2004,2005,2006,2007,2008,2009,2010,2011,2012,2013,2014,2015,2016,2017],\"xaxis\":\"x\",\"y\":[0.0,0.0,0.0,0.0,0.0,0.0,0.616545618,1.211577838,1.785225474,2.337458948,2.5,3.0,3.5,4.0,4.5,6.0,7.0,8.97,9.07,10.0,10.74679768,11.5,12.25,12.99748389,13.7,14.58181818],\"yaxis\":\"y\",\"type\":\"scattergl\"},{\"hovertemplate\":\"Code=OWID_KOS<br>Year=%{x}<br>internet_usage=%{y}<extra></extra>\",\"legendgroup\":\"OWID_KOS\",\"line\":{\"color\":\"#00cc96\",\"dash\":\"solid\"},\"marker\":{\"symbol\":\"circle\"},\"mode\":\"lines\",\"name\":\"OWID_KOS\",\"showlegend\":true,\"x\":[2017,2018],\"xaxis\":\"x\",\"y\":[83.89359681,89.44303197],\"yaxis\":\"y\",\"type\":\"scattergl\"},{\"hovertemplate\":\"Code=KWT<br>Year=%{x}<br>internet_usage=%{y}<extra></extra>\",\"legendgroup\":\"KWT\",\"line\":{\"color\":\"#ab63fa\",\"dash\":\"solid\"},\"marker\":{\"symbol\":\"circle\"},\"mode\":\"lines\",\"name\":\"KWT\",\"showlegend\":true,\"x\":[1990,1991,1992,1993,1994,1995,1996,1997,1998,1999,2000,2001,2002,2003,2004,2005,2006,2007,2008,2009,2010,2011,2012,2013,2014,2015,2016,2017,2018,2019],\"xaxis\":\"x\",\"y\":[0.0,0.0,0.0,0.091082245,0.147162703,0.202898433,0.855662317,2.174535859,3.052397455,4.756222209,6.731395768,8.551792434,10.24896793,22.40293838,22.92711204,25.92610837,28.79119795,34.8,42.0,50.8,61.4,65.76907069,70.45,75.46,78.7,72.0,78.36738376,97.99998933,99.59884959,99.54267645],\"yaxis\":\"y\",\"type\":\"scattergl\"},{\"hovertemplate\":\"Code=KGZ<br>Year=%{x}<br>internet_usage=%{y}<extra></extra>\",\"legendgroup\":\"KGZ\",\"line\":{\"color\":\"#FFA15A\",\"dash\":\"solid\"},\"marker\":{\"symbol\":\"circle\"},\"mode\":\"lines\",\"name\":\"KGZ\",\"showlegend\":true,\"x\":[1990,1991,1992,1993,1994,1995,1998,1999,2000,2001,2002,2003,2004,2005,2006,2007,2008,2009,2010,2011,2012,2013,2014,2015,2016,2017],\"xaxis\":\"x\",\"y\":[0.0,0.0,0.0,0.0,0.0,0.0,0.072808334,0.20471135,1.041401145,3.002941327,2.99926518,3.908766268,5.090385307,10.53380134,12.306907,14.03,15.7,16.0,16.3,17.5,19.8,23.0,28.3,30.24704278,37.0,38.19903776],\"yaxis\":\"y\",\"type\":\"scattergl\"},{\"hovertemplate\":\"Code=LAO<br>Year=%{x}<br>internet_usage=%{y}<extra></extra>\",\"legendgroup\":\"LAO\",\"line\":{\"color\":\"#19d3f3\",\"dash\":\"solid\"},\"marker\":{\"symbol\":\"circle\"},\"mode\":\"lines\",\"name\":\"LAO\",\"showlegend\":true,\"x\":[1990,1991,1992,1993,1994,1995,1998,1999,2000,2001,2002,2003,2004,2005,2006,2007,2008,2009,2010,2011,2012,2013,2014,2015,2016,2017],\"xaxis\":\"x\",\"y\":[0.0,0.0,0.0,0.0,0.0,0.0,0.009657814,0.037780708,0.111044032,0.181664461,0.267899241,0.333912466,0.36143449,0.85035749,1.169893428,1.64,3.55,6.0,7.0,9.0,10.74767619,12.5,14.26,18.2,21.87,25.51043508],\"yaxis\":\"y\",\"type\":\"scattergl\"},{\"hovertemplate\":\"Code=LVA<br>Year=%{x}<br>internet_usage=%{y}<extra></extra>\",\"legendgroup\":\"LVA\",\"line\":{\"color\":\"#FF6692\",\"dash\":\"solid\"},\"marker\":{\"symbol\":\"circle\"},\"mode\":\"lines\",\"name\":\"LVA\",\"showlegend\":true,\"x\":[1990,1991,1992,1993,1994,1995,1996,1997,1998,1999,2000,2001,2002,2003,2004,2005,2006,2007,2008,2009,2010,2011,2012,2013,2014,2015,2016,2017,2018,2019],\"xaxis\":\"x\",\"y\":[0.0,0.0,0.0,0.0,0.0,0.0,0.812717072,2.053454712,3.315267886,4.387409055,6.319062083,7.219345808,21.94,26.98,38.58,46.0,53.63,59.17,63.41,66.84,68.42,69.74995456,73.11994377,75.2344,75.83,79.20058292,79.84209778,80.114077,83.57717486,86.13545644],\"yaxis\":\"y\",\"type\":\"scattergl\"},{\"hovertemplate\":\"Code=LBN<br>Year=%{x}<br>internet_usage=%{y}<extra></extra>\",\"legendgroup\":\"LBN\",\"line\":{\"color\":\"#B6E880\",\"dash\":\"solid\"},\"marker\":{\"symbol\":\"circle\"},\"mode\":\"lines\",\"name\":\"LBN\",\"showlegend\":true,\"x\":[1990,1991,1992,1993,1994,1995,1996,1997,1998,1999,2000,2001,2002,2003,2004,2005,2006,2007,2008,2009,2010,2011,2012,2013,2014,2015,2016,2017],\"xaxis\":\"x\",\"y\":[0.0,0.0,0.0,0.0,0.0,0.071617991,0.140166939,1.241079739,2.722352199,5.376809498,7.952743736,6.783219775,7.0,8.0,9.0,10.14,15.0,18.74,22.53,30.14,43.68,52.0,61.24978572,70.5,73.0,74.0,76.11,78.18077489],\"yaxis\":\"y\",\"type\":\"scattergl\"},{\"hovertemplate\":\"Code=LSO<br>Year=%{x}<br>internet_usage=%{y}<extra></extra>\",\"legendgroup\":\"LSO\",\"line\":{\"color\":\"#FF97FF\",\"dash\":\"solid\"},\"marker\":{\"symbol\":\"circle\"},\"mode\":\"lines\",\"name\":\"LSO\",\"showlegend\":true,\"x\":[1990,1991,1992,1993,1994,1995,1996,1997,1998,1999,2000,2001,2002,2003,2004,2005,2006,2007,2008,2009,2010,2011,2012,2013,2014,2015,2016,2017],\"xaxis\":\"x\",\"y\":[0.0,0.0,0.0,0.0,0.0,0.0,0.00284594,0.005584433,0.010956533,0.05380446,0.21180607,0.261150063,1.083943137,1.53249659,2.175524339,2.580245484,2.979708187,3.44543126,3.58,3.72,3.86,7.0,10.0,15.0,22.0,25.0,32.45385695,29.78780333],\"yaxis\":\"y\",\"type\":\"scattergl\"},{\"hovertemplate\":\"Code=LBR<br>Year=%{x}<br>internet_usage=%{y}<extra></extra>\",\"legendgroup\":\"LBR\",\"line\":{\"color\":\"#FECB52\",\"dash\":\"solid\"},\"marker\":{\"symbol\":\"circle\"},\"mode\":\"lines\",\"name\":\"LBR\",\"showlegend\":true,\"x\":[1990,1991,1992,1993,1994,1995,1997,1998,1999,2000,2001,2002,2003,2004,2007,2008,2009,2010,2011,2012,2013,2014,2015,2016,2017],\"xaxis\":\"x\",\"y\":[0.0,0.0,0.0,0.0,0.0,0.0,0.004489443,0.004099387,0.011328732,0.017702706,0.033812227,0.032713307,0.031868935,0.031011185,0.551376581,0.53,2.0,2.3,2.5,2.6,3.2,5.41,33.0,7.319106411,7.984479722],\"yaxis\":\"y\",\"type\":\"scattergl\"},{\"hovertemplate\":\"Code=LBY<br>Year=%{x}<br>internet_usage=%{y}<extra></extra>\",\"legendgroup\":\"LBY\",\"line\":{\"color\":\"#636efa\",\"dash\":\"solid\"},\"marker\":{\"symbol\":\"circle\"},\"mode\":\"lines\",\"name\":\"LBY\",\"showlegend\":true,\"x\":[1990,1991,1992,1993,1994,1995,1999,2000,2001,2002,2003,2004,2005,2006,2007,2008,2009,2010,2011,2013,2014,2015,2016,2017],\"xaxis\":\"x\",\"y\":[0.0,0.0,0.0,0.0,0.0,0.0,0.133617289,0.187042622,0.366533175,2.244418222,2.814517987,3.532838162,3.917787977,4.301051789,4.721999379,9.0,10.8,14.0,14.0,16.5,17.76,19.01607978,20.27215956,21.75892062],\"yaxis\":\"y\",\"type\":\"scattergl\"},{\"hovertemplate\":\"Code=LIE<br>Year=%{x}<br>internet_usage=%{y}<extra></extra>\",\"legendgroup\":\"LIE\",\"line\":{\"color\":\"#EF553B\",\"dash\":\"solid\"},\"marker\":{\"symbol\":\"circle\"},\"mode\":\"lines\",\"name\":\"LIE\",\"showlegend\":true,\"x\":[1990,1991,1992,1993,1994,1995,2000,2001,2002,2003,2004,2005,2006,2007,2008,2009,2010,2011,2012,2013,2014,2015,2016,2017],\"xaxis\":\"x\",\"y\":[0.0,0.0,0.0,0.0,0.0,0.0,36.51522989,45.11685265,59.47071067,58.80969184,64.00744814,63.37135615,64.21416136,65.08021844,70.0,75.0,80.0,85.0,89.4077,93.8,95.21,96.6411951,98.09390389,99.54661245],\"yaxis\":\"y\",\"type\":\"scattergl\"},{\"hovertemplate\":\"Code=LTU<br>Year=%{x}<br>internet_usage=%{y}<extra></extra>\",\"legendgroup\":\"LTU\",\"line\":{\"color\":\"#00cc96\",\"dash\":\"solid\"},\"marker\":{\"symbol\":\"circle\"},\"mode\":\"lines\",\"name\":\"LTU\",\"showlegend\":true,\"x\":[1990,1991,1992,1993,1994,1995,1996,1997,1998,1999,2000,2001,2002,2003,2004,2005,2006,2007,2008,2009,2010,2011,2012,2013,2014,2015,2016,2017,2018,2019],\"xaxis\":\"x\",\"y\":[0.0,0.0,0.0,0.0,0.0,0.0,0.277421291,0.978422157,1.972063745,2.9230547,6.427067495,7.179356994,17.69,25.91,31.23,36.22,43.9,49.9,55.22,59.76,62.12,63.6399774,67.22998933,68.4529,72.13,71.37805901,74.37664556,77.61525651,79.72258277,81.58186838],\"yaxis\":\"y\",\"type\":\"scattergl\"},{\"hovertemplate\":\"Code=LUX<br>Year=%{x}<br>internet_usage=%{y}<extra></extra>\",\"legendgroup\":\"LUX\",\"line\":{\"color\":\"#ab63fa\",\"dash\":\"solid\"},\"marker\":{\"symbol\":\"circle\"},\"mode\":\"lines\",\"name\":\"LUX\",\"showlegend\":true,\"x\":[1990,1991,1992,1993,1994,1995,1996,1997,1998,1999,2000,2001,2002,2003,2004,2005,2006,2007,2008,2009,2010,2011,2012,2013,2014,2015,2016,2017,2018],\"xaxis\":\"x\",\"y\":[0.0,0.0,0.153198791,0.302155121,0.496486119,1.590941911,5.551653306,7.142704085,11.74555372,17.3879578,22.88732797,36.16342251,39.84,54.55,65.88,70.0,72.51,78.92,82.23,87.31,90.62,90.02985856,91.94992374,93.7765,94.67,96.37671417,98.13669867,97.36296032,97.06129871],\"yaxis\":\"y\",\"type\":\"scattergl\"},{\"hovertemplate\":\"Code=MAC<br>Year=%{x}<br>internet_usage=%{y}<extra></extra>\",\"legendgroup\":\"MAC\",\"line\":{\"color\":\"#FFA15A\",\"dash\":\"solid\"},\"marker\":{\"symbol\":\"circle\"},\"mode\":\"lines\",\"name\":\"MAC\",\"showlegend\":true,\"x\":[1990,1991,1992,1993,1994,1995,1996,1997,1998,1999,2000,2001,2002,2003,2004,2005,2006,2007,2008,2009,2010,2011,2012,2013,2014,2015,2016,2017,2018,2019],\"xaxis\":\"x\",\"y\":[0.0,0.0,0.0,0.0,0.036993376,0.280014086,0.727273598,2.364127672,7.003324245,9.212005085,13.60858974,22.52121677,25.17188016,25.74212398,31.48409738,34.86292717,46.4,47.327,49.24,54.0,55.198,60.20369672,61.31,65.8,69.78,77.60013186,81.64298546,83.17408907,83.79408961,86.46792571],\"yaxis\":\"y\",\"type\":\"scattergl\"},{\"hovertemplate\":\"Code=MDG<br>Year=%{x}<br>internet_usage=%{y}<extra></extra>\",\"legendgroup\":\"MDG\",\"line\":{\"color\":\"#19d3f3\",\"dash\":\"solid\"},\"marker\":{\"symbol\":\"circle\"},\"mode\":\"lines\",\"name\":\"MDG\",\"showlegend\":true,\"x\":[1990,1991,1992,1993,1994,1995,1996,1997,1998,1999,2000,2001,2002,2003,2004,2005,2006,2007,2008,2009,2010,2011,2012,2013,2014,2015,2016],\"xaxis\":\"x\",\"y\":[0.0,0.0,0.0,0.0,0.0,0.0,0.003695196,0.014333647,0.062561023,0.168608781,0.196394691,0.222511586,0.339720155,0.423252419,0.525353655,0.567721802,0.607552239,0.65,1.65,1.63,1.7,1.9,2.3,3.0,3.7,4.17397219,4.713662899],\"yaxis\":\"y\",\"type\":\"scattergl\"},{\"hovertemplate\":\"Code=MWI<br>Year=%{x}<br>internet_usage=%{y}<extra></extra>\",\"legendgroup\":\"MWI\",\"line\":{\"color\":\"#FF6692\",\"dash\":\"solid\"},\"marker\":{\"symbol\":\"circle\"},\"mode\":\"lines\",\"name\":\"MWI\",\"showlegend\":true,\"x\":[1990,1991,1992,1993,1994,1995,1997,1998,1999,2000,2001,2002,2003,2004,2005,2006,2007,2008,2009,2010,2011,2012,2013,2014,2015,2016,2017],\"xaxis\":\"x\",\"y\":[0.0,0.0,0.0,0.0,0.0,0.0,0.004668518,0.018057365,0.087278755,0.126780945,0.164020725,0.215094727,0.278815116,0.347505335,0.384489334,0.42513749,0.965864737,0.7,1.07,2.26,3.33,4.3506,5.05,5.83,5.3,11.4708908,13.78216439],\"yaxis\":\"y\",\"type\":\"scattergl\"},{\"hovertemplate\":\"Code=MYS<br>Year=%{x}<br>internet_usage=%{y}<extra></extra>\",\"legendgroup\":\"MYS\",\"line\":{\"color\":\"#B6E880\",\"dash\":\"solid\"},\"marker\":{\"symbol\":\"circle\"},\"mode\":\"lines\",\"name\":\"MYS\",\"showlegend\":true,\"x\":[1990,1991,1992,1993,1994,1995,1996,1997,1998,1999,2000,2001,2002,2003,2004,2005,2006,2007,2008,2009,2010,2011,2012,2013,2014,2015,2016,2017,2018,2019],\"xaxis\":\"x\",\"y\":[0.0,0.0,0.001047822,0.025538478,0.099607417,0.145673837,0.852044466,2.307393234,6.751770483,12.3055022,21.38473116,26.6959725,32.33820434,34.97115234,42.25226563,48.62917025,51.63798899,55.7,55.8,55.9,56.3,61.0,65.8,57.05751226,63.66542588,71.06406781,78.78830993,80.14047901,81.20104862,84.21322418],\"yaxis\":\"y\",\"type\":\"scattergl\"},{\"hovertemplate\":\"Code=MDV<br>Year=%{x}<br>internet_usage=%{y}<extra></extra>\",\"legendgroup\":\"MDV\",\"line\":{\"color\":\"#FF97FF\",\"dash\":\"solid\"},\"marker\":{\"symbol\":\"circle\"},\"mode\":\"lines\",\"name\":\"MDV\",\"showlegend\":true,\"x\":[1990,1991,1992,1993,1994,1995,1996,1997,1998,1999,2000,2001,2002,2003,2004,2005,2006,2007,2008,2009,2010,2011,2012,2013,2014,2015,2016,2017],\"xaxis\":\"x\",\"y\":[0.0,0.0,0.0,0.0,0.0,0.0,0.22693009,0.309444238,0.569627464,1.119908615,2.203872939,3.617290649,5.347765169,5.97659285,6.588254875,6.869605067,11.03635278,16.3,23.2,24.8,26.53,34.0,38.9301,44.1,49.28,54.46195515,59.09258997,63.18566588],\"yaxis\":\"y\",\"type\":\"scattergl\"},{\"hovertemplate\":\"Code=MLI<br>Year=%{x}<br>internet_usage=%{y}<extra></extra>\",\"legendgroup\":\"MLI\",\"line\":{\"color\":\"#FECB52\",\"dash\":\"solid\"},\"marker\":{\"symbol\":\"circle\"},\"mode\":\"lines\",\"name\":\"MLI\",\"showlegend\":true,\"x\":[1990,1991,1992,1993,1994,1995,1996,1997,1998,1999,2000,2001,2002,2003,2004,2005,2006,2007,2008,2009,2010,2011,2012,2013,2014,2015,2016,2017],\"xaxis\":\"x\",\"y\":[0.0,0.0,0.0,0.0,0.0,0.0,0.002055228,0.010085919,0.019793888,0.060909873,0.142545755,0.185897413,0.227045578,0.310364443,0.43281964,0.507063136,0.729627281,0.81,1.57,1.8,2.0,2.2,2.8,3.5,7.0,10.33,11.11218649,12.72064096],\"yaxis\":\"y\",\"type\":\"scattergl\"},{\"hovertemplate\":\"Code=MLT<br>Year=%{x}<br>internet_usage=%{y}<extra></extra>\",\"legendgroup\":\"MLT\",\"line\":{\"color\":\"#636efa\",\"dash\":\"solid\"},\"marker\":{\"symbol\":\"circle\"},\"mode\":\"lines\",\"name\":\"MLT\",\"showlegend\":true,\"x\":[1990,1991,1992,1993,1994,1995,1996,1997,1998,1999,2000,2001,2002,2003,2004,2005,2006,2007,2008,2009,2010,2011,2012,2013,2014,2015,2016,2017,2018,2019],\"xaxis\":\"x\",\"y\":[0.0,0.0,0.0,0.0,0.0,0.224995699,1.051527475,3.920605132,6.500783995,7.759798038,13.11370871,17.87784832,28.92,31.64,34.62,41.24,40.41,46.9,50.08,58.86,63.0,68.01982379,68.19987429,68.9138,73.17,75.96001898,78.0751488,81.01191108,81.65804429,85.77859638],\"yaxis\":\"y\",\"type\":\"scattergl\"},{\"hovertemplate\":\"Code=MHL<br>Year=%{x}<br>internet_usage=%{y}<extra></extra>\",\"legendgroup\":\"MHL\",\"line\":{\"color\":\"#EF553B\",\"dash\":\"solid\"},\"marker\":{\"symbol\":\"circle\"},\"mode\":\"lines\",\"name\":\"MHL\",\"showlegend\":true,\"x\":[1990,1991,1992,1993,1994,1995,1996,1999,2000,2001,2002,2003,2004,2005,2006,2007,2008,2009,2010,2011,2012,2013,2014,2015,2016,2017],\"xaxis\":\"x\",\"y\":[0.0,0.0,0.0,0.0,0.0,0.0,0.037059432,0.966071567,1.534271796,1.706614078,2.335444575,2.569750367,3.599776814,3.878702398,3.795590214,3.95,4.6,5.6,7.0,10.0,12.5,14.0,16.8,19.2824418,29.78777936,38.70116262],\"yaxis\":\"y\",\"type\":\"scattergl\"},{\"hovertemplate\":\"Code=MRT<br>Year=%{x}<br>internet_usage=%{y}<extra></extra>\",\"legendgroup\":\"MRT\",\"line\":{\"color\":\"#00cc96\",\"dash\":\"solid\"},\"marker\":{\"symbol\":\"circle\"},\"mode\":\"lines\",\"name\":\"MRT\",\"showlegend\":true,\"x\":[1990,1991,1992,1993,1994,1995,1997,1998,1999,2000,2001,2002,2003,2004,2005,2006,2007,2008,2009,2010,2011,2012,2013,2014,2015,2016,2017],\"xaxis\":\"x\",\"y\":[0.0,0.0,0.0,0.0,0.0,0.0,0.004172527,0.040594795,0.118464464,0.192031462,0.261448552,0.363229415,0.424004896,0.481470438,0.669966475,0.979661253,1.433613196,1.87,2.28,4.0,4.5,5.0,6.2,10.7,15.19912669,18.0,20.80096366],\"yaxis\":\"y\",\"type\":\"scattergl\"},{\"hovertemplate\":\"Code=MUS<br>Year=%{x}<br>internet_usage=%{y}<extra></extra>\",\"legendgroup\":\"MUS\",\"line\":{\"color\":\"#ab63fa\",\"dash\":\"solid\"},\"marker\":{\"symbol\":\"circle\"},\"mode\":\"lines\",\"name\":\"MUS\",\"showlegend\":true,\"x\":[1990,1991,1992,1993,1994,1995,1996,1997,1998,1999,2000,2001,2002,2003,2004,2005,2006,2007,2008,2009,2010,2011,2012,2013,2014,2015,2016,2017,2018,2019],\"xaxis\":\"x\",\"y\":[0.0,0.0,0.0,0.0,0.0,0.0,0.183769158,0.475629193,2.565279962,4.652213227,7.281535115,8.780904019,10.25262467,12.1871062,13.68908859,15.17222875,16.7,20.22,21.81,22.51,28.33,34.95,35.42,40.11682514,44.80327537,50.13931848,52.19132594,55.4032403,58.5961697,63.99989817],\"yaxis\":\"y\",\"type\":\"scattergl\"},{\"hovertemplate\":\"Code=MEX<br>Year=%{x}<br>internet_usage=%{y}<extra></extra>\",\"legendgroup\":\"MEX\",\"line\":{\"color\":\"#FFA15A\",\"dash\":\"solid\"},\"marker\":{\"symbol\":\"circle\"},\"mode\":\"lines\",\"name\":\"MEX\",\"showlegend\":true,\"x\":[1990,1991,1992,1993,1994,1995,1996,1997,1998,1999,2000,2001,2002,2003,2004,2005,2006,2007,2008,2009,2010,2011,2012,2013,2014,2015,2016,2017,2018,2019],\"xaxis\":\"x\",\"y\":[0.0,0.005880695,0.01730781,0.028305042,0.043339167,0.10256419,0.20040628,0.62731154,1.265783278,1.857436221,5.081384153,7.038023117,11.9,12.9,14.1,17.21,19.52,20.81,21.71,26.34,31.05,37.17629541,39.75,43.46,44.39,57.43104299,59.540446,63.85224909,65.77263448,70.06991047],\"yaxis\":\"y\",\"type\":\"scattergl\"},{\"hovertemplate\":\"Code=FSM<br>Year=%{x}<br>internet_usage=%{y}<extra></extra>\",\"legendgroup\":\"FSM\",\"line\":{\"color\":\"#19d3f3\",\"dash\":\"solid\"},\"marker\":{\"symbol\":\"circle\"},\"mode\":\"lines\",\"name\":\"FSM\",\"showlegend\":true,\"x\":[1990,1991,1992,1993,1994,1995,1996,1997,1998,1999,2000,2001,2002,2003,2004,2005,2006,2007,2008,2009,2010,2011,2012,2013,2014,2015,2016,2017],\"xaxis\":\"x\",\"y\":[0.0,0.0,0.0,0.0,0.0,0.0,0.278037795,0.570676845,1.858718785,2.797594069,3.734862137,4.660527199,5.570099705,9.2325021,11.01786731,11.8813691,12.75033925,13.62113273,14.49,15.35,20.0,22.8,25.974423,27.8,29.65,31.50108128,33.35216255,35.30405287],\"yaxis\":\"y\",\"type\":\"scattergl\"},{\"hovertemplate\":\"Code=MDA<br>Year=%{x}<br>internet_usage=%{y}<extra></extra>\",\"legendgroup\":\"MDA\",\"line\":{\"color\":\"#FF6692\",\"dash\":\"solid\"},\"marker\":{\"symbol\":\"circle\"},\"mode\":\"lines\",\"name\":\"MDA\",\"showlegend\":true,\"x\":[1990,1991,1992,1993,1994,1995,1996,1997,1998,1999,2000,2001,2002,2003,2004,2005,2006,2007,2008,2009,2010,2011,2012,2013,2014,2015,2016,2017],\"xaxis\":\"x\",\"y\":[0.0,0.0,0.0,0.0,0.000825391,0.003457217,0.004643901,0.028128808,0.260818206,0.600695269,1.282846417,1.487812952,3.787242799,7.407544584,10.62939084,14.63027046,19.62064771,20.45,23.39,27.5,32.3,38.0,43.37,60.0,67.0,69.00000447,70.99999911,76.12451989],\"yaxis\":\"y\",\"type\":\"scattergl\"},{\"hovertemplate\":\"Code=MCO<br>Year=%{x}<br>internet_usage=%{y}<extra></extra>\",\"legendgroup\":\"MCO\",\"line\":{\"color\":\"#B6E880\",\"dash\":\"solid\"},\"marker\":{\"symbol\":\"circle\"},\"mode\":\"lines\",\"name\":\"MCO\",\"showlegend\":true,\"x\":[1990,1991,1992,1993,1994,1995,2000,2001,2002,2003,2004,2005,2006,2007,2008,2009,2010,2011,2012,2013,2014,2015,2016,2017],\"xaxis\":\"x\",\"y\":[0.0,0.0,0.0,0.0,0.0,0.0,42.18486345,46.64614236,48.04711717,49.49116892,52.49019668,55.46482606,61.47603971,64.3776824,67.25,70.1,75.0,80.3,87.0,90.7,92.4,93.36330202,95.20817797,97.05297684],\"yaxis\":\"y\",\"type\":\"scattergl\"},{\"hovertemplate\":\"Code=MNG<br>Year=%{x}<br>internet_usage=%{y}<extra></extra>\",\"legendgroup\":\"MNG\",\"line\":{\"color\":\"#FF97FF\",\"dash\":\"solid\"},\"marker\":{\"symbol\":\"circle\"},\"mode\":\"lines\",\"name\":\"MNG\",\"showlegend\":true,\"x\":[1990,1991,1992,1993,1994,1995,1996,1997,1998,1999,2000,2001,2002,2007,2008,2009,2010,2011,2012,2013,2014,2015,2016,2017,2018,2019],\"xaxis\":\"x\",\"y\":[0.0,0.0,0.0,0.0,0.0,0.008811225,0.018160749,0.112742554,0.145810542,0.50847156,1.255652004,1.653238239,2.039572603,9.0,9.8,10.0,10.2,12.49999111,16.4,17.69998424,19.94244743,22.50000413,22.2657705,23.71426517,47.13000188,51.07999408],\"yaxis\":\"y\",\"type\":\"scattergl\"},{\"hovertemplate\":\"Code=MNE<br>Year=%{x}<br>internet_usage=%{y}<extra></extra>\",\"legendgroup\":\"MNE\",\"line\":{\"color\":\"#FECB52\",\"dash\":\"solid\"},\"marker\":{\"symbol\":\"circle\"},\"mode\":\"lines\",\"name\":\"MNE\",\"showlegend\":true,\"x\":[2004,2005,2006,2007,2008,2009,2010,2011,2012,2013,2014,2015,2016,2017,2018,2019],\"xaxis\":\"x\",\"y\":[25.3500686,27.1,28.9,30.8,32.9,35.1,37.5,35.61154125,56.83878255,60.31,61.0,68.11978601,69.88164684,71.27233254,71.51710049,73.47666575],\"yaxis\":\"y\",\"type\":\"scattergl\"},{\"hovertemplate\":\"Code=MAR<br>Year=%{x}<br>internet_usage=%{y}<extra></extra>\",\"legendgroup\":\"MAR\",\"line\":{\"color\":\"#636efa\",\"dash\":\"solid\"},\"marker\":{\"symbol\":\"circle\"},\"mode\":\"lines\",\"name\":\"MAR\",\"showlegend\":true,\"x\":[1990,1991,1992,1993,1994,1995,1996,1997,1998,1999,2000,2001,2002,2003,2004,2005,2006,2007,2008,2009,2010,2011,2012,2013,2014,2015,2016,2017,2018,2019],\"xaxis\":\"x\",\"y\":[0.0,0.0,0.0,0.0,0.0,0.003710492,0.005675444,0.021635203,0.142300767,0.175595345,0.693791245,1.371438101,2.373253192,3.353366681,11.60793477,15.08444452,19.77119157,21.5,33.1,41.3,52.0,46.1074826,55.41605319,56.0,56.8,57.07999935,58.27123642,61.76221201,64.80386519,74.37631447],\"yaxis\":\"y\",\"type\":\"scattergl\"},{\"hovertemplate\":\"Code=MOZ<br>Year=%{x}<br>internet_usage=%{y}<extra></extra>\",\"legendgroup\":\"MOZ\",\"line\":{\"color\":\"#EF553B\",\"dash\":\"solid\"},\"marker\":{\"symbol\":\"circle\"},\"mode\":\"lines\",\"name\":\"MOZ\",\"showlegend\":true,\"x\":[1990,1991,1992,1993,1994,1995,1996,1997,1998,1999,2000,2001,2002,2003,2004,2005,2006,2007,2008,2009,2010,2011,2012,2013,2014,2015,2016,2017],\"xaxis\":\"x\",\"y\":[0.0,0.0,0.0,0.0,0.0,0.0,0.003042979,0.011842611,0.020197055,0.056250629,0.10959253,0.160031947,0.259612611,0.419538844,0.679447835,0.854357118,0.842954488,0.91,1.56,2.68,4.17,4.3,6.0,7.29393733,9.236314896,16.93353299,17.52123909,20.7740003],\"yaxis\":\"y\",\"type\":\"scattergl\"},{\"hovertemplate\":\"Code=MMR<br>Year=%{x}<br>internet_usage=%{y}<extra></extra>\",\"legendgroup\":\"MMR\",\"line\":{\"color\":\"#00cc96\",\"dash\":\"solid\"},\"marker\":{\"symbol\":\"circle\"},\"mode\":\"lines\",\"name\":\"MMR\",\"showlegend\":true,\"x\":[1990,1991,1992,1993,1994,1995,1999,2001,2002,2003,2004,2005,2006,2007,2008,2009,2010,2011,2012,2013,2014,2015,2016,2017],\"xaxis\":\"x\",\"y\":[0.0,0.0,0.0,0.0,0.0,0.0,0.000151709,0.000289277,0.000426494,0.024064149,0.024337392,0.065238856,0.182048331,0.217128445,0.22,0.22,0.25,0.98,4.0,8.0,11.52,21.72583401,25.07330424,23.62108195],\"yaxis\":\"y\",\"type\":\"scattergl\"},{\"hovertemplate\":\"Code=NAM<br>Year=%{x}<br>internet_usage=%{y}<extra></extra>\",\"legendgroup\":\"NAM\",\"line\":{\"color\":\"#ab63fa\",\"dash\":\"solid\"},\"marker\":{\"symbol\":\"circle\"},\"mode\":\"lines\",\"name\":\"NAM\",\"showlegend\":true,\"x\":[1990,1991,1992,1993,1994,1995,1996,1997,1998,1999,2000,2001,2002,2003,2004,2005,2006,2007,2008,2009,2010,2011,2012,2013,2014,2015,2016,2017],\"xaxis\":\"x\",\"y\":[0.0,0.0,0.0,0.0,0.0,0.006172051,0.009032145,0.058750679,0.286745093,0.336217708,1.644739547,2.416979442,2.633699769,3.359839886,3.804715615,4.010046644,4.398870647,4.835610778,5.329003772,6.5,11.6,12.0,12.9414,13.9,14.84,25.68785182,31.03334594,36.83740647],\"yaxis\":\"y\",\"type\":\"scattergl\"},{\"hovertemplate\":\"Code=NRU<br>Year=%{x}<br>internet_usage=%{y}<extra></extra>\",\"legendgroup\":\"NRU\",\"line\":{\"color\":\"#FFA15A\",\"dash\":\"solid\"},\"marker\":{\"symbol\":\"circle\"},\"mode\":\"lines\",\"name\":\"NRU\",\"showlegend\":true,\"x\":[1990,1991,1992,1993,1994,1995,2001,2011,2017],\"xaxis\":\"x\",\"y\":[0.0,0.0,0.0,0.0,0.0,0.0,2.987155233,54.0,62.38512451],\"yaxis\":\"y\",\"type\":\"scattergl\"},{\"hovertemplate\":\"Code=NPL<br>Year=%{x}<br>internet_usage=%{y}<extra></extra>\",\"legendgroup\":\"NPL\",\"line\":{\"color\":\"#19d3f3\",\"dash\":\"solid\"},\"marker\":{\"symbol\":\"circle\"},\"mode\":\"lines\",\"name\":\"NPL\",\"showlegend\":true,\"x\":[1990,1991,1992,1993,1994,1995,1996,1997,1998,1999,2000,2001,2002,2003,2004,2005,2006,2007,2008,2009,2010,2011,2012,2013,2014,2015,2016,2017],\"xaxis\":\"x\",\"y\":[0.0,0.0,0.0,0.0,0.0,0.000924878,0.004510473,0.021998858,0.064393596,0.146668869,0.204651684,0.240015303,0.31295606,0.382810917,0.449843651,0.826551266,1.141389164,1.41,1.73,1.97,7.93,9.0,11.1493,13.3,15.44,17.58161801,19.68876384,21.40351043],\"yaxis\":\"y\",\"type\":\"scattergl\"},{\"hovertemplate\":\"Code=NLD<br>Year=%{x}<br>internet_usage=%{y}<extra></extra>\",\"legendgroup\":\"NLD\",\"line\":{\"color\":\"#FF6692\",\"dash\":\"solid\"},\"marker\":{\"symbol\":\"circle\"},\"mode\":\"lines\",\"name\":\"NLD\",\"showlegend\":true,\"x\":[1990,1991,1992,1993,1994,1995,1996,1997,1998,1999,2000,2001,2002,2003,2004,2005,2006,2007,2008,2009,2010,2011,2012,2013,2014,2015,2016,2017,2018,2019],\"xaxis\":\"x\",\"y\":[0.334386942,0.531496128,1.320008028,1.967087737,3.257308831,6.47315766,9.649069145,14.0655114,22.24382769,39.17600725,43.98435137,49.37306211,61.29,64.35,68.52,81.0,83.7,85.82,87.42,89.63,90.72,91.41999576,92.85999236,93.9564,91.666666,91.72413793,90.4109589,93.19727891,92.56756757,93.2885906],\"yaxis\":\"y\",\"type\":\"scattergl\"},{\"hovertemplate\":\"Code=NCL<br>Year=%{x}<br>internet_usage=%{y}<extra></extra>\",\"legendgroup\":\"NCL\",\"line\":{\"color\":\"#B6E880\",\"dash\":\"solid\"},\"marker\":{\"symbol\":\"circle\"},\"mode\":\"lines\",\"name\":\"NCL\",\"showlegend\":true,\"x\":[1990,1991,1992,1993,1994,1995,1996,1997,1998,1999,2000,2001,2002,2003,2004,2005,2006,2007,2008,2009,2010,2011,2012,2013,2014,2015,2017],\"xaxis\":\"x\",\"y\":[0.0,0.0,0.0,0.0,0.0,0.005179013,0.252983946,0.989334969,1.936042825,5.688147323,13.93954882,18.23710978,22.38979742,26.40833447,30.29804621,32.35901475,33.51571468,35.05,34.51,33.99,42.0,50.0,58.0,66.0,70.0,74.00175279,82.0058408],\"yaxis\":\"y\",\"type\":\"scattergl\"},{\"hovertemplate\":\"Code=NZL<br>Year=%{x}<br>internet_usage=%{y}<extra></extra>\",\"legendgroup\":\"NZL\",\"line\":{\"color\":\"#FF97FF\",\"dash\":\"solid\"},\"marker\":{\"symbol\":\"circle\"},\"mode\":\"lines\",\"name\":\"NZL\",\"showlegend\":true,\"x\":[1990,1991,1992,1993,1994,1995,1996,1997,1998,1999,2000,2001,2002,2003,2004,2005,2006,2007,2008,2009,2010,2011,2012,2013,2014,2015,2016,2017],\"xaxis\":\"x\",\"y\":[0.0,0.0,0.285941241,0.631215367,3.168718848,4.88424078,8.041899368,14.6015244,31.63626081,41.49448266,47.37955654,53.24101529,59.08075328,60.96253987,61.84762781,62.72021237,69.0,69.76,72.03,79.7,80.46,81.23,81.64447018,82.78,85.5,88.22288882,88.47018635,90.81109307],\"yaxis\":\"y\",\"type\":\"scattergl\"},{\"hovertemplate\":\"Code=NIC<br>Year=%{x}<br>internet_usage=%{y}<extra></extra>\",\"legendgroup\":\"NIC\",\"line\":{\"color\":\"#FECB52\",\"dash\":\"solid\"},\"marker\":{\"symbol\":\"circle\"},\"mode\":\"lines\",\"name\":\"NIC\",\"showlegend\":true,\"x\":[1990,1991,1992,1993,1994,1995,1996,1997,1998,1999,2000,2001,2002,2003,2004,2005,2006,2007,2008,2009,2010,2011,2012,2013,2014,2015,2016,2017],\"xaxis\":\"x\",\"y\":[0.0,0.0,0.0,0.0,0.013166228,0.030046478,0.084093291,0.206216818,0.303808975,0.497901643,0.980216487,1.448799428,1.714729584,1.880412532,2.320664609,2.566351177,2.805573063,3.9,5.3,7.3,10.0,10.6,13.5,15.5,17.6,19.7042915,24.57183396,27.86304001],\"yaxis\":\"y\",\"type\":\"scattergl\"},{\"hovertemplate\":\"Code=NER<br>Year=%{x}<br>internet_usage=%{y}<extra></extra>\",\"legendgroup\":\"NER\",\"line\":{\"color\":\"#636efa\",\"dash\":\"solid\"},\"marker\":{\"symbol\":\"circle\"},\"mode\":\"lines\",\"name\":\"NER\",\"showlegend\":true,\"x\":[1990,1991,1992,1993,1994,1995,1996,1997,1998,1999,2000,2001,2002,2003,2004,2005,2006,2007,2008,2009,2010,2011,2012,2013,2014,2015,2016,2017,2018],\"xaxis\":\"x\",\"y\":[0.0,0.0,0.0,0.0,0.0,0.0,0.001039305,0.002008766,0.002911503,0.028136022,0.036261294,0.105185431,0.127152469,0.155698704,0.189933734,0.221341351,0.294033977,0.39039062,0.7,0.76,0.83,0.9,1.05,1.15,1.248675689,2.476219975,4.32275803,10.22431156,5.250487687],\"yaxis\":\"y\",\"type\":\"scattergl\"},{\"hovertemplate\":\"Code=NGA<br>Year=%{x}<br>internet_usage=%{y}<extra></extra>\",\"legendgroup\":\"NGA\",\"line\":{\"color\":\"#EF553B\",\"dash\":\"solid\"},\"marker\":{\"symbol\":\"circle\"},\"mode\":\"lines\",\"name\":\"NGA\",\"showlegend\":true,\"x\":[1990,1991,1992,1993,1994,1995,1996,1997,1998,1999,2000,2001,2002,2003,2004,2005,2006,2007,2008,2009,2010,2011,2012,2013,2014,2015,2016,2017],\"xaxis\":\"x\",\"y\":[0.0,0.0,0.0,0.0,0.0,0.0,0.00883298,0.017237401,0.025231461,0.041038723,0.064080808,0.08990137,0.320461976,0.558576245,1.286137641,3.549155718,5.545036083,6.77,8.0,9.3,11.5,13.8,16.1,19.1,21.0,36.0,25.67,7.469439317],\"yaxis\":\"y\",\"type\":\"scattergl\"},{\"hovertemplate\":\"Code=PRK<br>Year=%{x}<br>internet_usage=%{y}<extra></extra>\",\"legendgroup\":\"PRK\",\"line\":{\"color\":\"#00cc96\",\"dash\":\"solid\"},\"marker\":{\"symbol\":\"circle\"},\"mode\":\"lines\",\"name\":\"PRK\",\"showlegend\":true,\"x\":[1990,1991,1992,1993,1994,1995,1997,1998,1999,2000,2001,2002,2003,2004,2005,2006,2007,2008,2009,2010,2011,2012,2013],\"xaxis\":\"x\",\"y\":[0.0,0.0,0.0,0.0,0.0,0.0,0.0,0.0,0.0,0.0,0.0,0.0,0.0,0.0,0.0,0.0,0.0,0.0,0.0,0.0,0.0,0.0,0.0],\"yaxis\":\"y\",\"type\":\"scattergl\"},{\"hovertemplate\":\"Code=MKD<br>Year=%{x}<br>internet_usage=%{y}<extra></extra>\",\"legendgroup\":\"MKD\",\"line\":{\"color\":\"#ab63fa\",\"dash\":\"solid\"},\"marker\":{\"symbol\":\"circle\"},\"mode\":\"lines\",\"name\":\"MKD\",\"showlegend\":true,\"x\":[1990,1991,1992,1993,1994,1995,1996,1997,1998,1999,2000,2001,2002,2003,2004,2005,2006,2007,2008,2009,2010,2011,2012,2013,2014,2015,2016,2017,2018],\"xaxis\":\"x\",\"y\":[0.0,0.0,0.0,0.0,0.0,0.04074384,0.075995734,0.503985009,1.002861666,1.49733026,2.485566316,3.468184608,17.33,19.07,24.44,26.45,28.62,36.3,46.04,51.77,51.9,56.7,57.44994731,65.24,68.06,70.38020308,72.15681447,74.51682418,79.16775519],\"yaxis\":\"y\",\"type\":\"scattergl\"},{\"hovertemplate\":\"Code=MNP<br>Year=%{x}<br>internet_usage=%{y}<extra></extra>\",\"legendgroup\":\"MNP\",\"line\":{\"color\":\"#FFA15A\",\"dash\":\"solid\"},\"marker\":{\"symbol\":\"circle\"},\"mode\":\"lines\",\"name\":\"MNP\",\"showlegend\":true,\"x\":[1990,1991,1992,1993,1994,1995],\"xaxis\":\"x\",\"y\":[0.0,0.0,0.0,0.0,0.0,0.0],\"yaxis\":\"y\",\"type\":\"scattergl\"},{\"hovertemplate\":\"Code=NOR<br>Year=%{x}<br>internet_usage=%{y}<extra></extra>\",\"legendgroup\":\"NOR\",\"line\":{\"color\":\"#19d3f3\",\"dash\":\"solid\"},\"marker\":{\"symbol\":\"circle\"},\"mode\":\"lines\",\"name\":\"NOR\",\"showlegend\":true,\"x\":[1990,1991,1992,1993,1994,1995,1996,1997,1998,1999,2000,2001,2002,2003,2004,2005,2006,2007,2008,2009,2010,2011,2012,2013,2014,2015,2016,2017,2018,2019],\"xaxis\":\"x\",\"y\":[0.707299448,1.407395158,2.216365832,2.783990846,4.152450292,6.423220493,18.25031077,20.41788144,22.56011255,40.0,52.0,64.0,72.84,78.13,77.69,81.99,82.55,86.93,90.57,92.08,93.39,93.48998265,94.64997805,95.0534,96.3,96.81032569,97.29820367,96.3576013,96.49165799,98.00000439],\"yaxis\":\"y\",\"type\":\"scattergl\"},{\"hovertemplate\":\"Code=OMN<br>Year=%{x}<br>internet_usage=%{y}<extra></extra>\",\"legendgroup\":\"OMN\",\"line\":{\"color\":\"#FF6692\",\"dash\":\"solid\"},\"marker\":{\"symbol\":\"circle\"},\"mode\":\"lines\",\"name\":\"OMN\",\"showlegend\":true,\"x\":[1990,1991,1992,1993,1994,1995,1996,1997,1998,1999,2000,2001,2002,2003,2004,2005,2006,2007,2008,2009,2010,2011,2012,2013,2014,2015,2016,2017,2019],\"xaxis\":\"x\",\"y\":[0.0,0.0,0.0,0.0,0.0,0.0,0.0,0.439792805,0.862725306,2.515665987,3.520421417,5.893841521,6.873396039,7.255742945,6.75885217,6.68358142,8.299716673,16.68,20.0,26.8,35.8278,48.0,60.0,66.45,70.22,73.53,76.84539047,80.18563573,92.40844424],\"yaxis\":\"y\",\"type\":\"scattergl\"},{\"hovertemplate\":\"Code=PAK<br>Year=%{x}<br>internet_usage=%{y}<extra></extra>\",\"legendgroup\":\"PAK\",\"line\":{\"color\":\"#B6E880\",\"dash\":\"solid\"},\"marker\":{\"symbol\":\"circle\"},\"mode\":\"lines\",\"name\":\"PAK\",\"showlegend\":true,\"x\":[1990,1991,1992,1993,1994,1995,1996,1997,1998,1999,2001,2002,2003,2004,2005,2006,2007,2008,2009,2010,2011,2012,2013,2014,2015,2016,2017,2019],\"xaxis\":\"x\",\"y\":[0.0,0.0,0.0,0.0,0.0,0.000122702,0.00299173,0.027549238,0.043947719,0.055357238,1.318550779,2.577426737,5.041158126,6.164320985,6.332329098,6.5,6.8,7.0,7.5,8.0,9.0,9.96,10.9,12.0,14.0,12.38544676,17.10514586,17.07090203],\"yaxis\":\"y\",\"type\":\"scattergl\"},{\"hovertemplate\":\"Code=PLW<br>Year=%{x}<br>internet_usage=%{y}<extra></extra>\",\"legendgroup\":\"PLW\",\"line\":{\"color\":\"#FF97FF\",\"dash\":\"solid\"},\"marker\":{\"symbol\":\"circle\"},\"mode\":\"lines\",\"name\":\"PLW\",\"showlegend\":true,\"x\":[1990,1991,1992,1993,1994,1995,2002,2003,2004],\"xaxis\":\"x\",\"y\":[0.0,0.0,0.0,0.0,0.0,0.0,20.24393947,21.60152718,26.97033263],\"yaxis\":\"y\",\"type\":\"scattergl\"},{\"hovertemplate\":\"Code=PSE<br>Year=%{x}<br>internet_usage=%{y}<extra></extra>\",\"legendgroup\":\"PSE\",\"line\":{\"color\":\"#FECB52\",\"dash\":\"solid\"},\"marker\":{\"symbol\":\"circle\"},\"mode\":\"lines\",\"name\":\"PSE\",\"showlegend\":true,\"x\":[1990,1991,1992,1993,1994,1995,2000,2001,2002,2003,2004,2005,2006,2007,2008,2009,2010,2011,2012,2013,2014,2015,2016,2017,2018,2019],\"xaxis\":\"x\",\"y\":[0.0,0.0,0.0,0.0,0.0,0.0,1.111306207,1.836854839,3.100092235,4.130616356,4.400904826,16.005,18.41,21.176,24.358,32.23,37.4,41.08,43.4,46.6,53.67,57.42419241,61.17838483,65.2,64.39999371,70.62260685],\"yaxis\":\"y\",\"type\":\"scattergl\"},{\"hovertemplate\":\"Code=PAN<br>Year=%{x}<br>internet_usage=%{y}<extra></extra>\",\"legendgroup\":\"PAN\",\"line\":{\"color\":\"#636efa\",\"dash\":\"solid\"},\"marker\":{\"symbol\":\"circle\"},\"mode\":\"lines\",\"name\":\"PAN\",\"showlegend\":true,\"x\":[1990,1991,1992,1993,1994,1995,1996,1997,1998,1999,2000,2001,2002,2003,2004,2005,2006,2007,2008,2009,2010,2011,2012,2013,2014,2015,2016,2017,2018,2019],\"xaxis\":\"x\",\"y\":[0.0,0.0,0.0,0.0,0.007636899,0.056123043,0.219998526,0.539065541,2.750648071,3.836864509,6.554796477,7.268399878,8.518077815,9.987424077,11.14086254,11.48400928,17.34956617,22.29,33.82,39.08,40.1,42.7,40.30189522,44.03,44.92,51.20542499,54.0,59.9506309,61.80553132,63.62841477],\"yaxis\":\"y\",\"type\":\"scattergl\"},{\"hovertemplate\":\"Code=PNG<br>Year=%{x}<br>internet_usage=%{y}<extra></extra>\",\"legendgroup\":\"PNG\",\"line\":{\"color\":\"#EF553B\",\"dash\":\"solid\"},\"marker\":{\"symbol\":\"circle\"},\"mode\":\"lines\",\"name\":\"PNG\",\"showlegend\":true,\"x\":[1990,1991,1992,1993,1994,1995,1996,1997,1998,1999,2000,2001,2002,2003,2004,2005,2006,2007,2008,2009,2010,2011,2012,2013,2014,2015,2016,2017],\"xaxis\":\"x\",\"y\":[0.0,0.0,0.0,0.0,0.0,0.0,0.002067023,0.100588321,0.234958542,0.667113315,0.835249302,0.904103545,1.321656935,1.374404668,1.507912772,1.716190476,1.754487261,1.790559361,1.15,1.61,1.28,2.0,3.5,5.1,6.5,7.9,9.601538462,11.20919659],\"yaxis\":\"y\",\"type\":\"scattergl\"},{\"hovertemplate\":\"Code=PRY<br>Year=%{x}<br>internet_usage=%{y}<extra></extra>\",\"legendgroup\":\"PRY\",\"line\":{\"color\":\"#00cc96\",\"dash\":\"solid\"},\"marker\":{\"symbol\":\"circle\"},\"mode\":\"lines\",\"name\":\"PRY\",\"showlegend\":true,\"x\":[1990,1991,1992,1993,1994,1995,1996,1997,1998,1999,2000,2001,2002,2003,2004,2005,2006,2007,2008,2009,2010,2011,2012,2013,2014,2015,2016,2017,2018,2019],\"xaxis\":\"x\",\"y\":[0.0,0.0,0.0,0.0,0.0,0.0,0.020359612,0.099576719,0.194904951,0.38165732,0.747630712,1.098793836,1.794969598,2.111942082,3.452438431,7.907007861,7.962073884,11.21,14.27,18.9,19.8,24.76351588,29.34,36.9,43.0,49.71630466,53.40412748,61.07575622,64.99354302,68.51762842],\"yaxis\":\"y\",\"type\":\"scattergl\"},{\"hovertemplate\":\"Code=PER<br>Year=%{x}<br>internet_usage=%{y}<extra></extra>\",\"legendgroup\":\"PER\",\"line\":{\"color\":\"#ab63fa\",\"dash\":\"solid\"},\"marker\":{\"symbol\":\"circle\"},\"mode\":\"lines\",\"name\":\"PER\",\"showlegend\":true,\"x\":[1990,1991,1992,1993,1994,1995,1996,1997,1998,1999,2000,2001,2002,2003,2004,2005,2006,2007,2008,2009,2010,2011,2012,2013,2014,2015,2016,2017,2018,2019],\"xaxis\":\"x\",\"y\":[0.0,0.0,0.0,0.0,0.008504578,0.033412305,0.24623258,0.403429701,1.19038044,1.952497608,3.076430611,7.578762957,8.96694917,11.6,14.1,17.1,20.7,25.2,30.57,31.4,34.77,36.01,38.2,39.2,40.2,40.85260091,45.46174069,50.45041218,55.05433424,59.9505036],\"yaxis\":\"y\",\"type\":\"scattergl\"},{\"hovertemplate\":\"Code=PHL<br>Year=%{x}<br>internet_usage=%{y}<extra></extra>\",\"legendgroup\":\"PHL\",\"line\":{\"color\":\"#FFA15A\",\"dash\":\"solid\"},\"marker\":{\"symbol\":\"circle\"},\"mode\":\"lines\",\"name\":\"PHL\",\"showlegend\":true,\"x\":[1990,1991,1992,1993,1994,1995,1996,1997,1998,1999,2000,2001,2002,2003,2004,2005,2006,2007,2008,2009,2010,2011,2012,2013,2014,2015,2016,2017,2019],\"xaxis\":\"x\",\"y\":[0.0,0.0,0.0,0.0,0.005844253,0.028585702,0.055946029,0.136912963,1.103405994,1.431608803,1.982253196,2.52400566,4.332275746,4.857672267,5.243628452,5.397636329,5.740586325,5.97,6.22,9.0,25.0,29.0,36.2351,48.09902359,49.6,36.0,55.5,60.05476033,43.02661187],\"yaxis\":\"y\",\"type\":\"scattergl\"},{\"hovertemplate\":\"Code=POL<br>Year=%{x}<br>internet_usage=%{y}<extra></extra>\",\"legendgroup\":\"POL\",\"line\":{\"color\":\"#19d3f3\",\"dash\":\"solid\"},\"marker\":{\"symbol\":\"circle\"},\"mode\":\"lines\",\"name\":\"POL\",\"showlegend\":true,\"x\":[1990,1991,1992,1993,1994,1995,1996,1997,1998,1999,2000,2001,2002,2003,2004,2005,2006,2007,2008,2009,2010,2011,2012,2013,2014,2015,2016,2017,2018,2019],\"xaxis\":\"x\",\"y\":[0.0,0.005229468,0.052127181,0.129961704,0.389098144,0.647752333,1.295200255,2.073465474,4.102272002,5.45644373,7.285428708,9.900669707,21.15,24.87,32.53,38.81,44.58,48.6,53.13,58.97,62.32,61.94999897,62.30999727,62.8492,66.6,67.99698716,73.3007041,75.98536595,77.54173454,84.51645192],\"yaxis\":\"y\",\"type\":\"scattergl\"},{\"hovertemplate\":\"Code=PRT<br>Year=%{x}<br>internet_usage=%{y}<extra></extra>\",\"legendgroup\":\"PRT\",\"line\":{\"color\":\"#FF6692\",\"dash\":\"solid\"},\"marker\":{\"symbol\":\"circle\"},\"mode\":\"lines\",\"name\":\"PRT\",\"showlegend\":true,\"x\":[1990,1991,1992,1993,1994,1995,1996,1997,1998,1999,2000,2001,2002,2003,2004,2005,2006,2007,2008,2009,2010,2011,2012,2013,2014,2015,2016,2017,2018,2019],\"xaxis\":\"x\",\"y\":[0.0,0.10023057,0.250426501,0.450161608,0.718905754,1.494334529,2.98087767,4.953001955,9.870446442,14.74233784,16.43046769,18.08713656,19.37,29.67,31.78,34.99,38.01,42.09,44.13,48.27,53.3,55.24999688,60.33999749,62.0956,64.59,68.63286148,70.42356709,73.79121395,74.66096815,75.34637155],\"yaxis\":\"y\",\"type\":\"scattergl\"},{\"hovertemplate\":\"Code=PRI<br>Year=%{x}<br>internet_usage=%{y}<extra></extra>\",\"legendgroup\":\"PRI\",\"line\":{\"color\":\"#B6E880\",\"dash\":\"solid\"},\"marker\":{\"symbol\":\"circle\"},\"mode\":\"lines\",\"name\":\"PRI\",\"showlegend\":true,\"x\":[1990,1991,1992,1993,1994,1995,1996,1997,1998,1999,2000,2001,2002,2003,2004,2005,2006,2007,2008,2009,2010,2011,2012,2013,2015,2016,2017,2018,2019],\"xaxis\":\"x\",\"y\":[0.0,0.0,0.0,0.0,0.027254662,0.135102783,0.268160428,1.331822159,2.647646679,5.265682651,10.47464821,15.63003092,17.54764757,19.70702566,22.13073823,23.40005045,25.44241821,27.86,38.0,41.5,45.3,48.0,68.9999826,68.99999,63.46633538,68.6438072,68.74077314,70.85639974,70.8743212],\"yaxis\":\"y\",\"type\":\"scattergl\"},{\"hovertemplate\":\"Code=QAT<br>Year=%{x}<br>internet_usage=%{y}<extra></extra>\",\"legendgroup\":\"QAT\",\"line\":{\"color\":\"#FF97FF\",\"dash\":\"solid\"},\"marker\":{\"symbol\":\"circle\"},\"mode\":\"lines\",\"name\":\"QAT\",\"showlegend\":true,\"x\":[1990,1991,1992,1993,1994,1995,1996,1997,1998,1999,2000,2001,2002,2003,2004,2005,2006,2007,2008,2009,2010,2011,2012,2013,2014,2015,2016,2017,2018,2019],\"xaxis\":\"x\",\"y\":[0.0,0.0,0.0,0.0,0.0,0.190209535,0.930185833,3.083749186,3.52002985,4.070728915,4.863679179,6.170268561,10.22612893,19.24233642,20.70164785,24.73349378,28.97411271,37.0,44.3,53.1,69.0,69.0,69.3,85.3,91.49,92.88482645,95.12466217,97.38884917,99.65284913,99.65280421],\"yaxis\":\"y\",\"type\":\"scattergl\"},{\"hovertemplate\":\"Code=ROU<br>Year=%{x}<br>internet_usage=%{y}<extra></extra>\",\"legendgroup\":\"ROU\",\"line\":{\"color\":\"#FECB52\",\"dash\":\"solid\"},\"marker\":{\"symbol\":\"circle\"},\"mode\":\"lines\",\"name\":\"ROU\",\"showlegend\":true,\"x\":[1990,1991,1992,1993,1994,1995,1996,1997,1998,1999,2000,2001,2002,2003,2004,2005,2006,2007,2008,2009,2010,2011,2012,2013,2014,2015,2016,2017,2018,2019],\"xaxis\":\"x\",\"y\":[0.0,0.0,0.0,0.003703214,0.026300162,0.074952756,0.221622649,0.445444676,2.237649473,2.697580217,3.613717291,4.538669029,6.58,8.9,15.0,21.5,24.66,28.3,32.42,36.6,39.93,40.00999678,45.87999425,49.7645,54.08,55.76315563,59.50395129,63.74728218,70.68127793,73.65748258],\"yaxis\":\"y\",\"type\":\"scattergl\"},{\"hovertemplate\":\"Code=RUS<br>Year=%{x}<br>internet_usage=%{y}<extra></extra>\",\"legendgroup\":\"RUS\",\"line\":{\"color\":\"#636efa\",\"dash\":\"solid\"},\"marker\":{\"symbol\":\"circle\"},\"mode\":\"lines\",\"name\":\"RUS\",\"showlegend\":true,\"x\":[1990,1991,1992,1993,1994,1995,1996,1997,1998,1999,2000,2001,2002,2003,2004,2005,2006,2007,2008,2009,2010,2011,2012,2013,2014,2015,2016,2017,2018,2019],\"xaxis\":\"x\",\"y\":[0.0,0.0,0.000672532,0.013447238,0.053817493,0.148151042,0.26975293,0.472963763,0.812744451,1.018984614,1.977230109,2.944367787,4.128271818,8.298860616,12.8593889,15.2266732,18.02327746,24.66,26.83,29.0,43.0,49.0,63.8,67.97,70.52,70.09924123,73.09143462,76.00813853,80.86472187,82.64216187],\"yaxis\":\"y\",\"type\":\"scattergl\"},{\"hovertemplate\":\"Code=RWA<br>Year=%{x}<br>internet_usage=%{y}<extra></extra>\",\"legendgroup\":\"RWA\",\"line\":{\"color\":\"#EF553B\",\"dash\":\"solid\"},\"marker\":{\"symbol\":\"circle\"},\"mode\":\"lines\",\"name\":\"RWA\",\"showlegend\":true,\"x\":[1990,1991,1992,1993,1994,1995,1996,1997,1998,1999,2000,2001,2002,2003,2004,2005,2007,2008,2009,2010,2011,2012,2013,2014,2015,2016,2017],\"xaxis\":\"x\",\"y\":[0.0,0.0,0.0,0.0,0.0,0.0,0.000883372,0.001625791,0.011763573,0.067176482,0.06283146,0.24067241,0.292784719,0.356918467,0.430854243,0.556041165,2.115387178,4.5,7.7,8.0,7.0,8.023854277,9.0,10.6,18.0,20.0,21.76763262],\"yaxis\":\"y\",\"type\":\"scattergl\"},{\"hovertemplate\":\"Code=KNA<br>Year=%{x}<br>internet_usage=%{y}<extra></extra>\",\"legendgroup\":\"KNA\",\"line\":{\"color\":\"#00cc96\",\"dash\":\"solid\"},\"marker\":{\"symbol\":\"circle\"},\"mode\":\"lines\",\"name\":\"KNA\",\"showlegend\":true,\"x\":[1990,1991,1992,1993,1994,1995,1996,1997,1998,1999,2000,2001,2002,2003,2004,2005,2006,2007,2008,2009,2010,2011,2012,2013,2014,2015,2016,2017],\"xaxis\":\"x\",\"y\":[0.0,0.0,0.0,0.0,0.0,0.0,1.945569823,2.258559942,3.343810607,4.400440044,5.86281024,7.714726556,21.15238176,22.96978429,24.73767754,34.0,38.5,43.5,49.2,55.7,63.0,63.2,64.0,64.6,68.0,75.7,76.81767491,80.71019081],\"yaxis\":\"y\",\"type\":\"scattergl\"},{\"hovertemplate\":\"Code=LCA<br>Year=%{x}<br>internet_usage=%{y}<extra></extra>\",\"legendgroup\":\"LCA\",\"line\":{\"color\":\"#ab63fa\",\"dash\":\"solid\"},\"marker\":{\"symbol\":\"circle\"},\"mode\":\"lines\",\"name\":\"LCA\",\"showlegend\":true,\"x\":[1990,1991,1992,1993,1994,1995,1996,1997,1998,1999,2000,2001,2002,2003,2004,2005,2006,2007,2008,2009,2010,2011,2012,2013,2014,2015,2016,2017],\"xaxis\":\"x\",\"y\":[0.0,0.0,0.0,0.0,0.0,0.305656686,0.670465974,0.992168483,1.304988973,1.932105802,5.090483341,8.181863954,14.64183577,20.98247346,21.39521236,21.56758295,24.5,27.9,30.0,31.0,32.5,34.0,34.82,36.0,39.7,42.53093047,46.72907806,50.81524478],\"yaxis\":\"y\",\"type\":\"scattergl\"},{\"hovertemplate\":\"Code=VCT<br>Year=%{x}<br>internet_usage=%{y}<extra></extra>\",\"legendgroup\":\"VCT\",\"line\":{\"color\":\"#FFA15A\",\"dash\":\"solid\"},\"marker\":{\"symbol\":\"circle\"},\"mode\":\"lines\",\"name\":\"VCT\",\"showlegend\":true,\"x\":[1990,1991,1992,1993,1994,1995,1996,1997,1998,1999,2000,2001,2002,2003,2004,2005,2006,2007,2008,2009,2010,2011,2012,2013,2014,2015,2016],\"xaxis\":\"x\",\"y\":[0.0,0.0,0.0,0.0,0.0,0.128634622,0.483248317,0.926371957,1.853997683,2.7820023,3.245037411,5.094809778,5.54959488,6.462274167,7.371165842,9.198278082,12.0,16.0,21.0,31.0,33.7,36.7,40.0,43.5,47.4,17.13206652,20.68943522],\"yaxis\":\"y\",\"type\":\"scattergl\"},{\"hovertemplate\":\"Code=WSM<br>Year=%{x}<br>internet_usage=%{y}<extra></extra>\",\"legendgroup\":\"WSM\",\"line\":{\"color\":\"#19d3f3\",\"dash\":\"solid\"},\"marker\":{\"symbol\":\"circle\"},\"mode\":\"lines\",\"name\":\"WSM\",\"showlegend\":true,\"x\":[1990,1991,1992,1993,1994,1995,1997,1998,1999,2000,2001,2002,2003,2004,2005,2006,2007,2008,2009,2010,2011,2012,2013,2014,2015,2016,2017],\"xaxis\":\"x\",\"y\":[0.0,0.0,0.0,0.0,0.0,0.0,0.174571863,0.230359015,0.285308333,0.566392533,1.689902831,2.244832676,2.799630449,3.07552941,3.352592112,4.469173873,4.749983235,5.031615316,6.0,7.0,11.0,12.92249,15.3,21.2,25.40700977,29.41173011,33.61093932],\"yaxis\":\"y\",\"type\":\"scattergl\"},{\"hovertemplate\":\"Code=SMR<br>Year=%{x}<br>internet_usage=%{y}<extra></extra>\",\"legendgroup\":\"SMR\",\"line\":{\"color\":\"#FF6692\",\"dash\":\"solid\"},\"marker\":{\"symbol\":\"circle\"},\"mode\":\"lines\",\"name\":\"SMR\",\"showlegend\":true,\"x\":[1990,1991,1992,1993,1994,1995,1996,1997,1998,1999,2000,2001,2002,2003,2004,2005,2006,2007,2008,2009,2011,2017],\"xaxis\":\"x\",\"y\":[0.0,0.0,0.0,0.0,0.0,1.362132711,1.428075186,1.41854848,1.408557941,42.80331575,48.79949531,50.34166909,50.83483994,50.00345304,50.56634304,50.2595642,50.20865936,50.36482211,54.52,54.21,49.6,60.18230126],\"yaxis\":\"y\",\"type\":\"scattergl\"},{\"hovertemplate\":\"Code=STP<br>Year=%{x}<br>internet_usage=%{y}<extra></extra>\",\"legendgroup\":\"STP\",\"line\":{\"color\":\"#B6E880\",\"dash\":\"solid\"},\"marker\":{\"symbol\":\"circle\"},\"mode\":\"lines\",\"name\":\"STP\",\"showlegend\":true,\"x\":[1990,1991,1992,1993,1994,1995,1998,1999,2000,2001,2002,2003,2004,2005,2006,2007,2008,2009,2010,2011,2012,2013,2014,2015,2016,2017],\"xaxis\":\"x\",\"y\":[0.0,0.0,0.0,0.0,0.0,0.0,0.295847047,0.363203161,4.638516816,6.310917888,7.580665169,10.16184431,13.32285269,13.75948422,14.18201978,14.5904832,15.48,16.41,18.75,20.1612,21.5724,23.0,24.41,25.82,28.0,29.9312292],\"yaxis\":\"y\",\"type\":\"scattergl\"},{\"hovertemplate\":\"Code=SAU<br>Year=%{x}<br>internet_usage=%{y}<extra></extra>\",\"legendgroup\":\"SAU\",\"line\":{\"color\":\"#FF97FF\",\"dash\":\"solid\"},\"marker\":{\"symbol\":\"circle\"},\"mode\":\"lines\",\"name\":\"SAU\",\"showlegend\":true,\"x\":[1990,1991,1992,1993,1994,1995,1996,1997,1998,1999,2000,2001,2002,2003,2004,2005,2006,2007,2008,2009,2010,2011,2012,2013,2014,2015,2016,2017,2018,2019],\"xaxis\":\"x\",\"y\":[0.0,0.0,0.0,0.0,0.0,0.010956134,0.026732651,0.052099031,0.101429893,0.49358534,2.210691809,4.681053166,6.38470502,8.001582891,10.234533,12.70503599,19.45955435,30.0,36.0,38.0,41.0,47.5,54.0,60.5,64.71365737,69.6162358,74.87927469,94.17559961,93.31000185,95.7247356],\"yaxis\":\"y\",\"type\":\"scattergl\"},{\"hovertemplate\":\"Code=SEN<br>Year=%{x}<br>internet_usage=%{y}<extra></extra>\",\"legendgroup\":\"SEN\",\"line\":{\"color\":\"#FECB52\",\"dash\":\"solid\"},\"marker\":{\"symbol\":\"circle\"},\"mode\":\"lines\",\"name\":\"SEN\",\"showlegend\":true,\"x\":[1990,1991,1992,1993,1994,1995,1996,1997,1998,1999,2000,2001,2002,2003,2004,2005,2006,2007,2008,2009,2010,2011,2012,2013,2014,2015,2016,2017],\"xaxis\":\"x\",\"y\":[0.0,0.0,0.0,0.0,0.0,0.000692848,0.011238219,0.027347441,0.079871379,0.311090952,0.403967486,0.983794059,1.006454537,2.10143643,4.38602398,4.786684083,5.611738652,6.89,7.12,7.5,8.0,9.8,10.8,13.1,17.7,27.0,25.66476804,29.64312367],\"yaxis\":\"y\",\"type\":\"scattergl\"},{\"hovertemplate\":\"Code=SRB<br>Year=%{x}<br>internet_usage=%{y}<extra></extra>\",\"legendgroup\":\"SRB\",\"line\":{\"color\":\"#636efa\",\"dash\":\"solid\"},\"marker\":{\"symbol\":\"circle\"},\"mode\":\"lines\",\"name\":\"SRB\",\"showlegend\":true,\"x\":[2004,2005,2006,2007,2008,2009,2010,2011,2012,2013,2014,2015,2016,2017,2018,2019],\"xaxis\":\"x\",\"y\":[23.5,26.3,27.2,33.15,35.6,38.1,40.9,42.2,48.1,53.45036418,62.07508046,65.3170254,67.05684137,70.33083553,73.36070915,77.41677362],\"yaxis\":\"y\",\"type\":\"scattergl\"},{\"hovertemplate\":\"Code=SYC<br>Year=%{x}<br>internet_usage=%{y}<extra></extra>\",\"legendgroup\":\"SYC\",\"line\":{\"color\":\"#EF553B\",\"dash\":\"solid\"},\"marker\":{\"symbol\":\"circle\"},\"mode\":\"lines\",\"name\":\"SYC\",\"showlegend\":true,\"x\":[1990,1991,1992,1993,1994,1995,1996,1997,1998,1999,2000,2001,2002,2003,2004,2005,2006,2007,2008,2010,2011,2012,2013,2014,2015,2016,2017],\"xaxis\":\"x\",\"y\":[0.0,0.0,0.0,0.0,0.0,0.0,0.651474286,1.28295593,2.526177514,6.229054803,7.395629183,11.01510293,14.30417083,14.59250432,24.27213922,25.41326815,34.95197117,38.38,40.44,41.0,43.16400446,47.076,50.4,51.25470199,54.25961786,56.51470815,58.76981124],\"yaxis\":\"y\",\"type\":\"scattergl\"},{\"hovertemplate\":\"Code=SLE<br>Year=%{x}<br>internet_usage=%{y}<extra></extra>\",\"legendgroup\":\"SLE\",\"line\":{\"color\":\"#00cc96\",\"dash\":\"solid\"},\"marker\":{\"symbol\":\"circle\"},\"mode\":\"lines\",\"name\":\"SLE\",\"showlegend\":true,\"x\":[1990,1991,1992,1993,1994,1995,1996,1997,1998,1999,2000,2001,2002,2003,2004,2005,2006,2007,2008,2009,2010,2011,2012,2013,2014,2015,2016,2017],\"xaxis\":\"x\",\"y\":[0.0,0.0,0.0,0.0,0.0,0.0,0.002506116,0.004987835,0.014805065,0.048490656,0.118254246,0.160264445,0.176198957,0.190173282,0.203007681,0.21539161,0.227669467,0.239834699,0.25,0.26,0.58,0.9,2.5,4.0,6.057298984,6.344421603,11.77318438,13.23693043],\"yaxis\":\"y\",\"type\":\"scattergl\"},{\"hovertemplate\":\"Code=SGP<br>Year=%{x}<br>internet_usage=%{y}<extra></extra>\",\"legendgroup\":\"SGP\",\"line\":{\"color\":\"#ab63fa\",\"dash\":\"solid\"},\"marker\":{\"symbol\":\"circle\"},\"mode\":\"lines\",\"name\":\"SGP\",\"showlegend\":true,\"x\":[1990,1991,1992,1993,1994,1995,1996,1997,1998,1999,2000,2001,2002,2003,2004,2005,2006,2007,2008,2009,2010,2011,2012,2013,2014,2015,2016,2017,2018,2019],\"xaxis\":\"x\",\"y\":[0.0,0.161504498,0.471368155,0.763278139,1.185203797,2.873418722,8.34995903,13.47162042,19.59076716,24.15543693,36.0,41.67042518,47.0,53.83794329,62.0,61.0,59.0,69.9,69.0,69.0,71.0,71.0,72.0,80.90205685,79.02923586,79.012957,84.45226789,84.45226789,88.16563603,88.94925269],\"yaxis\":\"y\",\"type\":\"scattergl\"},{\"hovertemplate\":\"Code=SVK<br>Year=%{x}<br>internet_usage=%{y}<extra></extra>\",\"legendgroup\":\"SVK\",\"line\":{\"color\":\"#FFA15A\",\"dash\":\"solid\"},\"marker\":{\"symbol\":\"circle\"},\"mode\":\"lines\",\"name\":\"SVK\",\"showlegend\":true,\"x\":[1990,1991,1992,1993,1994,1995,1996,1997,1998,1999,2000,2001,2002,2003,2004,2005,2006,2007,2008,2009,2010,2011,2012,2013,2014,2015,2016,2017,2018,2019],\"xaxis\":\"x\",\"y\":[0.0,0.0,0.0,0.127829232,0.318509704,0.523210163,0.783290109,1.173381014,2.689809786,5.437758139,9.426803201,12.52832185,40.14,43.04,52.89,55.19,56.08,61.8,66.05,70.0,75.71,74.43999717,76.70999012,77.8826,79.98,77.63468203,80.47585728,81.62566752,80.44892248,82.8536605],\"yaxis\":\"y\",\"type\":\"scattergl\"},{\"hovertemplate\":\"Code=SVN<br>Year=%{x}<br>internet_usage=%{y}<extra></extra>\",\"legendgroup\":\"SVN\",\"line\":{\"color\":\"#19d3f3\",\"dash\":\"solid\"},\"marker\":{\"symbol\":\"circle\"},\"mode\":\"lines\",\"name\":\"SVN\",\"showlegend\":true,\"x\":[1990,1991,1992,1993,1994,1995,1996,1997,1998,1999,2000,2001,2002,2003,2004,2005,2006,2007,2008,2009,2010,2011,2012,2013,2014,2015,2016,2017,2018,2019],\"xaxis\":\"x\",\"y\":[0.0,0.0,0.0,0.409792399,1.071570172,2.898985609,5.072272271,7.591923004,10.10460285,12.61093843,15.11025956,30.17591047,27.83888542,31.85479301,40.81,46.81,54.01,56.74,58.0,64.0,70.0,67.33999481,68.34997453,72.6756,71.59,73.09865997,75.49850426,78.88542636,79.7499766,83.1083578],\"yaxis\":\"y\",\"type\":\"scattergl\"},{\"hovertemplate\":\"Code=SLB<br>Year=%{x}<br>internet_usage=%{y}<extra></extra>\",\"legendgroup\":\"SLB\",\"line\":{\"color\":\"#FF6692\",\"dash\":\"solid\"},\"marker\":{\"symbol\":\"circle\"},\"mode\":\"lines\",\"name\":\"SLB\",\"showlegend\":true,\"x\":[1990,1991,1992,1993,1994,1995,1996,1997,1998,1999,2000,2001,2002,2003,2004,2005,2006,2007,2008,2009,2010,2011,2012,2013,2014,2015,2016,2017],\"xaxis\":\"x\",\"y\":[0.0,0.0,0.0,0.0,0.0,0.02487191,0.268683585,0.391923246,0.508292797,0.494541498,0.481296806,0.468551964,0.501919843,0.555609882,0.649672673,0.844307573,1.646347989,2.0,3.0,4.0,5.0,6.0,6.9974,8.0,9.0,10.00046498,11.00090227,11.92422906],\"yaxis\":\"y\",\"type\":\"scattergl\"},{\"hovertemplate\":\"Code=SOM<br>Year=%{x}<br>internet_usage=%{y}<extra></extra>\",\"legendgroup\":\"SOM\",\"line\":{\"color\":\"#B6E880\",\"dash\":\"solid\"},\"marker\":{\"symbol\":\"circle\"},\"mode\":\"lines\",\"name\":\"SOM\",\"showlegend\":true,\"x\":[1990,1991,1992,1993,1994,1995,1996,1997,1998,1999,2000,2001,2002,2003,2004,2005,2006,2007,2008,2009,2011,2012,2013,2014,2015,2016,2017],\"xaxis\":\"x\",\"y\":[0.0,0.0,0.0,0.0,0.0,0.0,0.00150955,0.002948713,0.00716442,0.013910394,0.02,0.079039179,0.115614213,0.376198003,1.053454744,1.077327839,1.100216368,1.122235622,1.142687372,1.160610542,1.25,1.3767,1.5,1.63,1.76,1.88,2.004048698],\"yaxis\":\"y\",\"type\":\"scattergl\"},{\"hovertemplate\":\"Code=ZAF<br>Year=%{x}<br>internet_usage=%{y}<extra></extra>\",\"legendgroup\":\"ZAF\",\"line\":{\"color\":\"#FF97FF\",\"dash\":\"solid\"},\"marker\":{\"symbol\":\"circle\"},\"mode\":\"lines\",\"name\":\"ZAF\",\"showlegend\":true,\"x\":[1990,1991,1992,1993,1994,1995,1996,1997,1998,1999,2000,2001,2002,2003,2004,2005,2006,2007,2008,2009,2010,2011,2012,2013,2014,2015,2016,2017],\"xaxis\":\"x\",\"y\":[0.0,0.013283591,0.038869106,0.113747184,0.246905533,0.676740104,0.841882931,1.632093791,2.906220867,4.116249583,5.348559732,6.346619318,6.710322437,7.007691726,8.425118683,7.48854253,7.607139675,8.065375174,8.43,10.0,24.0,33.97,41.0,46.5,49.0,51.91911572,54.0,56.16739447],\"yaxis\":\"y\",\"type\":\"scattergl\"},{\"hovertemplate\":\"Code=KOR<br>Year=%{x}<br>internet_usage=%{y}<extra></extra>\",\"legendgroup\":\"KOR\",\"line\":{\"color\":\"#FECB52\",\"dash\":\"solid\"},\"marker\":{\"symbol\":\"circle\"},\"mode\":\"lines\",\"name\":\"KOR\",\"showlegend\":true,\"x\":[1990,1991,1992,1993,1994,1995,1996,1997,1998,1999,2000,2001,2002,2003,2004,2005,2006,2007,2008,2009,2010,2011,2012,2013,2014,2015,2016,2017,2018,2019],\"xaxis\":\"x\",\"y\":[0.023265092,0.046124435,0.098404337,0.249946523,0.311359364,0.81968667,1.624237192,3.600801564,6.781815468,23.55219445,44.7,56.6,59.4,65.5,72.7,73.5,78.1,78.8,81.0,81.6,83.7,83.75912015,84.07,84.77,87.55682649,89.8962558,92.84302568,95.06942188,96.02285958,96.15758265],\"yaxis\":\"y\",\"type\":\"scattergl\"},{\"hovertemplate\":\"Code=SSD<br>Year=%{x}<br>internet_usage=%{y}<extra></extra>\",\"legendgroup\":\"SSD\",\"line\":{\"color\":\"#636efa\",\"dash\":\"solid\"},\"marker\":{\"symbol\":\"circle\"},\"mode\":\"lines\",\"name\":\"SSD\",\"showlegend\":true,\"x\":[2013,2014,2015,2016,2017],\"xaxis\":\"x\",\"y\":[3.829969245,4.51615373,5.5,6.679728051,7.977428907],\"yaxis\":\"y\",\"type\":\"scattergl\"},{\"hovertemplate\":\"Code=ESP<br>Year=%{x}<br>internet_usage=%{y}<extra></extra>\",\"legendgroup\":\"ESP\",\"line\":{\"color\":\"#EF553B\",\"dash\":\"solid\"},\"marker\":{\"symbol\":\"circle\"},\"mode\":\"lines\",\"name\":\"ESP\",\"showlegend\":true,\"x\":[1990,1991,1992,1993,1994,1995,1996,1997,1998,1999,2000,2001,2002,2003,2004,2005,2006,2007,2008,2009,2010,2011,2012,2013,2014,2015,2016,2017,2018,2019],\"xaxis\":\"x\",\"y\":[0.012873564,0.025686194,0.076845453,0.127689668,0.280069738,0.380800728,1.331847404,2.803319625,4.361892394,7.085039678,13.62496081,18.14872269,20.39,39.93,44.01,47.88,50.37,55.11,59.6,62.4,65.8,67.08999939,69.80999994,71.635,76.19,78.68963187,80.56133294,84.6022457,86.10723553,90.71866533],\"yaxis\":\"y\",\"type\":\"scattergl\"},{\"hovertemplate\":\"Code=LKA<br>Year=%{x}<br>internet_usage=%{y}<extra></extra>\",\"legendgroup\":\"LKA\",\"line\":{\"color\":\"#00cc96\",\"dash\":\"solid\"},\"marker\":{\"symbol\":\"circle\"},\"mode\":\"lines\",\"name\":\"LKA\",\"showlegend\":true,\"x\":[1990,1991,1992,1993,1994,1995,1996,1997,1998,1999,2000,2001,2002,2003,2004,2005,2006,2007,2008,2009,2010,2011,2012,2013,2014,2015,2016,2017],\"xaxis\":\"x\",\"y\":[0.0,0.0,0.0,0.0,0.002765448,0.005484436,0.054464499,0.162464548,0.296351104,0.348414425,0.647410011,0.793821864,1.050422706,1.458580228,1.44615998,1.792046794,2.537566129,3.88,5.8,8.78,12.0,15.0,18.2854,21.9,25.8,12.1,16.4,34.1133479],\"yaxis\":\"y\",\"type\":\"scattergl\"},{\"hovertemplate\":\"Code=SDN<br>Year=%{x}<br>internet_usage=%{y}<extra></extra>\",\"legendgroup\":\"SDN\",\"line\":{\"color\":\"#ab63fa\",\"dash\":\"solid\"},\"marker\":{\"symbol\":\"circle\"},\"mode\":\"lines\",\"name\":\"SDN\",\"showlegend\":true,\"x\":[1990,1991,1992,1993,1994,1995,1996,1997,1998,1999,2000,2001,2002,2003,2004,2005,2007,2010,2011,2012,2013,2014,2015,2016,2017],\"xaxis\":\"x\",\"y\":[0.0,0.0,0.0,0.0,0.0,0.0,0.0,0.001231819,0.004805071,0.008794581,0.025785032,0.140185224,0.439477639,0.538471703,0.791561615,1.292040678,8.66,16.7,17.46,21.0,22.7,24.64,26.61,14.09999994,30.87029573],\"yaxis\":\"y\",\"type\":\"scattergl\"},{\"hovertemplate\":\"Code=SUR<br>Year=%{x}<br>internet_usage=%{y}<extra></extra>\",\"legendgroup\":\"SUR\",\"line\":{\"color\":\"#FFA15A\",\"dash\":\"solid\"},\"marker\":{\"symbol\":\"circle\"},\"mode\":\"lines\",\"name\":\"SUR\",\"showlegend\":true,\"x\":[1990,1991,1992,1993,1994,1995,1996,1997,1998,1999,2000,2001,2002,2003,2004,2005,2006,2007,2008,2009,2010,2011,2012,2013,2014,2015,2016,2017],\"xaxis\":\"x\",\"y\":[0.0,0.0,0.0,0.0,0.0,0.114720735,0.226306297,1.003086936,1.670148436,1.891871357,2.506411052,3.064448389,4.161568745,4.719875395,6.076047814,6.403086288,9.499626942,14.11,21.06,31.36,31.59,32.0,34.6812,37.4,40.08,42.76382778,45.4,48.94517397],\"yaxis\":\"y\",\"type\":\"scattergl\"},{\"hovertemplate\":\"Code=SWE<br>Year=%{x}<br>internet_usage=%{y}<extra></extra>\",\"legendgroup\":\"SWE\",\"line\":{\"color\":\"#19d3f3\",\"dash\":\"solid\"},\"marker\":{\"symbol\":\"circle\"},\"mode\":\"lines\",\"name\":\"SWE\",\"showlegend\":true,\"x\":[1990,1991,1992,1993,1994,1995,1996,1997,1998,1999,2000,2001,2002,2003,2004,2005,2006,2007,2008,2009,2010,2011,2012,2013,2014,2015,2016,2017,2019],\"xaxis\":\"x\",\"y\":[0.584192066,1.160519453,1.497871352,1.716364182,3.412810096,5.098024244,9.04359976,23.72794756,33.46751233,41.43278316,45.68765221,51.76566494,70.57,79.13,83.89,84.83,87.76,82.01,90.0,91.0,90.0,92.76998606,93.17998801,94.7836,92.52,90.61019664,89.65094761,93.00626697,94.49344341],\"yaxis\":\"y\",\"type\":\"scattergl\"},{\"hovertemplate\":\"Code=CHE<br>Year=%{x}<br>internet_usage=%{y}<extra></extra>\",\"legendgroup\":\"CHE\",\"line\":{\"color\":\"#FF6692\",\"dash\":\"solid\"},\"marker\":{\"symbol\":\"circle\"},\"mode\":\"lines\",\"name\":\"CHE\",\"showlegend\":true,\"x\":[1990,1991,1992,1993,1994,1995,1996,1997,1998,1999,2000,2001,2002,2003,2004,2005,2006,2007,2008,2009,2010,2011,2012,2013,2014,2015,2016,2017,2019],\"xaxis\":\"x\",\"y\":[0.595714223,1.17995597,1.751713322,2.167270203,2.720004329,3.552007211,4.549656748,15.1,24.8,34.0,47.1,55.1,61.4,65.1,67.8,70.1,75.7,77.2,79.2,81.3,83.9,85.19302818,85.2,86.34,87.4,87.4790556,89.13468774,89.68614767,93.14608695],\"yaxis\":\"y\",\"type\":\"scattergl\"},{\"hovertemplate\":\"Code=SYR<br>Year=%{x}<br>internet_usage=%{y}<extra></extra>\",\"legendgroup\":\"SYR\",\"line\":{\"color\":\"#B6E880\",\"dash\":\"solid\"},\"marker\":{\"symbol\":\"circle\"},\"mode\":\"lines\",\"name\":\"SYR\",\"showlegend\":true,\"x\":[1990,1991,1992,1993,1994,1995,1996,1997,1998,1999,2000,2001,2002,2003,2004,2005,2006,2007,2008,2009,2010,2011,2012,2013,2014,2015,2016,2017],\"xaxis\":\"x\",\"y\":[0.0,0.0,0.0,0.0,0.0,0.0,0.0,0.032607814,0.063687286,0.124295462,0.18169858,0.35375913,2.093101019,3.397972614,4.321593778,5.648106049,7.832551569,11.5,14.0,17.3,20.7,22.5,24.3001,26.2,28.09,29.97979724,31.86962727,34.25340193],\"yaxis\":\"y\",\"type\":\"scattergl\"},{\"hovertemplate\":\"Code=TJK<br>Year=%{x}<br>internet_usage=%{y}<extra></extra>\",\"legendgroup\":\"TJK\",\"line\":{\"color\":\"#FF97FF\",\"dash\":\"solid\"},\"marker\":{\"symbol\":\"circle\"},\"mode\":\"lines\",\"name\":\"TJK\",\"showlegend\":true,\"x\":[1990,1991,1992,1993,1994,1995,1999,2000,2001,2002,2003,2004,2005,2006,2007,2008,2009,2010,2011,2012,2013,2014,2015,2016,2017],\"xaxis\":\"x\",\"y\":[0.0,0.0,0.0,0.0,0.0,0.0,0.032791858,0.048599595,0.051259133,0.055462827,0.064583777,0.077479907,0.298690024,3.772406207,7.197619518,8.78,10.07,11.55,13.03,14.51,16.0,17.49,18.98,20.47,21.96],\"yaxis\":\"y\",\"type\":\"scattergl\"},{\"hovertemplate\":\"Code=TZA<br>Year=%{x}<br>internet_usage=%{y}<extra></extra>\",\"legendgroup\":\"TZA\",\"line\":{\"color\":\"#FECB52\",\"dash\":\"solid\"},\"marker\":{\"symbol\":\"circle\"},\"mode\":\"lines\",\"name\":\"TZA\",\"showlegend\":true,\"x\":[1990,1991,1992,1993,1994,1995,1996,1997,1998,1999,2000,2001,2002,2003,2004,2005,2006,2007,2008,2009,2010,2011,2012,2013,2014,2015,2016,2017],\"xaxis\":\"x\",\"y\":[0.0,0.0,0.0,0.0,0.0,0.0,0.001622155,0.007900283,0.009244125,0.075130889,0.11719444,0.171300351,0.222484414,0.676962857,0.877574971,1.1,1.3,1.6,1.9,2.4,2.9,3.2,3.95,4.4,7.0,20.0,13.50423285,15.99999943],\"yaxis\":\"y\",\"type\":\"scattergl\"},{\"hovertemplate\":\"Code=THA<br>Year=%{x}<br>internet_usage=%{y}<extra></extra>\",\"legendgroup\":\"THA\",\"line\":{\"color\":\"#636efa\",\"dash\":\"solid\"},\"marker\":{\"symbol\":\"circle\"},\"mode\":\"lines\",\"name\":\"THA\",\"showlegend\":true,\"x\":[1990,1991,1992,1993,1994,1995,1996,1997,1998,1999,2000,2001,2002,2003,2004,2005,2006,2007,2008,2009,2010,2011,2012,2013,2014,2015,2016,2017,2018,2019],\"xaxis\":\"x\",\"y\":[0.0,5.22e-05,0.000343725,0.013580966,0.038614321,0.074825338,0.115472136,0.360522185,1.091218985,2.426242432,3.689041279,5.556326121,7.531250335,9.299027238,10.67730332,15.02600436,17.16071472,20.03,18.2,20.1,22.4,23.66992562,26.46,28.94,34.89,39.31612674,47.50496562,52.89192934,56.81748093,66.65241317],\"yaxis\":\"y\",\"type\":\"scattergl\"},{\"hovertemplate\":\"Code=TLS<br>Year=%{x}<br>internet_usage=%{y}<extra></extra>\",\"legendgroup\":\"TLS\",\"line\":{\"color\":\"#EF553B\",\"dash\":\"solid\"},\"marker\":{\"symbol\":\"circle\"},\"mode\":\"lines\",\"name\":\"TLS\",\"showlegend\":true,\"x\":[1990,1991,1992,1993,1994,1995,2002,2003,2004,2005,2006,2007,2008,2009,2010,2011,2012,2013,2014,2015,2016,2017],\"xaxis\":\"x\",\"y\":[0.0,0.0,0.0,0.0,0.0,0.0,0.0,0.0,0.0,0.099031768,0.5,1.0,1.5,2.0,3.0,4.0,7.0,11.0,17.5,23.0,25.24624959,27.49273173],\"yaxis\":\"y\",\"type\":\"scattergl\"},{\"hovertemplate\":\"Code=TGO<br>Year=%{x}<br>internet_usage=%{y}<extra></extra>\",\"legendgroup\":\"TGO\",\"line\":{\"color\":\"#00cc96\",\"dash\":\"solid\"},\"marker\":{\"symbol\":\"circle\"},\"mode\":\"lines\",\"name\":\"TGO\",\"showlegend\":true,\"x\":[1990,1991,1992,1993,1994,1995,1996,1997,1998,1999,2000,2001,2002,2003,2004,2005,2006,2007,2008,2009,2010,2011,2012,2013,2014,2015,2016,2017],\"xaxis\":\"x\",\"y\":[0.0,0.0,0.0,0.0,0.0,0.0,0.010929139,0.211139465,0.305583935,0.590363264,0.8,0.9,1.0,1.2,1.5,1.8,2.0,2.2,2.4,2.6,3.0,3.5,4.0,4.5,5.7,7.12,11.31,12.36022497],\"yaxis\":\"y\",\"type\":\"scattergl\"},{\"hovertemplate\":\"Code=TON<br>Year=%{x}<br>internet_usage=%{y}<extra></extra>\",\"legendgroup\":\"TON\",\"line\":{\"color\":\"#ab63fa\",\"dash\":\"solid\"},\"marker\":{\"symbol\":\"circle\"},\"mode\":\"lines\",\"name\":\"TON\",\"showlegend\":true,\"x\":[1990,1991,1992,1993,1994,1995,1996,1997,1998,1999,2000,2001,2002,2003,2004,2005,2006,2007,2008,2009,2010,2011,2012,2013,2014,2015,2016,2017],\"xaxis\":\"x\",\"y\":[0.0,0.0,0.0,0.0,0.0,0.12323112,0.163793456,0.510866122,0.765134358,1.01796712,2.434398044,2.825371839,2.907297316,2.985817368,3.952373895,4.907782762,5.853944095,7.179865329,8.110769944,10.0,16.0,25.0,30.0,32.75396061,35.95444145,38.65127243,39.95,41.24872764],\"yaxis\":\"y\",\"type\":\"scattergl\"},{\"hovertemplate\":\"Code=TTO<br>Year=%{x}<br>internet_usage=%{y}<extra></extra>\",\"legendgroup\":\"TTO\",\"line\":{\"color\":\"#FFA15A\",\"dash\":\"solid\"},\"marker\":{\"symbol\":\"circle\"},\"mode\":\"lines\",\"name\":\"TTO\",\"showlegend\":true,\"x\":[1990,1991,1992,1993,1994,1995,1996,1997,1998,1999,2000,2001,2002,2003,2004,2005,2006,2007,2008,2009,2010,2011,2012,2013,2014,2015,2016,2017],\"xaxis\":\"x\",\"y\":[0.0,0.0,0.0,0.0,0.0,0.158149899,0.393080525,1.173174658,2.724825339,5.814250962,7.721411474,15.38462722,21.99867548,25.97176411,27.02427008,28.97671243,30.00374858,32.3,34.8,44.3,48.5,55.2,59.5162,63.8,65.1,69.19847061,73.29694122,77.32605293],\"yaxis\":\"y\",\"type\":\"scattergl\"},{\"hovertemplate\":\"Code=TUN<br>Year=%{x}<br>internet_usage=%{y}<extra></extra>\",\"legendgroup\":\"TUN\",\"line\":{\"color\":\"#19d3f3\",\"dash\":\"solid\"},\"marker\":{\"symbol\":\"circle\"},\"mode\":\"lines\",\"name\":\"TUN\",\"showlegend\":true,\"x\":[1990,1991,1992,1993,1994,1995,1996,1997,1998,1999,2000,2001,2002,2003,2004,2005,2006,2007,2008,2009,2010,2011,2012,2013,2014,2015,2016,2017,2018,2019],\"xaxis\":\"x\",\"y\":[0.0,0.0,0.0,0.0,0.007379544,0.011191954,0.027615372,0.043656974,0.107940957,1.602494764,2.750740293,4.297966035,5.252887295,6.490845795,8.528817752,9.655086542,12.98640865,17.1,27.53,34.07,36.8,39.1,41.4416,43.8,46.16,46.49999434,49.59999484,55.50015506,64.19081023,66.6999983],\"yaxis\":\"y\",\"type\":\"scattergl\"},{\"hovertemplate\":\"Code=TUR<br>Year=%{x}<br>internet_usage=%{y}<extra></extra>\",\"legendgroup\":\"TUR\",\"line\":{\"color\":\"#FF6692\",\"dash\":\"solid\"},\"marker\":{\"symbol\":\"circle\"},\"mode\":\"lines\",\"name\":\"TUR\",\"showlegend\":true,\"x\":[1990,1991,1992,1993,1994,1995,1996,1997,1998,1999,2000,2001,2002,2003,2004,2005,2006,2007,2008,2009,2010,2011,2012,2013,2014,2015,2016,2017,2018,2019],\"xaxis\":\"x\",\"y\":[0.0,0.0,0.0,0.008457732,0.049869182,0.081691205,0.192724936,0.473695432,0.698805129,2.292117685,3.761685035,5.189481461,11.38,12.33,14.58,15.46,18.24,28.63,34.37,36.4,39.82,43.06571043,45.13,46.25,51.04,53.74497914,58.34773401,64.68461768,71.04276107,73.97670403],\"yaxis\":\"y\",\"type\":\"scattergl\"},{\"hovertemplate\":\"Code=TKM<br>Year=%{x}<br>internet_usage=%{y}<extra></extra>\",\"legendgroup\":\"TKM\",\"line\":{\"color\":\"#B6E880\",\"dash\":\"solid\"},\"marker\":{\"symbol\":\"circle\"},\"mode\":\"lines\",\"name\":\"TKM\",\"showlegend\":true,\"x\":[1990,1991,1992,1993,1994,1995,1999,2000,2001,2002,2003,2004,2005,2006,2007,2008,2009,2010,2011,2012,2013,2014,2015,2016,2017],\"xaxis\":\"x\",\"y\":[0.0,0.0,0.0,0.0,0.0,0.0,0.04502077,0.133282183,0.175209518,0.302132016,0.425182632,0.754053983,0.997256559,1.319573118,1.406360688,1.75,1.95,3.0,5.0,7.1958,9.6,12.2,14.99677482,17.99032446,21.25099741],\"yaxis\":\"y\",\"type\":\"scattergl\"},{\"hovertemplate\":\"Code=TCA<br>Year=%{x}<br>internet_usage=%{y}<extra></extra>\",\"legendgroup\":\"TCA\",\"line\":{\"color\":\"#FF97FF\",\"dash\":\"solid\"},\"marker\":{\"symbol\":\"circle\"},\"mode\":\"lines\",\"name\":\"TCA\",\"showlegend\":true,\"x\":[1990,1991,1992,1993,1994,1995],\"xaxis\":\"x\",\"y\":[0.0,0.0,0.0,0.0,0.0,0.0],\"yaxis\":\"y\",\"type\":\"scattergl\"},{\"hovertemplate\":\"Code=TUV<br>Year=%{x}<br>internet_usage=%{y}<extra></extra>\",\"legendgroup\":\"TUV\",\"line\":{\"color\":\"#FECB52\",\"dash\":\"solid\"},\"marker\":{\"symbol\":\"circle\"},\"mode\":\"lines\",\"name\":\"TUV\",\"showlegend\":true,\"x\":[1990,1991,1992,1993,1994,1995,2000,2007,2008,2009,2010,2011,2012,2013,2014,2015,2016,2017],\"xaxis\":\"x\",\"y\":[0.0,0.0,0.0,0.0,0.0,0.0,5.241639585,10.0,15.0,20.0,25.0,30.0,35.0,37.0,39.2,42.7,46.00915151,49.31833862],\"yaxis\":\"y\",\"type\":\"scattergl\"},{\"hovertemplate\":\"Code=UGA<br>Year=%{x}<br>internet_usage=%{y}<extra></extra>\",\"legendgroup\":\"UGA\",\"line\":{\"color\":\"#636efa\",\"dash\":\"solid\"},\"marker\":{\"symbol\":\"circle\"},\"mode\":\"lines\",\"name\":\"UGA\",\"showlegend\":true,\"x\":[1990,1991,1992,1993,1994,1995,1996,1997,1998,1999,2000,2001,2002,2003,2004,2005,2006,2007,2008,2009,2010,2011,2012,2013,2014,2015,2016,2017],\"xaxis\":\"x\",\"y\":[0.0,0.0,0.0,0.0,0.0,0.002863471,0.004625948,0.010319341,0.065289465,0.10554394,0.163714063,0.237945087,0.384093505,0.46484984,0.71997068,1.742205503,2.529363038,3.671965351,7.9,9.78,12.5,13.01354333,14.1,15.5,16.9,17.83485947,21.87617046,23.70653091],\"yaxis\":\"y\",\"type\":\"scattergl\"},{\"hovertemplate\":\"Code=UKR<br>Year=%{x}<br>internet_usage=%{y}<extra></extra>\",\"legendgroup\":\"UKR\",\"line\":{\"color\":\"#EF553B\",\"dash\":\"solid\"},\"marker\":{\"symbol\":\"circle\"},\"mode\":\"lines\",\"name\":\"UKR\",\"showlegend\":true,\"x\":[1990,1991,1992,1993,1994,1995,1996,1997,1998,1999,2000,2001,2002,2003,2004,2005,2006,2007,2008,2009,2010,2011,2012,2013,2014,2015,2016,2017,2018],\"xaxis\":\"x\",\"y\":[0.0,0.0,0.0,0.00077697,0.013641246,0.043083985,0.098580381,0.198821885,0.301075792,0.405385448,0.716183762,1.238759547,1.873885116,3.148127588,3.489477881,3.749764415,4.506124564,6.55,11.0,17.9,23.3,28.70826284,35.27,40.954129,46.23597546,48.88464368,53.0009696,58.88947945,62.55315539],\"yaxis\":\"y\",\"type\":\"scattergl\"},{\"hovertemplate\":\"Code=ARE<br>Year=%{x}<br>internet_usage=%{y}<extra></extra>\",\"legendgroup\":\"ARE\",\"line\":{\"color\":\"#00cc96\",\"dash\":\"solid\"},\"marker\":{\"symbol\":\"circle\"},\"mode\":\"lines\",\"name\":\"ARE\",\"showlegend\":true,\"x\":[1990,1991,1992,1993,1994,1995,1996,1997,1998,1999,2000,2001,2002,2003,2004,2005,2006,2007,2008,2009,2010,2011,2012,2013,2014,2015,2016,2017,2018,2019],\"xaxis\":\"x\",\"y\":[0.0,0.0,0.0,0.0,0.0,0.102939175,0.375393534,3.295592694,6.908302986,14.94269899,23.62530088,26.2717542,28.31648531,29.47795341,30.13129617,40.0,52.0,61.0,63.0,64.0,68.0,78.0,84.9999915,88.0,90.4,90.5,90.60000732,94.81992254,98.45000178,99.14999796],\"yaxis\":\"y\",\"type\":\"scattergl\"},{\"hovertemplate\":\"Code=GBR<br>Year=%{x}<br>internet_usage=%{y}<extra></extra>\",\"legendgroup\":\"GBR\",\"line\":{\"color\":\"#ab63fa\",\"dash\":\"solid\"},\"marker\":{\"symbol\":\"circle\"},\"mode\":\"lines\",\"name\":\"GBR\",\"showlegend\":true,\"x\":[1990,1991,1992,1993,1994,1995,1996,1997,1998,1999,2000,2001,2002,2003,2004,2005,2006,2007,2008,2009,2010,2011,2012,2013,2014,2015,2016,2017,2018,2019],\"xaxis\":\"x\",\"y\":[0.087355319,0.174230922,0.260615159,0.519762001,1.036609166,1.895168284,4.123650336,7.385398957,13.6699831,21.29363827,26.82175435,33.48109487,56.48,64.82,65.61,70.0,68.82,75.09,78.39,83.56,85.0,85.37999855,87.47999842,89.8441,91.61,92.00029987,94.77580063,90.42455049,90.69200899,92.51662855],\"yaxis\":\"y\",\"type\":\"scattergl\"},{\"hovertemplate\":\"Code=USA<br>Year=%{x}<br>internet_usage=%{y}<extra></extra>\",\"legendgroup\":\"USA\",\"line\":{\"color\":\"#FFA15A\",\"dash\":\"solid\"},\"marker\":{\"symbol\":\"circle\"},\"mode\":\"lines\",\"name\":\"USA\",\"showlegend\":true,\"x\":[1990,1991,1992,1993,1994,1995,1996,1997,1998,1999,2000,2001,2002,2003,2004,2005,2006,2007,2008,2009,2010,2011,2012,2013,2014,2015,2016,2017,2018],\"xaxis\":\"x\",\"y\":[0.784728502,1.163193726,1.724202539,2.271673294,4.862780635,9.237088297,16.41935296,21.61640097,30.09319659,35.84872446,43.07916264,49.08083159,58.78540388,61.69711712,64.75825648,67.96805292,68.93119327,75.0,74.0,71.0,71.69,69.72946076,74.7,71.4,73.0,74.55420245,85.54442129,87.27488917,88.49890317],\"yaxis\":\"y\",\"type\":\"scattergl\"},{\"hovertemplate\":\"Code=VIR<br>Year=%{x}<br>internet_usage=%{y}<extra></extra>\",\"legendgroup\":\"VIR\",\"line\":{\"color\":\"#19d3f3\",\"dash\":\"solid\"},\"marker\":{\"symbol\":\"circle\"},\"mode\":\"lines\",\"name\":\"VIR\",\"showlegend\":true,\"x\":[1990,1991,1992,1993,1994,1995,1996,1997,1998,1999,2000,2001,2002,2003,2004,2005,2006,2007,2008,2009,2010,2011,2012,2013,2014,2015,2016,2017],\"xaxis\":\"x\",\"y\":[0.0,0.0,0.0,0.0,0.940645283,2.801957634,4.647185664,6.948368986,9.245220221,11.07460593,13.81508054,18.37576604,27.49443238,27.42907299,27.37700879,27.34431967,27.33261054,27.33933584,27.36177742,27.39650968,31.22,35.6,40.5479,45.3,50.07,54.8391373,59.6083158,64.3774943],\"yaxis\":\"y\",\"type\":\"scattergl\"},{\"hovertemplate\":\"Code=URY<br>Year=%{x}<br>internet_usage=%{y}<extra></extra>\",\"legendgroup\":\"URY\",\"line\":{\"color\":\"#FF6692\",\"dash\":\"solid\"},\"marker\":{\"symbol\":\"circle\"},\"mode\":\"lines\",\"name\":\"URY\",\"showlegend\":true,\"x\":[1990,1991,1992,1993,1994,1995,1996,1997,1998,1999,2000,2001,2002,2003,2004,2005,2006,2007,2008,2009,2010,2011,2012,2013,2014,2015,2016,2017,2018,2019],\"xaxis\":\"x\",\"y\":[0.0,0.0,0.0,0.0,0.062474386,0.310128582,1.847472089,3.363239668,6.987069365,9.972765285,10.53905775,11.12143768,11.4194702,15.93713672,17.06309834,20.08818956,29.4,34.0,39.3,41.8,46.4,51.40466106,54.45376868,57.69,61.46,64.5707871,66.4,70.3223544,74.3831762,76.94955197],\"yaxis\":\"y\",\"type\":\"scattergl\"},{\"hovertemplate\":\"Code=UZB<br>Year=%{x}<br>internet_usage=%{y}<extra></extra>\",\"legendgroup\":\"UZB\",\"line\":{\"color\":\"#B6E880\",\"dash\":\"solid\"},\"marker\":{\"symbol\":\"circle\"},\"mode\":\"lines\",\"name\":\"UZB\",\"showlegend\":true,\"x\":[1990,1991,1992,1993,1994,1995,1996,1997,1998,1999,2000,2001,2002,2003,2004,2005,2006,2007,2008,2009,2010,2011,2012,2013,2014,2015,2016,2017,2018],\"xaxis\":\"x\",\"y\":[0.0,0.0,0.0,0.0,0.0,0.001527093,0.004285074,0.010536935,0.020754437,0.030688343,0.484347308,0.597567994,1.081939742,1.912595178,2.593725421,3.343509888,6.388321967,7.490604681,9.080114523,11.9,15.9,18.6,23.6,26.8,35.5,42.8,46.79128694,48.69999885,55.20000067],\"yaxis\":\"y\",\"type\":\"scattergl\"},{\"hovertemplate\":\"Code=VUT<br>Year=%{x}<br>internet_usage=%{y}<extra></extra>\",\"legendgroup\":\"VUT\",\"line\":{\"color\":\"#FF97FF\",\"dash\":\"solid\"},\"marker\":{\"symbol\":\"circle\"},\"mode\":\"lines\",\"name\":\"VUT\",\"showlegend\":true,\"x\":[1990,1991,1992,1993,1994,1995,1996,1997,1998,1999,2000,2001,2002,2003,2004,2005,2006,2007,2008,2009,2010,2011,2012,2013,2014,2015,2016,2017],\"xaxis\":\"x\",\"y\":[0.0,0.0,0.0,0.0,0.0,0.0,0.056845636,0.139505815,0.274185942,0.538300048,2.108336891,2.830572239,3.510038711,3.903295845,4.746602619,5.082333808,5.850585059,6.8,7.269119923,7.5,8.0,9.2,10.598,11.3,18.8,22.35140458,24.0,25.71978784],\"yaxis\":\"y\",\"type\":\"scattergl\"},{\"hovertemplate\":\"Code=VEN<br>Year=%{x}<br>internet_usage=%{y}<extra></extra>\",\"legendgroup\":\"VEN\",\"line\":{\"color\":\"#FECB52\",\"dash\":\"solid\"},\"marker\":{\"symbol\":\"circle\"},\"mode\":\"lines\",\"name\":\"VEN\",\"showlegend\":true,\"x\":[1990,1991,1992,1993,1994,1995,1996,1997,1998,1999,2000,2001,2002,2003,2004,2005,2006,2007,2008,2009,2010,2011,2012,2013,2014,2015,2016,2017],\"xaxis\":\"x\",\"y\":[0.0,0.0,0.012082134,0.041587233,0.055486978,0.122214848,0.24826058,0.390959318,1.383990391,2.839825767,3.359597465,4.636000948,4.910446327,7.499963465,8.404469592,12.55299791,15.22471148,20.83,25.88,32.7,37.37,40.22,49.05008307,54.9,57.0,64.0,60.0,64.31336383],\"yaxis\":\"y\",\"type\":\"scattergl\"},{\"hovertemplate\":\"Code=VNM<br>Year=%{x}<br>internet_usage=%{y}<extra></extra>\",\"legendgroup\":\"VNM\",\"line\":{\"color\":\"#636efa\",\"dash\":\"solid\"},\"marker\":{\"symbol\":\"circle\"},\"mode\":\"lines\",\"name\":\"VNM\",\"showlegend\":true,\"x\":[1990,1991,1992,1993,1994,1995,1996,1997,1998,1999,2000,2001,2002,2003,2004,2005,2006,2007,2008,2009,2010,2011,2012,2013,2014,2015,2016,2017,2018,2019],\"xaxis\":\"x\",\"y\":[0.0,0.0,0.0,0.0,0.0,0.0,0.000134813,0.003981962,0.013078543,0.128926663,0.254248276,1.265651236,1.854999236,3.780280814,7.642408528,12.73992929,17.25456172,20.75544477,23.92,26.55,30.65,35.07,36.8,38.5,41.0,45.0,53.0,58.14,69.84792868,68.7],\"yaxis\":\"y\",\"type\":\"scattergl\"},{\"hovertemplate\":\"Code=OWID_WRL<br>Year=%{x}<br>internet_usage=%{y}<extra></extra>\",\"legendgroup\":\"OWID_WRL\",\"line\":{\"color\":\"#EF553B\",\"dash\":\"solid\"},\"marker\":{\"symbol\":\"circle\"},\"mode\":\"lines\",\"name\":\"OWID_WRL\",\"showlegend\":true,\"x\":[1990,1991,1992,1993,1994,1995,1996,1997,1998,1999,2000,2001,2002,2003,2004,2005,2006,2007,2008,2009,2010,2011,2012,2013,2014,2015,2016,2017],\"xaxis\":\"x\",\"y\":[0.0492353503886526,0.0791811448606764,0.125363507571836,0.178899926843963,0.359900198627025,0.681457000731263,1.32346981670892,2.03950847211358,3.13640582616729,4.62993504135382,6.73388038172672,8.05907355321202,10.5283686906732,12.2097659831683,14.0982293188612,15.7028936153559,17.4831937915925,20.4117381555735,22.9587730234956,25.3708372478522,28.7535063686057,31.1482105767916,34.2253920368198,36.6391439419875,39.8585274477917,41.6920714467025,44.844248197958,48.9969115845464],\"yaxis\":\"y\",\"type\":\"scattergl\"},{\"hovertemplate\":\"Code=YEM<br>Year=%{x}<br>internet_usage=%{y}<extra></extra>\",\"legendgroup\":\"YEM\",\"line\":{\"color\":\"#00cc96\",\"dash\":\"solid\"},\"marker\":{\"symbol\":\"circle\"},\"mode\":\"lines\",\"name\":\"YEM\",\"showlegend\":true,\"x\":[1990,1991,1992,1993,1994,1995,1996,1997,1998,1999,2000,2001,2002,2003,2004,2005,2006,2007,2008,2009,2010,2011,2012,2013,2014,2015,2016,2017],\"xaxis\":\"x\",\"y\":[0.0,0.0,0.0,0.0,0.0,0.0,0.000621081,0.015025295,0.023323243,0.056628675,0.082500387,0.090802459,0.518796032,0.6047341,0.881222989,1.048597934,1.247824049,5.01,6.89,9.96,12.35,14.905,17.4465,20.0,22.55,24.08540947,24.57920836,26.71835477],\"yaxis\":\"y\",\"type\":\"scattergl\"},{\"hovertemplate\":\"Code=ZMB<br>Year=%{x}<br>internet_usage=%{y}<extra></extra>\",\"legendgroup\":\"ZMB\",\"line\":{\"color\":\"#ab63fa\",\"dash\":\"solid\"},\"marker\":{\"symbol\":\"circle\"},\"mode\":\"lines\",\"name\":\"ZMB\",\"showlegend\":true,\"x\":[1990,1991,1992,1993,1994,1995,1996,1997,1998,1999,2000,2001,2002,2003,2004,2005,2006,2007,2008,2009,2010,2011,2012,2013,2014,2015,2016,2017,2018],\"xaxis\":\"x\",\"y\":[0.0,0.0,0.0,0.0,0.006776105,0.008783623,0.009069176,0.009329658,0.030226183,0.147053172,0.191071643,0.233129556,0.477750907,0.980483039,2.013549532,2.851752261,4.159913394,4.87,5.55,6.31,10.0,11.5,13.4682,15.4,19.0,21.0,25.50657885,27.8525791,14.2999971],\"yaxis\":\"y\",\"type\":\"scattergl\"},{\"hovertemplate\":\"Code=ZWE<br>Year=%{x}<br>internet_usage=%{y}<extra></extra>\",\"legendgroup\":\"ZWE\",\"line\":{\"color\":\"#FFA15A\",\"dash\":\"solid\"},\"marker\":{\"symbol\":\"circle\"},\"mode\":\"lines\",\"name\":\"ZWE\",\"showlegend\":true,\"x\":[1990,1991,1992,1993,1994,1995,1996,1997,1998,1999,2000,2001,2002,2003,2004,2005,2006,2007,2008,2009,2010,2011,2012,2013,2014,2015,2016,2017],\"xaxis\":\"x\",\"y\":[0.0,0.0,0.0,0.0,0.00173928,0.00768354,0.016790484,0.033080327,0.081648476,0.161675528,0.401433535,0.799846046,1.1,1.8,2.1,2.4,2.4,3.0,3.5,4.0,6.4,8.4,12.0,15.5,16.36473996,22.7428181,23.11998904,27.05548769],\"yaxis\":\"y\",\"type\":\"scattergl\"}],                        {\"template\":{\"data\":{\"histogram2dcontour\":[{\"type\":\"histogram2dcontour\",\"colorbar\":{\"outlinewidth\":0,\"ticks\":\"\"},\"colorscale\":[[0.0,\"#0d0887\"],[0.1111111111111111,\"#46039f\"],[0.2222222222222222,\"#7201a8\"],[0.3333333333333333,\"#9c179e\"],[0.4444444444444444,\"#bd3786\"],[0.5555555555555556,\"#d8576b\"],[0.6666666666666666,\"#ed7953\"],[0.7777777777777778,\"#fb9f3a\"],[0.8888888888888888,\"#fdca26\"],[1.0,\"#f0f921\"]]}],\"choropleth\":[{\"type\":\"choropleth\",\"colorbar\":{\"outlinewidth\":0,\"ticks\":\"\"}}],\"histogram2d\":[{\"type\":\"histogram2d\",\"colorbar\":{\"outlinewidth\":0,\"ticks\":\"\"},\"colorscale\":[[0.0,\"#0d0887\"],[0.1111111111111111,\"#46039f\"],[0.2222222222222222,\"#7201a8\"],[0.3333333333333333,\"#9c179e\"],[0.4444444444444444,\"#bd3786\"],[0.5555555555555556,\"#d8576b\"],[0.6666666666666666,\"#ed7953\"],[0.7777777777777778,\"#fb9f3a\"],[0.8888888888888888,\"#fdca26\"],[1.0,\"#f0f921\"]]}],\"heatmap\":[{\"type\":\"heatmap\",\"colorbar\":{\"outlinewidth\":0,\"ticks\":\"\"},\"colorscale\":[[0.0,\"#0d0887\"],[0.1111111111111111,\"#46039f\"],[0.2222222222222222,\"#7201a8\"],[0.3333333333333333,\"#9c179e\"],[0.4444444444444444,\"#bd3786\"],[0.5555555555555556,\"#d8576b\"],[0.6666666666666666,\"#ed7953\"],[0.7777777777777778,\"#fb9f3a\"],[0.8888888888888888,\"#fdca26\"],[1.0,\"#f0f921\"]]}],\"heatmapgl\":[{\"type\":\"heatmapgl\",\"colorbar\":{\"outlinewidth\":0,\"ticks\":\"\"},\"colorscale\":[[0.0,\"#0d0887\"],[0.1111111111111111,\"#46039f\"],[0.2222222222222222,\"#7201a8\"],[0.3333333333333333,\"#9c179e\"],[0.4444444444444444,\"#bd3786\"],[0.5555555555555556,\"#d8576b\"],[0.6666666666666666,\"#ed7953\"],[0.7777777777777778,\"#fb9f3a\"],[0.8888888888888888,\"#fdca26\"],[1.0,\"#f0f921\"]]}],\"contourcarpet\":[{\"type\":\"contourcarpet\",\"colorbar\":{\"outlinewidth\":0,\"ticks\":\"\"}}],\"contour\":[{\"type\":\"contour\",\"colorbar\":{\"outlinewidth\":0,\"ticks\":\"\"},\"colorscale\":[[0.0,\"#0d0887\"],[0.1111111111111111,\"#46039f\"],[0.2222222222222222,\"#7201a8\"],[0.3333333333333333,\"#9c179e\"],[0.4444444444444444,\"#bd3786\"],[0.5555555555555556,\"#d8576b\"],[0.6666666666666666,\"#ed7953\"],[0.7777777777777778,\"#fb9f3a\"],[0.8888888888888888,\"#fdca26\"],[1.0,\"#f0f921\"]]}],\"surface\":[{\"type\":\"surface\",\"colorbar\":{\"outlinewidth\":0,\"ticks\":\"\"},\"colorscale\":[[0.0,\"#0d0887\"],[0.1111111111111111,\"#46039f\"],[0.2222222222222222,\"#7201a8\"],[0.3333333333333333,\"#9c179e\"],[0.4444444444444444,\"#bd3786\"],[0.5555555555555556,\"#d8576b\"],[0.6666666666666666,\"#ed7953\"],[0.7777777777777778,\"#fb9f3a\"],[0.8888888888888888,\"#fdca26\"],[1.0,\"#f0f921\"]]}],\"mesh3d\":[{\"type\":\"mesh3d\",\"colorbar\":{\"outlinewidth\":0,\"ticks\":\"\"}}],\"scatter\":[{\"fillpattern\":{\"fillmode\":\"overlay\",\"size\":10,\"solidity\":0.2},\"type\":\"scatter\"}],\"parcoords\":[{\"type\":\"parcoords\",\"line\":{\"colorbar\":{\"outlinewidth\":0,\"ticks\":\"\"}}}],\"scatterpolargl\":[{\"type\":\"scatterpolargl\",\"marker\":{\"colorbar\":{\"outlinewidth\":0,\"ticks\":\"\"}}}],\"bar\":[{\"error_x\":{\"color\":\"#2a3f5f\"},\"error_y\":{\"color\":\"#2a3f5f\"},\"marker\":{\"line\":{\"color\":\"#E5ECF6\",\"width\":0.5},\"pattern\":{\"fillmode\":\"overlay\",\"size\":10,\"solidity\":0.2}},\"type\":\"bar\"}],\"scattergeo\":[{\"type\":\"scattergeo\",\"marker\":{\"colorbar\":{\"outlinewidth\":0,\"ticks\":\"\"}}}],\"scatterpolar\":[{\"type\":\"scatterpolar\",\"marker\":{\"colorbar\":{\"outlinewidth\":0,\"ticks\":\"\"}}}],\"histogram\":[{\"marker\":{\"pattern\":{\"fillmode\":\"overlay\",\"size\":10,\"solidity\":0.2}},\"type\":\"histogram\"}],\"scattergl\":[{\"type\":\"scattergl\",\"marker\":{\"colorbar\":{\"outlinewidth\":0,\"ticks\":\"\"}}}],\"scatter3d\":[{\"type\":\"scatter3d\",\"line\":{\"colorbar\":{\"outlinewidth\":0,\"ticks\":\"\"}},\"marker\":{\"colorbar\":{\"outlinewidth\":0,\"ticks\":\"\"}}}],\"scattermapbox\":[{\"type\":\"scattermapbox\",\"marker\":{\"colorbar\":{\"outlinewidth\":0,\"ticks\":\"\"}}}],\"scatterternary\":[{\"type\":\"scatterternary\",\"marker\":{\"colorbar\":{\"outlinewidth\":0,\"ticks\":\"\"}}}],\"scattercarpet\":[{\"type\":\"scattercarpet\",\"marker\":{\"colorbar\":{\"outlinewidth\":0,\"ticks\":\"\"}}}],\"carpet\":[{\"aaxis\":{\"endlinecolor\":\"#2a3f5f\",\"gridcolor\":\"white\",\"linecolor\":\"white\",\"minorgridcolor\":\"white\",\"startlinecolor\":\"#2a3f5f\"},\"baxis\":{\"endlinecolor\":\"#2a3f5f\",\"gridcolor\":\"white\",\"linecolor\":\"white\",\"minorgridcolor\":\"white\",\"startlinecolor\":\"#2a3f5f\"},\"type\":\"carpet\"}],\"table\":[{\"cells\":{\"fill\":{\"color\":\"#EBF0F8\"},\"line\":{\"color\":\"white\"}},\"header\":{\"fill\":{\"color\":\"#C8D4E3\"},\"line\":{\"color\":\"white\"}},\"type\":\"table\"}],\"barpolar\":[{\"marker\":{\"line\":{\"color\":\"#E5ECF6\",\"width\":0.5},\"pattern\":{\"fillmode\":\"overlay\",\"size\":10,\"solidity\":0.2}},\"type\":\"barpolar\"}],\"pie\":[{\"automargin\":true,\"type\":\"pie\"}]},\"layout\":{\"autotypenumbers\":\"strict\",\"colorway\":[\"#636efa\",\"#EF553B\",\"#00cc96\",\"#ab63fa\",\"#FFA15A\",\"#19d3f3\",\"#FF6692\",\"#B6E880\",\"#FF97FF\",\"#FECB52\"],\"font\":{\"color\":\"#2a3f5f\"},\"hovermode\":\"closest\",\"hoverlabel\":{\"align\":\"left\"},\"paper_bgcolor\":\"white\",\"plot_bgcolor\":\"#E5ECF6\",\"polar\":{\"bgcolor\":\"#E5ECF6\",\"angularaxis\":{\"gridcolor\":\"white\",\"linecolor\":\"white\",\"ticks\":\"\"},\"radialaxis\":{\"gridcolor\":\"white\",\"linecolor\":\"white\",\"ticks\":\"\"}},\"ternary\":{\"bgcolor\":\"#E5ECF6\",\"aaxis\":{\"gridcolor\":\"white\",\"linecolor\":\"white\",\"ticks\":\"\"},\"baxis\":{\"gridcolor\":\"white\",\"linecolor\":\"white\",\"ticks\":\"\"},\"caxis\":{\"gridcolor\":\"white\",\"linecolor\":\"white\",\"ticks\":\"\"}},\"coloraxis\":{\"colorbar\":{\"outlinewidth\":0,\"ticks\":\"\"}},\"colorscale\":{\"sequential\":[[0.0,\"#0d0887\"],[0.1111111111111111,\"#46039f\"],[0.2222222222222222,\"#7201a8\"],[0.3333333333333333,\"#9c179e\"],[0.4444444444444444,\"#bd3786\"],[0.5555555555555556,\"#d8576b\"],[0.6666666666666666,\"#ed7953\"],[0.7777777777777778,\"#fb9f3a\"],[0.8888888888888888,\"#fdca26\"],[1.0,\"#f0f921\"]],\"sequentialminus\":[[0.0,\"#0d0887\"],[0.1111111111111111,\"#46039f\"],[0.2222222222222222,\"#7201a8\"],[0.3333333333333333,\"#9c179e\"],[0.4444444444444444,\"#bd3786\"],[0.5555555555555556,\"#d8576b\"],[0.6666666666666666,\"#ed7953\"],[0.7777777777777778,\"#fb9f3a\"],[0.8888888888888888,\"#fdca26\"],[1.0,\"#f0f921\"]],\"diverging\":[[0,\"#8e0152\"],[0.1,\"#c51b7d\"],[0.2,\"#de77ae\"],[0.3,\"#f1b6da\"],[0.4,\"#fde0ef\"],[0.5,\"#f7f7f7\"],[0.6,\"#e6f5d0\"],[0.7,\"#b8e186\"],[0.8,\"#7fbc41\"],[0.9,\"#4d9221\"],[1,\"#276419\"]]},\"xaxis\":{\"gridcolor\":\"white\",\"linecolor\":\"white\",\"ticks\":\"\",\"title\":{\"standoff\":15},\"zerolinecolor\":\"white\",\"automargin\":true,\"zerolinewidth\":2},\"yaxis\":{\"gridcolor\":\"white\",\"linecolor\":\"white\",\"ticks\":\"\",\"title\":{\"standoff\":15},\"zerolinecolor\":\"white\",\"automargin\":true,\"zerolinewidth\":2},\"scene\":{\"xaxis\":{\"backgroundcolor\":\"#E5ECF6\",\"gridcolor\":\"white\",\"linecolor\":\"white\",\"showbackground\":true,\"ticks\":\"\",\"zerolinecolor\":\"white\",\"gridwidth\":2},\"yaxis\":{\"backgroundcolor\":\"#E5ECF6\",\"gridcolor\":\"white\",\"linecolor\":\"white\",\"showbackground\":true,\"ticks\":\"\",\"zerolinecolor\":\"white\",\"gridwidth\":2},\"zaxis\":{\"backgroundcolor\":\"#E5ECF6\",\"gridcolor\":\"white\",\"linecolor\":\"white\",\"showbackground\":true,\"ticks\":\"\",\"zerolinecolor\":\"white\",\"gridwidth\":2}},\"shapedefaults\":{\"line\":{\"color\":\"#2a3f5f\"}},\"annotationdefaults\":{\"arrowcolor\":\"#2a3f5f\",\"arrowhead\":0,\"arrowwidth\":1},\"geo\":{\"bgcolor\":\"white\",\"landcolor\":\"#E5ECF6\",\"subunitcolor\":\"white\",\"showland\":true,\"showlakes\":true,\"lakecolor\":\"white\"},\"title\":{\"x\":0.05},\"mapbox\":{\"style\":\"light\"}}},\"xaxis\":{\"anchor\":\"y\",\"domain\":[0.0,1.0],\"title\":{\"text\":\"Year\"}},\"yaxis\":{\"anchor\":\"x\",\"domain\":[0.0,1.0],\"title\":{\"text\":\"internet_usage\"}},\"legend\":{\"title\":{\"text\":\"Code\"},\"tracegroupgap\":0},\"margin\":{\"t\":60}},                        {\"responsive\": true}                    ).then(function(){\n",
       "                            \n",
       "var gd = document.getElementById('7f6c160b-8ca1-488f-9888-f97b89a5d2db');\n",
       "var x = new MutationObserver(function (mutations, observer) {{\n",
       "        var display = window.getComputedStyle(gd).display;\n",
       "        if (!display || display === 'none') {{\n",
       "            console.log([gd, 'removed!']);\n",
       "            Plotly.purge(gd);\n",
       "            observer.disconnect();\n",
       "        }}\n",
       "}});\n",
       "\n",
       "// Listen for the removal of the full notebook cells\n",
       "var notebookContainer = gd.closest('#notebook-container');\n",
       "if (notebookContainer) {{\n",
       "    x.observe(notebookContainer, {childList: true});\n",
       "}}\n",
       "\n",
       "// Listen for the clearing of the current output cell\n",
       "var outputEl = gd.closest('.output');\n",
       "if (outputEl) {{\n",
       "    x.observe(outputEl, {childList: true});\n",
       "}}\n",
       "\n",
       "                        })                };                });            </script>        </div>"
      ]
     },
     "metadata": {},
     "output_type": "display_data"
    }
   ],
   "source": [
    "fig = px.line(df, x=\"Year\", y=\"internet_usage\", color = 'Code')\n",
    "fig.show()"
   ]
  },
  {
   "cell_type": "code",
   "execution_count": 93,
   "id": "a67bd0ed-21d1-4aa0-abc6-1fa20496a32e",
   "metadata": {},
   "outputs": [],
   "source": [
    "left_column, middle_column, right_column = st.columns([3,1,1])\n",
    "\n",
    "country = pd.unique(df['Entity'])\n",
    "#cntr = left_column.selectbox(\"Choose a country\", country)\n",
    "cntr = left_column.multiselect(\"Choose a country\",country,default=['Afghanistan','Angola','Australia','Germany'],max_selections = 5)\n",
    "\n",
    "def add_trace_f(num = 1):\n",
    "    fig.add_trace(go.Scatter(x=df[df['Entity']==cntr[num]]['Year'], \n",
    "                             y=df[df['Entity']==cntr[num]]['internet_usage'],\n",
    "                            mode='lines',\n",
    "                            name=cntr[num]))\n",
    "    \n",
    "\n",
    "    "
   ]
  },
  {
   "cell_type": "code",
   "execution_count": 94,
   "id": "5340e494-0bb6-4aa7-8a86-75142b91ae77",
   "metadata": {},
   "outputs": [],
   "source": [
    "#df[df['Entity']=='Germany']"
   ]
  },
  {
   "cell_type": "code",
   "execution_count": 95,
   "id": "d21b0e0c-e60e-4548-b4e7-91deac678da9",
   "metadata": {},
   "outputs": [
    {
     "data": {
      "application/vnd.plotly.v1+json": {
       "config": {
        "plotlyServerURL": "https://plot.ly"
       },
       "data": [
        {
         "mode": "lines",
         "name": "Afghanistan",
         "type": "scatter",
         "x": [
          1990,
          1991,
          1992,
          1993,
          1994,
          1995,
          2001,
          2002,
          2003,
          2004,
          2005,
          2006,
          2007,
          2008,
          2009,
          2010,
          2011,
          2012,
          2013,
          2014,
          2015,
          2017
         ],
         "y": [
          0,
          0,
          0,
          0,
          0,
          0,
          0.004722568,
          0.004561395,
          0.087891253,
          0.10580903,
          1.224148084,
          2.107123645,
          1.9,
          1.84,
          3.55,
          4,
          5,
          5.454545455,
          5.9,
          7,
          8.26,
          11.44768809
         ]
        },
        {
         "mode": "lines",
         "name": "Angola",
         "type": "scatter",
         "x": [
          1990,
          1991,
          1992,
          1993,
          1994,
          1995,
          1996,
          1997,
          1998,
          1999,
          2000,
          2001,
          2002,
          2003,
          2004,
          2005,
          2006,
          2007,
          2008,
          2009,
          2010,
          2011,
          2012,
          2013,
          2014,
          2015,
          2016,
          2017
         ],
         "y": [
          0,
          0,
          0,
          0,
          0,
          0,
          0.000775929,
          0.005673746,
          0.018453724,
          0.071964087,
          0.105045562,
          0.136013867,
          0.270376746,
          0.370682065,
          0.464814618,
          1.143366827,
          1.5,
          1.7,
          1.9,
          2.3,
          2.8,
          3.1,
          6.5,
          8.9,
          21.4,
          12.4,
          13,
          14.33907936
         ]
        },
        {
         "mode": "lines",
         "name": "Australia",
         "type": "scatter",
         "x": [
          1990,
          1991,
          1992,
          1993,
          1994,
          1995,
          1996,
          1997,
          1998,
          1999,
          2000,
          2001,
          2005,
          2006,
          2007,
          2008,
          2009,
          2010,
          2011,
          2012,
          2013,
          2014,
          2015,
          2016,
          2017
         ],
         "y": [
          0.585094712,
          1.097203891,
          1.768764913,
          1.974611016,
          2.232101254,
          2.759654513,
          3.27524987,
          16.36935838,
          30.81323944,
          40.7837839,
          46.75611561,
          52.68926643,
          63,
          66,
          69.45,
          71.67,
          74.25,
          76,
          79.48769771,
          79,
          83.45349717,
          84,
          84.56051491,
          86.54,
          86.54504885
         ]
        },
        {
         "mode": "lines",
         "name": "Germany",
         "type": "scatter",
         "x": [
          1990,
          1991,
          1992,
          1993,
          1994,
          1995,
          1996,
          1997,
          1998,
          1999,
          2000,
          2001,
          2002,
          2003,
          2004,
          2005,
          2006,
          2007,
          2008,
          2009,
          2010,
          2011,
          2012,
          2013,
          2014,
          2015,
          2016,
          2017,
          2018,
          2019
         ],
         "y": [
          0.125892223,
          0.250274153,
          0.43528529,
          0.463635096,
          0.922541043,
          1.837737754,
          3.054805234,
          6.711087477,
          9.877852428,
          20.84598264,
          30.2163466,
          31.65093942,
          48.82,
          55.9,
          64.73,
          68.71,
          72.16,
          75.16,
          78,
          79,
          82,
          81.26999954,
          82.34999847,
          84.17,
          86.19,
          87.58979935,
          84.16520664,
          84.3941537,
          87.03711209,
          88.13451691
         ]
        }
       ],
       "layout": {
        "autosize": true,
        "template": {
         "data": {
          "bar": [
           {
            "error_x": {
             "color": "#2a3f5f"
            },
            "error_y": {
             "color": "#2a3f5f"
            },
            "marker": {
             "line": {
              "color": "#E5ECF6",
              "width": 0.5
             },
             "pattern": {
              "fillmode": "overlay",
              "size": 10,
              "solidity": 0.2
             }
            },
            "type": "bar"
           }
          ],
          "barpolar": [
           {
            "marker": {
             "line": {
              "color": "#E5ECF6",
              "width": 0.5
             },
             "pattern": {
              "fillmode": "overlay",
              "size": 10,
              "solidity": 0.2
             }
            },
            "type": "barpolar"
           }
          ],
          "carpet": [
           {
            "aaxis": {
             "endlinecolor": "#2a3f5f",
             "gridcolor": "white",
             "linecolor": "white",
             "minorgridcolor": "white",
             "startlinecolor": "#2a3f5f"
            },
            "baxis": {
             "endlinecolor": "#2a3f5f",
             "gridcolor": "white",
             "linecolor": "white",
             "minorgridcolor": "white",
             "startlinecolor": "#2a3f5f"
            },
            "type": "carpet"
           }
          ],
          "choropleth": [
           {
            "colorbar": {
             "outlinewidth": 0,
             "ticks": ""
            },
            "type": "choropleth"
           }
          ],
          "contour": [
           {
            "colorbar": {
             "outlinewidth": 0,
             "ticks": ""
            },
            "colorscale": [
             [
              0,
              "#0d0887"
             ],
             [
              0.1111111111111111,
              "#46039f"
             ],
             [
              0.2222222222222222,
              "#7201a8"
             ],
             [
              0.3333333333333333,
              "#9c179e"
             ],
             [
              0.4444444444444444,
              "#bd3786"
             ],
             [
              0.5555555555555556,
              "#d8576b"
             ],
             [
              0.6666666666666666,
              "#ed7953"
             ],
             [
              0.7777777777777778,
              "#fb9f3a"
             ],
             [
              0.8888888888888888,
              "#fdca26"
             ],
             [
              1,
              "#f0f921"
             ]
            ],
            "type": "contour"
           }
          ],
          "contourcarpet": [
           {
            "colorbar": {
             "outlinewidth": 0,
             "ticks": ""
            },
            "type": "contourcarpet"
           }
          ],
          "heatmap": [
           {
            "colorbar": {
             "outlinewidth": 0,
             "ticks": ""
            },
            "colorscale": [
             [
              0,
              "#0d0887"
             ],
             [
              0.1111111111111111,
              "#46039f"
             ],
             [
              0.2222222222222222,
              "#7201a8"
             ],
             [
              0.3333333333333333,
              "#9c179e"
             ],
             [
              0.4444444444444444,
              "#bd3786"
             ],
             [
              0.5555555555555556,
              "#d8576b"
             ],
             [
              0.6666666666666666,
              "#ed7953"
             ],
             [
              0.7777777777777778,
              "#fb9f3a"
             ],
             [
              0.8888888888888888,
              "#fdca26"
             ],
             [
              1,
              "#f0f921"
             ]
            ],
            "type": "heatmap"
           }
          ],
          "heatmapgl": [
           {
            "colorbar": {
             "outlinewidth": 0,
             "ticks": ""
            },
            "colorscale": [
             [
              0,
              "#0d0887"
             ],
             [
              0.1111111111111111,
              "#46039f"
             ],
             [
              0.2222222222222222,
              "#7201a8"
             ],
             [
              0.3333333333333333,
              "#9c179e"
             ],
             [
              0.4444444444444444,
              "#bd3786"
             ],
             [
              0.5555555555555556,
              "#d8576b"
             ],
             [
              0.6666666666666666,
              "#ed7953"
             ],
             [
              0.7777777777777778,
              "#fb9f3a"
             ],
             [
              0.8888888888888888,
              "#fdca26"
             ],
             [
              1,
              "#f0f921"
             ]
            ],
            "type": "heatmapgl"
           }
          ],
          "histogram": [
           {
            "marker": {
             "pattern": {
              "fillmode": "overlay",
              "size": 10,
              "solidity": 0.2
             }
            },
            "type": "histogram"
           }
          ],
          "histogram2d": [
           {
            "colorbar": {
             "outlinewidth": 0,
             "ticks": ""
            },
            "colorscale": [
             [
              0,
              "#0d0887"
             ],
             [
              0.1111111111111111,
              "#46039f"
             ],
             [
              0.2222222222222222,
              "#7201a8"
             ],
             [
              0.3333333333333333,
              "#9c179e"
             ],
             [
              0.4444444444444444,
              "#bd3786"
             ],
             [
              0.5555555555555556,
              "#d8576b"
             ],
             [
              0.6666666666666666,
              "#ed7953"
             ],
             [
              0.7777777777777778,
              "#fb9f3a"
             ],
             [
              0.8888888888888888,
              "#fdca26"
             ],
             [
              1,
              "#f0f921"
             ]
            ],
            "type": "histogram2d"
           }
          ],
          "histogram2dcontour": [
           {
            "colorbar": {
             "outlinewidth": 0,
             "ticks": ""
            },
            "colorscale": [
             [
              0,
              "#0d0887"
             ],
             [
              0.1111111111111111,
              "#46039f"
             ],
             [
              0.2222222222222222,
              "#7201a8"
             ],
             [
              0.3333333333333333,
              "#9c179e"
             ],
             [
              0.4444444444444444,
              "#bd3786"
             ],
             [
              0.5555555555555556,
              "#d8576b"
             ],
             [
              0.6666666666666666,
              "#ed7953"
             ],
             [
              0.7777777777777778,
              "#fb9f3a"
             ],
             [
              0.8888888888888888,
              "#fdca26"
             ],
             [
              1,
              "#f0f921"
             ]
            ],
            "type": "histogram2dcontour"
           }
          ],
          "mesh3d": [
           {
            "colorbar": {
             "outlinewidth": 0,
             "ticks": ""
            },
            "type": "mesh3d"
           }
          ],
          "parcoords": [
           {
            "line": {
             "colorbar": {
              "outlinewidth": 0,
              "ticks": ""
             }
            },
            "type": "parcoords"
           }
          ],
          "pie": [
           {
            "automargin": true,
            "type": "pie"
           }
          ],
          "scatter": [
           {
            "fillpattern": {
             "fillmode": "overlay",
             "size": 10,
             "solidity": 0.2
            },
            "type": "scatter"
           }
          ],
          "scatter3d": [
           {
            "line": {
             "colorbar": {
              "outlinewidth": 0,
              "ticks": ""
             }
            },
            "marker": {
             "colorbar": {
              "outlinewidth": 0,
              "ticks": ""
             }
            },
            "type": "scatter3d"
           }
          ],
          "scattercarpet": [
           {
            "marker": {
             "colorbar": {
              "outlinewidth": 0,
              "ticks": ""
             }
            },
            "type": "scattercarpet"
           }
          ],
          "scattergeo": [
           {
            "marker": {
             "colorbar": {
              "outlinewidth": 0,
              "ticks": ""
             }
            },
            "type": "scattergeo"
           }
          ],
          "scattergl": [
           {
            "marker": {
             "colorbar": {
              "outlinewidth": 0,
              "ticks": ""
             }
            },
            "type": "scattergl"
           }
          ],
          "scattermapbox": [
           {
            "marker": {
             "colorbar": {
              "outlinewidth": 0,
              "ticks": ""
             }
            },
            "type": "scattermapbox"
           }
          ],
          "scatterpolar": [
           {
            "marker": {
             "colorbar": {
              "outlinewidth": 0,
              "ticks": ""
             }
            },
            "type": "scatterpolar"
           }
          ],
          "scatterpolargl": [
           {
            "marker": {
             "colorbar": {
              "outlinewidth": 0,
              "ticks": ""
             }
            },
            "type": "scatterpolargl"
           }
          ],
          "scatterternary": [
           {
            "marker": {
             "colorbar": {
              "outlinewidth": 0,
              "ticks": ""
             }
            },
            "type": "scatterternary"
           }
          ],
          "surface": [
           {
            "colorbar": {
             "outlinewidth": 0,
             "ticks": ""
            },
            "colorscale": [
             [
              0,
              "#0d0887"
             ],
             [
              0.1111111111111111,
              "#46039f"
             ],
             [
              0.2222222222222222,
              "#7201a8"
             ],
             [
              0.3333333333333333,
              "#9c179e"
             ],
             [
              0.4444444444444444,
              "#bd3786"
             ],
             [
              0.5555555555555556,
              "#d8576b"
             ],
             [
              0.6666666666666666,
              "#ed7953"
             ],
             [
              0.7777777777777778,
              "#fb9f3a"
             ],
             [
              0.8888888888888888,
              "#fdca26"
             ],
             [
              1,
              "#f0f921"
             ]
            ],
            "type": "surface"
           }
          ],
          "table": [
           {
            "cells": {
             "fill": {
              "color": "#EBF0F8"
             },
             "line": {
              "color": "white"
             }
            },
            "header": {
             "fill": {
              "color": "#C8D4E3"
             },
             "line": {
              "color": "white"
             }
            },
            "type": "table"
           }
          ]
         },
         "layout": {
          "annotationdefaults": {
           "arrowcolor": "#2a3f5f",
           "arrowhead": 0,
           "arrowwidth": 1
          },
          "autotypenumbers": "strict",
          "coloraxis": {
           "colorbar": {
            "outlinewidth": 0,
            "ticks": ""
           }
          },
          "colorscale": {
           "diverging": [
            [
             0,
             "#8e0152"
            ],
            [
             0.1,
             "#c51b7d"
            ],
            [
             0.2,
             "#de77ae"
            ],
            [
             0.3,
             "#f1b6da"
            ],
            [
             0.4,
             "#fde0ef"
            ],
            [
             0.5,
             "#f7f7f7"
            ],
            [
             0.6,
             "#e6f5d0"
            ],
            [
             0.7,
             "#b8e186"
            ],
            [
             0.8,
             "#7fbc41"
            ],
            [
             0.9,
             "#4d9221"
            ],
            [
             1,
             "#276419"
            ]
           ],
           "sequential": [
            [
             0,
             "#0d0887"
            ],
            [
             0.1111111111111111,
             "#46039f"
            ],
            [
             0.2222222222222222,
             "#7201a8"
            ],
            [
             0.3333333333333333,
             "#9c179e"
            ],
            [
             0.4444444444444444,
             "#bd3786"
            ],
            [
             0.5555555555555556,
             "#d8576b"
            ],
            [
             0.6666666666666666,
             "#ed7953"
            ],
            [
             0.7777777777777778,
             "#fb9f3a"
            ],
            [
             0.8888888888888888,
             "#fdca26"
            ],
            [
             1,
             "#f0f921"
            ]
           ],
           "sequentialminus": [
            [
             0,
             "#0d0887"
            ],
            [
             0.1111111111111111,
             "#46039f"
            ],
            [
             0.2222222222222222,
             "#7201a8"
            ],
            [
             0.3333333333333333,
             "#9c179e"
            ],
            [
             0.4444444444444444,
             "#bd3786"
            ],
            [
             0.5555555555555556,
             "#d8576b"
            ],
            [
             0.6666666666666666,
             "#ed7953"
            ],
            [
             0.7777777777777778,
             "#fb9f3a"
            ],
            [
             0.8888888888888888,
             "#fdca26"
            ],
            [
             1,
             "#f0f921"
            ]
           ]
          },
          "colorway": [
           "#636efa",
           "#EF553B",
           "#00cc96",
           "#ab63fa",
           "#FFA15A",
           "#19d3f3",
           "#FF6692",
           "#B6E880",
           "#FF97FF",
           "#FECB52"
          ],
          "font": {
           "color": "#2a3f5f"
          },
          "geo": {
           "bgcolor": "white",
           "lakecolor": "white",
           "landcolor": "#E5ECF6",
           "showlakes": true,
           "showland": true,
           "subunitcolor": "white"
          },
          "hoverlabel": {
           "align": "left"
          },
          "hovermode": "closest",
          "mapbox": {
           "style": "light"
          },
          "paper_bgcolor": "white",
          "plot_bgcolor": "#E5ECF6",
          "polar": {
           "angularaxis": {
            "gridcolor": "white",
            "linecolor": "white",
            "ticks": ""
           },
           "bgcolor": "#E5ECF6",
           "radialaxis": {
            "gridcolor": "white",
            "linecolor": "white",
            "ticks": ""
           }
          },
          "scene": {
           "xaxis": {
            "backgroundcolor": "#E5ECF6",
            "gridcolor": "white",
            "gridwidth": 2,
            "linecolor": "white",
            "showbackground": true,
            "ticks": "",
            "zerolinecolor": "white"
           },
           "yaxis": {
            "backgroundcolor": "#E5ECF6",
            "gridcolor": "white",
            "gridwidth": 2,
            "linecolor": "white",
            "showbackground": true,
            "ticks": "",
            "zerolinecolor": "white"
           },
           "zaxis": {
            "backgroundcolor": "#E5ECF6",
            "gridcolor": "white",
            "gridwidth": 2,
            "linecolor": "white",
            "showbackground": true,
            "ticks": "",
            "zerolinecolor": "white"
           }
          },
          "shapedefaults": {
           "line": {
            "color": "#2a3f5f"
           }
          },
          "ternary": {
           "aaxis": {
            "gridcolor": "white",
            "linecolor": "white",
            "ticks": ""
           },
           "baxis": {
            "gridcolor": "white",
            "linecolor": "white",
            "ticks": ""
           },
           "bgcolor": "#E5ECF6",
           "caxis": {
            "gridcolor": "white",
            "linecolor": "white",
            "ticks": ""
           }
          },
          "title": {
           "x": 0.05
          },
          "xaxis": {
           "automargin": true,
           "gridcolor": "white",
           "linecolor": "white",
           "ticks": "",
           "title": {
            "standoff": 15
           },
           "zerolinecolor": "white",
           "zerolinewidth": 2
          },
          "yaxis": {
           "automargin": true,
           "gridcolor": "white",
           "linecolor": "white",
           "ticks": "",
           "title": {
            "standoff": 15
           },
           "zerolinecolor": "white",
           "zerolinewidth": 2
          }
         }
        },
        "xaxis": {
         "autorange": true,
         "range": [
          1990,
          2019
         ],
         "type": "linear"
        },
        "yaxis": {
         "autorange": true,
         "range": [
          -4.896362050555556,
          93.03087896055555
         ],
         "type": "linear"
        }
       }
      },
      "image/png": "[encoded data removed]",
      "text/html": [
       "<div>                            <div id=\"bf618e28-2dbb-46ce-aa54-cd5ea4f90700\" class=\"plotly-graph-div\" style=\"height:525px; width:100%;\"></div>            <script type=\"text/javascript\">                require([\"plotly\"], function(Plotly) {                    window.PLOTLYENV=window.PLOTLYENV || {};                                    if (document.getElementById(\"bf618e28-2dbb-46ce-aa54-cd5ea4f90700\")) {                    Plotly.newPlot(                        \"bf618e28-2dbb-46ce-aa54-cd5ea4f90700\",                        [{\"mode\":\"lines\",\"name\":\"Afghanistan\",\"x\":[1990,1991,1992,1993,1994,1995,2001,2002,2003,2004,2005,2006,2007,2008,2009,2010,2011,2012,2013,2014,2015,2017],\"y\":[0.0,0.0,0.0,0.0,0.0,0.0,0.004722568,0.004561395,0.087891253,0.10580903,1.224148084,2.107123645,1.9,1.84,3.55,4.0,5.0,5.454545455,5.9,7.0,8.26,11.44768809],\"type\":\"scatter\"},{\"mode\":\"lines\",\"name\":\"Angola\",\"x\":[1990,1991,1992,1993,1994,1995,1996,1997,1998,1999,2000,2001,2002,2003,2004,2005,2006,2007,2008,2009,2010,2011,2012,2013,2014,2015,2016,2017],\"y\":[0.0,0.0,0.0,0.0,0.0,0.0,0.000775929,0.005673746,0.018453724,0.071964087,0.105045562,0.136013867,0.270376746,0.370682065,0.464814618,1.143366827,1.5,1.7,1.9,2.3,2.8,3.1,6.5,8.9,21.4,12.4,13.0,14.33907936],\"type\":\"scatter\"},{\"mode\":\"lines\",\"name\":\"Australia\",\"x\":[1990,1991,1992,1993,1994,1995,1996,1997,1998,1999,2000,2001,2005,2006,2007,2008,2009,2010,2011,2012,2013,2014,2015,2016,2017],\"y\":[0.585094712,1.097203891,1.768764913,1.974611016,2.232101254,2.759654513,3.27524987,16.36935838,30.81323944,40.7837839,46.75611561,52.68926643,63.0,66.0,69.45,71.67,74.25,76.0,79.48769771,79.0,83.45349717,84.0,84.56051491,86.54,86.54504885],\"type\":\"scatter\"},{\"mode\":\"lines\",\"name\":\"Germany\",\"x\":[1990,1991,1992,1993,1994,1995,1996,1997,1998,1999,2000,2001,2002,2003,2004,2005,2006,2007,2008,2009,2010,2011,2012,2013,2014,2015,2016,2017,2018,2019],\"y\":[0.125892223,0.250274153,0.43528529,0.463635096,0.922541043,1.837737754,3.054805234,6.711087477,9.877852428,20.84598264,30.2163466,31.65093942,48.82,55.9,64.73,68.71,72.16,75.16,78.0,79.0,82.0,81.26999954,82.34999847,84.17,86.19,87.58979935,84.16520664,84.3941537,87.03711209,88.13451691],\"type\":\"scatter\"}],                        {\"template\":{\"data\":{\"histogram2dcontour\":[{\"type\":\"histogram2dcontour\",\"colorbar\":{\"outlinewidth\":0,\"ticks\":\"\"},\"colorscale\":[[0.0,\"#0d0887\"],[0.1111111111111111,\"#46039f\"],[0.2222222222222222,\"#7201a8\"],[0.3333333333333333,\"#9c179e\"],[0.4444444444444444,\"#bd3786\"],[0.5555555555555556,\"#d8576b\"],[0.6666666666666666,\"#ed7953\"],[0.7777777777777778,\"#fb9f3a\"],[0.8888888888888888,\"#fdca26\"],[1.0,\"#f0f921\"]]}],\"choropleth\":[{\"type\":\"choropleth\",\"colorbar\":{\"outlinewidth\":0,\"ticks\":\"\"}}],\"histogram2d\":[{\"type\":\"histogram2d\",\"colorbar\":{\"outlinewidth\":0,\"ticks\":\"\"},\"colorscale\":[[0.0,\"#0d0887\"],[0.1111111111111111,\"#46039f\"],[0.2222222222222222,\"#7201a8\"],[0.3333333333333333,\"#9c179e\"],[0.4444444444444444,\"#bd3786\"],[0.5555555555555556,\"#d8576b\"],[0.6666666666666666,\"#ed7953\"],[0.7777777777777778,\"#fb9f3a\"],[0.8888888888888888,\"#fdca26\"],[1.0,\"#f0f921\"]]}],\"heatmap\":[{\"type\":\"heatmap\",\"colorbar\":{\"outlinewidth\":0,\"ticks\":\"\"},\"colorscale\":[[0.0,\"#0d0887\"],[0.1111111111111111,\"#46039f\"],[0.2222222222222222,\"#7201a8\"],[0.3333333333333333,\"#9c179e\"],[0.4444444444444444,\"#bd3786\"],[0.5555555555555556,\"#d8576b\"],[0.6666666666666666,\"#ed7953\"],[0.7777777777777778,\"#fb9f3a\"],[0.8888888888888888,\"#fdca26\"],[1.0,\"#f0f921\"]]}],\"heatmapgl\":[{\"type\":\"heatmapgl\",\"colorbar\":{\"outlinewidth\":0,\"ticks\":\"\"},\"colorscale\":[[0.0,\"#0d0887\"],[0.1111111111111111,\"#46039f\"],[0.2222222222222222,\"#7201a8\"],[0.3333333333333333,\"#9c179e\"],[0.4444444444444444,\"#bd3786\"],[0.5555555555555556,\"#d8576b\"],[0.6666666666666666,\"#ed7953\"],[0.7777777777777778,\"#fb9f3a\"],[0.8888888888888888,\"#fdca26\"],[1.0,\"#f0f921\"]]}],\"contourcarpet\":[{\"type\":\"contourcarpet\",\"colorbar\":{\"outlinewidth\":0,\"ticks\":\"\"}}],\"contour\":[{\"type\":\"contour\",\"colorbar\":{\"outlinewidth\":0,\"ticks\":\"\"},\"colorscale\":[[0.0,\"#0d0887\"],[0.1111111111111111,\"#46039f\"],[0.2222222222222222,\"#7201a8\"],[0.3333333333333333,\"#9c179e\"],[0.4444444444444444,\"#bd3786\"],[0.5555555555555556,\"#d8576b\"],[0.6666666666666666,\"#ed7953\"],[0.7777777777777778,\"#fb9f3a\"],[0.8888888888888888,\"#fdca26\"],[1.0,\"#f0f921\"]]}],\"surface\":[{\"type\":\"surface\",\"colorbar\":{\"outlinewidth\":0,\"ticks\":\"\"},\"colorscale\":[[0.0,\"#0d0887\"],[0.1111111111111111,\"#46039f\"],[0.2222222222222222,\"#7201a8\"],[0.3333333333333333,\"#9c179e\"],[0.4444444444444444,\"#bd3786\"],[0.5555555555555556,\"#d8576b\"],[0.6666666666666666,\"#ed7953\"],[0.7777777777777778,\"#fb9f3a\"],[0.8888888888888888,\"#fdca26\"],[1.0,\"#f0f921\"]]}],\"mesh3d\":[{\"type\":\"mesh3d\",\"colorbar\":{\"outlinewidth\":0,\"ticks\":\"\"}}],\"scatter\":[{\"fillpattern\":{\"fillmode\":\"overlay\",\"size\":10,\"solidity\":0.2},\"type\":\"scatter\"}],\"parcoords\":[{\"type\":\"parcoords\",\"line\":{\"colorbar\":{\"outlinewidth\":0,\"ticks\":\"\"}}}],\"scatterpolargl\":[{\"type\":\"scatterpolargl\",\"marker\":{\"colorbar\":{\"outlinewidth\":0,\"ticks\":\"\"}}}],\"bar\":[{\"error_x\":{\"color\":\"#2a3f5f\"},\"error_y\":{\"color\":\"#2a3f5f\"},\"marker\":{\"line\":{\"color\":\"#E5ECF6\",\"width\":0.5},\"pattern\":{\"fillmode\":\"overlay\",\"size\":10,\"solidity\":0.2}},\"type\":\"bar\"}],\"scattergeo\":[{\"type\":\"scattergeo\",\"marker\":{\"colorbar\":{\"outlinewidth\":0,\"ticks\":\"\"}}}],\"scatterpolar\":[{\"type\":\"scatterpolar\",\"marker\":{\"colorbar\":{\"outlinewidth\":0,\"ticks\":\"\"}}}],\"histogram\":[{\"marker\":{\"pattern\":{\"fillmode\":\"overlay\",\"size\":10,\"solidity\":0.2}},\"type\":\"histogram\"}],\"scattergl\":[{\"type\":\"scattergl\",\"marker\":{\"colorbar\":{\"outlinewidth\":0,\"ticks\":\"\"}}}],\"scatter3d\":[{\"type\":\"scatter3d\",\"line\":{\"colorbar\":{\"outlinewidth\":0,\"ticks\":\"\"}},\"marker\":{\"colorbar\":{\"outlinewidth\":0,\"ticks\":\"\"}}}],\"scattermapbox\":[{\"type\":\"scattermapbox\",\"marker\":{\"colorbar\":{\"outlinewidth\":0,\"ticks\":\"\"}}}],\"scatterternary\":[{\"type\":\"scatterternary\",\"marker\":{\"colorbar\":{\"outlinewidth\":0,\"ticks\":\"\"}}}],\"scattercarpet\":[{\"type\":\"scattercarpet\",\"marker\":{\"colorbar\":{\"outlinewidth\":0,\"ticks\":\"\"}}}],\"carpet\":[{\"aaxis\":{\"endlinecolor\":\"#2a3f5f\",\"gridcolor\":\"white\",\"linecolor\":\"white\",\"minorgridcolor\":\"white\",\"startlinecolor\":\"#2a3f5f\"},\"baxis\":{\"endlinecolor\":\"#2a3f5f\",\"gridcolor\":\"white\",\"linecolor\":\"white\",\"minorgridcolor\":\"white\",\"startlinecolor\":\"#2a3f5f\"},\"type\":\"carpet\"}],\"table\":[{\"cells\":{\"fill\":{\"color\":\"#EBF0F8\"},\"line\":{\"color\":\"white\"}},\"header\":{\"fill\":{\"color\":\"#C8D4E3\"},\"line\":{\"color\":\"white\"}},\"type\":\"table\"}],\"barpolar\":[{\"marker\":{\"line\":{\"color\":\"#E5ECF6\",\"width\":0.5},\"pattern\":{\"fillmode\":\"overlay\",\"size\":10,\"solidity\":0.2}},\"type\":\"barpolar\"}],\"pie\":[{\"automargin\":true,\"type\":\"pie\"}]},\"layout\":{\"autotypenumbers\":\"strict\",\"colorway\":[\"#636efa\",\"#EF553B\",\"#00cc96\",\"#ab63fa\",\"#FFA15A\",\"#19d3f3\",\"#FF6692\",\"#B6E880\",\"#FF97FF\",\"#FECB52\"],\"font\":{\"color\":\"#2a3f5f\"},\"hovermode\":\"closest\",\"hoverlabel\":{\"align\":\"left\"},\"paper_bgcolor\":\"white\",\"plot_bgcolor\":\"#E5ECF6\",\"polar\":{\"bgcolor\":\"#E5ECF6\",\"angularaxis\":{\"gridcolor\":\"white\",\"linecolor\":\"white\",\"ticks\":\"\"},\"radialaxis\":{\"gridcolor\":\"white\",\"linecolor\":\"white\",\"ticks\":\"\"}},\"ternary\":{\"bgcolor\":\"#E5ECF6\",\"aaxis\":{\"gridcolor\":\"white\",\"linecolor\":\"white\",\"ticks\":\"\"},\"baxis\":{\"gridcolor\":\"white\",\"linecolor\":\"white\",\"ticks\":\"\"},\"caxis\":{\"gridcolor\":\"white\",\"linecolor\":\"white\",\"ticks\":\"\"}},\"coloraxis\":{\"colorbar\":{\"outlinewidth\":0,\"ticks\":\"\"}},\"colorscale\":{\"sequential\":[[0.0,\"#0d0887\"],[0.1111111111111111,\"#46039f\"],[0.2222222222222222,\"#7201a8\"],[0.3333333333333333,\"#9c179e\"],[0.4444444444444444,\"#bd3786\"],[0.5555555555555556,\"#d8576b\"],[0.6666666666666666,\"#ed7953\"],[0.7777777777777778,\"#fb9f3a\"],[0.8888888888888888,\"#fdca26\"],[1.0,\"#f0f921\"]],\"sequentialminus\":[[0.0,\"#0d0887\"],[0.1111111111111111,\"#46039f\"],[0.2222222222222222,\"#7201a8\"],[0.3333333333333333,\"#9c179e\"],[0.4444444444444444,\"#bd3786\"],[0.5555555555555556,\"#d8576b\"],[0.6666666666666666,\"#ed7953\"],[0.7777777777777778,\"#fb9f3a\"],[0.8888888888888888,\"#fdca26\"],[1.0,\"#f0f921\"]],\"diverging\":[[0,\"#8e0152\"],[0.1,\"#c51b7d\"],[0.2,\"#de77ae\"],[0.3,\"#f1b6da\"],[0.4,\"#fde0ef\"],[0.5,\"#f7f7f7\"],[0.6,\"#e6f5d0\"],[0.7,\"#b8e186\"],[0.8,\"#7fbc41\"],[0.9,\"#4d9221\"],[1,\"#276419\"]]},\"xaxis\":{\"gridcolor\":\"white\",\"linecolor\":\"white\",\"ticks\":\"\",\"title\":{\"standoff\":15},\"zerolinecolor\":\"white\",\"automargin\":true,\"zerolinewidth\":2},\"yaxis\":{\"gridcolor\":\"white\",\"linecolor\":\"white\",\"ticks\":\"\",\"title\":{\"standoff\":15},\"zerolinecolor\":\"white\",\"automargin\":true,\"zerolinewidth\":2},\"scene\":{\"xaxis\":{\"backgroundcolor\":\"#E5ECF6\",\"gridcolor\":\"white\",\"linecolor\":\"white\",\"showbackground\":true,\"ticks\":\"\",\"zerolinecolor\":\"white\",\"gridwidth\":2},\"yaxis\":{\"backgroundcolor\":\"#E5ECF6\",\"gridcolor\":\"white\",\"linecolor\":\"white\",\"showbackground\":true,\"ticks\":\"\",\"zerolinecolor\":\"white\",\"gridwidth\":2},\"zaxis\":{\"backgroundcolor\":\"#E5ECF6\",\"gridcolor\":\"white\",\"linecolor\":\"white\",\"showbackground\":true,\"ticks\":\"\",\"zerolinecolor\":\"white\",\"gridwidth\":2}},\"shapedefaults\":{\"line\":{\"color\":\"#2a3f5f\"}},\"annotationdefaults\":{\"arrowcolor\":\"#2a3f5f\",\"arrowhead\":0,\"arrowwidth\":1},\"geo\":{\"bgcolor\":\"white\",\"landcolor\":\"#E5ECF6\",\"subunitcolor\":\"white\",\"showland\":true,\"showlakes\":true,\"lakecolor\":\"white\"},\"title\":{\"x\":0.05},\"mapbox\":{\"style\":\"light\"}}}},                        {\"responsive\": true}                    ).then(function(){\n",
       "                            \n",
       "var gd = document.getElementById('bf618e28-2dbb-46ce-aa54-cd5ea4f90700');\n",
       "var x = new MutationObserver(function (mutations, observer) {{\n",
       "        var display = window.getComputedStyle(gd).display;\n",
       "        if (!display || display === 'none') {{\n",
       "            console.log([gd, 'removed!']);\n",
       "            Plotly.purge(gd);\n",
       "            observer.disconnect();\n",
       "        }}\n",
       "}});\n",
       "\n",
       "// Listen for the removal of the full notebook cells\n",
       "var notebookContainer = gd.closest('#notebook-container');\n",
       "if (notebookContainer) {{\n",
       "    x.observe(notebookContainer, {childList: true});\n",
       "}}\n",
       "\n",
       "// Listen for the clearing of the current output cell\n",
       "var outputEl = gd.closest('.output');\n",
       "if (outputEl) {{\n",
       "    x.observe(outputEl, {childList: true});\n",
       "}}\n",
       "\n",
       "                        })                };                });            </script>        </div>"
      ]
     },
     "metadata": {},
     "output_type": "display_data"
    }
   ],
   "source": [
    "fig = go.Figure()\n",
    "\n",
    "if len(cntr) == 5:\n",
    "    for i in range(len(cntr)):\n",
    "        add_trace_f(num = i)\n",
    "    fig.show()\n",
    "\n",
    "if len(cntr) == 4:\n",
    "    for i in range(len(cntr)):\n",
    "        add_trace_f(num = i)\n",
    "    fig.show()\n",
    "\n",
    "if len(cntr) == 3:\n",
    "    for i in range(len(cntr)):\n",
    "        add_trace_f(num = i)\n",
    "    fig.show()\n",
    "\n",
    "if len(cntr) == 2:\n",
    "    for i in range(len(cntr)):\n",
    "        add_trace_f(num = i)\n",
    "    fig.show()\n",
    "\n",
    "if len(cntr) == 1:\n",
    "    for i in range(len(cntr)):\n",
    "        add_trace_f(num = i)\n",
    "    fig.show()\n",
    "        \n",
    "\n"
   ]
  },
  {
   "cell_type": "code",
   "execution_count": null,
   "id": "1045acf7-ac12-41cc-a282-b8cef3d9ec3c",
   "metadata": {},
   "outputs": [],
   "source": []
  },
  {
   "cell_type": "code",
   "execution_count": null,
   "id": "4a1d8577-71f4-4519-b3e3-a1a89a7c158f",
   "metadata": {},
   "outputs": [],
   "source": []
  },
  {
   "cell_type": "code",
   "execution_count": null,
   "id": "7bcde531-c7ed-4fe0-b5ed-3bb63319b5cc",
   "metadata": {},
   "outputs": [],
   "source": []
  },
  {
   "cell_type": "code",
   "execution_count": 85,
   "id": "2e6b4aa8-4afe-4b6e-acfc-f3a2c8d8a365",
   "metadata": {},
   "outputs": [
    {
     "data": {
      "application/vnd.plotly.v1+json": {
       "config": {
        "plotlyServerURL": "https://plot.ly"
       },
       "data": [
        {
         "hovertemplate": "Year=%{x}<br>internet_usage=%{y}<extra></extra>",
         "legendgroup": "",
         "line": {
          "color": "#636efa",
          "dash": "solid"
         },
         "marker": {
          "symbol": "circle"
         },
         "mode": "lines",
         "name": "",
         "orientation": "v",
         "showlegend": false,
         "type": "scatter",
         "x": [
          1990,
          1991,
          1992,
          1993,
          1994,
          1995,
          2001,
          2002,
          2003,
          2004,
          2005,
          2006,
          2007,
          2008,
          2009,
          2010,
          2011,
          2012,
          2013,
          2014,
          2015,
          2017
         ],
         "xaxis": "x",
         "y": [
          0,
          0,
          0,
          0,
          0,
          0,
          0.004722568,
          0.004561395,
          0.087891253,
          0.10580903,
          1.224148084,
          2.107123645,
          1.9,
          1.84,
          3.55,
          4,
          5,
          5.454545455,
          5.9,
          7,
          8.26,
          11.44768809
         ],
         "yaxis": "y"
        },
        {
         "mode": "lines",
         "type": "scatter",
         "x": [
          1990,
          1991,
          1992,
          1993,
          1994,
          1995,
          1996,
          1997,
          1998,
          1999,
          2000,
          2002,
          2003,
          2004,
          2005,
          2006,
          2007,
          2008,
          2009,
          2010,
          2011,
          2012,
          2013,
          2014,
          2015,
          2016,
          2017
         ],
         "y": [
          0,
          0,
          0,
          0,
          0,
          0,
          1.526601023,
          3.050175385,
          6.886209218,
          7.635686143,
          10.53883561,
          11.26046872,
          13.54641288,
          26.83795439,
          37.60576622,
          48.936847,
          70.87,
          70.04,
          78.53,
          81,
          81,
          86.43442462,
          94,
          95.9,
          96.91,
          97.93063712,
          91.56746703
         ]
        },
        {
         "mode": "lines",
         "type": "scatter",
         "x": [
          1990,
          1991,
          1992,
          1993,
          1994,
          1995,
          1996,
          1997,
          1998,
          1999,
          2000,
          2001,
          2005,
          2006,
          2007,
          2008,
          2009,
          2010,
          2011,
          2012,
          2013,
          2014,
          2015,
          2016,
          2017
         ],
         "y": [
          0,
          0,
          0,
          0,
          0,
          0,
          0.000775929,
          0.005673746,
          0.018453724,
          0.071964087,
          0.105045562,
          0.136013867,
          0.270376746,
          0.370682065,
          0.464814618,
          1.143366827,
          1.5,
          1.7,
          1.9,
          2.3,
          2.8,
          3.1,
          6.5,
          8.9,
          21.4,
          12.4,
          13,
          14.33907936
         ]
        },
        {
         "mode": "lines",
         "type": "scatter",
         "x": [
          1990,
          1991,
          1992,
          1993,
          1994,
          1995,
          1996,
          1997,
          1998,
          1999,
          2000,
          2001,
          2002,
          2003,
          2004,
          2005,
          2006,
          2007,
          2008,
          2009,
          2010,
          2011,
          2012,
          2013,
          2014,
          2015,
          2016,
          2017,
          2018,
          2019
         ],
         "y": [
          0,
          0,
          0,
          0,
          0,
          0,
          0.000775929,
          0.005673746,
          0.018453724,
          0.071964087,
          0.105045562,
          0.136013867,
          0.270376746,
          0.370682065,
          0.464814618,
          1.143366827,
          1.5,
          1.7,
          1.9,
          2.3,
          2.8,
          3.1,
          6.5,
          8.9,
          21.4,
          12.4,
          13,
          14.33907936
         ]
        }
       ],
       "layout": {
        "autosize": true,
        "legend": {
         "tracegroupgap": 0
        },
        "margin": {
         "t": 60
        },
        "template": {
         "data": {
          "bar": [
           {
            "error_x": {
             "color": "#2a3f5f"
            },
            "error_y": {
             "color": "#2a3f5f"
            },
            "marker": {
             "line": {
              "color": "#E5ECF6",
              "width": 0.5
             },
             "pattern": {
              "fillmode": "overlay",
              "size": 10,
              "solidity": 0.2
             }
            },
            "type": "bar"
           }
          ],
          "barpolar": [
           {
            "marker": {
             "line": {
              "color": "#E5ECF6",
              "width": 0.5
             },
             "pattern": {
              "fillmode": "overlay",
              "size": 10,
              "solidity": 0.2
             }
            },
            "type": "barpolar"
           }
          ],
          "carpet": [
           {
            "aaxis": {
             "endlinecolor": "#2a3f5f",
             "gridcolor": "white",
             "linecolor": "white",
             "minorgridcolor": "white",
             "startlinecolor": "#2a3f5f"
            },
            "baxis": {
             "endlinecolor": "#2a3f5f",
             "gridcolor": "white",
             "linecolor": "white",
             "minorgridcolor": "white",
             "startlinecolor": "#2a3f5f"
            },
            "type": "carpet"
           }
          ],
          "choropleth": [
           {
            "colorbar": {
             "outlinewidth": 0,
             "ticks": ""
            },
            "type": "choropleth"
           }
          ],
          "contour": [
           {
            "colorbar": {
             "outlinewidth": 0,
             "ticks": ""
            },
            "colorscale": [
             [
              0,
              "#0d0887"
             ],
             [
              0.1111111111111111,
              "#46039f"
             ],
             [
              0.2222222222222222,
              "#7201a8"
             ],
             [
              0.3333333333333333,
              "#9c179e"
             ],
             [
              0.4444444444444444,
              "#bd3786"
             ],
             [
              0.5555555555555556,
              "#d8576b"
             ],
             [
              0.6666666666666666,
              "#ed7953"
             ],
             [
              0.7777777777777778,
              "#fb9f3a"
             ],
             [
              0.8888888888888888,
              "#fdca26"
             ],
             [
              1,
              "#f0f921"
             ]
            ],
            "type": "contour"
           }
          ],
          "contourcarpet": [
           {
            "colorbar": {
             "outlinewidth": 0,
             "ticks": ""
            },
            "type": "contourcarpet"
           }
          ],
          "heatmap": [
           {
            "colorbar": {
             "outlinewidth": 0,
             "ticks": ""
            },
            "colorscale": [
             [
              0,
              "#0d0887"
             ],
             [
              0.1111111111111111,
              "#46039f"
             ],
             [
              0.2222222222222222,
              "#7201a8"
             ],
             [
              0.3333333333333333,
              "#9c179e"
             ],
             [
              0.4444444444444444,
              "#bd3786"
             ],
             [
              0.5555555555555556,
              "#d8576b"
             ],
             [
              0.6666666666666666,
              "#ed7953"
             ],
             [
              0.7777777777777778,
              "#fb9f3a"
             ],
             [
              0.8888888888888888,
              "#fdca26"
             ],
             [
              1,
              "#f0f921"
             ]
            ],
            "type": "heatmap"
           }
          ],
          "heatmapgl": [
           {
            "colorbar": {
             "outlinewidth": 0,
             "ticks": ""
            },
            "colorscale": [
             [
              0,
              "#0d0887"
             ],
             [
              0.1111111111111111,
              "#46039f"
             ],
             [
              0.2222222222222222,
              "#7201a8"
             ],
             [
              0.3333333333333333,
              "#9c179e"
             ],
             [
              0.4444444444444444,
              "#bd3786"
             ],
             [
              0.5555555555555556,
              "#d8576b"
             ],
             [
              0.6666666666666666,
              "#ed7953"
             ],
             [
              0.7777777777777778,
              "#fb9f3a"
             ],
             [
              0.8888888888888888,
              "#fdca26"
             ],
             [
              1,
              "#f0f921"
             ]
            ],
            "type": "heatmapgl"
           }
          ],
          "histogram": [
           {
            "marker": {
             "pattern": {
              "fillmode": "overlay",
              "size": 10,
              "solidity": 0.2
             }
            },
            "type": "histogram"
           }
          ],
          "histogram2d": [
           {
            "colorbar": {
             "outlinewidth": 0,
             "ticks": ""
            },
            "colorscale": [
             [
              0,
              "#0d0887"
             ],
             [
              0.1111111111111111,
              "#46039f"
             ],
             [
              0.2222222222222222,
              "#7201a8"
             ],
             [
              0.3333333333333333,
              "#9c179e"
             ],
             [
              0.4444444444444444,
              "#bd3786"
             ],
             [
              0.5555555555555556,
              "#d8576b"
             ],
             [
              0.6666666666666666,
              "#ed7953"
             ],
             [
              0.7777777777777778,
              "#fb9f3a"
             ],
             [
              0.8888888888888888,
              "#fdca26"
             ],
             [
              1,
              "#f0f921"
             ]
            ],
            "type": "histogram2d"
           }
          ],
          "histogram2dcontour": [
           {
            "colorbar": {
             "outlinewidth": 0,
             "ticks": ""
            },
            "colorscale": [
             [
              0,
              "#0d0887"
             ],
             [
              0.1111111111111111,
              "#46039f"
             ],
             [
              0.2222222222222222,
              "#7201a8"
             ],
             [
              0.3333333333333333,
              "#9c179e"
             ],
             [
              0.4444444444444444,
              "#bd3786"
             ],
             [
              0.5555555555555556,
              "#d8576b"
             ],
             [
              0.6666666666666666,
              "#ed7953"
             ],
             [
              0.7777777777777778,
              "#fb9f3a"
             ],
             [
              0.8888888888888888,
              "#fdca26"
             ],
             [
              1,
              "#f0f921"
             ]
            ],
            "type": "histogram2dcontour"
           }
          ],
          "mesh3d": [
           {
            "colorbar": {
             "outlinewidth": 0,
             "ticks": ""
            },
            "type": "mesh3d"
           }
          ],
          "parcoords": [
           {
            "line": {
             "colorbar": {
              "outlinewidth": 0,
              "ticks": ""
             }
            },
            "type": "parcoords"
           }
          ],
          "pie": [
           {
            "automargin": true,
            "type": "pie"
           }
          ],
          "scatter": [
           {
            "fillpattern": {
             "fillmode": "overlay",
             "size": 10,
             "solidity": 0.2
            },
            "type": "scatter"
           }
          ],
          "scatter3d": [
           {
            "line": {
             "colorbar": {
              "outlinewidth": 0,
              "ticks": ""
             }
            },
            "marker": {
             "colorbar": {
              "outlinewidth": 0,
              "ticks": ""
             }
            },
            "type": "scatter3d"
           }
          ],
          "scattercarpet": [
           {
            "marker": {
             "colorbar": {
              "outlinewidth": 0,
              "ticks": ""
             }
            },
            "type": "scattercarpet"
           }
          ],
          "scattergeo": [
           {
            "marker": {
             "colorbar": {
              "outlinewidth": 0,
              "ticks": ""
             }
            },
            "type": "scattergeo"
           }
          ],
          "scattergl": [
           {
            "marker": {
             "colorbar": {
              "outlinewidth": 0,
              "ticks": ""
             }
            },
            "type": "scattergl"
           }
          ],
          "scattermapbox": [
           {
            "marker": {
             "colorbar": {
              "outlinewidth": 0,
              "ticks": ""
             }
            },
            "type": "scattermapbox"
           }
          ],
          "scatterpolar": [
           {
            "marker": {
             "colorbar": {
              "outlinewidth": 0,
              "ticks": ""
             }
            },
            "type": "scatterpolar"
           }
          ],
          "scatterpolargl": [
           {
            "marker": {
             "colorbar": {
              "outlinewidth": 0,
              "ticks": ""
             }
            },
            "type": "scatterpolargl"
           }
          ],
          "scatterternary": [
           {
            "marker": {
             "colorbar": {
              "outlinewidth": 0,
              "ticks": ""
             }
            },
            "type": "scatterternary"
           }
          ],
          "surface": [
           {
            "colorbar": {
             "outlinewidth": 0,
             "ticks": ""
            },
            "colorscale": [
             [
              0,
              "#0d0887"
             ],
             [
              0.1111111111111111,
              "#46039f"
             ],
             [
              0.2222222222222222,
              "#7201a8"
             ],
             [
              0.3333333333333333,
              "#9c179e"
             ],
             [
              0.4444444444444444,
              "#bd3786"
             ],
             [
              0.5555555555555556,
              "#d8576b"
             ],
             [
              0.6666666666666666,
              "#ed7953"
             ],
             [
              0.7777777777777778,
              "#fb9f3a"
             ],
             [
              0.8888888888888888,
              "#fdca26"
             ],
             [
              1,
              "#f0f921"
             ]
            ],
            "type": "surface"
           }
          ],
          "table": [
           {
            "cells": {
             "fill": {
              "color": "#EBF0F8"
             },
             "line": {
              "color": "white"
             }
            },
            "header": {
             "fill": {
              "color": "#C8D4E3"
             },
             "line": {
              "color": "white"
             }
            },
            "type": "table"
           }
          ]
         },
         "layout": {
          "annotationdefaults": {
           "arrowcolor": "#2a3f5f",
           "arrowhead": 0,
           "arrowwidth": 1
          },
          "autotypenumbers": "strict",
          "coloraxis": {
           "colorbar": {
            "outlinewidth": 0,
            "ticks": ""
           }
          },
          "colorscale": {
           "diverging": [
            [
             0,
             "#8e0152"
            ],
            [
             0.1,
             "#c51b7d"
            ],
            [
             0.2,
             "#de77ae"
            ],
            [
             0.3,
             "#f1b6da"
            ],
            [
             0.4,
             "#fde0ef"
            ],
            [
             0.5,
             "#f7f7f7"
            ],
            [
             0.6,
             "#e6f5d0"
            ],
            [
             0.7,
             "#b8e186"
            ],
            [
             0.8,
             "#7fbc41"
            ],
            [
             0.9,
             "#4d9221"
            ],
            [
             1,
             "#276419"
            ]
           ],
           "sequential": [
            [
             0,
             "#0d0887"
            ],
            [
             0.1111111111111111,
             "#46039f"
            ],
            [
             0.2222222222222222,
             "#7201a8"
            ],
            [
             0.3333333333333333,
             "#9c179e"
            ],
            [
             0.4444444444444444,
             "#bd3786"
            ],
            [
             0.5555555555555556,
             "#d8576b"
            ],
            [
             0.6666666666666666,
             "#ed7953"
            ],
            [
             0.7777777777777778,
             "#fb9f3a"
            ],
            [
             0.8888888888888888,
             "#fdca26"
            ],
            [
             1,
             "#f0f921"
            ]
           ],
           "sequentialminus": [
            [
             0,
             "#0d0887"
            ],
            [
             0.1111111111111111,
             "#46039f"
            ],
            [
             0.2222222222222222,
             "#7201a8"
            ],
            [
             0.3333333333333333,
             "#9c179e"
            ],
            [
             0.4444444444444444,
             "#bd3786"
            ],
            [
             0.5555555555555556,
             "#d8576b"
            ],
            [
             0.6666666666666666,
             "#ed7953"
            ],
            [
             0.7777777777777778,
             "#fb9f3a"
            ],
            [
             0.8888888888888888,
             "#fdca26"
            ],
            [
             1,
             "#f0f921"
            ]
           ]
          },
          "colorway": [
           "#636efa",
           "#EF553B",
           "#00cc96",
           "#ab63fa",
           "#FFA15A",
           "#19d3f3",
           "#FF6692",
           "#B6E880",
           "#FF97FF",
           "#FECB52"
          ],
          "font": {
           "color": "#2a3f5f"
          },
          "geo": {
           "bgcolor": "white",
           "lakecolor": "white",
           "landcolor": "#E5ECF6",
           "showlakes": true,
           "showland": true,
           "subunitcolor": "white"
          },
          "hoverlabel": {
           "align": "left"
          },
          "hovermode": "closest",
          "mapbox": {
           "style": "light"
          },
          "paper_bgcolor": "white",
          "plot_bgcolor": "#E5ECF6",
          "polar": {
           "angularaxis": {
            "gridcolor": "white",
            "linecolor": "white",
            "ticks": ""
           },
           "bgcolor": "#E5ECF6",
           "radialaxis": {
            "gridcolor": "white",
            "linecolor": "white",
            "ticks": ""
           }
          },
          "scene": {
           "xaxis": {
            "backgroundcolor": "#E5ECF6",
            "gridcolor": "white",
            "gridwidth": 2,
            "linecolor": "white",
            "showbackground": true,
            "ticks": "",
            "zerolinecolor": "white"
           },
           "yaxis": {
            "backgroundcolor": "#E5ECF6",
            "gridcolor": "white",
            "gridwidth": 2,
            "linecolor": "white",
            "showbackground": true,
            "ticks": "",
            "zerolinecolor": "white"
           },
           "zaxis": {
            "backgroundcolor": "#E5ECF6",
            "gridcolor": "white",
            "gridwidth": 2,
            "linecolor": "white",
            "showbackground": true,
            "ticks": "",
            "zerolinecolor": "white"
           }
          },
          "shapedefaults": {
           "line": {
            "color": "#2a3f5f"
           }
          },
          "ternary": {
           "aaxis": {
            "gridcolor": "white",
            "linecolor": "white",
            "ticks": ""
           },
           "baxis": {
            "gridcolor": "white",
            "linecolor": "white",
            "ticks": ""
           },
           "bgcolor": "#E5ECF6",
           "caxis": {
            "gridcolor": "white",
            "linecolor": "white",
            "ticks": ""
           }
          },
          "title": {
           "x": 0.05
          },
          "xaxis": {
           "automargin": true,
           "gridcolor": "white",
           "linecolor": "white",
           "ticks": "",
           "title": {
            "standoff": 15
           },
           "zerolinecolor": "white",
           "zerolinewidth": 2
          },
          "yaxis": {
           "automargin": true,
           "gridcolor": "white",
           "linecolor": "white",
           "ticks": "",
           "title": {
            "standoff": 15
           },
           "zerolinecolor": "white",
           "zerolinewidth": 2
          }
         }
        },
        "xaxis": {
         "anchor": "y",
         "autorange": true,
         "domain": [
          0,
          1
         ],
         "range": [
          1990,
          2017
         ],
         "title": {
          "text": "Year"
         },
         "type": "linear"
        },
        "yaxis": {
         "anchor": "x",
         "autorange": true,
         "domain": [
          0,
          1
         ],
         "range": [
          -5.440590951111111,
          103.3712280711111
         ],
         "title": {
          "text": "internet_usage"
         },
         "type": "linear"
        }
       }
      },
      "image/png": "[encoded data removed]",
      "text/html": [
       "<div>                            <div id=\"e727215d-25ea-45d4-b2a9-4b641550ad9e\" class=\"plotly-graph-div\" style=\"height:525px; width:100%;\"></div>            <script type=\"text/javascript\">                require([\"plotly\"], function(Plotly) {                    window.PLOTLYENV=window.PLOTLYENV || {};                                    if (document.getElementById(\"e727215d-25ea-45d4-b2a9-4b641550ad9e\")) {                    Plotly.newPlot(                        \"e727215d-25ea-45d4-b2a9-4b641550ad9e\",                        [{\"hovertemplate\":\"Year=%{x}<br>internet_usage=%{y}<extra></extra>\",\"legendgroup\":\"\",\"line\":{\"color\":\"#636efa\",\"dash\":\"solid\"},\"marker\":{\"symbol\":\"circle\"},\"mode\":\"lines\",\"name\":\"\",\"orientation\":\"v\",\"showlegend\":false,\"x\":[1990,1991,1992,1993,1994,1995,2001,2002,2003,2004,2005,2006,2007,2008,2009,2010,2011,2012,2013,2014,2015,2017],\"xaxis\":\"x\",\"y\":[0.0,0.0,0.0,0.0,0.0,0.0,0.004722568,0.004561395,0.087891253,0.10580903,1.224148084,2.107123645,1.9,1.84,3.55,4.0,5.0,5.454545455,5.9,7.0,8.26,11.44768809],\"yaxis\":\"y\",\"type\":\"scatter\"},{\"mode\":\"lines\",\"x\":[1990,1991,1992,1993,1994,1995,1996,1997,1998,1999,2000,2002,2003,2004,2005,2006,2007,2008,2009,2010,2011,2012,2013,2014,2015,2016,2017],\"y\":[0.0,0.0,0.0,0.0,0.0,0.0,1.526601023,3.050175385,6.886209218,7.635686143,10.53883561,11.26046872,13.54641288,26.83795439,37.60576622,48.936847,70.87,70.04,78.53,81.0,81.0,86.43442462,94.0,95.9,96.91,97.93063712,91.56746703],\"type\":\"scatter\"},{\"mode\":\"lines\",\"x\":[1990,1991,1992,1993,1994,1995,1996,1997,1998,1999,2000,2001,2005,2006,2007,2008,2009,2010,2011,2012,2013,2014,2015,2016,2017],\"y\":[0.0,0.0,0.0,0.0,0.0,0.0,0.000775929,0.005673746,0.018453724,0.071964087,0.105045562,0.136013867,0.270376746,0.370682065,0.464814618,1.143366827,1.5,1.7,1.9,2.3,2.8,3.1,6.5,8.9,21.4,12.4,13.0,14.33907936],\"type\":\"scatter\"},{\"mode\":\"lines\",\"x\":[1990,1991,1992,1993,1994,1995,1996,1997,1998,1999,2000,2001,2002,2003,2004,2005,2006,2007,2008,2009,2010,2011,2012,2013,2014,2015,2016,2017,2018,2019],\"y\":[0.0,0.0,0.0,0.0,0.0,0.0,0.000775929,0.005673746,0.018453724,0.071964087,0.105045562,0.136013867,0.270376746,0.370682065,0.464814618,1.143366827,1.5,1.7,1.9,2.3,2.8,3.1,6.5,8.9,21.4,12.4,13.0,14.33907936],\"type\":\"scatter\"}],                        {\"template\":{\"data\":{\"histogram2dcontour\":[{\"type\":\"histogram2dcontour\",\"colorbar\":{\"outlinewidth\":0,\"ticks\":\"\"},\"colorscale\":[[0.0,\"#0d0887\"],[0.1111111111111111,\"#46039f\"],[0.2222222222222222,\"#7201a8\"],[0.3333333333333333,\"#9c179e\"],[0.4444444444444444,\"#bd3786\"],[0.5555555555555556,\"#d8576b\"],[0.6666666666666666,\"#ed7953\"],[0.7777777777777778,\"#fb9f3a\"],[0.8888888888888888,\"#fdca26\"],[1.0,\"#f0f921\"]]}],\"choropleth\":[{\"type\":\"choropleth\",\"colorbar\":{\"outlinewidth\":0,\"ticks\":\"\"}}],\"histogram2d\":[{\"type\":\"histogram2d\",\"colorbar\":{\"outlinewidth\":0,\"ticks\":\"\"},\"colorscale\":[[0.0,\"#0d0887\"],[0.1111111111111111,\"#46039f\"],[0.2222222222222222,\"#7201a8\"],[0.3333333333333333,\"#9c179e\"],[0.4444444444444444,\"#bd3786\"],[0.5555555555555556,\"#d8576b\"],[0.6666666666666666,\"#ed7953\"],[0.7777777777777778,\"#fb9f3a\"],[0.8888888888888888,\"#fdca26\"],[1.0,\"#f0f921\"]]}],\"heatmap\":[{\"type\":\"heatmap\",\"colorbar\":{\"outlinewidth\":0,\"ticks\":\"\"},\"colorscale\":[[0.0,\"#0d0887\"],[0.1111111111111111,\"#46039f\"],[0.2222222222222222,\"#7201a8\"],[0.3333333333333333,\"#9c179e\"],[0.4444444444444444,\"#bd3786\"],[0.5555555555555556,\"#d8576b\"],[0.6666666666666666,\"#ed7953\"],[0.7777777777777778,\"#fb9f3a\"],[0.8888888888888888,\"#fdca26\"],[1.0,\"#f0f921\"]]}],\"heatmapgl\":[{\"type\":\"heatmapgl\",\"colorbar\":{\"outlinewidth\":0,\"ticks\":\"\"},\"colorscale\":[[0.0,\"#0d0887\"],[0.1111111111111111,\"#46039f\"],[0.2222222222222222,\"#7201a8\"],[0.3333333333333333,\"#9c179e\"],[0.4444444444444444,\"#bd3786\"],[0.5555555555555556,\"#d8576b\"],[0.6666666666666666,\"#ed7953\"],[0.7777777777777778,\"#fb9f3a\"],[0.8888888888888888,\"#fdca26\"],[1.0,\"#f0f921\"]]}],\"contourcarpet\":[{\"type\":\"contourcarpet\",\"colorbar\":{\"outlinewidth\":0,\"ticks\":\"\"}}],\"contour\":[{\"type\":\"contour\",\"colorbar\":{\"outlinewidth\":0,\"ticks\":\"\"},\"colorscale\":[[0.0,\"#0d0887\"],[0.1111111111111111,\"#46039f\"],[0.2222222222222222,\"#7201a8\"],[0.3333333333333333,\"#9c179e\"],[0.4444444444444444,\"#bd3786\"],[0.5555555555555556,\"#d8576b\"],[0.6666666666666666,\"#ed7953\"],[0.7777777777777778,\"#fb9f3a\"],[0.8888888888888888,\"#fdca26\"],[1.0,\"#f0f921\"]]}],\"surface\":[{\"type\":\"surface\",\"colorbar\":{\"outlinewidth\":0,\"ticks\":\"\"},\"colorscale\":[[0.0,\"#0d0887\"],[0.1111111111111111,\"#46039f\"],[0.2222222222222222,\"#7201a8\"],[0.3333333333333333,\"#9c179e\"],[0.4444444444444444,\"#bd3786\"],[0.5555555555555556,\"#d8576b\"],[0.6666666666666666,\"#ed7953\"],[0.7777777777777778,\"#fb9f3a\"],[0.8888888888888888,\"#fdca26\"],[1.0,\"#f0f921\"]]}],\"mesh3d\":[{\"type\":\"mesh3d\",\"colorbar\":{\"outlinewidth\":0,\"ticks\":\"\"}}],\"scatter\":[{\"fillpattern\":{\"fillmode\":\"overlay\",\"size\":10,\"solidity\":0.2},\"type\":\"scatter\"}],\"parcoords\":[{\"type\":\"parcoords\",\"line\":{\"colorbar\":{\"outlinewidth\":0,\"ticks\":\"\"}}}],\"scatterpolargl\":[{\"type\":\"scatterpolargl\",\"marker\":{\"colorbar\":{\"outlinewidth\":0,\"ticks\":\"\"}}}],\"bar\":[{\"error_x\":{\"color\":\"#2a3f5f\"},\"error_y\":{\"color\":\"#2a3f5f\"},\"marker\":{\"line\":{\"color\":\"#E5ECF6\",\"width\":0.5},\"pattern\":{\"fillmode\":\"overlay\",\"size\":10,\"solidity\":0.2}},\"type\":\"bar\"}],\"scattergeo\":[{\"type\":\"scattergeo\",\"marker\":{\"colorbar\":{\"outlinewidth\":0,\"ticks\":\"\"}}}],\"scatterpolar\":[{\"type\":\"scatterpolar\",\"marker\":{\"colorbar\":{\"outlinewidth\":0,\"ticks\":\"\"}}}],\"histogram\":[{\"marker\":{\"pattern\":{\"fillmode\":\"overlay\",\"size\":10,\"solidity\":0.2}},\"type\":\"histogram\"}],\"scattergl\":[{\"type\":\"scattergl\",\"marker\":{\"colorbar\":{\"outlinewidth\":0,\"ticks\":\"\"}}}],\"scatter3d\":[{\"type\":\"scatter3d\",\"line\":{\"colorbar\":{\"outlinewidth\":0,\"ticks\":\"\"}},\"marker\":{\"colorbar\":{\"outlinewidth\":0,\"ticks\":\"\"}}}],\"scattermapbox\":[{\"type\":\"scattermapbox\",\"marker\":{\"colorbar\":{\"outlinewidth\":0,\"ticks\":\"\"}}}],\"scatterternary\":[{\"type\":\"scatterternary\",\"marker\":{\"colorbar\":{\"outlinewidth\":0,\"ticks\":\"\"}}}],\"scattercarpet\":[{\"type\":\"scattercarpet\",\"marker\":{\"colorbar\":{\"outlinewidth\":0,\"ticks\":\"\"}}}],\"carpet\":[{\"aaxis\":{\"endlinecolor\":\"#2a3f5f\",\"gridcolor\":\"white\",\"linecolor\":\"white\",\"minorgridcolor\":\"white\",\"startlinecolor\":\"#2a3f5f\"},\"baxis\":{\"endlinecolor\":\"#2a3f5f\",\"gridcolor\":\"white\",\"linecolor\":\"white\",\"minorgridcolor\":\"white\",\"startlinecolor\":\"#2a3f5f\"},\"type\":\"carpet\"}],\"table\":[{\"cells\":{\"fill\":{\"color\":\"#EBF0F8\"},\"line\":{\"color\":\"white\"}},\"header\":{\"fill\":{\"color\":\"#C8D4E3\"},\"line\":{\"color\":\"white\"}},\"type\":\"table\"}],\"barpolar\":[{\"marker\":{\"line\":{\"color\":\"#E5ECF6\",\"width\":0.5},\"pattern\":{\"fillmode\":\"overlay\",\"size\":10,\"solidity\":0.2}},\"type\":\"barpolar\"}],\"pie\":[{\"automargin\":true,\"type\":\"pie\"}]},\"layout\":{\"autotypenumbers\":\"strict\",\"colorway\":[\"#636efa\",\"#EF553B\",\"#00cc96\",\"#ab63fa\",\"#FFA15A\",\"#19d3f3\",\"#FF6692\",\"#B6E880\",\"#FF97FF\",\"#FECB52\"],\"font\":{\"color\":\"#2a3f5f\"},\"hovermode\":\"closest\",\"hoverlabel\":{\"align\":\"left\"},\"paper_bgcolor\":\"white\",\"plot_bgcolor\":\"#E5ECF6\",\"polar\":{\"bgcolor\":\"#E5ECF6\",\"angularaxis\":{\"gridcolor\":\"white\",\"linecolor\":\"white\",\"ticks\":\"\"},\"radialaxis\":{\"gridcolor\":\"white\",\"linecolor\":\"white\",\"ticks\":\"\"}},\"ternary\":{\"bgcolor\":\"#E5ECF6\",\"aaxis\":{\"gridcolor\":\"white\",\"linecolor\":\"white\",\"ticks\":\"\"},\"baxis\":{\"gridcolor\":\"white\",\"linecolor\":\"white\",\"ticks\":\"\"},\"caxis\":{\"gridcolor\":\"white\",\"linecolor\":\"white\",\"ticks\":\"\"}},\"coloraxis\":{\"colorbar\":{\"outlinewidth\":0,\"ticks\":\"\"}},\"colorscale\":{\"sequential\":[[0.0,\"#0d0887\"],[0.1111111111111111,\"#46039f\"],[0.2222222222222222,\"#7201a8\"],[0.3333333333333333,\"#9c179e\"],[0.4444444444444444,\"#bd3786\"],[0.5555555555555556,\"#d8576b\"],[0.6666666666666666,\"#ed7953\"],[0.7777777777777778,\"#fb9f3a\"],[0.8888888888888888,\"#fdca26\"],[1.0,\"#f0f921\"]],\"sequentialminus\":[[0.0,\"#0d0887\"],[0.1111111111111111,\"#46039f\"],[0.2222222222222222,\"#7201a8\"],[0.3333333333333333,\"#9c179e\"],[0.4444444444444444,\"#bd3786\"],[0.5555555555555556,\"#d8576b\"],[0.6666666666666666,\"#ed7953\"],[0.7777777777777778,\"#fb9f3a\"],[0.8888888888888888,\"#fdca26\"],[1.0,\"#f0f921\"]],\"diverging\":[[0,\"#8e0152\"],[0.1,\"#c51b7d\"],[0.2,\"#de77ae\"],[0.3,\"#f1b6da\"],[0.4,\"#fde0ef\"],[0.5,\"#f7f7f7\"],[0.6,\"#e6f5d0\"],[0.7,\"#b8e186\"],[0.8,\"#7fbc41\"],[0.9,\"#4d9221\"],[1,\"#276419\"]]},\"xaxis\":{\"gridcolor\":\"white\",\"linecolor\":\"white\",\"ticks\":\"\",\"title\":{\"standoff\":15},\"zerolinecolor\":\"white\",\"automargin\":true,\"zerolinewidth\":2},\"yaxis\":{\"gridcolor\":\"white\",\"linecolor\":\"white\",\"ticks\":\"\",\"title\":{\"standoff\":15},\"zerolinecolor\":\"white\",\"automargin\":true,\"zerolinewidth\":2},\"scene\":{\"xaxis\":{\"backgroundcolor\":\"#E5ECF6\",\"gridcolor\":\"white\",\"linecolor\":\"white\",\"showbackground\":true,\"ticks\":\"\",\"zerolinecolor\":\"white\",\"gridwidth\":2},\"yaxis\":{\"backgroundcolor\":\"#E5ECF6\",\"gridcolor\":\"white\",\"linecolor\":\"white\",\"showbackground\":true,\"ticks\":\"\",\"zerolinecolor\":\"white\",\"gridwidth\":2},\"zaxis\":{\"backgroundcolor\":\"#E5ECF6\",\"gridcolor\":\"white\",\"linecolor\":\"white\",\"showbackground\":true,\"ticks\":\"\",\"zerolinecolor\":\"white\",\"gridwidth\":2}},\"shapedefaults\":{\"line\":{\"color\":\"#2a3f5f\"}},\"annotationdefaults\":{\"arrowcolor\":\"#2a3f5f\",\"arrowhead\":0,\"arrowwidth\":1},\"geo\":{\"bgcolor\":\"white\",\"landcolor\":\"#E5ECF6\",\"subunitcolor\":\"white\",\"showland\":true,\"showlakes\":true,\"lakecolor\":\"white\"},\"title\":{\"x\":0.05},\"mapbox\":{\"style\":\"light\"}}},\"xaxis\":{\"anchor\":\"y\",\"domain\":[0.0,1.0],\"title\":{\"text\":\"Year\"}},\"yaxis\":{\"anchor\":\"x\",\"domain\":[0.0,1.0],\"title\":{\"text\":\"internet_usage\"}},\"legend\":{\"tracegroupgap\":0},\"margin\":{\"t\":60}},                        {\"responsive\": true}                    ).then(function(){\n",
       "                            \n",
       "var gd = document.getElementById('e727215d-25ea-45d4-b2a9-4b641550ad9e');\n",
       "var x = new MutationObserver(function (mutations, observer) {{\n",
       "        var display = window.getComputedStyle(gd).display;\n",
       "        if (!display || display === 'none') {{\n",
       "            console.log([gd, 'removed!']);\n",
       "            Plotly.purge(gd);\n",
       "            observer.disconnect();\n",
       "        }}\n",
       "}});\n",
       "\n",
       "// Listen for the removal of the full notebook cells\n",
       "var notebookContainer = gd.closest('#notebook-container');\n",
       "if (notebookContainer) {{\n",
       "    x.observe(notebookContainer, {childList: true});\n",
       "}}\n",
       "\n",
       "// Listen for the clearing of the current output cell\n",
       "var outputEl = gd.closest('.output');\n",
       "if (outputEl) {{\n",
       "    x.observe(outputEl, {childList: true});\n",
       "}}\n",
       "\n",
       "                        })                };                });            </script>        </div>"
      ]
     },
     "metadata": {},
     "output_type": "display_data"
    }
   ],
   "source": [
    "fig2 = px.line(df[df['Entity']==cntr[0]], x=\"Year\", y=\"internet_usage\")\n",
    "fig2.add_scatter(x = df[df['Entity']==cntr[1]]['Year'], y=df[df['Entity']==cntr[1]]['internet_usage'],mode='lines')\n",
    "#fig2.add_scatter(x = df[df['Entity']==cntr[2]]['Year'], y=df[df['Entity']==cntr[2]]['internet_usage'],mode='lines')\n",
    "fig2.add_scatter(x = df[df['Entity']==cntr[3]]['Year'], y=df[df['Entity']==cntr[2]]['internet_usage'],mode='lines')\n",
    "fig2.add_scatter(x = df[df['Entity']==cntr[4]]['Year'], y=df[df['Entity']==cntr[2]]['internet_usage'],mode='lines')\n",
    "\n",
    "fig2.show()"
   ]
  },
  {
   "cell_type": "code",
   "execution_count": 87,
   "id": "01f3618c-6d0e-42aa-95c8-8782796b34c7",
   "metadata": {},
   "outputs": [
    {
     "data": {
      "text/plain": [
       "numpy.float64"
      ]
     },
     "execution_count": 87,
     "metadata": {},
     "output_type": "execute_result"
    }
   ],
   "source": [
    "type(df['internet_usage'][0])"
   ]
  },
  {
   "cell_type": "code",
   "execution_count": null,
   "id": "d1aad81a-5b16-49a0-a00d-3ef5e24cb467",
   "metadata": {},
   "outputs": [],
   "source": []
  }
 ],
 "metadata": {
  "kernelspec": {
   "display_name": "viz",
   "language": "python",
   "name": "viz"
  },
  "language_info": {
   "codemirror_mode": {
    "name": "ipython",
    "version": 3
   },
   "file_extension": ".py",
   "mimetype": "text/x-python",
   "name": "python",
   "nbconvert_exporter": "python",
   "pygments_lexer": "ipython3",
   "version": "3.10.8"
  }
 },
 "nbformat": 4,
 "nbformat_minor": 5
}
